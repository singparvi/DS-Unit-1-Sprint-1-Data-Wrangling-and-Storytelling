{
 "cells": [
  {
   "cell_type": "code",
   "execution_count": 9,
   "metadata": {
    "collapsed": true
   },
   "outputs": [
    {
     "data": {
      "text/plain": "0        2020-10\n1        2020-10\n2        2020-10\n3        2020-10\n4        2020-10\n          ...   \n14515    1998-11\n14516    1998-11\n14517    1998-11\n14518    1998-11\n14519    1998-11\nName: year, Length: 14520, dtype: object"
     },
     "execution_count": 9,
     "metadata": {},
     "output_type": "execute_result"
    }
   ],
   "source": [
    "import pandas as pd\n",
    "import numpy as np\n",
    "import matplotlib.pyplot as plt\n",
    "\n",
    "url = 'https://raw.githubusercontent.com/BuzzFeedNews/nics-firearm-background-checks/master/data/nics-firearm-background-checks.csv'\n",
    "\n",
    "df = pd.read_csv(url)\n",
    "df\n",
    "\n",
    "df_new = df[['month', 'month', 'state', 'totals']]\n",
    "df_new\n",
    "\n",
    "df_new.columns = ['year', 'month', 'state', 'totals']\n",
    "df_new"
   ]
  },
  {
   "cell_type": "code",
   "execution_count": 26,
   "outputs": [
    {
     "data": {
      "text/plain": "Timestamp('2020-10-01 00:00:00')"
     },
     "execution_count": 26,
     "metadata": {},
     "output_type": "execute_result"
    }
   ],
   "source": [
    "# cleaning year column to only have year in it\n",
    "def change_to_year(string):\n",
    "    return int(df_new['year'][0].split('-')[0])\n",
    "# cleaning month column to only have year in it\n",
    "def change_to_month(string):\n",
    "    return int(df_new['month'][0].split('-')[1])\n",
    "# df_new['year'] = df_new['year'].apply(change_to_year) # changed already\n",
    "# df_new['month'] = df_new['month'].apply(change_to_month) # changed already\n",
    "df_new\n",
    "\n",
    "#reordering columns\n",
    "\n",
    "df_new\n",
    "\n",
    "df_new['month'][0]\n",
    "\n",
    "sample = pd.to_datetime(df['month'][0])\n",
    "sample"
   ],
   "metadata": {
    "collapsed": false,
    "pycharm": {
     "name": "#%%\n"
    }
   }
  },
  {
   "cell_type": "code",
   "execution_count": null,
   "outputs": [],
   "source": [
    "\n"
   ],
   "metadata": {
    "collapsed": false,
    "pycharm": {
     "name": "#%%\n"
    }
   }
  }
 ],
 "metadata": {
  "kernelspec": {
   "display_name": "Python 3",
   "language": "python",
   "name": "python3"
  },
  "language_info": {
   "codemirror_mode": {
    "name": "ipython",
    "version": 2
   },
   "file_extension": ".py",
   "mimetype": "text/x-python",
   "name": "python",
   "nbconvert_exporter": "python",
   "pygments_lexer": "ipython2",
   "version": "2.7.6"
  }
 },
 "nbformat": 4,
 "nbformat_minor": 0
}