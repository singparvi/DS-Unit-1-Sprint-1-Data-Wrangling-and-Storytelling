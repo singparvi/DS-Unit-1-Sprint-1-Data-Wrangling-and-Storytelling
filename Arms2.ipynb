{
 "cells": [
  {
   "cell_type": "code",
   "execution_count": null,
   "metadata": {
    "collapsed": true
   },
   "outputs": [],
   "source": []
  },
  {
   "cell_type": "code",
   "execution_count": 7,
   "outputs": [
    {
     "name": "stdout",
     "output_type": "stream",
     "text": [
      "<class 'pandas.core.frame.DataFrame'>\n",
      "RangeIndex: 14520 entries, 0 to 14519\n",
      "Data columns (total 27 columns):\n",
      " #   Column                     Non-Null Count  Dtype  \n",
      "---  ------                     --------------  -----  \n",
      " 0   month                      14520 non-null  object \n",
      " 1   state                      14520 non-null  object \n",
      " 2   permit                     14496 non-null  float64\n",
      " 3   permit_recheck             3135 non-null   float64\n",
      " 4   handgun                    14500 non-null  float64\n",
      " 5   long_gun                   14501 non-null  float64\n",
      " 6   other                      7535 non-null   float64\n",
      " 7   multiple                   14520 non-null  int64  \n",
      " 8   admin                      14497 non-null  float64\n",
      " 9   prepawn_handgun            12577 non-null  float64\n",
      " 10  prepawn_long_gun           12575 non-null  float64\n",
      " 11  prepawn_other              7150 non-null   float64\n",
      " 12  redemption_handgun         12580 non-null  float64\n",
      " 13  redemption_long_gun        12579 non-null  float64\n",
      " 14  redemption_other           7150 non-null   float64\n",
      " 15  returned_handgun           4235 non-null   float64\n",
      " 16  returned_long_gun          4180 non-null   float64\n",
      " 17  returned_other             3850 non-null   float64\n",
      " 18  rentals_handgun            3025 non-null   float64\n",
      " 19  rentals_long_gun           2860 non-null   float64\n",
      " 20  private_sale_handgun       4785 non-null   float64\n",
      " 21  private_sale_long_gun      4785 non-null   float64\n",
      " 22  private_sale_other         4785 non-null   float64\n",
      " 23  return_to_seller_handgun   4510 non-null   float64\n",
      " 24  return_to_seller_long_gun  4785 non-null   float64\n",
      " 25  return_to_seller_other     4290 non-null   float64\n",
      " 26  totals                     14520 non-null  int64  \n",
      "dtypes: float64(23), int64(2), object(2)\n",
      "memory usage: 3.0+ MB\n"
     ]
    }
   ],
   "source": [
    "import pandas as pd\n",
    "import numpy as np\n",
    "import matplotlib.pyplot as plt\n",
    "\n",
    "url = 'https://raw.githubusercontent.com/BuzzFeedNews/nics-firearm-background-checks/master/data/nics-firearm-background-checks.csv'\n",
    "\n",
    "df = pd.read_csv(url)\n",
    "df\n",
    "df.info()"
   ],
   "metadata": {
    "collapsed": false,
    "pycharm": {
     "name": "#%%\n"
    }
   }
  },
  {
   "cell_type": "code",
   "execution_count": null,
   "outputs": [],
   "source": [
    "#pandas profiling\n",
    "import pandas_profiling\n",
    "# from pandas_profiling import ProfileReport\n",
    "#\n",
    "# profile = ProfileReport(df).to_notebook_iframe()\n",
    "# profile"
   ],
   "metadata": {
    "collapsed": false,
    "pycharm": {
     "name": "#%%\n"
    }
   }
  },
  {
   "cell_type": "code",
   "execution_count": 12,
   "outputs": [
    {
     "name": "stdout",
     "output_type": "stream",
     "text": [
      "<class 'pandas.core.frame.DataFrame'>\n",
      "RangeIndex: 14520 entries, 0 to 14519\n",
      "Data columns (total 27 columns):\n",
      " #   Column                     Non-Null Count  Dtype         \n",
      "---  ------                     --------------  -----         \n",
      " 0   month                      14520 non-null  datetime64[ns]\n",
      " 1   state                      14520 non-null  object        \n",
      " 2   permit                     14496 non-null  float64       \n",
      " 3   permit_recheck             3135 non-null   float64       \n",
      " 4   handgun                    14500 non-null  float64       \n",
      " 5   long_gun                   14501 non-null  float64       \n",
      " 6   other                      7535 non-null   float64       \n",
      " 7   multiple                   14520 non-null  int64         \n",
      " 8   admin                      14497 non-null  float64       \n",
      " 9   prepawn_handgun            12577 non-null  float64       \n",
      " 10  prepawn_long_gun           12575 non-null  float64       \n",
      " 11  prepawn_other              7150 non-null   float64       \n",
      " 12  redemption_handgun         12580 non-null  float64       \n",
      " 13  redemption_long_gun        12579 non-null  float64       \n",
      " 14  redemption_other           7150 non-null   float64       \n",
      " 15  returned_handgun           4235 non-null   float64       \n",
      " 16  returned_long_gun          4180 non-null   float64       \n",
      " 17  returned_other             3850 non-null   float64       \n",
      " 18  rentals_handgun            3025 non-null   float64       \n",
      " 19  rentals_long_gun           2860 non-null   float64       \n",
      " 20  private_sale_handgun       4785 non-null   float64       \n",
      " 21  private_sale_long_gun      4785 non-null   float64       \n",
      " 22  private_sale_other         4785 non-null   float64       \n",
      " 23  return_to_seller_handgun   4510 non-null   float64       \n",
      " 24  return_to_seller_long_gun  4785 non-null   float64       \n",
      " 25  return_to_seller_other     4290 non-null   float64       \n",
      " 26  totals                     14520 non-null  int64         \n",
      "dtypes: datetime64[ns](1), float64(23), int64(2), object(1)\n",
      "memory usage: 3.0+ MB\n"
     ]
    }
   ],
   "source": [
    "df['month'] =pd.to_datetime(df['month']) # already done\n",
    "df.info()\n",
    "#\n",
    "# df['month'].dt.month\n",
    "#\n",
    "# df['new_month'] = df['month'].dt.month\n",
    "# df"
   ],
   "metadata": {
    "collapsed": false,
    "pycharm": {
     "name": "#%%\n"
    }
   }
  },
  {
   "cell_type": "code",
   "execution_count": 26,
   "outputs": [
    {
     "ename": "AttributeError",
     "evalue": "'Timestamp' object has no attribute 'dt'",
     "output_type": "error",
     "traceback": [
      "\u001B[0;31m---------------------------------------------------------------------------\u001B[0m",
      "\u001B[0;31mAttributeError\u001B[0m                            Traceback (most recent call last)",
      "\u001B[0;32m<ipython-input-26-ba14546e07e2>\u001B[0m in \u001B[0;36m<module>\u001B[0;34m\u001B[0m\n\u001B[0;32m----> 1\u001B[0;31m \u001B[0mdf\u001B[0m\u001B[0;34m[\u001B[0m\u001B[0;34m'month'\u001B[0m\u001B[0;34m]\u001B[0m\u001B[0;34m[\u001B[0m\u001B[0;36m0\u001B[0m\u001B[0;34m]\u001B[0m\u001B[0;34m.\u001B[0m\u001B[0mdt\u001B[0m\u001B[0;34m.\u001B[0m\u001B[0myear\u001B[0m\u001B[0;34m\u001B[0m\u001B[0;34m\u001B[0m\u001B[0m\n\u001B[0m\u001B[1;32m      2\u001B[0m \u001B[0;34m\u001B[0m\u001B[0m\n\u001B[1;32m      3\u001B[0m \u001B[0;34m\u001B[0m\u001B[0m\n",
      "\u001B[0;31mAttributeError\u001B[0m: 'Timestamp' object has no attribute 'dt'"
     ]
    }
   ],
   "source": [
    "df['month'][0].dt.year\n"
   ],
   "metadata": {
    "collapsed": false,
    "pycharm": {
     "name": "#%%\n"
    }
   }
  },
  {
   "cell_type": "code",
   "execution_count": 16,
   "outputs": [
    {
     "ename": "TypeError",
     "evalue": "an integer is required (got type Timestamp)",
     "output_type": "error",
     "traceback": [
      "\u001B[0;31m---------------------------------------------------------------------------\u001B[0m",
      "\u001B[0;31mTypeError\u001B[0m                                 Traceback (most recent call last)",
      "\u001B[0;32m<ipython-input-16-a3200e9181ed>\u001B[0m in \u001B[0;36m<module>\u001B[0;34m\u001B[0m\n\u001B[1;32m      1\u001B[0m \u001B[0;32mfrom\u001B[0m \u001B[0mdatetime\u001B[0m \u001B[0;32mimport\u001B[0m \u001B[0mdatetime\u001B[0m\u001B[0;34m\u001B[0m\u001B[0;34m\u001B[0m\u001B[0m\n\u001B[0;32m----> 2\u001B[0;31m \u001B[0mdate_time\u001B[0m \u001B[0;34m=\u001B[0m \u001B[0mdatetime\u001B[0m\u001B[0;34m.\u001B[0m\u001B[0mfromtimestamp\u001B[0m\u001B[0;34m(\u001B[0m\u001B[0mdf\u001B[0m\u001B[0;34m[\u001B[0m\u001B[0;34m'month'\u001B[0m\u001B[0;34m]\u001B[0m\u001B[0;34m[\u001B[0m\u001B[0;36m0\u001B[0m\u001B[0;34m]\u001B[0m\u001B[0;34m)\u001B[0m\u001B[0;34m\u001B[0m\u001B[0;34m\u001B[0m\u001B[0m\n\u001B[0m\u001B[1;32m      3\u001B[0m \u001B[0;34m\u001B[0m\u001B[0m\n\u001B[1;32m      4\u001B[0m \u001B[0mdate_time\u001B[0m\u001B[0;34m.\u001B[0m\u001B[0mstrftime\u001B[0m\u001B[0;34m(\u001B[0m\u001B[0;34m\"%Y\"\u001B[0m\u001B[0;34m)\u001B[0m\u001B[0;34m\u001B[0m\u001B[0;34m\u001B[0m\u001B[0m\n",
      "\u001B[0;31mTypeError\u001B[0m: an integer is required (got type Timestamp)"
     ]
    }
   ],
   "source": [],
   "metadata": {
    "collapsed": false,
    "pycharm": {
     "name": "#%%\n"
    }
   }
  },
  {
   "cell_type": "code",
   "execution_count": 24,
   "outputs": [
    {
     "data": {
      "text/plain": "{'Jan': 1,\n 'Feb': 2,\n 'Mar': 3,\n 'Apr': 4,\n 'May': 5,\n 'Jun': 6,\n 'Jul': 7,\n 'Aug': 8,\n 'Sep': 9,\n 'Oct': 10,\n 'Nov': 11,\n 'Dec': 12}"
     },
     "execution_count": 24,
     "metadata": {},
     "output_type": "execute_result"
    }
   ],
   "source": [
    "import calendar\n",
    "{m: i for i, m in enumerate(calendar.month_abbr) if m}"
   ],
   "metadata": {
    "collapsed": false,
    "pycharm": {
     "name": "#%%\n"
    }
   }
  },
  {
   "cell_type": "code",
   "execution_count": 33,
   "outputs": [
    {
     "data": {
      "text/plain": "       month          state   permit  permit_recheck  handgun  long_gun  \\\n0         10        Alabama  32038.0           585.0  24084.0   17964.0   \n1         10         Alaska    264.0             1.0   3209.0    3210.0   \n2         10        Arizona   8991.0          1015.0  24964.0   12288.0   \n3         10       Arkansas   5108.0           549.0   8931.0    9386.0   \n4         10     California  36719.0             0.0  65376.0   40286.0   \n...      ...            ...      ...             ...      ...       ...   \n14515     10       Virginia      0.0             NaN     14.0       2.0   \n14516     10     Washington      1.0             NaN     65.0     286.0   \n14517     10  West Virginia      3.0             NaN    149.0     251.0   \n14518     10      Wisconsin      0.0             NaN     25.0     214.0   \n14519     10        Wyoming      8.0             NaN     45.0      49.0   \n\n        other  multiple  admin  prepawn_handgun  ...  rentals_handgun  \\\n0      1698.0      1104    0.0             28.0  ...              0.0   \n1       348.0       188    0.0              0.0  ...              0.0   \n2      1951.0      1762    0.0              9.0  ...              0.0   \n3       567.0       421    8.0              9.0  ...              0.0   \n4      8319.0         0    0.0              0.0  ...              0.0   \n...       ...       ...    ...              ...  ...              ...   \n14515     NaN         8    0.0              NaN  ...              NaN   \n14516     NaN         8    1.0              NaN  ...              NaN   \n14517     NaN         5    0.0              NaN  ...              NaN   \n14518     NaN         2    0.0              NaN  ...              NaN   \n14519     NaN         5    0.0              NaN  ...              NaN   \n\n       rentals_long_gun  private_sale_handgun  private_sale_long_gun  \\\n0                   0.0                  28.0                   25.0   \n1                   0.0                   6.0                   13.0   \n2                   0.0                  19.0                   13.0   \n3                   0.0                  15.0                    7.0   \n4                   0.0                   0.0                    0.0   \n...                 ...                   ...                    ...   \n14515               NaN                   NaN                    NaN   \n14516               NaN                   NaN                    NaN   \n14517               NaN                   NaN                    NaN   \n14518               NaN                   NaN                    NaN   \n14519               NaN                   NaN                    NaN   \n\n       private_sale_other  return_to_seller_handgun  \\\n0                     7.0                       1.0   \n1                     1.0                       1.0   \n2                     0.0                       0.0   \n3                     4.0                       0.0   \n4                     0.0                       0.0   \n...                   ...                       ...   \n14515                 NaN                       NaN   \n14516                 NaN                       NaN   \n14517                 NaN                       NaN   \n14518                 NaN                       NaN   \n14519                 NaN                       NaN   \n\n       return_to_seller_long_gun  return_to_seller_other  totals  year  \n0                            4.0                     1.0   80934  2020  \n1                            0.0                     0.0    7564  2020  \n2                            1.0                     0.0   52521  2020  \n3                            0.0                     0.0   27177  2020  \n4                            0.0                     0.0  151359  2020  \n...                          ...                     ...     ...   ...  \n14515                        NaN                     NaN      24  2020  \n14516                        NaN                     NaN     361  2020  \n14517                        NaN                     NaN     408  2020  \n14518                        NaN                     NaN     241  2020  \n14519                        NaN                     NaN     107  2020  \n\n[14520 rows x 28 columns]",
      "text/html": "<div>\n<style scoped>\n    .dataframe tbody tr th:only-of-type {\n        vertical-align: middle;\n    }\n\n    .dataframe tbody tr th {\n        vertical-align: top;\n    }\n\n    .dataframe thead th {\n        text-align: right;\n    }\n</style>\n<table border=\"1\" class=\"dataframe\">\n  <thead>\n    <tr style=\"text-align: right;\">\n      <th></th>\n      <th>month</th>\n      <th>state</th>\n      <th>permit</th>\n      <th>permit_recheck</th>\n      <th>handgun</th>\n      <th>long_gun</th>\n      <th>other</th>\n      <th>multiple</th>\n      <th>admin</th>\n      <th>prepawn_handgun</th>\n      <th>...</th>\n      <th>rentals_handgun</th>\n      <th>rentals_long_gun</th>\n      <th>private_sale_handgun</th>\n      <th>private_sale_long_gun</th>\n      <th>private_sale_other</th>\n      <th>return_to_seller_handgun</th>\n      <th>return_to_seller_long_gun</th>\n      <th>return_to_seller_other</th>\n      <th>totals</th>\n      <th>year</th>\n    </tr>\n  </thead>\n  <tbody>\n    <tr>\n      <th>0</th>\n      <td>10</td>\n      <td>Alabama</td>\n      <td>32038.0</td>\n      <td>585.0</td>\n      <td>24084.0</td>\n      <td>17964.0</td>\n      <td>1698.0</td>\n      <td>1104</td>\n      <td>0.0</td>\n      <td>28.0</td>\n      <td>...</td>\n      <td>0.0</td>\n      <td>0.0</td>\n      <td>28.0</td>\n      <td>25.0</td>\n      <td>7.0</td>\n      <td>1.0</td>\n      <td>4.0</td>\n      <td>1.0</td>\n      <td>80934</td>\n      <td>2020</td>\n    </tr>\n    <tr>\n      <th>1</th>\n      <td>10</td>\n      <td>Alaska</td>\n      <td>264.0</td>\n      <td>1.0</td>\n      <td>3209.0</td>\n      <td>3210.0</td>\n      <td>348.0</td>\n      <td>188</td>\n      <td>0.0</td>\n      <td>0.0</td>\n      <td>...</td>\n      <td>0.0</td>\n      <td>0.0</td>\n      <td>6.0</td>\n      <td>13.0</td>\n      <td>1.0</td>\n      <td>1.0</td>\n      <td>0.0</td>\n      <td>0.0</td>\n      <td>7564</td>\n      <td>2020</td>\n    </tr>\n    <tr>\n      <th>2</th>\n      <td>10</td>\n      <td>Arizona</td>\n      <td>8991.0</td>\n      <td>1015.0</td>\n      <td>24964.0</td>\n      <td>12288.0</td>\n      <td>1951.0</td>\n      <td>1762</td>\n      <td>0.0</td>\n      <td>9.0</td>\n      <td>...</td>\n      <td>0.0</td>\n      <td>0.0</td>\n      <td>19.0</td>\n      <td>13.0</td>\n      <td>0.0</td>\n      <td>0.0</td>\n      <td>1.0</td>\n      <td>0.0</td>\n      <td>52521</td>\n      <td>2020</td>\n    </tr>\n    <tr>\n      <th>3</th>\n      <td>10</td>\n      <td>Arkansas</td>\n      <td>5108.0</td>\n      <td>549.0</td>\n      <td>8931.0</td>\n      <td>9386.0</td>\n      <td>567.0</td>\n      <td>421</td>\n      <td>8.0</td>\n      <td>9.0</td>\n      <td>...</td>\n      <td>0.0</td>\n      <td>0.0</td>\n      <td>15.0</td>\n      <td>7.0</td>\n      <td>4.0</td>\n      <td>0.0</td>\n      <td>0.0</td>\n      <td>0.0</td>\n      <td>27177</td>\n      <td>2020</td>\n    </tr>\n    <tr>\n      <th>4</th>\n      <td>10</td>\n      <td>California</td>\n      <td>36719.0</td>\n      <td>0.0</td>\n      <td>65376.0</td>\n      <td>40286.0</td>\n      <td>8319.0</td>\n      <td>0</td>\n      <td>0.0</td>\n      <td>0.0</td>\n      <td>...</td>\n      <td>0.0</td>\n      <td>0.0</td>\n      <td>0.0</td>\n      <td>0.0</td>\n      <td>0.0</td>\n      <td>0.0</td>\n      <td>0.0</td>\n      <td>0.0</td>\n      <td>151359</td>\n      <td>2020</td>\n    </tr>\n    <tr>\n      <th>...</th>\n      <td>...</td>\n      <td>...</td>\n      <td>...</td>\n      <td>...</td>\n      <td>...</td>\n      <td>...</td>\n      <td>...</td>\n      <td>...</td>\n      <td>...</td>\n      <td>...</td>\n      <td>...</td>\n      <td>...</td>\n      <td>...</td>\n      <td>...</td>\n      <td>...</td>\n      <td>...</td>\n      <td>...</td>\n      <td>...</td>\n      <td>...</td>\n      <td>...</td>\n      <td>...</td>\n    </tr>\n    <tr>\n      <th>14515</th>\n      <td>10</td>\n      <td>Virginia</td>\n      <td>0.0</td>\n      <td>NaN</td>\n      <td>14.0</td>\n      <td>2.0</td>\n      <td>NaN</td>\n      <td>8</td>\n      <td>0.0</td>\n      <td>NaN</td>\n      <td>...</td>\n      <td>NaN</td>\n      <td>NaN</td>\n      <td>NaN</td>\n      <td>NaN</td>\n      <td>NaN</td>\n      <td>NaN</td>\n      <td>NaN</td>\n      <td>NaN</td>\n      <td>24</td>\n      <td>2020</td>\n    </tr>\n    <tr>\n      <th>14516</th>\n      <td>10</td>\n      <td>Washington</td>\n      <td>1.0</td>\n      <td>NaN</td>\n      <td>65.0</td>\n      <td>286.0</td>\n      <td>NaN</td>\n      <td>8</td>\n      <td>1.0</td>\n      <td>NaN</td>\n      <td>...</td>\n      <td>NaN</td>\n      <td>NaN</td>\n      <td>NaN</td>\n      <td>NaN</td>\n      <td>NaN</td>\n      <td>NaN</td>\n      <td>NaN</td>\n      <td>NaN</td>\n      <td>361</td>\n      <td>2020</td>\n    </tr>\n    <tr>\n      <th>14517</th>\n      <td>10</td>\n      <td>West Virginia</td>\n      <td>3.0</td>\n      <td>NaN</td>\n      <td>149.0</td>\n      <td>251.0</td>\n      <td>NaN</td>\n      <td>5</td>\n      <td>0.0</td>\n      <td>NaN</td>\n      <td>...</td>\n      <td>NaN</td>\n      <td>NaN</td>\n      <td>NaN</td>\n      <td>NaN</td>\n      <td>NaN</td>\n      <td>NaN</td>\n      <td>NaN</td>\n      <td>NaN</td>\n      <td>408</td>\n      <td>2020</td>\n    </tr>\n    <tr>\n      <th>14518</th>\n      <td>10</td>\n      <td>Wisconsin</td>\n      <td>0.0</td>\n      <td>NaN</td>\n      <td>25.0</td>\n      <td>214.0</td>\n      <td>NaN</td>\n      <td>2</td>\n      <td>0.0</td>\n      <td>NaN</td>\n      <td>...</td>\n      <td>NaN</td>\n      <td>NaN</td>\n      <td>NaN</td>\n      <td>NaN</td>\n      <td>NaN</td>\n      <td>NaN</td>\n      <td>NaN</td>\n      <td>NaN</td>\n      <td>241</td>\n      <td>2020</td>\n    </tr>\n    <tr>\n      <th>14519</th>\n      <td>10</td>\n      <td>Wyoming</td>\n      <td>8.0</td>\n      <td>NaN</td>\n      <td>45.0</td>\n      <td>49.0</td>\n      <td>NaN</td>\n      <td>5</td>\n      <td>0.0</td>\n      <td>NaN</td>\n      <td>...</td>\n      <td>NaN</td>\n      <td>NaN</td>\n      <td>NaN</td>\n      <td>NaN</td>\n      <td>NaN</td>\n      <td>NaN</td>\n      <td>NaN</td>\n      <td>NaN</td>\n      <td>107</td>\n      <td>2020</td>\n    </tr>\n  </tbody>\n</table>\n<p>14520 rows × 28 columns</p>\n</div>"
     },
     "execution_count": 33,
     "metadata": {},
     "output_type": "execute_result"
    }
   ],
   "source": [
    "def to_year(sting):\n",
    "    return df['month'][0].year\n",
    "\n",
    "def to_month(sting):\n",
    "    return df['month'][0].month\n",
    "\n",
    "df['year'] = df['month'].apply(to_year)\n",
    "df['month'] = df['month'].apply(to_month)\n",
    "df"
   ],
   "metadata": {
    "collapsed": false,
    "pycharm": {
     "name": "#%%\n"
    }
   }
  },
  {
   "cell_type": "code",
   "execution_count": 34,
   "outputs": [
    {
     "name": "stdout",
     "output_type": "stream",
     "text": [
      "<class 'pandas.core.frame.DataFrame'>\n",
      "RangeIndex: 14520 entries, 0 to 14519\n",
      "Data columns (total 28 columns):\n",
      " #   Column                     Non-Null Count  Dtype  \n",
      "---  ------                     --------------  -----  \n",
      " 0   month                      14520 non-null  int64  \n",
      " 1   state                      14520 non-null  object \n",
      " 2   permit                     14496 non-null  float64\n",
      " 3   permit_recheck             3135 non-null   float64\n",
      " 4   handgun                    14500 non-null  float64\n",
      " 5   long_gun                   14501 non-null  float64\n",
      " 6   other                      7535 non-null   float64\n",
      " 7   multiple                   14520 non-null  int64  \n",
      " 8   admin                      14497 non-null  float64\n",
      " 9   prepawn_handgun            12577 non-null  float64\n",
      " 10  prepawn_long_gun           12575 non-null  float64\n",
      " 11  prepawn_other              7150 non-null   float64\n",
      " 12  redemption_handgun         12580 non-null  float64\n",
      " 13  redemption_long_gun        12579 non-null  float64\n",
      " 14  redemption_other           7150 non-null   float64\n",
      " 15  returned_handgun           4235 non-null   float64\n",
      " 16  returned_long_gun          4180 non-null   float64\n",
      " 17  returned_other             3850 non-null   float64\n",
      " 18  rentals_handgun            3025 non-null   float64\n",
      " 19  rentals_long_gun           2860 non-null   float64\n",
      " 20  private_sale_handgun       4785 non-null   float64\n",
      " 21  private_sale_long_gun      4785 non-null   float64\n",
      " 22  private_sale_other         4785 non-null   float64\n",
      " 23  return_to_seller_handgun   4510 non-null   float64\n",
      " 24  return_to_seller_long_gun  4785 non-null   float64\n",
      " 25  return_to_seller_other     4290 non-null   float64\n",
      " 26  totals                     14520 non-null  int64  \n",
      " 27  year                       14520 non-null  int64  \n",
      "dtypes: float64(23), int64(4), object(1)\n",
      "memory usage: 3.1+ MB\n"
     ]
    }
   ],
   "source": [
    "df.info()"
   ],
   "metadata": {
    "collapsed": false,
    "pycharm": {
     "name": "#%%\n"
    }
   }
  },
  {
   "cell_type": "code",
   "execution_count": 37,
   "outputs": [],
   "source": [
    "# create a list of columns\n",
    "column_list = df.columns.tolist()\n",
    "df = df[['year',\n",
    "    'month',\n",
    " 'state',\n",
    " 'permit',\n",
    " 'permit_recheck',\n",
    " 'handgun',\n",
    " 'long_gun',\n",
    " 'other',\n",
    " 'multiple',\n",
    " 'admin',\n",
    " 'prepawn_handgun',\n",
    " 'prepawn_long_gun',\n",
    " 'prepawn_other',\n",
    " 'redemption_handgun',\n",
    " 'redemption_long_gun',\n",
    " 'redemption_other',\n",
    " 'returned_handgun',\n",
    " 'returned_long_gun',\n",
    " 'returned_other',\n",
    " 'rentals_handgun',\n",
    " 'rentals_long_gun',\n",
    " 'private_sale_handgun',\n",
    " 'private_sale_long_gun',\n",
    " 'private_sale_other',\n",
    " 'return_to_seller_handgun',\n",
    " 'return_to_seller_long_gun',\n",
    " 'return_to_seller_other',\n",
    " 'totals']]"
   ],
   "metadata": {
    "collapsed": false,
    "pycharm": {
     "name": "#%%\n"
    }
   }
  },
  {
   "cell_type": "code",
   "execution_count": 38,
   "outputs": [
    {
     "data": {
      "text/plain": "       year  month          state   permit  permit_recheck  handgun  long_gun  \\\n0      2020     10        Alabama  32038.0           585.0  24084.0   17964.0   \n1      2020     10         Alaska    264.0             1.0   3209.0    3210.0   \n2      2020     10        Arizona   8991.0          1015.0  24964.0   12288.0   \n3      2020     10       Arkansas   5108.0           549.0   8931.0    9386.0   \n4      2020     10     California  36719.0             0.0  65376.0   40286.0   \n...     ...    ...            ...      ...             ...      ...       ...   \n14515  2020     10       Virginia      0.0             NaN     14.0       2.0   \n14516  2020     10     Washington      1.0             NaN     65.0     286.0   \n14517  2020     10  West Virginia      3.0             NaN    149.0     251.0   \n14518  2020     10      Wisconsin      0.0             NaN     25.0     214.0   \n14519  2020     10        Wyoming      8.0             NaN     45.0      49.0   \n\n        other  multiple  admin  ...  returned_other  rentals_handgun  \\\n0      1698.0      1104    0.0  ...             0.0              0.0   \n1       348.0       188    0.0  ...             0.0              0.0   \n2      1951.0      1762    0.0  ...             1.0              0.0   \n3       567.0       421    8.0  ...             0.0              0.0   \n4      8319.0         0    0.0  ...             0.0              0.0   \n...       ...       ...    ...  ...             ...              ...   \n14515     NaN         8    0.0  ...             NaN              NaN   \n14516     NaN         8    1.0  ...             NaN              NaN   \n14517     NaN         5    0.0  ...             NaN              NaN   \n14518     NaN         2    0.0  ...             NaN              NaN   \n14519     NaN         5    0.0  ...             NaN              NaN   \n\n       rentals_long_gun  private_sale_handgun  private_sale_long_gun  \\\n0                   0.0                  28.0                   25.0   \n1                   0.0                   6.0                   13.0   \n2                   0.0                  19.0                   13.0   \n3                   0.0                  15.0                    7.0   \n4                   0.0                   0.0                    0.0   \n...                 ...                   ...                    ...   \n14515               NaN                   NaN                    NaN   \n14516               NaN                   NaN                    NaN   \n14517               NaN                   NaN                    NaN   \n14518               NaN                   NaN                    NaN   \n14519               NaN                   NaN                    NaN   \n\n       private_sale_other  return_to_seller_handgun  \\\n0                     7.0                       1.0   \n1                     1.0                       1.0   \n2                     0.0                       0.0   \n3                     4.0                       0.0   \n4                     0.0                       0.0   \n...                   ...                       ...   \n14515                 NaN                       NaN   \n14516                 NaN                       NaN   \n14517                 NaN                       NaN   \n14518                 NaN                       NaN   \n14519                 NaN                       NaN   \n\n       return_to_seller_long_gun  return_to_seller_other  totals  \n0                            4.0                     1.0   80934  \n1                            0.0                     0.0    7564  \n2                            1.0                     0.0   52521  \n3                            0.0                     0.0   27177  \n4                            0.0                     0.0  151359  \n...                          ...                     ...     ...  \n14515                        NaN                     NaN      24  \n14516                        NaN                     NaN     361  \n14517                        NaN                     NaN     408  \n14518                        NaN                     NaN     241  \n14519                        NaN                     NaN     107  \n\n[14520 rows x 28 columns]",
      "text/html": "<div>\n<style scoped>\n    .dataframe tbody tr th:only-of-type {\n        vertical-align: middle;\n    }\n\n    .dataframe tbody tr th {\n        vertical-align: top;\n    }\n\n    .dataframe thead th {\n        text-align: right;\n    }\n</style>\n<table border=\"1\" class=\"dataframe\">\n  <thead>\n    <tr style=\"text-align: right;\">\n      <th></th>\n      <th>year</th>\n      <th>month</th>\n      <th>state</th>\n      <th>permit</th>\n      <th>permit_recheck</th>\n      <th>handgun</th>\n      <th>long_gun</th>\n      <th>other</th>\n      <th>multiple</th>\n      <th>admin</th>\n      <th>...</th>\n      <th>returned_other</th>\n      <th>rentals_handgun</th>\n      <th>rentals_long_gun</th>\n      <th>private_sale_handgun</th>\n      <th>private_sale_long_gun</th>\n      <th>private_sale_other</th>\n      <th>return_to_seller_handgun</th>\n      <th>return_to_seller_long_gun</th>\n      <th>return_to_seller_other</th>\n      <th>totals</th>\n    </tr>\n  </thead>\n  <tbody>\n    <tr>\n      <th>0</th>\n      <td>2020</td>\n      <td>10</td>\n      <td>Alabama</td>\n      <td>32038.0</td>\n      <td>585.0</td>\n      <td>24084.0</td>\n      <td>17964.0</td>\n      <td>1698.0</td>\n      <td>1104</td>\n      <td>0.0</td>\n      <td>...</td>\n      <td>0.0</td>\n      <td>0.0</td>\n      <td>0.0</td>\n      <td>28.0</td>\n      <td>25.0</td>\n      <td>7.0</td>\n      <td>1.0</td>\n      <td>4.0</td>\n      <td>1.0</td>\n      <td>80934</td>\n    </tr>\n    <tr>\n      <th>1</th>\n      <td>2020</td>\n      <td>10</td>\n      <td>Alaska</td>\n      <td>264.0</td>\n      <td>1.0</td>\n      <td>3209.0</td>\n      <td>3210.0</td>\n      <td>348.0</td>\n      <td>188</td>\n      <td>0.0</td>\n      <td>...</td>\n      <td>0.0</td>\n      <td>0.0</td>\n      <td>0.0</td>\n      <td>6.0</td>\n      <td>13.0</td>\n      <td>1.0</td>\n      <td>1.0</td>\n      <td>0.0</td>\n      <td>0.0</td>\n      <td>7564</td>\n    </tr>\n    <tr>\n      <th>2</th>\n      <td>2020</td>\n      <td>10</td>\n      <td>Arizona</td>\n      <td>8991.0</td>\n      <td>1015.0</td>\n      <td>24964.0</td>\n      <td>12288.0</td>\n      <td>1951.0</td>\n      <td>1762</td>\n      <td>0.0</td>\n      <td>...</td>\n      <td>1.0</td>\n      <td>0.0</td>\n      <td>0.0</td>\n      <td>19.0</td>\n      <td>13.0</td>\n      <td>0.0</td>\n      <td>0.0</td>\n      <td>1.0</td>\n      <td>0.0</td>\n      <td>52521</td>\n    </tr>\n    <tr>\n      <th>3</th>\n      <td>2020</td>\n      <td>10</td>\n      <td>Arkansas</td>\n      <td>5108.0</td>\n      <td>549.0</td>\n      <td>8931.0</td>\n      <td>9386.0</td>\n      <td>567.0</td>\n      <td>421</td>\n      <td>8.0</td>\n      <td>...</td>\n      <td>0.0</td>\n      <td>0.0</td>\n      <td>0.0</td>\n      <td>15.0</td>\n      <td>7.0</td>\n      <td>4.0</td>\n      <td>0.0</td>\n      <td>0.0</td>\n      <td>0.0</td>\n      <td>27177</td>\n    </tr>\n    <tr>\n      <th>4</th>\n      <td>2020</td>\n      <td>10</td>\n      <td>California</td>\n      <td>36719.0</td>\n      <td>0.0</td>\n      <td>65376.0</td>\n      <td>40286.0</td>\n      <td>8319.0</td>\n      <td>0</td>\n      <td>0.0</td>\n      <td>...</td>\n      <td>0.0</td>\n      <td>0.0</td>\n      <td>0.0</td>\n      <td>0.0</td>\n      <td>0.0</td>\n      <td>0.0</td>\n      <td>0.0</td>\n      <td>0.0</td>\n      <td>0.0</td>\n      <td>151359</td>\n    </tr>\n    <tr>\n      <th>...</th>\n      <td>...</td>\n      <td>...</td>\n      <td>...</td>\n      <td>...</td>\n      <td>...</td>\n      <td>...</td>\n      <td>...</td>\n      <td>...</td>\n      <td>...</td>\n      <td>...</td>\n      <td>...</td>\n      <td>...</td>\n      <td>...</td>\n      <td>...</td>\n      <td>...</td>\n      <td>...</td>\n      <td>...</td>\n      <td>...</td>\n      <td>...</td>\n      <td>...</td>\n      <td>...</td>\n    </tr>\n    <tr>\n      <th>14515</th>\n      <td>2020</td>\n      <td>10</td>\n      <td>Virginia</td>\n      <td>0.0</td>\n      <td>NaN</td>\n      <td>14.0</td>\n      <td>2.0</td>\n      <td>NaN</td>\n      <td>8</td>\n      <td>0.0</td>\n      <td>...</td>\n      <td>NaN</td>\n      <td>NaN</td>\n      <td>NaN</td>\n      <td>NaN</td>\n      <td>NaN</td>\n      <td>NaN</td>\n      <td>NaN</td>\n      <td>NaN</td>\n      <td>NaN</td>\n      <td>24</td>\n    </tr>\n    <tr>\n      <th>14516</th>\n      <td>2020</td>\n      <td>10</td>\n      <td>Washington</td>\n      <td>1.0</td>\n      <td>NaN</td>\n      <td>65.0</td>\n      <td>286.0</td>\n      <td>NaN</td>\n      <td>8</td>\n      <td>1.0</td>\n      <td>...</td>\n      <td>NaN</td>\n      <td>NaN</td>\n      <td>NaN</td>\n      <td>NaN</td>\n      <td>NaN</td>\n      <td>NaN</td>\n      <td>NaN</td>\n      <td>NaN</td>\n      <td>NaN</td>\n      <td>361</td>\n    </tr>\n    <tr>\n      <th>14517</th>\n      <td>2020</td>\n      <td>10</td>\n      <td>West Virginia</td>\n      <td>3.0</td>\n      <td>NaN</td>\n      <td>149.0</td>\n      <td>251.0</td>\n      <td>NaN</td>\n      <td>5</td>\n      <td>0.0</td>\n      <td>...</td>\n      <td>NaN</td>\n      <td>NaN</td>\n      <td>NaN</td>\n      <td>NaN</td>\n      <td>NaN</td>\n      <td>NaN</td>\n      <td>NaN</td>\n      <td>NaN</td>\n      <td>NaN</td>\n      <td>408</td>\n    </tr>\n    <tr>\n      <th>14518</th>\n      <td>2020</td>\n      <td>10</td>\n      <td>Wisconsin</td>\n      <td>0.0</td>\n      <td>NaN</td>\n      <td>25.0</td>\n      <td>214.0</td>\n      <td>NaN</td>\n      <td>2</td>\n      <td>0.0</td>\n      <td>...</td>\n      <td>NaN</td>\n      <td>NaN</td>\n      <td>NaN</td>\n      <td>NaN</td>\n      <td>NaN</td>\n      <td>NaN</td>\n      <td>NaN</td>\n      <td>NaN</td>\n      <td>NaN</td>\n      <td>241</td>\n    </tr>\n    <tr>\n      <th>14519</th>\n      <td>2020</td>\n      <td>10</td>\n      <td>Wyoming</td>\n      <td>8.0</td>\n      <td>NaN</td>\n      <td>45.0</td>\n      <td>49.0</td>\n      <td>NaN</td>\n      <td>5</td>\n      <td>0.0</td>\n      <td>...</td>\n      <td>NaN</td>\n      <td>NaN</td>\n      <td>NaN</td>\n      <td>NaN</td>\n      <td>NaN</td>\n      <td>NaN</td>\n      <td>NaN</td>\n      <td>NaN</td>\n      <td>NaN</td>\n      <td>107</td>\n    </tr>\n  </tbody>\n</table>\n<p>14520 rows × 28 columns</p>\n</div>"
     },
     "execution_count": 38,
     "metadata": {},
     "output_type": "execute_result"
    }
   ],
   "source": [
    "df"
   ],
   "metadata": {
    "collapsed": false,
    "pycharm": {
     "name": "#%%\n"
    }
   }
  },
  {
   "cell_type": "code",
   "execution_count": 42,
   "outputs": [
    {
     "data": {
      "text/plain": "0        October\n1        October\n2        October\n3        October\n4        October\n          ...   \n14515    October\n14516    October\n14517    October\n14518    October\n14519    October\nName: month, Length: 14520, dtype: object"
     },
     "execution_count": 42,
     "metadata": {},
     "output_type": "execute_result"
    }
   ],
   "source": [
    "# change the month from integer to string\n",
    "import calendar\n",
    "\n",
    "def month_int_to_str(integer):\n",
    "    return calendar.month_name[integer]\n",
    "\n",
    "df['month'] = df['month'].apply(month_int_to_str)"
   ],
   "metadata": {
    "collapsed": false,
    "pycharm": {
     "name": "#%%\n"
    }
   }
  },
  {
   "cell_type": "code",
   "execution_count": 40,
   "outputs": [],
   "source": [],
   "metadata": {
    "collapsed": false,
    "pycharm": {
     "name": "#%%\n"
    }
   }
  },
  {
   "cell_type": "code",
   "execution_count": null,
   "outputs": [],
   "source": [],
   "metadata": {
    "collapsed": false,
    "pycharm": {
     "name": "#%%\n"
    }
   }
  }
 ],
 "metadata": {
  "kernelspec": {
   "display_name": "Python 3",
   "language": "python",
   "name": "python3"
  },
  "language_info": {
   "codemirror_mode": {
    "name": "ipython",
    "version": 2
   },
   "file_extension": ".py",
   "mimetype": "text/x-python",
   "name": "python",
   "nbconvert_exporter": "python",
   "pygments_lexer": "ipython2",
   "version": "2.7.6"
  }
 },
 "nbformat": 4,
 "nbformat_minor": 0
}