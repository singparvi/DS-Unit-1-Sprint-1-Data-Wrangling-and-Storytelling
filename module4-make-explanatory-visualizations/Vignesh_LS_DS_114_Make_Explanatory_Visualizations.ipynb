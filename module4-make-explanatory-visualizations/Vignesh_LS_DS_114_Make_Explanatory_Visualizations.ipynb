{
 "cells": [
  {
   "cell_type": "markdown",
   "metadata": {
    "id": "-8-trVo__vRE"
   },
   "source": [
    "Lambda School Data Science\n",
    "\n",
    "*Unit 1, Sprint 1, Module 4*\n",
    "\n",
    "---\n",
    "\n",
    "# Make Explanatory Visualizations\n",
    "\n",
    "### Objectives\n",
    "\n",
    "- Student can identify the appropriate visualization type for a particular variable type and research question \n",
    "- Student can use Matplotlib to visualize distributions and relationships with continuous and discrete variables\n",
    "- Student can add emphasis and annotations to transform visualizations from exploratory to explanatory\n",
    "- Student can remove clutter from visualizations\n",
    "- Student can identify misleading visualizations and how to fix them\n",
    "\n"
   ]
  },
  {
   "cell_type": "markdown",
   "metadata": {
    "id": "g6bKgZ0m_ynS"
   },
   "source": [
    "# Tried and true visualizations"
   ]
  },
  {
   "cell_type": "markdown",
   "metadata": {
    "id": "ZUBPAO0ZrE9L"
   },
   "source": [
    "###For categorical variables\n",
    "\n",
    "- Bar plots for a single categorical variable\n",
    "- Side-by-side or stacked bar plots when you want to compare one categorical variable grouped by another categorical variable\n",
    "- Pie charts when there are only a few categories that add to 100% (caveat emptor - we we will see lots of examples of misused pie charts later)\n",
    "\n",
    "###For quantitative variables\n",
    "- Histograms for a single quantitative variable\n",
    "- Box plots for a single quantitative variable\n",
    "- Time plots\n",
    "- Line plots\n",
    "- Scatterplots for displaying the relationship between two quantitative variables\n",
    "\n"
   ]
  },
  {
   "cell_type": "markdown",
   "metadata": {
    "id": "7RBNfMg4_U6Y"
   },
   "source": [
    "###We will discuss side-by-side bar plots and scatterplots in later projects."
   ]
  },
  {
   "cell_type": "markdown",
   "metadata": {
    "id": "vMpRehldsI47"
   },
   "source": [
    "### A couple cool plots that are \"hot\" right now: \n",
    "\n",
    "- [Sankey diagrams](https://en.wikipedia.org/wiki/Sankey_diagram)\n",
    "- [Violin plots](https://en.wikipedia.org/wiki/Violin_plot#:~:text=A%20violin%20plot%20is%20a,by%20a%20kernel%20density%20estimator.)"
   ]
  },
  {
   "cell_type": "markdown",
   "metadata": {
    "id": "LgoB7reHNvCz"
   },
   "source": [
    "#There are two ways to interact with matplotlib\n",
    "\n",
    "1. Pyplot API - The Pyplot interface is also called the MATLAB-style, based on the program which inspired Matplolib's creation. This interface is simple and easy to use; it's fine for simple plots when you don't anticipate needing to go back and add additional features.\n",
    "\n",
    "You'll recognize this syntax when you see plt. commands\n",
    "\n",
    "2. Object-oriented API - Using the object-oriented interface, we can create figure and axes objects and then use methods on those objects. \n",
    "\n",
    "You'll recognize this syntax when you see fig. and ax. commands.\n",
    "\n",
    "Both are useful, and often you can create the same figure using either method.  Just know that you can't mix the two in the same plot."
   ]
  },
  {
   "cell_type": "markdown",
   "metadata": {
    "id": "vYP-AHw-qrKN"
   },
   "source": [
    "#Displaying and Describing Quantitative Variables"
   ]
  },
  {
   "cell_type": "markdown",
   "metadata": {
    "id": "DeiH6PYCqwUn"
   },
   "source": [
    "There are two main ways to display the distribution of a single quantitative variable - boxplot and histogram.\n",
    "\n",
    "The shape of the distribution of a quantiative variable is described with three features:\n",
    "\n",
    "1. Number of modes\n",
    "2. Symmetry/Skew\n",
    "3. Outliers\n",
    "\n"
   ]
  },
  {
   "cell_type": "markdown",
   "metadata": {
    "id": "lMg5qtfaruea"
   },
   "source": [
    "The mode is the most frequent observation in a dataset.  A data set with\n",
    "\n",
    "\n",
    "*   One mode is called unimodal\n",
    "*   Two modes is called bimodal \n",
    "* Three or modes is called multi-modal\n",
    "* No mode is called uniform\n",
    "\n"
   ]
  },
  {
   "cell_type": "markdown",
   "metadata": {
    "id": "YeGTa5IL0Lo-"
   },
   "source": [
    "A dataset is called symmetric if it looks the same on the right and left like pages of a book or halves of a face.\n",
    "\n",
    "\n",
    "A dataset is called skew if one side looks different than the other.\n",
    "* If the long tail of the histogram points to the right, the distribution is called skewed to the right or is said to have a positive skew\n",
    "* If the long tail of the dataset points to the left, the distribution is called skewed to the left or is said to have a negative skew\n",
    "\n"
   ]
  },
  {
   "cell_type": "markdown",
   "metadata": {
    "id": "ZmD8PUx5129w"
   },
   "source": [
    "Outliers are observations that appear very far from the other observations in the distribution.  We'll give a formal definition of an outlier in a little bit."
   ]
  },
  {
   "cell_type": "markdown",
   "metadata": {
    "id": "QwGdSC9ar_1C"
   },
   "source": [
    "Let's start by importing some datasets:"
   ]
  },
  {
   "cell_type": "markdown",
   "metadata": {
    "id": "F6FBTo2BykzC"
   },
   "source": [
    "###The Titanic"
   ]
  },
  {
   "cell_type": "markdown",
   "metadata": {
    "id": "DUOFTWzOyQe_"
   },
   "source": [
    "In the early hours of April 15, 1912, the unsinkable ship RMS Titanic sank \n",
    "when it struck an iceberg, killing more than half of the passengers and crew aboard. The Titanic.csv dataset contains demographic information for 889 of those passengers \n",
    "as well as a record of whether or not that each passenger survived. \n",
    "\n",
    "$\\qquad$\n",
    "\n",
    "Source: Stanford University. 2016. A Titanic Probability. Titanic Training Dataset. \n",
    "https://web.stanford.edu/class/archive/cs/cs109/cs109.1166/problem12.html"
   ]
  },
  {
   "cell_type": "code",
   "execution_count": 18,
   "metadata": {
    "colab": {
     "base_uri": "https://localhost:8080/",
     "height": 202
    },
    "executionInfo": {
     "elapsed": 528,
     "status": "ok",
     "timestamp": 1604545356379,
     "user": {
      "displayName": "Vignesh Narayanaswamy",
      "photoUrl": "",
      "userId": "17945519343825853893"
     },
     "user_tz": 300
    },
    "id": "ihNRKzhzs7_C",
    "outputId": "17261c11-9d2d-4bd6-9c1d-f690c00a5a91"
   },
   "outputs": [
    {
     "data": {
      "text/html": [
       "<div>\n",
       "<style scoped>\n",
       "    .dataframe tbody tr th:only-of-type {\n",
       "        vertical-align: middle;\n",
       "    }\n",
       "\n",
       "    .dataframe tbody tr th {\n",
       "        vertical-align: top;\n",
       "    }\n",
       "\n",
       "    .dataframe thead th {\n",
       "        text-align: right;\n",
       "    }\n",
       "</style>\n",
       "<table border=\"1\" class=\"dataframe\">\n",
       "  <thead>\n",
       "    <tr style=\"text-align: right;\">\n",
       "      <th></th>\n",
       "      <th>Survived</th>\n",
       "      <th>Pclass</th>\n",
       "      <th>Name</th>\n",
       "      <th>Sex</th>\n",
       "      <th>Age</th>\n",
       "      <th>Siblings/Spouses_Aboard</th>\n",
       "      <th>Parents/Children_Aboard</th>\n",
       "      <th>Fare</th>\n",
       "    </tr>\n",
       "  </thead>\n",
       "  <tbody>\n",
       "    <tr>\n",
       "      <th>0</th>\n",
       "      <td>0</td>\n",
       "      <td>3</td>\n",
       "      <td>Mr. Owen Harris Braund</td>\n",
       "      <td>male</td>\n",
       "      <td>22.0</td>\n",
       "      <td>1</td>\n",
       "      <td>0</td>\n",
       "      <td>7.2500</td>\n",
       "    </tr>\n",
       "    <tr>\n",
       "      <th>1</th>\n",
       "      <td>1</td>\n",
       "      <td>1</td>\n",
       "      <td>Mrs. John Bradley (Florence Briggs Thayer) Cum...</td>\n",
       "      <td>female</td>\n",
       "      <td>38.0</td>\n",
       "      <td>1</td>\n",
       "      <td>0</td>\n",
       "      <td>71.2833</td>\n",
       "    </tr>\n",
       "    <tr>\n",
       "      <th>2</th>\n",
       "      <td>1</td>\n",
       "      <td>3</td>\n",
       "      <td>Miss. Laina Heikkinen</td>\n",
       "      <td>female</td>\n",
       "      <td>26.0</td>\n",
       "      <td>0</td>\n",
       "      <td>0</td>\n",
       "      <td>7.9250</td>\n",
       "    </tr>\n",
       "    <tr>\n",
       "      <th>3</th>\n",
       "      <td>1</td>\n",
       "      <td>1</td>\n",
       "      <td>Mrs. Jacques Heath (Lily May Peel) Futrelle</td>\n",
       "      <td>female</td>\n",
       "      <td>35.0</td>\n",
       "      <td>1</td>\n",
       "      <td>0</td>\n",
       "      <td>53.1000</td>\n",
       "    </tr>\n",
       "    <tr>\n",
       "      <th>4</th>\n",
       "      <td>0</td>\n",
       "      <td>3</td>\n",
       "      <td>Mr. William Henry Allen</td>\n",
       "      <td>male</td>\n",
       "      <td>35.0</td>\n",
       "      <td>0</td>\n",
       "      <td>0</td>\n",
       "      <td>8.0500</td>\n",
       "    </tr>\n",
       "  </tbody>\n",
       "</table>\n",
       "</div>"
      ],
      "text/plain": [
       "   Survived  Pclass                                               Name  \\\n",
       "0         0       3                             Mr. Owen Harris Braund   \n",
       "1         1       1  Mrs. John Bradley (Florence Briggs Thayer) Cum...   \n",
       "2         1       3                              Miss. Laina Heikkinen   \n",
       "3         1       1        Mrs. Jacques Heath (Lily May Peel) Futrelle   \n",
       "4         0       3                            Mr. William Henry Allen   \n",
       "\n",
       "      Sex   Age  Siblings/Spouses_Aboard  Parents/Children_Aboard     Fare  \n",
       "0    male  22.0                        1                        0   7.2500  \n",
       "1  female  38.0                        1                        0  71.2833  \n",
       "2  female  26.0                        0                        0   7.9250  \n",
       "3  female  35.0                        1                        0  53.1000  \n",
       "4    male  35.0                        0                        0   8.0500  "
      ]
     },
     "execution_count": 18,
     "metadata": {},
     "output_type": "execute_result"
    }
   ],
   "source": [
    "\n",
    "import pandas as pd\n",
    "\n",
    "# Load the Titanic dataset from its URL:\n",
    "Titanic = pd.read_csv('https://raw.githubusercontent.com/LambdaSchool/data-science-practice-datasets/main/unit_1/Titanic/Titanic.csv')\n",
    "\n",
    "Titanic.head()"
   ]
  },
  {
   "cell_type": "markdown",
   "metadata": {
    "id": "l-dbgZACzWlf"
   },
   "source": [
    "###Bodytemp"
   ]
  },
  {
   "cell_type": "markdown",
   "metadata": {
    "id": "SJBv6efuz5K3"
   },
   "source": [
    "Body temperature measurements for 223 healthy men and women aged 18-40 taken using an electronic digital thermometer. The mean body temperature from multiple measurements over three days was computed for each individual, and this summary measure is recorded in the Bodytemp.csv dataset.\n",
    "\n",
    "$\\qquad$\n",
    "\n",
    "Source: Mackowiak, P. A., Wasserman, S. S., and Levine, M. M. (1992), \"A Critical Appraisal of 98.6 Degrees F, the Upper Limit of the Normal Body Temperature, and Other Legacies of Carl Reinhold August Wunderlich,\" Journal of the American Medical Association, 268, 1578-1580."
   ]
  },
  {
   "cell_type": "code",
   "execution_count": 19,
   "metadata": {
    "colab": {
     "base_uri": "https://localhost:8080/",
     "height": 202
    },
    "executionInfo": {
     "elapsed": 427,
     "status": "ok",
     "timestamp": 1604545400566,
     "user": {
      "displayName": "Vignesh Narayanaswamy",
      "photoUrl": "",
      "userId": "17945519343825853893"
     },
     "user_tz": 300
    },
    "id": "IjJJNNj2vCpq",
    "outputId": "b7ed2d3a-d94d-4e5d-89dd-3bc41a34660c"
   },
   "outputs": [
    {
     "data": {
      "text/html": [
       "<div>\n",
       "<style scoped>\n",
       "    .dataframe tbody tr th:only-of-type {\n",
       "        vertical-align: middle;\n",
       "    }\n",
       "\n",
       "    .dataframe tbody tr th {\n",
       "        vertical-align: top;\n",
       "    }\n",
       "\n",
       "    .dataframe thead th {\n",
       "        text-align: right;\n",
       "    }\n",
       "</style>\n",
       "<table border=\"1\" class=\"dataframe\">\n",
       "  <thead>\n",
       "    <tr style=\"text-align: right;\">\n",
       "      <th></th>\n",
       "      <th>ID</th>\n",
       "      <th>Body_temp</th>\n",
       "    </tr>\n",
       "  </thead>\n",
       "  <tbody>\n",
       "    <tr>\n",
       "      <th>0</th>\n",
       "      <td>36</td>\n",
       "      <td>96.7</td>\n",
       "    </tr>\n",
       "    <tr>\n",
       "      <th>1</th>\n",
       "      <td>254</td>\n",
       "      <td>96.9</td>\n",
       "    </tr>\n",
       "    <tr>\n",
       "      <th>2</th>\n",
       "      <td>282</td>\n",
       "      <td>97.0</td>\n",
       "    </tr>\n",
       "    <tr>\n",
       "      <th>3</th>\n",
       "      <td>286</td>\n",
       "      <td>97.0</td>\n",
       "    </tr>\n",
       "    <tr>\n",
       "      <th>4</th>\n",
       "      <td>302</td>\n",
       "      <td>97.0</td>\n",
       "    </tr>\n",
       "  </tbody>\n",
       "</table>\n",
       "</div>"
      ],
      "text/plain": [
       "    ID  Body_temp\n",
       "0   36       96.7\n",
       "1  254       96.9\n",
       "2  282       97.0\n",
       "3  286       97.0\n",
       "4  302       97.0"
      ]
     },
     "execution_count": 19,
     "metadata": {},
     "output_type": "execute_result"
    }
   ],
   "source": [
    "# Load the Bodytemp dataset from its URL:\n",
    "Bodytemp = pd.read_csv('https://raw.githubusercontent.com/LambdaSchool/data-science-practice-datasets/main/unit_1/Bodytemp/Bodytemp.csv')\n",
    "\n",
    "Bodytemp.head()"
   ]
  },
  {
   "cell_type": "markdown",
   "metadata": {
    "id": "VIKNwVyW5DBy"
   },
   "source": [
    "###Sleep"
   ]
  },
  {
   "cell_type": "markdown",
   "metadata": {
    "id": "Xvzc-yAh5Gnl"
   },
   "source": [
    "Researchers recorded data on sleep duration as well as a set of ecological and constitutional variables \n",
    "for a selection of mammal species. This data appears in the Sleep.csv dataset. \n",
    "\n",
    "$\\qquad$\n",
    "\n",
    "Source: Allison, T. and Cicchetti, D. (1976), \"Sleep in Mammals: Ecological and Constitutional Correlates\", \n",
    "Science, November 12, vol. 194, pp. 732-734."
   ]
  },
  {
   "cell_type": "code",
   "execution_count": 20,
   "metadata": {
    "colab": {
     "base_uri": "https://localhost:8080/",
     "height": 202
    },
    "executionInfo": {
     "elapsed": 336,
     "status": "ok",
     "timestamp": 1604545426800,
     "user": {
      "displayName": "Vignesh Narayanaswamy",
      "photoUrl": "",
      "userId": "17945519343825853893"
     },
     "user_tz": 300
    },
    "id": "b5wU9uwgwqwK",
    "outputId": "8171da1c-1245-494c-9501-0ba2e8211c60"
   },
   "outputs": [
    {
     "data": {
      "text/html": [
       "<div>\n",
       "<style scoped>\n",
       "    .dataframe tbody tr th:only-of-type {\n",
       "        vertical-align: middle;\n",
       "    }\n",
       "\n",
       "    .dataframe tbody tr th {\n",
       "        vertical-align: top;\n",
       "    }\n",
       "\n",
       "    .dataframe thead th {\n",
       "        text-align: right;\n",
       "    }\n",
       "</style>\n",
       "<table border=\"1\" class=\"dataframe\">\n",
       "  <thead>\n",
       "    <tr style=\"text-align: right;\">\n",
       "      <th></th>\n",
       "      <th>Animal</th>\n",
       "      <th>Body</th>\n",
       "      <th>Brain</th>\n",
       "      <th>SWsleep</th>\n",
       "      <th>Parasleep</th>\n",
       "      <th>Totsleep</th>\n",
       "      <th>Life</th>\n",
       "      <th>Gest</th>\n",
       "      <th>Pred</th>\n",
       "      <th>Exposure</th>\n",
       "      <th>Danger</th>\n",
       "    </tr>\n",
       "  </thead>\n",
       "  <tbody>\n",
       "    <tr>\n",
       "      <th>0</th>\n",
       "      <td>African_giant_pouched_rat</td>\n",
       "      <td>1.000</td>\n",
       "      <td>6.6</td>\n",
       "      <td>6.3</td>\n",
       "      <td>2.0</td>\n",
       "      <td>8.3</td>\n",
       "      <td>4.5</td>\n",
       "      <td>42.0</td>\n",
       "      <td>3</td>\n",
       "      <td>1</td>\n",
       "      <td>3</td>\n",
       "    </tr>\n",
       "    <tr>\n",
       "      <th>1</th>\n",
       "      <td>Asian_elephant</td>\n",
       "      <td>2547.000</td>\n",
       "      <td>4603.0</td>\n",
       "      <td>2.1</td>\n",
       "      <td>1.8</td>\n",
       "      <td>3.9</td>\n",
       "      <td>69.0</td>\n",
       "      <td>624.0</td>\n",
       "      <td>3</td>\n",
       "      <td>5</td>\n",
       "      <td>4</td>\n",
       "    </tr>\n",
       "    <tr>\n",
       "      <th>2</th>\n",
       "      <td>Baboon</td>\n",
       "      <td>10.550</td>\n",
       "      <td>179.5</td>\n",
       "      <td>9.1</td>\n",
       "      <td>0.7</td>\n",
       "      <td>9.8</td>\n",
       "      <td>27.0</td>\n",
       "      <td>180.0</td>\n",
       "      <td>4</td>\n",
       "      <td>4</td>\n",
       "      <td>4</td>\n",
       "    </tr>\n",
       "    <tr>\n",
       "      <th>3</th>\n",
       "      <td>Big_brown_bat</td>\n",
       "      <td>0.023</td>\n",
       "      <td>0.3</td>\n",
       "      <td>15.8</td>\n",
       "      <td>3.9</td>\n",
       "      <td>19.7</td>\n",
       "      <td>19.0</td>\n",
       "      <td>35.0</td>\n",
       "      <td>1</td>\n",
       "      <td>1</td>\n",
       "      <td>1</td>\n",
       "    </tr>\n",
       "    <tr>\n",
       "      <th>4</th>\n",
       "      <td>Brazilian_tapir</td>\n",
       "      <td>160.000</td>\n",
       "      <td>169.0</td>\n",
       "      <td>5.2</td>\n",
       "      <td>1.0</td>\n",
       "      <td>6.2</td>\n",
       "      <td>30.4</td>\n",
       "      <td>392.0</td>\n",
       "      <td>4</td>\n",
       "      <td>5</td>\n",
       "      <td>4</td>\n",
       "    </tr>\n",
       "  </tbody>\n",
       "</table>\n",
       "</div>"
      ],
      "text/plain": [
       "                      Animal      Body   Brain  SWsleep  Parasleep  Totsleep  \\\n",
       "0  African_giant_pouched_rat     1.000     6.6      6.3        2.0       8.3   \n",
       "1             Asian_elephant  2547.000  4603.0      2.1        1.8       3.9   \n",
       "2                     Baboon    10.550   179.5      9.1        0.7       9.8   \n",
       "3              Big_brown_bat     0.023     0.3     15.8        3.9      19.7   \n",
       "4            Brazilian_tapir   160.000   169.0      5.2        1.0       6.2   \n",
       "\n",
       "   Life   Gest  Pred  Exposure  Danger  \n",
       "0   4.5   42.0     3         1       3  \n",
       "1  69.0  624.0     3         5       4  \n",
       "2  27.0  180.0     4         4       4  \n",
       "3  19.0   35.0     1         1       1  \n",
       "4  30.4  392.0     4         5       4  "
      ]
     },
     "execution_count": 20,
     "metadata": {},
     "output_type": "execute_result"
    }
   ],
   "source": [
    "#Import the Sleep dataset\n",
    "\n",
    "# Load the Sleep dataset from its URL:\n",
    "Sleep = pd.read_csv('https://raw.githubusercontent.com/LambdaSchool/data-science-practice-datasets/main/unit_1/Sleep/Sleep.csv')\n",
    "\n",
    "Sleep.head()"
   ]
  },
  {
   "cell_type": "markdown",
   "metadata": {
    "id": "DmgPHJCX9Sxw"
   },
   "source": [
    "###Let's look at the distribution of healthy human body temperature using Matplotlib pyplot and the hist function.\n",
    "\n",
    "\n",
    "\n"
   ]
  },
  {
   "cell_type": "code",
   "execution_count": 21,
   "metadata": {
    "colab": {
     "base_uri": "https://localhost:8080/",
     "height": 295
    },
    "executionInfo": {
     "elapsed": 449,
     "status": "ok",
     "timestamp": 1604545785248,
     "user": {
      "displayName": "Vignesh Narayanaswamy",
      "photoUrl": "",
      "userId": "17945519343825853893"
     },
     "user_tz": 300
    },
    "id": "cGy2K4GG2Wql",
    "outputId": "6a743a7a-96d4-4f97-cb90-ff22d5de53f8"
   },
   "outputs": [
    {
     "data": {
      "image/png": "[encoded data removed]",
      "text/plain": [
       "<Figure size 432x288 with 1 Axes>"
      ]
     },
     "metadata": {
      "needs_background": "light"
     },
     "output_type": "display_data"
    }
   ],
   "source": [
    "#Plot body temperature\n",
    "import matplotlib.pyplot as plt\n",
    "\n",
    "plt.hist(Bodytemp['Body_temp'])\n",
    "\n",
    "plt.xlabel('Body Temperature in Degrees F')\n",
    "plt.ylabel('Frequency')\n",
    "plt.title('Distribution of Body Temperatures')\n",
    "\n",
    "plt.show()"
   ]
  },
  {
   "cell_type": "code",
   "execution_count": 22,
   "metadata": {},
   "outputs": [
    {
     "name": "stdout",
     "output_type": "stream",
     "text": [
      "Requirement already satisfied: matplotlib in /usr/local/lib/python3.7/site-packages (3.3.2)\n",
      "Requirement already satisfied: cycler>=0.10 in /usr/local/lib/python3.7/site-packages (from matplotlib) (0.10.0)\n",
      "Requirement already satisfied: pyparsing!=2.0.4,!=2.1.2,!=2.1.6,>=2.0.3 in /usr/local/lib/python3.7/site-packages (from matplotlib) (2.4.7)\n",
      "Requirement already satisfied: kiwisolver>=1.0.1 in /usr/local/lib/python3.7/site-packages (from matplotlib) (1.3.1)\n",
      "Requirement already satisfied: numpy>=1.15 in /usr/local/lib/python3.7/site-packages (from matplotlib) (1.19.3)\n",
      "Requirement already satisfied: python-dateutil>=2.1 in /usr/local/lib/python3.7/site-packages (from matplotlib) (2.8.1)\n",
      "Requirement already satisfied: certifi>=2020.06.20 in /usr/local/lib/python3.7/site-packages (from matplotlib) (2020.6.20)\n",
      "Requirement already satisfied: pillow>=6.2.0 in /usr/local/lib/python3.7/site-packages (from matplotlib) (8.0.1)\n",
      "Requirement already satisfied: six in /usr/local/lib/python3.7/site-packages (from cycler>=0.10->matplotlib) (1.14.0)\n",
      "Note: you may need to restart the kernel to use updated packages.\n"
     ]
    }
   ],
   "source": [
    "pip install matplotlib"
   ]
  },
  {
   "cell_type": "markdown",
   "metadata": {
    "id": "qebgzK1u26O2"
   },
   "source": [
    "Healthy human body temperature is unimodal and summetric with no obvious outliers. \n",
    "\n",
    "From this, we can say that most healthy individuals have a body temp around 98 degrees F and few people have body temperatures that are a slightly higher and slightly lower (in equal numbers)."
   ]
  },
  {
   "cell_type": "markdown",
   "metadata": {
    "id": "_6ZwH1_S2QVE"
   },
   "source": [
    "###Now let's describe the distribution of the age of passengers on the Titanic.\n",
    "\n"
   ]
  },
  {
   "cell_type": "code",
   "execution_count": 23,
   "metadata": {
    "colab": {
     "base_uri": "https://localhost:8080/",
     "height": 295
    },
    "executionInfo": {
     "elapsed": 356,
     "status": "ok",
     "timestamp": 1604546128399,
     "user": {
      "displayName": "Vignesh Narayanaswamy",
      "photoUrl": "",
      "userId": "17945519343825853893"
     },
     "user_tz": 300
    },
    "id": "sXPTJ3wEu33V",
    "outputId": "68e81104-fac2-44fc-8c7f-318ab7a0cbef"
   },
   "outputs": [
    {
     "data": {
      "image/png": "[encoded data removed]",
      "text/plain": [
       "<Figure size 432x288 with 1 Axes>"
      ]
     },
     "metadata": {
      "needs_background": "light"
     },
     "output_type": "display_data"
    }
   ],
   "source": [
    "#Passengers on the Titanic\n",
    "plt.hist(Titanic['Age'])\n",
    "\n",
    "plt.xlabel('Age in Years')\n",
    "plt.ylabel('Frequency')\n",
    "plt.title('Age of Titanic Passengers')\n",
    "\n",
    "plt.show()"
   ]
  },
  {
   "cell_type": "markdown",
   "metadata": {
    "id": "1M4_OYgp00pA"
   },
   "source": []
  },
  {
   "cell_type": "markdown",
   "metadata": {
    "id": "tnMGnBxL41W3"
   },
   "source": [
    "###Finally, let's look at the distribution of total sleep in mammal species."
   ]
  },
  {
   "cell_type": "code",
   "execution_count": 24,
   "metadata": {
    "colab": {
     "base_uri": "https://localhost:8080/",
     "height": 295
    },
    "executionInfo": {
     "elapsed": 434,
     "status": "ok",
     "timestamp": 1604546885102,
     "user": {
      "displayName": "Vignesh Narayanaswamy",
      "photoUrl": "",
      "userId": "17945519343825853893"
     },
     "user_tz": 300
    },
    "id": "l5TGj5sR5N76",
    "outputId": "43d9f4a4-79e2-4807-aa8a-255999cbf520"
   },
   "outputs": [
    {
     "data": {
      "image/png": "[encoded data removed]",
      "text/plain": [
       "<Figure size 432x288 with 1 Axes>"
      ]
     },
     "metadata": {
      "needs_background": "light"
     },
     "output_type": "display_data"
    }
   ],
   "source": [
    "#Mammal sleep\n",
    "plt.hist(Sleep['Totsleep'], density=True)\n",
    "\n",
    "plt.xlabel('Number of Hours of Sleep')\n",
    "plt.ylabel('Frequency')\n",
    "plt.title('Hours of Sleep in Mammal Species')\n",
    "\n",
    "plt.show()"
   ]
  },
  {
   "cell_type": "code",
   "execution_count": 28,
   "metadata": {
    "colab": {
     "base_uri": "https://localhost:8080/",
     "height": 349
    },
    "executionInfo": {
     "elapsed": 400,
     "status": "ok",
     "timestamp": 1604546947164,
     "user": {
      "displayName": "Vignesh Narayanaswamy",
      "photoUrl": "",
      "userId": "17945519343825853893"
     },
     "user_tz": 300
    },
    "id": "9q6fPLpCcDfv",
    "outputId": "5a9f5206-bfeb-446a-f448-8cc7859e3b84"
   },
   "outputs": [
    {
     "name": "stderr",
     "output_type": "stream",
     "text": [
      "/usr/local/lib/python3.7/site-packages/seaborn/distributions.py:1659: FutureWarning: The `bw` parameter is deprecated in favor of `bw_method` and `bw_adjust`. Using 0.25 for `bw_method`, but please see the docs for the new parameters and update your code.\n",
      "  warnings.warn(msg, FutureWarning)\n"
     ]
    },
    {
     "data": {
      "text/plain": [
       "<AxesSubplot:xlabel='Totsleep', ylabel='Density'>"
      ]
     },
     "execution_count": 28,
     "metadata": {},
     "output_type": "execute_result"
    },
    {
     "data": {
      "image/png": "[encoded data removed]",
      "text/plain": [
       "<Figure size 432x288 with 1 Axes>"
      ]
     },
     "metadata": {
      "needs_background": "light"
     },
     "output_type": "display_data"
    }
   ],
   "source": [
    "#How to do a density plot with seaborn\n",
    "import seaborn as sns\n",
    "sns.kdeplot(data=Sleep, x=\"Totsleep\", bw = .25)\n"
   ]
  },
  {
   "cell_type": "code",
   "execution_count": 27,
   "metadata": {},
   "outputs": [
    {
     "name": "stdout",
     "output_type": "stream",
     "text": [
      "Collecting seaborn\n",
      "  Using cached seaborn-0.11.0-py3-none-any.whl (283 kB)\n",
      "Collecting scipy>=1.0\n",
      "  Using cached scipy-1.5.4-cp37-cp37m-macosx_10_9_x86_64.whl (28.7 MB)\n",
      "Requirement already satisfied: pandas>=0.23 in /usr/local/lib/python3.7/site-packages (from seaborn) (1.1.3)\n",
      "Requirement already satisfied: matplotlib>=2.2 in /usr/local/lib/python3.7/site-packages (from seaborn) (3.3.2)\n",
      "Requirement already satisfied: numpy>=1.15 in /usr/local/lib/python3.7/site-packages (from seaborn) (1.19.3)\n",
      "Requirement already satisfied: python-dateutil>=2.7.3 in /usr/local/lib/python3.7/site-packages (from pandas>=0.23->seaborn) (2.8.1)\n",
      "Requirement already satisfied: pytz>=2017.2 in /usr/local/lib/python3.7/site-packages (from pandas>=0.23->seaborn) (2020.1)\n",
      "Requirement already satisfied: certifi>=2020.06.20 in /usr/local/lib/python3.7/site-packages (from matplotlib>=2.2->seaborn) (2020.6.20)\n",
      "Requirement already satisfied: pillow>=6.2.0 in /usr/local/lib/python3.7/site-packages (from matplotlib>=2.2->seaborn) (8.0.1)\n",
      "Requirement already satisfied: kiwisolver>=1.0.1 in /usr/local/lib/python3.7/site-packages (from matplotlib>=2.2->seaborn) (1.3.1)\n",
      "Requirement already satisfied: pyparsing!=2.0.4,!=2.1.2,!=2.1.6,>=2.0.3 in /usr/local/lib/python3.7/site-packages (from matplotlib>=2.2->seaborn) (2.4.7)\n",
      "Requirement already satisfied: cycler>=0.10 in /usr/local/lib/python3.7/site-packages (from matplotlib>=2.2->seaborn) (0.10.0)\n",
      "Requirement already satisfied: six>=1.5 in /usr/local/lib/python3.7/site-packages (from python-dateutil>=2.7.3->pandas>=0.23->seaborn) (1.14.0)\n",
      "Installing collected packages: scipy, seaborn\n",
      "Successfully installed scipy-1.5.4 seaborn-0.11.0\n",
      "Note: you may need to restart the kernel to use updated packages.\n"
     ]
    }
   ],
   "source": [
    "pip install seaborn"
   ]
  },
  {
   "cell_type": "markdown",
   "metadata": {
    "id": "zSDlgPPk6_sY"
   },
   "source": [
    "The distribution of hours of sleep is multimodal. Multiple modes often indicate that there are multiple groups being included in the same distribution. "
   ]
  },
  {
   "cell_type": "markdown",
   "metadata": {
    "id": "_I0pEE5q7e79"
   },
   "source": [
    "###Another way to look at the distribution of a quantitative variable is by making a boxplot."
   ]
  },
  {
   "cell_type": "markdown",
   "metadata": {
    "id": "vbVT9IhbHAOv"
   },
   "source": [
    "The vertical lines on a box plot divide the data into quartiles.  The middle number in the dataset is called the median and is identified by the red vertical bar in the middle of the box (made by Matplotlib).  The vertical lines on the left and right of the box identfy Q1 (the 25th percentile of the data) and Q3 (the 75th) percential of the data.  The entire middle box shows the range of the middle 50% of the data, called the interquartile range (IQR).\n",
    "\n",
    "The cool thing about box plots is they identify outliers as circles.  An outlier is defined as any value more than 1.5xIQR below Q1 or 1.5xIQR above Q3.\n",
    "\n"
   ]
  },
  {
   "cell_type": "markdown",
   "metadata": {
    "id": "i0XO9O7omVZA"
   },
   "source": [
    "![1_2c21SkzJMf3frPXPAR_gZA.png](data:image/png;base64,iVBORw0KGgoAAAANSUhEUgAAD6AAAAfQCAIAAABZ0DfzAACAAElEQVR42uzdsWtd9cPH8d7cywUNotEMKooEnRScBEH8C0RQggZU0MHFSVzETcggiJuDiDgKSlvo0PXZWkj30jEppS2FDm1oS0NC8tzzg65thRbbvJO+XuP5lgPnc+HeoW9OJsMwHAEAAAAAAAAAAAAAgP02ZwIAAAAAAAAAAAAAAAoE7gAAAAAAAAAAAAAAJAjcAQAAAAAAAAAAAABIELgDAAAAAAAAAAAAAJAgcAcAAAAAAAAAAAAAIEHgDgAAAAAAAAAAAABAgsAdAAAAAAAAAAAAAIAEgTsAAAAAAAAAAAAAAAkCdwAAAAAAAAAAAAAAEgTuAAAAAAAAAAAAAAAkCNwBAAAAAAAAAAAAAEgQuAMAAAAAAAAAAAAAkCBwBwAAAAAAAAAAAAAgQeAOAAAAAAAAAAAAAECCwB0AAAAAAAAAAAAAgASBOwAAAAAAAAAAAAAACQJ3AAAAAAAAAAAAAAASBO4AAAAAAAAAAAAAACQI3AEAAAAAAAAAAAAASBC4AwAAAAAAAAAAAACQIHAHAAAAAAAAAAAAACBB4A4AAAAAAAAAAAAAQILAHQAAAAAAAAAAAACABIE7AAAAAAAAAAAAAAAJAncAAAAAAAAAAAAAABIE7gAAAAAAAAAAAAAAJAjcAQAAAAAAAAAAAABIELgDAAAAAAAAAAAAAJAgcAcAAAAAAAAAAAAAIEHgDgAAAAAAAAAAAABAgsAdAAAAAAAAAAAAAIAEgTsAAAAAAAAAAAAAAAkCdwAAAAAAAAAAAAAAEgTuAAAAAAAAAAAAAAAkCNwBAAAAAAAAAAAAAEgQuAMAAAAAAAAAAAAAkCBwBwAAAAAAAAAAAAAgQeAOAAAAAAAAAAAAAECCwB0AAAAAAAAAAAAAgASBOwAAAAAAAAAAAAAACQJ3AAAAAAAAAAAAAAASBO4AAAAAAAAAAAAAACQI3AEAAAAAAAAAAAAASBC4AwAAAAAAAAAAAACQIHAHAAAAAAAAAAAAACBB4A4AAAAAAAAAAAAAQILAHQAAAAAAAAAAAACABIE7AAAAAAAAAAAAAAAJAncAAAAAAAAAAAAAABIE7gAAAAAAAAAAAAAAJAjcAQAAAAAAAAAAAABIELgDAAAAAAAAAAAAAJAgcAcAAAAAAAAAAAAAIEHgDgAAAAAAAAAAAABAgsAdAAAAAAAAAAAAAIAEgTsAAAAAAAAAAAAAAAkCdwAAAAAAAAAAAAAAEgTuAAAAAAAAAAAAAAAkCNwBAAAAAAAAAAAAAEgQuAMAAAAAAAAAAAAAkCBwBwAAAAAAAAAAAAAgQeAOAAAAAAAAAAAAAECCwB0AAAAAAAAAAAAAgASBOwAAAAAAAAAAAAAACQJ3AAAAAAAAAAAAAAASBO4AAAAAAAAAAAAAACQI3AEAAAAAAAAAAAAASBC4AwAAAAAAAAAAAACQIHAHAAAAAAAAAAAAACBB4A4AAAAAAAAAAAAAQILAHQAAAAAAAAAAAACABIE7AAAAAAAAAAAAAAAJAncAAAAAAAAAAAAAABIE7gAAAAAAAAAAAAAAJAjcAQAAAAAAAAAAAABIELgDAAAAAAAAAAAAAJAwMcEjcvr06fPnz9sBAAAAAAAAAAAAAHhQk8lkeXn5qaeeetIefDQMg4//Ufj888//+ecfOwAAAAAAAAAAAAAAD2o6nV64cOGll1560h58zmf/qJadsy0AAAAAAAAAAAAA8DDG4/FoNHoCH1yEDQAAAAAAAAAAAABAwsQEj8FoNJqfn7cDAAAAAAAAAAAAAHA/e3t729vbT/gIAvfH4Y033jh16pQdAAAAAAAAAAAAAID7OX78+LfffvuEjyBwfywrTyYvvviiHQAAAAAAAAAAAACA+3n22WeNMGcCAAAAAAAAAAAAAAAKBO4AAAAAAAAAAAAAACQI3AEAAAAAAAAAAAAASBC4AwAAAAAAAAAAAACQIHAHAAAAAAAAAAAAACBB4A4AAAAAAAAAAAAAQILAHQAAAAAAAAAAAACABIE7AAAAAAAAAAAAAAAJAncAAAAAAAAAAAAAABIE7gAAAAAAAAAAAAAAJAjcAQAAAAAAAAAAAABIELgDAAAAAAAAAAAAAJAgcAcAAAAAAAAAAAAAIEHgDgAAAAAAAAAAAABAgsAdAAAAAAAAAAAAAIAEgTsAAAAAAAAAAAAAAAkCdwAAAAAAAAAAAAAAEgTuAAAAAAAAAAAAAAAkCNwBAAAAAAAAAAAAAEgQuAMAAAAAAAAAAAAAkCBwBwAAAAAAAAAAAAAgQeAOAAAAAAAAAAAAAECCwB0AAAAAAAAAAAAAgASBOwAAAAAAAAAAAAAACQJ3AAAAAAAAAAAAAAASBO4AAAAAAAAAAAAAACQI3AEAAAAAAAAAAAAASBC4AwAAAAAAAAAAAACQIHAHAAAAAAAAAAAAACBB4A4AAAAAAAAAAAAAQILAHQAAAAAAAAAAAACABIE7AAAAAAAAAAAAAAAJAncAAAAAAAAAAAAAABIE7gAAAAAAAAAAAAAAJAjcAQAAAAAAAAAAAABIELgDAAAAAAAAAAAAAJAgcAcAAAAAAAAAAAAAIEHgDgAAAAAAAAAAAABAgsAdAAAAAAAAAAAAAIAEgTsAAAAAAAAAAAAAAAkCdwAAAAAAAAAAAAAAEgTuAAAAAAAAAAAAAAAkCNwBAAAAAAAAAAAAAEgQuAMAAAAAAAAAAAAAkCBwBwAAAAAAAAAAAAAgQeAOAAAAAAAAAAAAAECCwB0AAAAAAAAAAAAAgASBOwAAAAAAAAAAAAAACQJ3AAAAAAAAAAAAAAASBO4AAAAAAAAAAAAAACQI3AEAAAAAAAAAAAAASBC4AwAAAAAAAAAAAACQIHAHAAAAAAAAAAAAACBB4A4AAAAAAAAAAAAAQILAHQAAAAAAAAAAAACABIE7AAAAAAAAAAAAAAAJAncAAAAAAAAAAAAAABIE7gAAAAAAAAAAAAAAJAjcAQAAAAAAAAAAAABIELgDAAAAAAAAAAAAAJAgcAcAAAAAAAAAAAAAIEHgDgAAAAAAAAAAAABAgsAdAAAAAAAAAAAAAIAEgTsAAAAAAAAAAAAAAAkCdwAAAAAAAAAAAAAAEgTuAAAAAAAAAAAAAAAkCNwBAAAAAAAAAAAAAEgQuAMAAAAAAAAAAAAAkCBwBwAAAAAAAAAAAAAgQeAOAAAAAAAAAAAAAECCwB0AAAAAAAAAAAAAgASBOwAAAAAAAAAAAAAACQJ3AAAAAAAAAAAAAAASBO4AAAAAAAAAAAAAACQI3AEAAAAAAAAAAAAASBC4AwAAAAAAAAAAAACQIHAHAAAAAAAAAAAAACBB4A4AAAAAAAAAAAAAQILAHQAAAAAAAAAAAACABIE7AAAAAAAAAAAAAAAJAncAAAAAAAAAAAAAABIE7gAAAAAAAAAAAAAAJAjcAQAAAAAAAAAAAABIELgDAAAAAAAAAAAAAJAgcAcAAAAAAAAAAAAAIEHgDgAAAAAAAAAAAABAgsAdAAAAAAAAAAAAAIAEgTsAAAAAAAAAAAAAAAkCdwAAAAAAAAAAAAAAEgTuAAAAAAAAAAAAAAAkCNwBAAAAAAAAAAAAAEgQuAMAAAAAAAAAAAAAkCBwBwAAAAAAAAAAAAAgQeAOAAAAAAAAAAAAAECCwB0AAAAAAAAAAAAAgASBOwAAAAAAAAAAAAAACQJ3AAAAAAAAAAAAAAASBO4AAAAAAAAAAAAAACQI3AEAAAAAAAAAAAAASBC4AwAAAAAAAAAAAACQIHAHAAAAAAAAAAAAACBB4A4AAAAAAAAAAAAAQILAHQAAAAAAAAAAAACABIE7AAAAAAAAAAAAAAAJAncAAAAAAAAAAAAAABIE7gAAAAAAAAAAAAAAJAjcAQAAAAAAAAAAAABIELgDAAAAAAAAAAAAAJAgcAcAAAAAAAAAAAAAIEHgDgAAAAAAAAAAAABAgsAdAAAAAAAAAAAAAIAEgTsAAAAAAAAAAAAAAAkCdwAAAAAAAAAAAAAAEgTuAAAAAAAAAAAAAAAkCNwBAAAAAAAAAAAAAEgQuAMAAAAAAAAAAAAAkCBwBwAAAAAAAAAAAAAgQeAOAAAAAAAAAAAAAECCwB0AAAAAAAAAAAAAgASBOwAAAAAAAAAAAAAACQJ3AAAAAAAAAAAAAAASBO4AAAAAAAAAAAAAACQI3AEAAAAAAAAAAAAASBC4AwAAAAAAAAAAAACQIHAHAAAAAAAAAAAAACBB4A4AAAAAAAAAAAAAQILAHQAAAAAAAAAAAACABIE7AAAAAAAAAAAAAAAJAncAAAAAAAAAAAAAABIE7gAAAAAAAAAAAAAAJAjcAQAAAAAAAAAAAABIELgDAAAAAAAAAAAAAJAgcAcAAAAAAAAAAAAAIEHgDgAAAAAAAAAAAABAgsAdAAAAAAAAAAAAAIAEgTsAAAAAAAAAAAAAAAkCdwAAAAAAAAAAAAAAEgTuAAAAAAAAAAAAAAAkCNwBAAAAAAAAAAAAAEgQuAMAAAAAAAAAAAAAkCBwBwAAAAAAAAAAAAAgQeAOAAAAAAAAAAAAAECCwB0AAAAAAAAAAAAAgASBOwAAAAAAAAAAAAAACQJ3AAAAAAAAAAAAAAASBO4AAAAAAAAAAAAAACQI3AEAAAAAAAAAAAAASBC4AwAAAAAAAAAAAACQIHAHAAAAAAAAAAAAACBB4A4AAAAAAAAAAAAAQILAHQAAAAAAAAAAAACABIE7AAAAAAAAAAAAAAAJAncAAAAAAAAAAAAAABIE7gAAAAAAAAAAAAAAJAjcAQAAAAAAAAAAAABIELgDAAAAAAAAAAAAAJAgcAcAAAAAAAAAAAAAIEHgDgAAAAAAAAAAAABAgsAdAAAAAAAAAAAAAIAEgTsAAAAAAAAAAAAAAAkCdwAAAAAAAAAAAAAAEgTuAAAAAAAAAAAAAAAkCNwBAAAAAAAAAAAAAEgQuAMAAAAAAAAAAAAAkCBwBwAAAAAAAAAAAAAgQeAOAAAAAAAAAAAAAECCwB0AAAAAAAAAAAAAgASBOwAAAAAAAAAAAAAACQJ3AAAAAAAAAAAAAAASBO4AAAAAAAAAAAAAACQI3AEAAAAAAAAAAAAASBC4AwAAAAAAAAAAAACQIHAHAAAAAAAAAAAAACBB4A4AAAAAAAAAAAAAQILAHQAAAAAAAAAAAACABIE7AAAAAAAAAAAAAAAJAncAAAAAAAAAAAAAABIE7gAAAAAAAAAAAAAAJAjcAQAAAAAAAAAAAABIELgDAAAAAAAAAAAAAJAgcAcAAAAAAAAAAAAAIEHgDgAAAAAAAAAAAABAgsAdAAAAAAAAAAAAAIAEgTsAAAAAAAAAAAAAAAkCdwAAAAAAAAAAAAAAEgTuAAAAAAAAAAAAAAAkCNwBAAAAAAAAAAAAAEgQuAMAAAAAAAAAAAAAkCBwBwAAAAAAAAAAAAAgQeAOAAAAAAAAAAAAAECCwB0AAAAAAAAAAAAAgASBOwAAAAAAAAAAAAAACQJ3AAAAAAAAAAAAAAASBO4AAAAAAAAAAAAAACQI3AEAAAAAAAAAAAAASBC4AwAAAAAAAAAAAACQIHAHAAAAAAAAAAAAACBB4A4AAAAAAAAAAAAAQILAHQAAAAAAAAAAAACABIE7AAAAAAAAAAAAAAAJAncAAAAAAAAAAAAAABIE7gAAAAAAAAAAAAAAJAjcAQAAAAAAAAAAAABIELgDAAAAAAAAAAAAAJAgcAcAAAAAAAAAAAAAIEHgDgAAAAAAAAAAAABAgsAdAAAAAAAAAAAAAIAEgTsAAAAAAAAAAAAAAAkCdwAAAAAAAAAAAAAAEgTuAAAAAAAAAAAAAAAkCNwBAAAAAAAAAAAAAEgQuAMAAAAAAAAAAAAAkCBwBwAAAAAAAAAAAAAgQeAOAAAAAAAAAAAAAECCwB0AAAAAAAAAAAAAgASBOwAAAAAAAAAAAAAACQJ3AAAAAAAAAAAAAAASBO4AAAAAAAAAAAAAACQI3AEAAAAAAAAAAAAASBC4AwAAAAAAAAAAAACQIHAHAAAAAAAAAAAAACBB4A4AAAAAAAAAAAAAQILAHQAAAAAAAAAAAACABIE7AAAAAAAAAAAAAAAJAncAAAAAAAAAAAAAABIE7gAAAAAAAAAAAAAAJAjcAQAAAAAAAAAAAABIELgDAAAAAAAAAAAAAJAgcAcAAAAAAAAAAAAAIEHgDgAAAAAAAAAAAABAgsAdAAAAAAAAAAAAAIAEgTsAAAAAAAAAAAAAAAkCdwAAAAAAAAAAAAAAEgTuAAAAAAAAAAAAAAAkCNwBAAAAAAAAAAAAAEgQuAMAAAAAAAAAAAAAkCBwBwAAAAAAAAAAAAAgQeAOAAAAAAAAAAAAAECCwB0AAAAAAAAAAAAAgASBOwAAAAAAAAAAAAAACQJ3AAAAAAAAAAAAAAASBO4AAAAAAAAAAAAAACQI3AEAAAAAAAAAAAAASJiYAAAAAAAAgk6cOHHs2LG7rw/D8PHHH3/22WcPcc9ff/31zJkzd1+fzWbffffde++9Z3YAAAAAAPaXwB0AAAAAAIrOnTt39OjRex4tLS09XOC+trZ2z2j+yJEjy8vLAncAAAAAAPbdnAkAAAAAAAAAAAAAACjwBncAAACAA+zSpUt//PHHPY+GYXj77bc//fTTuTnvOACAx+3atWu///779vb2Q99hGIbxeDy94+mnn37hhRcWFxdffvnl559//plnnpmfnx+NRnYGAAAAAA4fgTsAAADAAXb58uWffvrpfqcrKyuffPKJlQDg8bt+/fovv/xy69at/+Ruo9Fo7o7JZLK4uPjqq6++9dZb77///rvvvru0tDSdTg0OAAAAABwaAncAAACAA+zfX93qxa4AsI+/0f/hH1EZhuH/79jd3b10x9ra2p9//rmwsPDOO+98+eWXH3zwwcLCgp9+AAAAAOAQELgDAAAAcKjs7Ox89NFHFy9evPtoOp3+/fffb775ppWAB3Lz5s2VlZV7frGMx+OTJ08uLS1ZiX2xubn5f3e8/vrr33zzzVdffbW4uChzBwAAAAAONIE7AAAAAIfKMAzr6+sbGxt3H02n0+3tbRMBD2o2m93vi2U8Hu/s7JiIfbexsfH999//9ddfq6urH3744WTiP4AAAAAAgINqzgQAAAAAAACHwNmzZ7/44osff/zx9u3b1gAAAAAADiiBOwAAAAAAwCGxtbX1888///DDD1tbW9YAAAAAAA4igTsAAAAAAMDhMQzDb7/9trq6uru7aw0AAAAA4MCZmAAAAAAAAIKee+6511577e7rs9lsYWHBPgfaK6+88vXXX4/H43//Z7PZbGdn58aNG1evXl1fX79y5crm5ube3t7/2Lvz8Bqu/w/gufu92Vcim+yiCImtilJb8UUtEUtQS/GrpdpSS9TWWmoNSoVWUXtrJ3ZCkFiCkIREVrLJvt19mfk9T+7zeDxxZ3JzMzck3q//ms/JOTNnzpyZxuec0aeJTZs2tWjRYvLkyehtAAAAAAAAAAAAaFiQ4A4AAAAAAAAAAAAA8CH69ttvv/nmm3d/TpIkj8dD/zRozs7Oixcv1vM6EgSh0WjUanVubu7Dhw//+++/q1evlpWV0f+WWq1esmRJjx49vLy80OEAAAAAAAAAAADQgLDRBQAAAAAAAAAAAAAAHyAej2eqi5mZGZ/PR/80dARB6FmSzWbzeDyRSOTl5RUcHHzkyJGrV68OHjyYza7hX3lyc3PXr19PkiR6GwAAAAAAAAAAABoQJLgDAAAAAAAAAAAAAAA0GGw2u3379seOHVu/fr2ZmRl94f/++y8lJQWdBgAAAAAAAAAAAA0IEtwBAAAAAAAAAAAAAAAaDBaLZWJiwufzv//++82bN4tEIprCJSUlhw8fxibuAAAAAAAAAAAA0IAgwR0AAAAAAAAAAAAAAKDhYbPZEydOnD59On2xs2fPyuVydBcAAAAAAAAAAAA0FEhwBwAAAAAAAAAAAAAAaJC4XO5PP/3k5uZGUyY5OTktLQ19BQAAAAAAAAAAAA0FEtwBAAAAAAAAAAAAAAAaKicnpylTptAUEIvFCQkJ6CgAAAAAAAAAAABoKJDgDgAAAAAAAAAA8P6RJKlWq1UqFUEQJEmiQ+ADHKIEQairYJSCkYYWxpXBRowYYWpqSlMgNjb2fV1cjUaDeQMMGz/awYPJAQAAAAAAAADgI8RFFwAAAAAAAAAAAIMIgiguLs7KykpKSkpNTc3Pz6+srNRoNKamphYWFq6urp6enr6+vs7OzhYWFiwW6+PsJbVanZ+fn5ub++LFi7S0tNzc3LKyMoVCQRAEn88XiUR2dnZeVby9vZ2cnExNTT/AviJJsrKyMicnJyMjIzU1NScnp7i4WC6XkyRpaWnp5OTk5eUVGBjYokWLuhy8XC7Pzs5OTU19/vx5VlZWSUmJUqnkcrkWFhZNmzb19PRs0aKFq6urg4MDh8PBDcjUlZXL5UVFRQUFBa9evcrIyMjLyysqKpJIJEql0sTEhMfjCQQCOzs7FxcXV1dXX19fR0dHBwcHHo/3IZ+UVCrNzc3NzMxMTU3NysoqLi6WSqUajcbc3LxZs2aenp5t27b19/dns7EvjNEvRF5envYx8fLlS+1jQq1Wm5iYCIVCMzMz7ezh4+PTvHnzpk2bfsjj6sPh7e3t7u7+7NkzqgIvXryon3mjsLDw1atX6enpb+YNlUpFkqR23rC1tXV2dnZzc/Px8WnWrFmTJk0+8HlDIpFon0HJyck5OTklJSUqlYrP55uZmTk6Ompfadzc3Ozs7N7jM0ij0Win62fPnqWnpxcUFEgkEpIkRSKRjY2Ndpb29PR0cXGhXwXx3lVWVubl5b18+TI5OfnVq1cFBQVisVilUrHZbIFAYG5u/uY10s3NzcHBgcvFv3ICAAAAAAAAADRa+NMPAAAAAAAAAABUl52dnZKS8m5SMkmSzZo1o8pXlkgkMTExhw4dun379suXL7WJsDpZWlp6eHgMGDBg5MiR/v7+dclPysrKSk1Nfft4lEqlTCbTWZgkydjY2IqKitq2YmNj07Zt27p3rEajSU1NvXz5ckRExPPnz3Nzc7U5nTRsbW09PDx69+4dFBTUpk0boVDI7LUuLi6Oj4/X2VdWVlbt2rXTmewrk8liY2P/+++/qKio9PT0yspKqvoHDx586tQpAxLcSZJ8+fLl6dOnjx8//uzZs+LiYqqSXC7X1dW1Q4cOo0eP/uKLL6ytrd9tTq1WP3z4UOfA4HA4HTp0EIlEtTq8goKCxMREnfeIo6Ojn58fswsS0tPTX758qbM5b29vV1dXRlpRKpVpaWlPnjyJjIyMi4vLycnJz8+vcYhq892dnZ19fHwGDRrUu3dvPz8/IyV6SiSS2NhYnfv4CgSCjh076pxMVCpVXFzcyZMnr1y5kp6eXlJSQlV/QEBAdHS0UCh8d2IRi8U0E8v9+/dfv35d2xHu4ODQunVr+mKZVXT+evPmzT09PRvQk0UsFsfFxZ0+ffrGjRsZGRklJSX0WzJzOBxnZ+cWLVqMGDGib9++7u7uWHtAQyAQtGnThibB/dWrVwRBMN6HSqUyPT292ryhUqn0mTecnJzenjeMlKxs2Lyh0WgSExOPHz9+/vz5lJSU8vJymhNxc3P79NNPx44d2717d3Nz8/pckFZWVhYZGXno0KEHDx5kZ2drNBqaNxkfH5/BgwcPGzaMapbOyclJSUnROeE4OTm1aNHCGKegXSwXGxt76tSp27dvZ2ZmlpaW0v+K9rnfsmXL4ODgXr16OTs7Y3IAAAAAAAAAAGiESDCOkJCQN53csmVLdAgAAAAAAAAAGENMTAzNX35GjRqlVqsNqHbz5s1UdU6cOFGj0bxdmCCIsrKyvXv3BgYG1japSygUDhkyJCoqSru9qwHWrl1bD39D69GjR10uk7aLjh8//uWXX1pYWBh2DHw+v3Pnzvv37y8uLiYIgqkhFBERQdXip59+qlAoqp1IaWnpnj172rdvr2cG86BBg6oNmBqp1ernz5/PnDnTzs6utr3k7e29cePGgoKCal1UVlZGlQpsamr64sWL2vbbwYMHqY4hJCTEsPuOxvz586maW7t2bV1qVqlURUVFly5d+vHHH/39/c3Nzet4s5iZmfXr1+/ff/8tLy9ncKBqPX36lGrgOTs7l5eXVxuuYrH4xIkTPXr0EAgE+hx8u3btZDJZvU0sX331VY2nvGzZMqpfnzdvnmHdGBwcTFXn4cOHGX9OqdXqjIyMtWvXtmrVyuAkVBsbm5CQkDt37mi/dNFQntEpKSlWVlZUJ9W5c2ftJy+YsnjxYpo+9PT0lEqlTF3T4uLiy5cvz507l5F5w9TUtHfv3keOHCkrK2P8+j5//pxq3mjWrJl2ocXblErlrVu3hg4damZmVtsTadu27d9//11RUWHsUUoQREFBwaZNm3x8fGp7kObm5kFBQXfu3FEqldWq3b59O9VvffPNN8aYHJKTk5cvX+7j42PwqgAHB4dp06bFxsa+ezoAAAAAAAAAAA3Xvn373vwBRCQS5eXlfYSdgB3cAQAAAAAAAACgOpocxGpZYhqNJjo6evHixbdv36bfi1cnuVx+5syZa9euTZ06NTQ01MHBobY1GGmj6Grqsq2sRCI5f/78hg0bHj58SLO1ao2USuW9e/fu378fEBCwdOnSL7/8kpHd3FksFpvNJgiixrNWq9U3btxYunTp3bt3DbjWeiovLw8PDw8LC8vPzzfg11NTU+fOnbt3796VK1cOGDCAx+O9OU2qi8jj8QzIq9P/HjH2LWlwxnBlZWVMTMzJkycvXbqUlZWlz07teg74y5cvX7169dNPP12wYEH//v35fD5T/aC9jjrvIy6X+/Z1JAji0aNHS5YsuXLligH3Xf1sBqzPUKnnkcYskiRzc3N37dr1119/5ebm1qWq0tLSgwcPnjx5ctiwYaGhoX5+ftiw+V329vY0UbVarVAoavu1imrEYvHdu3dPnDihnTf02aldH1Kp9Nq1a5GRkZ06dVqwYMHAgQOZnTd4PJ4+8wZJkllZWatXrz5w4IBEIjGgrSdPnkyZMuXQoUO//fabAav+9KRSqc6dO7d8+fKnT58adhGPHTt28eLFSZMmLVq0yNHR8c1x1tuEQxDEy5cvt23btn///sLCwrpUVVhYuGvXrsOHD48dO/ann37y9PSszx30AQAAAAAAAADAePAnYAAAAAAAAAAAMJBCodiyZcuQIUNu3bpVl4xniUSyefPm4ODgtLS0xtQ/JEkmJyePHz8+JCTk/v37dcluf7vOR48ejR49eubMmQUFBfV2LjKZbN26dcOHD4+JiTFednt6evqYMWNCQ0MNy25/Iz4+fsyYMatWrZJKpbhPqfzzzz+DBg0KDw/PyMhgKrv9DYIgoqOjR40aNXfu3DomLxpArVbv3bt34MCBFy9eZOS+AwOoVKqTJ0/26dPnl19+qWN2+xtSqfTgwYN9+vTZs2cPU6nVjQn9qieCIOp+Oxw8ePB///vfjh070tPTGb8EBEHcvXt3zJgxc+bMqc8H3JvHa1RU1MCBA3fu3GlYdvubeq5evfrVV1+dOXNG5+KxOiovL1+4cOHYsWMNy25/QywW//7774MHD378+LHxHus6KZXKAwcO9O7de9OmTUw9ICorK3fu3Nm3b9/jx48z/kQDAAAAAAAAAID3AgnuAAAAAAAAAABgCJlMtnTp0gULFpSVlTFS4Y0bN0JCQnJychpH/5AkefHixf79+588eZLxLEC5XP73338HBQWlpqbWz7UODQ1dunRpZWWl8Vp59uzZsGHDLly4wEhGoFQq/fXXX3/++WeFQoG7VSexWGzsFGG5XL5t27YxY8Ywld+sD7VaHRYWNmPGjPpPrIe3J41ffvklJCQkKSmJ8crz8vJmzJixZMkSrGCphn66Y7PZdd+EWyKRKJVKY88b4eHho0aNys7Ors9H9tmzZ4OCghITExmpMCcnZ9KkSVeuXGH2OEtKSr755puwsDC5XM5IhQ8fPgwKCoqNja23rq6oqPjxxx+nTJmSkZHBeOUZGRnjx4/fuHEjFsAAAAAAAAAAADQCSHAHAAAAAAAAAIBak8vlixcvXrduHbPbZN67d2/atGkVFRUNvX9UKtWuXbuCg4MzMzON18qtW7eGDh367Nkzo56LQqFYunTp5s2bjboTdkJCwvDhw+u4H201BEGEhYUtX74ciW7v17Vr14KCgrKysuqhLY1Gs23btsWLF2Nhw3tUVFQ0ceLElStXMpWD+y6lUrl27doff/zRqKtuGpzi4mKaKJfL5fP5DeVcbty4MWLEiFevXtVDWwRBnD59evz48UVFRQxWW1paOnHixCdPnjB4fSdPnnzs2DFmN1zPyMgIDg5OSEioh67Ozs4ODg7evn278TZZl8vloaGhS5YsMd78AwAAAAAAAAAA9YOLLgAAAAAAAAAAgFrRaDS//fbb5s2bqQqw2WxTU1ORSMThcNhstkajkcvlEolEn3ym8+fPb9q0aenSpWx2Q92aQaVShYWFLVmyRM9tbvl8vpmZmUAg4PF4LBaLJEmlUimVSsVicY1JbImJiSNHjjx58qSvr68xzoUkyfDw8E2bNhm1xzIzM8ePH5+cnKxPYQ6HY2ZmJhQKORwOSZIqlUoqlcpkMqryGzdudHd3Hz16NO5cA7BYLGEVPp/P5XI5HA6LxdJoNGq1WqFQSKVSPfPIY2Jivv322wMHDlhbWxvvaEmSPH369OLFi7Gk4T3Ky8ubNGnSpUuX9CxvWkUgELDZbO3oUigUEomE5qZ+Y+fOnSwWKywsTCgUoudNTEzS09NpojY2NvXTUdXmDXYVA+aN+/fvT5s27fDhwzY2NkadN27evDl16lSaxXWiKjwej8PhEAShVColEok+Z/H69esZM2acO3eu7qcgkUi+//7706dP639naY+ZxWIRBCGXy6VSKdXcmJmZOWnSpHPnzhl1YGRkZIwbNy46OlrPUaQ9BYFAoP3ywJuXyRoz1wmC2LBhA5vNXr58eQNa1AEAAAAAAAAAANUgwR0AAAAAAAAAAGrn6NGja9eufTf3msfjeXt79+rV67PPPnN3d3dwcBCJRFwuV6FQFBUVZWZmRkVFXbhwITU1lT5ve/PmzV999VVAQIA+B9OkSZPAwMC3f0IQxLNnz3Qml7NYrBYtWpiamtb2lH18fPQsSRDEzp07ly5dWmN2u52dXdu2bfv06ePv7+/i4mJnZ2dqasrj8VQqVWVl5evXr5OSkq5evXrjxo3s7Gyaep49ezZ9+vT//vvP3t6e8WsdHR29bNkygiB0dqajo6O3t3fr1q09PDxsbGwEAoFUKi0tLX3x4kVCQkJqamppaWmNTUgkku+++y4uLo6+GJvN9vHx6du3b48ePZo3b25nZycSidRqtUQiyc3NTUhIuHjxYkxMTFlZWbVfVKlUS5Ys8fX1ZbFYuHn1IRAInJ2dfXx8OnTo0KJFC1dXV1tbW2tra+34ZLPZKpVKIpGUlpbm5uY+f/785s2bDx48yM3Npa82IiJi7dq1q1atMt7albS0tB9++EEqleqMOjg4eHh4+Pv7e3p62tvbC4VCuVxeXl6empqakJCQkpJSUFDwpnDTpk3btm2rzarU0mg0z58/p7qvP/nkk9qmDpMk6enp2cgGT1lZ2fTp02vMbmez2c2bN//ss8969Ojh6+vbtGlT7QTCZrMVCkVJSUl2dvbjx48jIiIePnxIv0f7rl27PDw85s2b13DXRDFFqVTSfwTD29vbeL3E5/PfzBt+fn7ah5qVlZWZmZl23lCr1WKxuKysLCcnJykpSTtv5OTk0Fd76dKlVatWrVu3znhHnpGRMX36dJ17tzs5OX322Wc9e/b08/Nr2rSppaUln89XqVQVFRW5ubmxsbFnz5599OgRfaZ7dHT0rl27FixYUJeDJElyy5YtBw8e1OelqGvXrv369fPz83N0dDQzM+NyuXK5vLS0NCcn5+7du5cvX05ISHg3Rzw2NnbJkiVt2rTRLrRjvJ8LCgomTpxYY3Y7h8Px9PTs1q1b9+7dfXx8mjRpYm1tLRAIWCyWXC4vLi7Ozs5+8OBBREREXFwc1WyvnbE3btzo5eU1efJkPP0BAAAAAAAAABoqEowjJCTkTSe3bNkSHQIAAAAAAAAAxhATE0Pzl59Ro0ap1WoDqt26dStVnT179nR2dq72Qzab3bVr1+PHj5eWltJUSxBEQUHB+vXra0zFHjVqFEEQhvWJTCbz8vLSWS2fz3/48KFRr8ilS5csLS3pz87R0XHRokWJiYkqlYq+NoIgXr169euvvzZp0oS+zh9//LHG2nQ6f/48VeJgQEBA586d3/05l8vt1q3bvn37MjIyqBqVy+Xx8fFLliyZPn26RqOhOYCwsLAa/4bp4+Oze/fuwsJCmlGhVqvj4uImTZqkM8+4W7dubm5uOiu3srJKSUmpbb8dPnyY6mgnTJhg2H1HY+HChVTNrV+/3rA6f/vtt2p3R2Bg4OLFi6OiogoKCvS/ATUaTWZm5tatW/38/Oivo4WFRXR0dF36IT4+XiAQ6Kzc1dV18ODB7/6cxWIFBAT8/vvvycnJSqVSZ7UqlSolJWXDhg0jR46Uy+U6y5SWllJNLBwO5/nz50aaUlasWEHVnwsWLDCszuDgYKo6Dx8+bPChqlSqH374gX4MsNns9u3b79u37/Xr1zWOMaVSeffu3ZEjR/J4PJo6zczMIiMjP8xndEpKipWVFdWRd+7cmWq8GSA5OZn+6bNq1aq6t7Jx48a36+TxeAEBAYsWLbp582Z+fn6t5o2XL19u3769ZcuW9GPGzMzs1q1bdTnmpKQkqvUnzZo1692797s/b968+dq1azMzM+mfXzKZ7OzZszWux3NxccnOzq7LKURFRVlYWNC3Ym1tPW/evOTkZPoHkEQiuXTpUs+ePd999ItEoqFDh1Klg0+fPt3g41coFG//kxnV5NC9e/ejR48WFxfXOJBkMtmNGzcGDhz49jKkd9nZ2T158gT/swAAAAAAAAAADdG+ffve/rtNXl7eR9gJbKT4AwAAAAAAAACA/m7evFlty1VHR8c//vjj6tWrw4cPt7a2pvldFovl4OAwb968y5cvt2vXjqZkREREfHx8g+uczMzMWbNmVVRUUBUQCoXffPNNTEzM6tWrP/nkEy63hu8rslgsV1fXn3/++datW4MHD6bZwjY8PPzmzZvMnk58fPy9e/eqHU/r1q2PHTt29erVCRMmNG/enOoUBAJB69atf/nll40bN9Jsnvr48WOa/F1t1vX06dNv3749efJke3t7mqo4HE7btm3/+uuv06dPt2jRolr09u3b9Bvhf7Q4HI6bm9ucOXNu3bp1586dlStXdu/enb6rq9Huxj179uzo6OgVK1bY2NhQlaysrPzll1/odzs2WE5OTkRERLUfenh47N69+9atW7NmzfL19aXKk+Zyud7e3nPnzt27dy+fz8eoMMzRo0dpFkdp03x37Nhx8+bNCRMmNG3atMYxxuPxOnfufPjw4X///dfDw4OqmEQimTdvXnFx8Ufe/+fPn6d5+nA4nI4dOzLVFpvNdnFxmT17tnbeWL169eeff+7g4FCrecPNzW3GjBnR0dErV66kmTckEsmKFSve3XGcEXl5edeuXav28Jo+ffqdO3fmz5/fvHlz+p3jhULhoEGDrl69OmnSJJqS2dnZhw4dMnhb9PLy8rlz59J8yoDFYnXr1u3atWvr16/39fWlz/k2NTXt16/fhQsXtm7dWm21oUwmO3PmDOPbt5MkuW3bNppVYdrPCxw4cODy5cvBwcE2NjY1DiSBQNCjR4+TJ0/u2bPHycmJqlhxcfGPP/5Is9E7AAAAAAAAAAB8yJDgDgAAAAAAAAAAtVAt86lt27YRERHTp0+n2h5Vp4CAgH///bdVq1ZUBcRi8Z49expWzygUitDQ0JSUFKoCjo6Oe/bsCQ8Pd3d3r1UCGUmSvr6+hw4d+uGHH6gydKVSaWhoKE0CnAHUavXb/8lms8eNG3f16tWvvvpKmwSsTy6jmZkZVTG5XL58+fKysjKq3xWJRGvWrPn9999r3MD+DRaLpU3d6969e7UQQRC4f9/G5XJbt269efPmu3fvbt68uVOnTm/uYv2zVN9mY2OzZMkS+lzk69evR0VFGeN0iCpvj4Qvv/zy8uXLkyZNMjMz07MSU1NTw84dkpOT58+fr9FoqAp88cUXV65cmTZtmv6X483MM3To0PPnz3fq1ImqzMOHD8PDwxlPzG1AioqKwsPDaQo4OTnRryvTE4fDadWqVVhY2L1797Zu3dq5c2eRSFSXecPa2jo0NPTEiRNUX0gwMTGJioqKjIysh260trbeVuXdL9XQsLW13b59+6RJk2jK/PPPP2Kx2LCXrj179sTGxtLcIKNHjz516lRgYKD+1QqFwpkzZx4/frzadG2MB2VsbOyqVauoamaz2YMHD758+fKYMWO0zyB9BpK2DJ/PHz9+/JkzZ2jeJ69fv/7PP/9gigYAAAAAAAAAaIiQ4A4AAAAAAAAAAAZq06bN0aNHAwMDa5tWSJKkj4/P1q1baTIdL126VF5e3oB6IyIi4r///qOKOjs7Hz16dNSoUdqtVWuVCKgtbG5uvnLlypkzZ1L97v3790+dOmW8E5wxY0Z4eHjTpk1JkmQkCfjKlSsXLlyginI4nOXLl8+ZM4cqp5+qr0iS9PDwOHjwYIcOHXCT0hgxYkRkZOSsWbOaNWvGVGYwi8Xq06fP4cOHqbbUVSqVe/bsqbZ2whiGDBly6NAhb2/vjznpud6oVKoVK1bk5uZSFRg0aNCRI0f8/PwMG1QkSfr5+R05csTf35+q2M6dOz/arzQQBPH7778nJyfTlOnfv7+trW3d2xo6dOiNGze+++47JycnBueNnj17Hj161MXFhWre+Pvvv409b5ibm4eHh0+ZMqXGj6u8SyQS/fbbbzQp5ikpKXFxcQYc1evXr7ds2ULT1V999dXOnTvt7OwMeBPr3r37gQMHmjZtarxelclky5YtKykpoSowduzY/fv3e3h4GDyc2rdvf/jwYU9PT6rT3Lp1a1FRESZqAAAAAAAAAIAGBwnuAAAAAAAAAABgCFtb2507d7Zo0cKAfVu15b/44ovg4GCqMmlpac+ePWsovSEWi9esWUOVfmdubr5z587u3bvXMS9cKBQuX768Z8+eVAW2bNkilUqNcYKDBg1atWqVqampwdv0VqNUKsPDw1UqFVWBMWPGfP/999r1AAaMLldX1x07dtjb2+NWpeLu7v6mf5jdtrxz587r1q2jShK9du1aXl6eUU8tICBg165d2nRe7MheD2JiYmhW17Rv3/6vv/7S/zsMVDe1h4fHzp07bWxsdJbJyso6fPjwR9j5JEleunQpLCyM/tkxbtw4A6bTdzVv3txI80b79u03btxINW9ERkYadQEDi8UKDQ0dOXKkwSdlb2+/bNkyquNXKBTXrl0zoNpTp05lZmZSRf38/LZt22ZhYWHYmxiLxerSpcvatWtrtZCsVq5evXrlyhWqaO/evbdv325lZVXH4dSmTZs//viD6lNCSUlJRl3+BwAAAAAAAAAARoIEdwAAAAAAAAAAqDUWi7V48eIuXbrUZQNXFos1Z84cqk3clUplTExMQ+mQU6dOPXz4kOo0Fy5cOHDgQEYasrKyCgsLo0rxfPz48d27dxk/Ozc3t7CwMEtLSwbrfPjwYWRkJFXUy8trzZo1fD7f4PpJkuzQoUNoaCjym9+LoKAgqjFfUFAQFRVlvKatra3/+OOPuqRTQ62oVKqwsDCZTKYzam9vv3v3bqa2iO7cufO8efOobup9+/aJxeKPqvPVavWZM2e+/vrryspKmmIDBgzo0qXLh386Q4cOHTJkiM5QcXHxzZs3jdf0l19+OWfOHDa7Tv9k1rdvX5ovh0RGRmo0mlpVKBaLd+zYQRUVCoUbN26k+lyG/m9iY8eOHT58uDF6VSaTrV+/nmrtX/PmzcPDwxl5tSBJsm/fvjNmzKCK7t+/n2qOAgAAAAAAAACADxYS3AEAAAAAAAAAoNY6deo0bdq0um/g2qpVK5qsu/v379c2G+y9kEqlO3bsoMr1/+yzz7777jvtVql1b4skybZt206ZMkVnlCCIvXv3EgTB4Nmx2ewFCxZ4e3vXZTHDu2dx6NAhqmwzNpu9ePFiFxeXujSh7e1p06Z17twZN2z9EwgEs2fPplqicOXKFQaHUzXTpk3r1KkTLkG9efLkCc0OzQsWLPD392fqcrNYrOnTp7ds2VJnNCkpKTo6+iPpdoIgXr16tWjRopCQkMLCQpqSTZo0WbFihfG26GYQn8+fPXu2QCDQGb18+bKR5g1LS8tffvlF+4mSuhCJRGPGjKF61r948aKgoKBWFcbGxtJ8yuarr77q27dv3U+fx+MtXbpU+8kLZt25c4fqluRyucuWLfP29mZqZmCz2d9//72bm5vOAg8ePIiPj8d0DQAAAAAAAADQsCDBHQAAAAAAAAAAaofFYs2dO9fc3LzuVXG5XKrtWk1MTJ4/f65UKj/8DnlYheoEFy1aZGFhwWDnm5iYTJ061draWmeBqKio0tJSBs+uZcuWISEhdV/M8LbS0tKIiAiqaLt27ZjaTdbMzGzBggV13JQXDNOpUycfHx+doZiYGIlEYoxGHR0dZ8yYgStenw4fPkx1NVu2bDlx4kSmlvdo18bY2dlNnDhRZ5QgiJMnTzbu3iZJsrS09N69ewsXLvz88883bNhAfytxudxVq1a1adPGeEtKmNWhQwc/Pz+dobt379JvVG+wQYMGBQYGMtJFffv2FYlEOkMlJSV5eXm1qu3IkSNUy/xEItGcOXMYWbdAkuQnn3wyevRoxjv2zz//pDr+wMDAkSNHMtuci4vL2LFjdYZkMtnVq1cxXQMAAAAAAAAANCxcdAEAAAAAAAAAANSKp6cnI5uGagUEBAgEAoVC8W4oNze3srKSKlfsA0GS5KlTp3Qev4mJSdu2bXv37s14o97e3t26dTt37pzOTktMTPz888+ZamvSpElWVlbMHv+TJ08yMjKoouPGjWOwxT59+vj5+dFsggtGYmlpGRgYmJiY+G6ooKAgPz+fkUUy1QwePJhqB18whvLy8jNnzlBFx48fb29vz2Bz2kT5YcOGrV69uqys7N0Cd+7ckUgkZmZmDaL3KioqoqKiasxRVqvVcrm8uLg4MzMzPj4+KSkpLS1NLpfr013ffffd119/zewKJaMyNzfv0KHDkydP3g0VFRW9fv3a0tKS2RY5HM7XX3/N4XAYqc3Z2dnd3V3nE0epVGZnZwcGBupZVWVlZVRUFFW0Y8eOAQEBDN5WkyZN+vvvv/UZV3rKzc29efMmVXTq1KmMPwJYLFZQUNDmzZt1nsXly5cXLlyI5U8AAAAAAAAAAA0IEtwBAAAAAAAAAKB2Bg0aRLV9uAF8fHwsLCx0JojL5fL8/PwmTZp8yL0hkUguXrxIFZ0wYYJQKGS8UTabPWTIEJ0J7iqV6vbt20wluFtaWg4ePJjx479y5QpVyMbGZtiwYQy2ZW5uPm7cuNDQUNy59a9du3b79+9/9+dlZWVZWVleXl6M3xdjx45tKIm8jUNcXFx6errOkJWVVVBQkDEa9fDwaN269e3bt98NpaSkZGdnt2jRokH03vPnz/v162ekyvl8/uzZs3/99VdGNvmuT23bttX584qKiqysLF9fX2ab8/T07Ny5M0mSjEwdFhYWPj4+VEuqUlJS9K/q5cuXVDeXiYnJyJEjmX278Pf3b9OmzYMHD5iq8Pbt2/n5+TpDzZo1+9///meMwePr6+vj4xMfH/9u6NmzZ3l5ec7Ozpi3AQAAAAAAAAAaCuxVAAAAAAAAAAAAtcBms/v06cNghZaWllQp7EqlUucevR+U5ORkqs3Izc3Ne/XqZaR227VrR7W3/dOnTzUaDSOt+Pv7M56FrFarb9y4QRXt1KmTi4sLSZIMttivX78P/DsAjVXz5s2pQrVK9NSTh4dHu3bt0O316eLFiwRB6AwFBAQ0b96c2XtZi8PhfPbZZzpDcrkcn2vQ7iO+bdu21atXN8Spj2beSEpKYry5Ll26WFlZMbUwhsVieXp6UkVzc3P1ryo6Oprq4zBmZmaML43g8/lDhgxhsMLz589ThT799NNmzZoZY/BYWFhQLZAoLi5+9eoVJgcAAAAAAAAAgAYECe4AAAAAAAAAAFALFhYWn3zyCYMVcjgcqjwnlUr14Se4P3r0SCaT6Qy5u7vTJLrVkaenp4WFhc5QQkKCUqlkpJUvvviCw+Ewe+SFhYU0u9L26tWLy+Uyuwm3n5+fu7s7bt73Ml1QhbKyshhvrm3btgx+XAJqpNFooqKiqKJdu3bl8/lG2lC/Y8eOVKGHDx9+zBdF+82Ky5cvf/PNN3w+vyGegqWlZX3OG0x98OQNV1dXqtDr16/1r4dmJHt7e7u6ujK+eqRLly5cLjOffRaLxY8ePaKK9u/f33jjh2qZE0EQCQkJmLcBAAAAAAAAABoQLroAAAAAAAAAAAD0Z29v37RpUwYrZLPZtra2OkMkSVJtX/rhuHfvHlXI399fIBAYqV1TU1M7O7uCgoJ3Q/n5+WKxmJGNewMDAxk/8oKCgqKiIp0hFovVtWtXxlsUCoWBgYHPnz/H/WsYlUpVUlIiFoslEolcLlepVJoqNeYuJyYmUoVycnIYP06qXb3BSIqKijIzM6minTp1Ml7Tzs7OVKG0tLSP83I4Ojr269fv//7v/zp27MhUmnId543S0tLKyso384ZarSYIosZ5Iz4+vt7mDRaL1bJlS8Zfk6hCUqlU/96jGclt2rQxxt78fn5+lpaWJSUljEwOVCvZ2Gy2UT+1QbOeLTk5GfM2AAAAAAAAAEADggR3AAAAAAAAAACoBWdnZx6Px2CFLBaLJk9LpVJ9yL2h0Wji4uKooi1atGB8+/M3OBwOVRadUqksLi52cHCoYxOmpqZubm6MH3liYqJGo9EZsrOzc3d3J0mS2V2fORxO27ZtDx48iPu3RmQVmUyWnp7+7Nmzhw8fxsfHZ2ZmlpeXy+VymUymUCgY2Ta4sLCQ8YNv3bo1rmB9yq+iM8Tn81u0aGG8ps3MzEQikc6vZxQVFalUKmafUx8+V1fXlStXBgcHC4VCxjf21n/eyMjIeHveKCsrk8lkcrn8g503zM3NqZbY1WVwUoWovvfyLqlU+urVK6qoMdaemZiY2NraOjk5MZLgnpycTLVA0dbW1tHR0XijkWYRJs2CHAAAAAAAAAAA+AAhwR0AAAAAAAAAAGrBwcGBzWYzWCGLxaLJRPzAE9zLy8tfv35NdV5CodB42VQ0PaNQKKi2SK8VkUjk5OTE+JGnpqZShZo2bWptbc1sdruWj48Ph8OhSqwHbYqqRCKJi4s7ffr0tWvXUlNTKysrjdec/omeehIKhc2aNWN8dQTQePHiBdU9ZWlpWVZWZrwJsLCwkOpJVFRUpFAoPrYE96ysrKlTpx4/fvyXX35p06ZNvd0F2nnj6dOnp06dunbtWkpKilHnDblczmyFIpHIwsKC2Tr5fD5VSKlU6n+mNM9xxned1+LxeF5eXgkJCXWvKiUlRa1WU83VlZWVxpscysrKqEJ5eXmYtwEAAAAAAAAAGhAkuAMAAAAAAAAAQC2YmpoynjnXcBNSi4uLqZL5SJJcsmTJ8uXLjdc61faoGo1GKpUycq0Zz/wzMTHJycmhCjVp0oRm79u6cHd353K5SHCnGqsSiSQiImL79u2xsbGMp57rpH+ip560iarIbq9PaWlpNHNjz549jXc5SJKkynWWSqUf552uVCrPnDnz8OHDLVu2DB061HjfD3lzCaRS6fnz57dv337//v36mTeocqYNxuPxaPLR3+MrTXl5OVWXcrlcqu+31BGbzWZqVVtWVhbNO0DHjh2NOjJp3po+ws87AAAAAAAAAAA0XEhwBwAAAAAAAACAWuDxeEghfaOiooImlZzxFF49aTQaRpq2trY2Rookza60TZs2NVKf2NvbGzvds4EiSfLJkyfz58+PjIxkPHmUfpQyW6FQKDTS6gigQrNYhSYB3diUSiVBEA2iAy0sLNq1a0fzURSSJDUajVwur6ioKCgoKC8v1+eiTJw4cdeuXaNHjzbqAoP4+Pj58+dfu3atnucNZr/SwGKxuNwP8Z/JSkpKqIaxUCg0Nzc3RqNsNtvOzo6Ry5Sfn08zeOpnOcS7VCqVWq1GgjsAAAAAAAAAQEOBBHcAAAAAAAAAAKgFZLe/TSwW12dun55IkmQkwV0oFDJ+udVqtVgspooaKcGdJEmhUGhhYcHIxvaNiUKh2L17988//1xaWtrQz4VbBde0PtEsVnmPGlCCe6tWrSIjI2tce6NSqSQSSVlZ2YsXLy5cuHDx4sWUlBSaJSJisXjq1KlCoXDo0KHGeGQrlco9e/YsXry4uLi4EbzSfJhvNXK5nGoncoFAIBQKjdSupaVl3SshCKKkpOQD7FWVSoUPuQAAAAAAAAAANCBsdAEAAAAAAAAAAIBhKisrP8wDo0qMqxVj7HJKEARN8r2RdqVlsVhsNlsgEGDEvk0ikSxevHjOnDmNILtdu/cwNumv50nmw1wx0lCy27V9qM8SKR6PZ21t7e7u3q9fv7CwsDt37vz111+tW7emv7u//fbbu3fvMn7MMpls6dKls2fPbgTZ7R8ymgR3DodjvD3IGXlQkiT5Yb4dEQTByNsRAAAAAAAAAADUD2xpAwAAAAAAAAAAYCC5XN6Iz47NZjO+tS19grvxctDZbLbxMgIbIqVSuWrVqrCwsFplAwuFQjMzM1NTU4FAwKuiHSRU46SysjIlJaU+RyyubL2hv5fBeGxtbSdOnNi3b9/58+cfOXKE6hbOz8+fNWtWRESEo6MjU02rVKo1a9Zs2LChVttga+cNkUgkFAr1mTfEYvGLFy8+8qusUqmoQtolW0Zql5FlQiRJKhSKD7BX8Q0iAAAAAAAAAICGBQnuAAAAAAAAAAAABqpVkh/UyKjJZ8hse9vp06c3bNhQY3Y7j8fz8PD45JNPOnTo0KpVKycnJysrK3Nzc2EVbaIqTa5qZGRkr1690NuNElkF/fC+ODs779q1i8fj7du3j6rMo0ePVq1atXnzZqY+bnDu3Ll169bV+ODj8Xju7u4tW7bs2LHjm3nDwsJCz3nj9u3b3bt3/8ivL5/PpwoRVYzULk1iPd6OAAAAAAAAAACgniHBHQAAAAAAAAAAwED0WYNmZmbvJamaJEku9wP9ux/9TurG2/OVJEmm8vYagVevXs2bN4+mQ9hsto+PT1BQ0IgRI7y8vCwtLQ1ryHhZmPDe0W8jzeFwRCLRezkwc3Pzj2Q1i5mZ2datW4uKiiIiIqjK7Nq1a8CAAQMHDqx7c9nZ2XPnzqWZpdlstpeXl3be8PHxMXjewMIJ7fdMqIaxRqMx3uOMqc8y0Lwd8Xg8432thZ6pqSmWugEAAAAAAAAANCBIcAcAAAAAAAAAADCQqakpVUgkEkVFRTk5OdX/UZEkaWNj82H2GJvNptmYViKRGKldjUZjvOz5hoUkyS1btrx69YqqgJ2d3U8//TR58mQHB4c6JptiUUEjRn8vd+3a9dixY+9lF2c2m21tbf2RXAVLS8tt27alpaUlJSXpLKBUKhcsWNCxY0ft7VwX27Zty8jIoIra2trOmzdvypQpTZo0wbzByNsFVSq2QqGQSqVGaresrKzulbBYLKFQSBUNDg7esGHDe+lVDodD89oGAAAAAAAAAAAfGiS4AwAAAAAAAAAAGMjCwoIqRBAEh8NxdHREL72NPr2soKDASO0qlcrKysqG228MbmmclZW1f/9+qmizZs3++eefXr16vdmcuy773RovCxPeOxaLRTMBymQyW1tb+m9cACPc3d3XrVs3atQomUyms0BCQsK2bduWL19el3s5Jydn7969VNGmTZvu3bu3X79+jMwbxlvp1IDY29tTfSFBJpOJxWJjNEoQRFFRUd3rYbPZVlZWVNGKigq8GgEAAAAAAAAAgD7Y6AIAAAAAAAAAAADDWFhYCAQCnSGNRpObm4suqobFYtnb21NF8/PzjdRuaWmpWq1uuP3G4JbGERERhYWFOkN8Pn/Tpk19+vShSqysreLiYoz5Rky7V7dOZWVlRsrBhXcNHDgwODiYpkB4eHhqampdmrhw4QLV/Mzj8TZs2NC/f3/MG8y+XZibm+sMEQRhpGclU+8tbDab5kGflZVFEAQuMQAAAAAAAAAA1AgJ7gAAAAAAAAAAAAaytramSkFTq9XJycnoonc5OTlRhQoKCqg2Ia6jly9fajSa+jlBBndb1yIIgqluUavVZ8+epYoOGjRo5MiRzO4WjwHfiDVv3pwqlJ+fX1JSgi6qHxwOZ9myZc2aNaOZWjdv3mzwHEgQxJkzZ6iiAwYMGD16NIPzRnZ2Nq6pQCCgyRFPTEw0RqNqtbqOCyG02Gw2/YMeaxgAAAAAAAAAAEAfSHAHAAAAAAAAAAAwkIODg5WVFVU0MTER25S+y8PDgypUUFBQVlZmjEZTUlKY3cGdw+FQhRjcbV2LIAiqPddrq6ys7OnTpzpDXC73u+++43A4LBaLwW7HgG/E/Pz8qEIVFRXp6enoovpBkqSHh8fcuXNpyhw8eDA+Pt6w+ktLS588eUI1E3733XdcLpfBeePFixe4pqampu7u7lTR2NhYYzT6ugojVXl6elLt6F9cXIw1DAAAAAAAAAAAoA8kuAMAAAAAAAAAABjI1NTU29ubKnrv3j25XI5eqqZ169ZUqZCFhYXGyHsjCIIqq9tgPB6PKiSXy5ndxF2j0eTk5DBSVVZWVlFRkc6Qm5tbQEAAg0culUoZ2QwYPlienp5mZmZU0Rs3bqCL6od2Rp00aVLLli2pypSXl2/dutWwTdzz8vIKCgp0hlxcXAIDAxmcN2QyGRbGaFcc+fr6UkUTEhIqKysZbzQxMZGpaj/55BMul6szpFAojJSgDwAAAAAAAAAAjQwS3AEAAAAAAAAAAAzEYrE6d+5MFc2sgl6qplmzZnZ2djpDGo3m7t27jLeoUCgePXrEbJ18Pp9qe9rS0lJmd+6XSCQZGRmMVJWZmUm1k72vr6+lpSWD2zAXFhYiUbVxc3BwcHV1pYpGR0crlUr0Ur2xtbWdPXs2TYFjx449f/6c2XnD29vbxsaGwXmjuLgYO7hrdejQoZ7fLm7dusXUw8vd3Z3qQW9iYnL58mVcXwAAAAAAAAAAqBES3AEAAAAAAAAAoLGhSbZjNvPYxMSkS5cuHA5HZ6iyshJZXO9ycHBo3rw5VfT69euG7TFMIy0tjfGtxK2trak2cX/9+jWzp5CSklJWVsZIVfn5+VS3gJeXF7NddPv2bWPsMfwBTiwEQTC7Z39DYWlp2a5dO6pobGwsUwszQE+jRo2i2cS9srJy06ZNBjwE8/PzqeY0T09PZk8hOjq6vLwcl9LExOTTTz+l+kKCQqE4e/Yss81JpdJz584xVZuNjU3r1q1png65ubm4xAAAAAAAAAAAQA8J7gAAAAAAAAAA0KhwOByaBHeqbWgNFhAQ0KRJE6rowYMHJRIJLsrbBAJB165dqaIxMTH5+fnMtnj9+nWxWMxsnTY2Nnw+X2eosLCwtLSUwbZu3boll8sZqUoikVClYpubmzN4zCqV6sSJE4yvJ3mP2FV0hkiSbExnWitDhgyhClVUVBw/fvzjTP1/X2xtbb/77juqgWpiYvLff/89efLkg5031Gr1iRMnGF/j1EC5uLj4+vpSRY8fP87sCqKYmJjk5GSmauNyuX369KGKvn79OiIiApcYAAAAAAAAAADoIcEdAAAAAAAAAAAaFU4VnSGSJKVSKbPN2dvb9+jRgyr66NGjyMhIXJRq+vXrRxUqLCw8f/48g23JZLIDBw4wfgoODg4ikUhnSCwWM7hhvEKhOH78OFO1qVQqA0IGSE1NvX79emMatGw2m8vlUkUZn1gaim7dujk4OFBF9+3bV1JSghmvPo0cOdLPz48qKhaLw8LCaptBXm/zRlpa2pUrV3ARtUQi0cCBA6mi8fHxN27cYKotjUazY8cOZpcW/O9//zM1NaWK/vnnn43sEx8AAAAAAAAAAMA4JLgDAAAAAAAAAECjwmazraysdIYIgigrK2O2OS6XO3z4cKqUeoIg1q9fL5PJcF3e1qFDBycnJ6oe279/P4Ppwvfu3YuLi2P8FMzNzV1cXHSGlErl48ePmWro0aNHDNYmFAqpQnl5eUy1QpLk7t27Gb/X3i8+n0+1pMHExOSjTeN2cXHp2bMnVfTFixeHDx/GjFef7Ozspk+fTlPg9OnTCQkJH+a8sXfvXqyIeNuwYcMEAoHOkEql2rJlC1NvFw8ePGB2aZmJiYmvr2+HDh1oHm1nzpzBJQYAAAAAAAAAABpIcAcAAAAAAAAAgMamadOmOn+u0WhycnIYb65Pnz4+Pj5U0Vu3bu3bt48kSVyXN5o0adK3b1+qaHR0NFOb+CoUijVr1jC7x7AWj8ej2Sb59OnTarW67q2o1ep169YpFAqmDtva2prFYukMJSQkMNXQkydPdu/e3cgGLZ/Pt7CwoIq+fPny47yXWSzWlClTeDweVYE1a9Yw+EED0EdISIivry9VtKKiYuvWrbWaoKytrdls3f+W9Pz5c7lczshhJyYm7tq1C5fvba1ataLJEY+MjDx69Gjd3y7EYvHPP//M+Eo8Ho83bdo0qqhGo1m5cmVubi6uMgAAAAAAAAAAUEGCOwAAAAAAAAAANDZubm5UoeTkZMZzzW1sbKZOnUqVN0yS5LJlyx48eIDr8gaLxQoJCaFKilWr1StWrCgqKqp7Q//999/169eNcQocDqdz585U0fv379d2j2SdTp48GRERweBhu7i4cLlcnaH09PSkpKS6N1FRUfHTTz81su3ba5xY4uPjP9rbuXv37l26dKGK5ubmzpkzp6KiAvNevbGzs5szZw5NgWPHjj19+rRW8wbVV0oyMjKePXtW92MWi8Xz58/H9u3VCIXC2bNnU60uIAgiNDS0VpdS5wN38+bNkZGRxjj+QYMGtWnThiqalJS0aNEifOIGAAAAAAAAAACoIMEdAAAAAAAAAAAam5YtW1KF7t+/z9R2s2+bMGFCixYtqKIFBQVTp06th22M1Wq1MXYrN4auXbvSJIg/fvz4t99+02g0dWkiJSVl6dKljOykrtNnn30mEAh0hiQSybZt2wiCqEv9ycnJixYtYvaCenl5CYVCqmPes2dPHetXqVQrV668du1ao5xYWrVqRRV69OiRMSaWBsHU1HTevHlU94KJicmFCxcWLVpUD/0jk8nwrQyt0aNH03xiQruJu/4TrIeHh0gkourz3bt317Hb1Wr16tWrL168iAv3rv79+7dt25YqmpeXN3nyZIO/IEEQxNGjR1evXl3HpxUVS0vLefPmUSXom5iYHDx4cM2aNcZ7TGuRJCmXyzE5AAAAAAAAAAA0OEhwBwAAAAAAAACAxsbb25tqu9nExERGtputxt7efvHixVSbuJuYmDx9+nTcuHHp6elGOmWCIJ4+fTp16tQ6buZab0xNTadNm0aT97Zt27bDhw8bnJFWVlY2e/bsjIwM452Cr6+vj48PVfTo0aN37twxuPLCwsIZM2akpaUxe8wODg4eHh5U0X/++efRo0cGV67RaMLDw7du3dpY8whp0kyfPHmSnJz80U65/fr1+/LLL6miJEnu3Llz6dKlUqnUSAcglUpPnjw5ffp0Y2fKNhS2trYzZsygKXDixAn9H4X29vbe3t5U0YMHD9blEyUajeavv/4KCwtD/rFOVlZWP/30E9WXN7Sra8aMGZORkVHbDtRoNEeOHPn222+Nt4c6i8UaPnx4t27daI5h7dq169atUyqVRjoGsVh86NChefPmNZTlfwAAAAAAAAAA8AYS3AEAAAAAAAAAoLH55JNPrK2tdYakUunKlSsrKiqYzaUjSXLkyJEjRoygKXPv3r3+/ftfuXJFpVIx1TpJkhKJJDIycsKECd26ddu7d6/xMtUYN3z48K5du1JFFQrFrFmzjh8/Xtt93EmSLC4unj59+qVLl4x6/JaWlv3796eKisXimTNnZmZmGnBNX758GRIScv36dcaP2dzc/PPPP6eKlpaWTp8+PSsry4CapVLp+vXrf/rpJ4VC0ShnFZIkfX19bW1tdUYlEsmqVasqKys/zilXIBD89ttvjo6OVAU0Gs369eunTJmSmZnJ4Oyn0Wjy8/P37NnTq1evoKCgu3fv4vH3xujRo319familZWVGzdu1HPfblNT0549e1JFy8vL/+///s+wKyuTycLCwn744YeP9gMI+hg2bFi/fv1oCsTExPTt2/fMmTN67lNOkuTr168XLFgwefLkarMW1Sc+6vLQ+e2332xsbKgKKJXKpUuXzpo1Kzc3l8EXM7VanZ2d/ccff3Tv3n3cuHENZe0fAAAAAAAAAAC8DQnuAAAAAAAAAADQ2DRp0qR9+/ZU0VOnTo0fPz4mJobBNHcWiyUQCNauXevn50dTLCUlZejQoT/++OOLFy9qm7f9NpIkpVLp8+fPN23a1K9fv/79+x88eLDBJdeamZktX77c1NSUqkB5efmkSZM2bNhQXl6uZ53aneyDgoL+/fffd68R46cwceJES0tLqmh8fPzYsWMTExP1H2YKheLs2bMDBgy4cuWKkQ5+9OjRfD6fKhobGxscHBwXF6dn5qu2z5OSkiZNmrR48eJq2e08Hq/RzCosFsvFxaV169ZUBY4dOzZx4sR79+5VVlZ+bHtRkyTZsmXLdevWCQQCmmJHjhzp3bv3n3/+WVxcXJcuIgiitLT05s2bc+fO7dKly+TJk+/du6f/iP1IODg4zJw5k2bqOH78+OPHj/WsLTg4mCb1+fHjx6NGjXr8+HGt5o3k5OQpU6YsWLCgWnZ7Y5o3GCEUCjds2ODi4kJTJi0tLTg4ePTo0efPny8qKtL5gkGSpFwuT0tLCwsL69Gjx8aNG6vN2HZ2diEhIcw+K0mS/PTTT3/++WeaTeg1Gs2ff/7Zr1+/Q4cOlZeX12Vy0Gg0RUVFly5dmjVrVpcuXWbOnBkXF4chBAAAAAAAAADQQHHRBQAAAAAAAAAA0Mjw+fyhQ4deuXKFKk3qzJkz165da9OmTdu2bVu0aNGsWTNLS0sej0eV12VraxsYGFhjux4eHn/88UdwcHBRURFVGalUum3btmPHjg0dOnTcuHGtW7e2tLTUM59Mm7mVmZl59erV69evP3r0qKysrEFfqR49esycOXP9+vVUBcRi8eLFiy9evLho0aJu3bqJRCKqviJJMisr659//tm+ffvr16+rRdu0aVNUVJSXl8fgwWuTeocMGXLgwAGqMjExMQMHDgwNDQ0KCrKzs6OpTSwWP3r0aNu2bWfPnq2W7mljY+Pv73/z5k1GDrtDhw7dunWj2R7+7t27AwYM+OGHH0JCQpycnGgGp1qtTktL279//549e3Jzc6tFuVzu+PHj//7770YzsfB4vJEjR0ZFRVGNhxMnTly6dMnf3//NxGJhYUEzsTRp0sTf378R9AyLxSJJcvTo0cnJyatXr6bJT01PT58xY8aOHTvGjRs3ePBgd3d3muUW1cjl8ry8vGfPnp0/f/727dvJycmN9XMBTBkzZsz27dtfvHhBNeeEhYXt27ePw+HUWFVgYODnn39++fJlqgL3798fOHDgnDlzxo8f7+zsTD9vpKenHzx4cPfu3Tk5OdWiHA5nwoQJu3fvxuWr9qzZsGHDhAkTlEolVTGlUnn69Onz5897e3t36NAhICDAy8vLxsaGx+NJJJK8vLykpKQHDx48fvy4qKjo3ZuUzWbPnTvX2tqa2c7XjoSZM2cmJyfv2rWLpmRiYuLXX3/dsWPHcePG9e/f383NTc+lDiRJymSy3Nzc+Pj48+fP37lzJzU1VaVSYeQAAAAAAAAAADR0SHAHAAAAAAAAAIBGaMiQIatXr87OzqYqIJFI7lbRp7bevXtfvXq1xmIsFqtnz55btmyZOnWqVCqlKfn69evw8PA9e/a0aNGie/fuXbt29fHxsbGxsbKy4vP5HA6HIAiVSiWXyyuqZGZmJiQkPHz4MCkpKSsrq9FkbnE4nNDQ0KioqHv37lGV0Wg0N27ciI6O7ty5c1BQUNeuXZ2cnKysrAQCgUajkclkhYWFKSkp586dO3PmjM4rbmZmtmLFioULFzKb4M6qsmDBgnPnztGsNHj16tW33377+++/jxgxonfv3q6urtqrTBCEQqEoKSnJycm5c+fO+fPnHz9+/G7CLpvNnj9/fllZGVMJ7gKBYOHChbdv36ZJlHz9+vWCBQvCw8MHDBjwv//9z9PT08bGxtTUlMViqVSqioqKwsLCx48fX7hwISoqqri4WGclQVUaU4K7iYnJV199tXr1apqBJJFIYqroU9vw4cOPHz/eOHqGxWLxeLxFixZp15nQlNRoNHFV1qxZ4+/v/8UXX3Tq1MnZ2dnKysrMzIzH47HZbFUVqVRaWVlZXFz84sWLuLi4x48fp6en5+fn4wGnJwcHh6lTp/70009UBc6cORMfH9+uXbsaq+LxeAsXLrxx4wbNvJGfnx8aGrpz584BAwYMGjRIm139Zt6orKwsLCyMi4s7f/58VFQU1TKwYcOGjRo1Cgnu1W4uExOTESNGxMfH0y8gMTExUalUz6vs37+/Vq0MGDDg+++/37dvnzFOQSAQrF+/Pi8v7+zZs/STg/bFrEmTJgEBAT179uzQoUOzZs2sra1FIpF2MYxGo1EqlRKJpKKiori4+Pnz50+ePImLi0tPT6dZWwgAAAAAAAAAAA0REtwBAAAAAAAAAKCxIUnS2dl55syZoaGh9KlgxjBmzBiCIGbNmlVeXk5fUqFQPK2yfft2Ho9nZmZmamrK4/E4HI6mijbFUyqVajSaxnqxrK2td+3aNXjw4FevXtEUUyqVt6rw+XwbGxttIqw2R7y8CtUvstnsefPm9erVy0jH36pVq7lz5y5dupRmpJEkmVjl119/1R48l8vVrmEQi8UVFRU09YeEhPz444/Lli1j8O744osvvv766z///JO+ZEZGxh9VzM3NLSwsBAKBNlFVLpeXlZWp1Wqa323Xrt3GjRuTk5Mb2XB1cXH59ttvly1bVv8TS4NgZma2bds2ExOTAwcOEARBX7i4uDiyiomJiUgkMjc3FwqFHA6HzWar1WqNRiOXy6VSqUwmQ8cabMKECTt27EhPT9cZrays3Lp1665du7hcbo3zxueff/7NN9/88ccf9CVfvnwZXsXCwsLc3PzteaO8vJx+dVabNm02bdpE/yz4aHG53J9//rm8vHzHjh2MvxJ07tx5165dIpGIpoz+H1vQydLScs+ePVOmTDl79myNk0NBQcGlKiYmJqamptqBxOFwWCyWRqNRq9VyuVxWBQMDAAAAAAAAAKARQ4I7AAAAAAAAAAA0NtrtTmfOnBkZGXn58uV6bpokyZCQEFtb21mzZmVkZOj5iyqVqqzKR3i9/P399+zZM378+Nzc3BoLK5XKWm3hHBISsmDBAuPtec9isb7//vsHDx6cOXOmxsIkSZZU0bPyoUOHbtmypY5phe8eMJfLXblyZWJiYnR0tD6/Iq6ifxO+vr779u1zcnJqfAnuLBZr9uzZb9Ky4V0WFhY7duxwdnbevHmz/umnyFU1kiZNmsyePfuHH36gKnDs2LGZM2e2b9++xpHP4XBWrFiRkJAQFRWlT9OVVfQ/VC8vr3379rm6ur58+RIXTiehULhu3ToLC4uwsDC5XM5Utd27d9+7d6+Tk5N2f3Sa1uvYkJ2d3d69e0NDQ3fv3k3zKYBqtMv8cPUBAAAAAAAAAD5CbHQBAAAAAAAAAAA0ShYWFn/++We3bt3quV1WlQEDBpw9e7Zv375sNv4EV7NevXr9888/rq6uzFYbHBy8ZcsW+l1p687c3Hz79u3MjjQWizVy5Mhdu3bZ2NgY45ibNGmyZ8+etm3bMl5zq1atjh496u/v3ygHKkmS1tbWu3fv/vTTT3HbUjE1NV2xYsXu3bvd3NzQG+/duHHjvL29qaLaTdz13BHc3t5+9+7dgYGBjB+kn5/f0aNHAwICcL3oiUSiFStWhIeHa/PR64jL5Y4dO/bff//19PTU/kShUNA0zcj8GRYW9vvvvzdt2hRXEwAAAAAAAAAA6OFf1wAAAAAAAAAAoNFyc3M7duzYxIkTBQJBPTfNYrFatWp1/PjxlStX2tnZ1UOLPB6vY8eODTdprFevXidPnmzTpg0jtbHZ7EmTJu3cudNICeLVuLi47N+///PPP2fqUv7f//3fn3/+6eDgYLxj9vX1PXr0aKdOnRiss0ePHidPnmzXrl1jnVK0X4fw8PA4efJkSEgIs5vrNyY8Hm/06NGXL18eNmwYj8erhxatra179OiBBUXvsre3//bbb2kKnDhxIjExUc/avL29jxw50qVLFwaPsFu3bqdOnapxF3l4c3NNmDDh4sWLAwYM4HIN/0pzs2bNNm/evHv3bkdHxzc/lEgkVOWtrKwYmT8FAsHUqVMvXrzYr1+/+rlh7e3tu3btiskBAAAAAAAAAKDBwR90AAAAAAAAAACgMWvatOlff/114cKFoKAgOzs7DodTn61bWFgsWrTozp0706ZNs7Oz02Z3MYvP53t5eU2bNu369etRUVE+Pj4kSTbEK8Visdq3b3/lypVvvvnG1NS0LlU5Ojpu3rw5PDzc2tq63o7f3d391KlTM2b8P3t3Hl1VefcNPyfnZA4kEAipTIKioohUQEDEioBKiwPSqr3FR4utrUMt2urdOlZt9XGoVmltrdo+ddaqFOp9OyAWpzogUqjIoMwEDJCBhMw5Z79rwXpdLnJyZEo4wc/nL7t/F3tf1y97H7oO333lkpycnD1pQp8+fR5++OFp06bteZrwSx166KEvvPDCj370oz1s+PYE4Q033DBz5sx+/fp9FT5YioqK/vrXv/7P//zPmWee2blz5zb+YGkvDj300Geeeeb555//xje+kZmZ2RofGjk5OSNGjLjttts++OCDP/3pT34QcZ177rmfb9Hd3NatW++6665YLLaTZ+vXr9/MmTMvvfTSPf/c6Ny583XXXffCCy8ceuihfky7dOcfeeSR06dPf+6558aOHZuTk7Pz/+8iEon07t376quvfueddy699NIvvv4XBMGmTZsS/L+pvTj/QYMGzZgx44knnhg2bFhrvCmUmpraoUOHb3zjG/fcc8+8efNuu+22PXkZAAAAAIB9whc6AAAAAOznUlNTR48effzxx69du/b1119/7733/v3vf69bt666urphm6ampmCbVprAoYce+oc//OHKK6986qmnpk+f/umnnybYJHVnhMPhjh079u3b9/jjjx83btwxxxzzxU3iWyNG32a6dev2hz/84eyzz7777rvfeOONXWpUKBTq2rXrxIkTp06dethhh7X95Dt16nTfffedeeaZv/nNb958882tW7fu0l3ao0ePc8899+KLL+7Zs2ebvaXQtWvXadOmTZo06Te/+c3bb79dVVW1qw9XUVHR6aeffskllwwYMKB5taVfntA2u3q3qnA4PHbs2BNOOGHt2rVz5sx57733FixYUFxc/PkHSzQajcVi7fSFkz23/YMoHA5PmDBhzJgxb7/99uOPPz579uwNGzY0NTXtyZkzMjI6d+581FFHjR49+qSTTjr00EOzsrK2x3P9fRdXYWHhxRdffPXVV7fUoueff/7yyy8fMmTITp6wS5cu99577+efdbv6uREKhYqKik477bRLL710wIABO/ydtX9/buxFGRkZp5122sknn7xo0aL/+Z//ef3115cuXVpZWVlbW9vY2PjFT6rMzMzs7OyioqJjjjlm7Nixo0eP/jyt/sXmR6PR9evXt/RR37lz5707/8zMzLPPPvtb3/rWnDlzHn/88ddff33jxo3RaHQPz1lQUDB48ODRo0ePGzfu4IMPbvtf4AMAAADA3hLynW8rmTx58uOPP779v/v37//xxx/rCQAAALDXbd68edasWS1Ve/fuPWLEiN2IOy9btuyDDz6I+wf79u17zDHH7MUIdRAEc+fOXb58edzSiBEj+vTps3ebFovFGhoaampqPvvss/Ly8srKyrq6usbGxgSxqqKiotGjR+/hMkOhUBAEVVVVCxYsmDNnzj//+c/ly5dv2rSptrb2S/94KBTKzc0tKCjo3r374MGDhw8fPmDAgL59+2ZnZ+/hz2LDhg2vv/563C8Ju3btOnr06LbfEXl7r+rq6ubOnfv000+/+uqrq1evrqurS/BHCgoKDjnkkNO36devXzgc3n6SzwdUVlYOHTp02bJlzf9sXl7eBx98cPDBB+/FJdTX17///vvTp09/5ZVX1qxZkyD9mZqa2q1btwEDBnz7298eP3589+7dU1Pj/NbNBQsWLFq0qPnPOgiCo48+eq+k+evq6ubNm/fss89ub3jixGpGRkZRUdGRRx552mmnjR07tlevXs17npKSUlpa+sEHH8Q9Q35+/rBhw3Z1khUVFa+88krcRzUnJ+eUU05pjZ2Ad+Z2/fyDpbq6uqSkZCc/WHr27HncccclPv9HH330n//8J+51Dz/88EGDBu3GnN9+++01a9bEPefIkSN79+7dSr2KRqMlJSXvvvvuq6+++u67765fv760tHRnwu6RSCQ/P79Lly4HHXTQsGHDhg4desQRR3Tr1q3tf9y7atOmTXfeeWfcD/kgCPr06fOTn/ykbTaW3rRp0x133JHgg3Ts2LGnn376bnzWffjhh88+++ysWbNWr15dWVmZ+HNj+8fdaaeddtJJJ7X0uVFeXv7+++/HPUNeXt6wYcN29W+9ysrKl156Ke6TmJ2dPX78+L17IxUXF7/xxhtxS4WFhWPGjGmlH3F9fX15efnatWtLSkoqKiq2vx6WmZnZsWPH7f/noaioKDMzc/vf6c3bnpKSUltbO2zYsLgfONnZ2W+88cbgwYNbafJNTU3FxcXvvvvurFmz5s6du2HDhrKysp0Ju6elpeXn53ft2vWQQw4ZPnz4kCFD+vfv37VrV+9CAAAAAO3dI488cv7552//76ysrBUrVhQVFX3VmiDg3loE3AEAAABIIBaLlZSUFBcXr1q16pNPPlm3bt2mTZsqKysbGhpCoVBGRkZWVlZBQUFhYWGPHj369u3brVu3oqKiLl26tH3ifB8KgqC8vPyTTz6ZP3/+ggULVq1aVVVV1djYGA6Hs7KyioqK+vXrN2jQoP79+/fp0ydBSLGNA+6fT76qqmrlypWLt1m1alV5eXlNTU1KSkpubm5RUdEhhxwycODAfv36de/evW1Crjsz561bt65YsWLJkiUff/zxqlWrysrKamtrgyDYfkP26NGjX79+hx122IEHHlhYWBg3jg9fqq6urri4eN26dcuXL1+xYsX69evLy8u3bt3a1NSUlpaWnp6em5tbWFjYrVu33r17H3jggV27dj3ggANyc3Pb9W+o2I8/qKurq1esWLF06dJFixZt/9yoqanZ/rnRuXPnL35udOvWzedGclq3bt1RRx1VVlbWvNSlS5dFixYVFha2wb1UW1u7bt269evXL1u2bOXKlRs2bNj+V+f2D4fMzMzc3NyuXbsWFRX17du3Z8+eXbt2/drXvpabm+snCAAAAOxPBNwF3FuRgDsAAAAAtIZYLLar+ch9EnDfSXF30gU8Jn6OtKUXXnjh9NNPj8VizUuDBg165513MjMz3ScAAAAAbUPAPSUlxT4ZAAAAAEB7sp/t/ivGBx4TP0f2rSAIXnrppbjp9u0B97S0NPcJAAAAAG1JwB0AAAAAAAC+ojZv3jxz5sy4pVAoNGLEiHA4rEsAAAAAtCUBdwAAAAAAAPiKmjFjxtq1a+OWMjIyhg8frkUAAAAAtDEBdwAAAAAAAPgq2rRp01133dVSdcCAAQcddJAuAQAAANDGBNwBAAAAAADgK6epqenXv/710qVLWxpwxhln5OTkaBQAAAAAbUzAHQAAAAAAAL5aYrHYo48++sADD7Q0ID8//9vf/rZGAQAAAND2BNwBAAAAAAAgeb3//vsVFRVBEOytEwZB8Nxzz1155ZV1dXUtjTn11FMPOeQQzQcAAACg7Qm4AwAAAAAAQPL69a9/PXLkyAceeGD9+vXRaHRPThUEwZYtW2677bYLLrigoqKipWG5ublTp04NhUKaDwAAAEDbE3AHAAAAAACApPbxxx9ffPHFI0aM+OlPf/rGG2+Ul5fHYrFdOkMQBBUVFTNmzPjWt7513XXX1dTUJBh88cUXDxo0aC/uGQ8AAAAAOy+iBQAAAAAAAJD81qxZc++99/7xj3/s37//yJEjx40bd/jhh3fr1q1Dhw4t7bYejUbLyspWrVo1a9as6dOnL1iwoLGxMfFVBg4c+NOf/jQ11T5ZAAAAAOwbAu4AAAAAAADQbtTX1/97m9///vedO3fu0aNH7969Dz744B49enTu3DkrKyslJaWmpqasrGzNmjVLly5duXLl6tWr6+vrd+bk+fn506ZNKyws1GcAAAAA9hUBdwAAAAAAAGiXyrZZuHDhXjlbbm7u3XffffzxxwdBoLcAAAAA7Ct+tyAAAAAAAAB81XXq1On+++8///zzgyAIhUIaAgAAAMC+Ygd3AAAAAAAA+Eo77LDD7r333nHjxom2AwAAALDP2cEdAAAAAAAAvqIyMjLOOeecF198UbodAAAAgCRhB3cAAAAAAABIXueff35tbe3cuXOrqqqi0ejeOm1OTs7IkSOvuuqq0aNHh8PhIAi0GgAAAIBkIOAOAAAAAAAAyevMM8+cMGHCmjVrXn/99Tlz5sydO7ekpKSysjIWi+3G2Tp27HjggQeOHTv2rLPOGjRoUEZGxvZou+3bAQAAAEgSAu4AAAAAAACQ1NLS0g7e5oILLqiurl6+fPknn3yyYMGCJUuWrFy5srKycuvWrXV1dfX19Y2NjbFYLAiCcDgciUTS0tJytykoKDjqqKMGDx48aNCgww8/PDs7OzU1dfvJRdsBAAAASCoC7gAAAADAfi47O/uRRx6pra1tXgqHw927d9ciAJLc5xn0cDjcsWPHr29z1llnpaSkNDY2VlZWbtmypbq6ura2trGxsampKQiCSCSSvk3Hjh3z8/Pz8vLC4bBOAgAAAJD8BNwBAAAAgP1cJBIZNmyYPgCwX0pLSyvYRisAAAAA2D+kagEAAAAAAAAAAAAAAMlAwB0AAAAAAAAAAAAAgKQg4A4AAAAAAAAAAAAAQFIQcAcAAAAAAAAAAAAAICkIuAMAAAAAAAAAAAAAkBQE3AEAAAAAAAAAAAAASAoC7gAAAAAAAAAAAAAAJAUBdwAAAAAAAAAAAAAAkoKAOwAAAAAAAAAAAAAASUHAHQAAAAAAAAAAAACApCDgDgAAAAAAAAAAAABAUhBwBwAAAAAAAAAAAAAgKQi4AwAAAAAAAAAAAACQFCJaAAAAAADAbquqqlq2bNkOB4MgKCws7NWrl/6w24IgWLx4cU1NTSgU+uLxSCTSv3//9PR0LQIAAAAA2C8JuAMAAAAAsJuCILj99tt//etf73A8NTX1kUceOffcc7WIPfGnP/3p3nvv3eFgWlraM888c8YZZ+gPAAAAAMB+ScAdAAAAAIDdNG/evN/97nfNj3/jG9+YOHHifrPMIAiampoaGxsrKys3bdpUWlpaVVVVU1PT2NgYi8UikUhGRkZubm6nTp26bJO+TWpqqjtkT4RCoSuuuOK5555bt27dF483NjZef/31xx57bGFhoS4BAAAAAOx/BNwBAAAAANgd1dXV11133ZYtW3Y4np2dff3112dnZ+/qCYMgKC4ubmpqiltNTU3t3r17OBxuswVGo9HNmzcvXrz4vffe+/e//7148eL169fX1tY2NDQ0NjYGQfDFweFwOD09PSMjIz8//+CDDx44cOCQbbp3774brdgTmzdvrqqqCoVCu32GIAhS/39paWkZ/789Oefu6dWr19SpU6+66qoduv3RRx/de++9N998c1veDwAAAAAAtA0BdwAAAAAAdsfzzz//6quvNj8+YcKEUaNG7cYJ6+vrTznllBUrVsStdunS5cMPP+zSpUtrrysIgvLy8nfeeeeZZ555++23165d29DQ8KV/KhqN1m5TUVGxatWqV199NRwOd+jQ4etf//qpp546YcKEvn37tk0a+5e//OVDDz20h/vHRyKRtG06dOiQl5fXuXPnnj179u/f/6ijjurXr9/Xvva19PT0Nsi7h0Kh888//+GHH168ePEOpT/84Q/f+c53Bg0a5EkEAAAAANjPCLgDAAAAALDLSktLb7311mg0usPxnJycn/3sZ5HIbn75XFdXV1tbG7dUW1u7wzberbSuZ5555o9//OOiRYuar26XRKPRioqKf25z6623nnHGGZdeeunAgQP3MHr+pRoaGurr6/fW2UpKSr74P0OhULdu3Q499NBJkyaddNJJBx98cGun9rt06XLppZf++Mc/3uGnX15efvvttz/66KO7fbMBAAAAAJCcUrUAAAAAAIBddd999y1ZsqT58UmTJg0ePLgNkuh7VxAEFRUV999//7Bhwy655JKFCxfuYbp9B5s3b37ooYdGjhw5ZcqUPY/O79tGffbZZ6+//vrll19+zDHHfOc733nllVdaeidhb5k8efIRRxzR/Phzzz0X93cIAAAAAADQrgm4AwAAAACwa5YuXXr//fc3P96hQ4crr7wyNTU1FAq1o+U0NTW9+uqr48ePv+yyy5YvX956F6qpqfnrX/86evTo2267raysrL3fBpWVldOnTz/11FPPPvvsd999t/VS+3l5eVdccUXz442NjTfffPPWrVs9kgAAAAAA+xMBdwAAAAAAdkE0Gr3rrrs2b97cvPTtb397wIAB7Wv79i1btlx//fVnnnnmu+++2zYz37Rp0w033HDGGWfMnz+/3W1131xDQ8M//vGP8ePH33PPPTU1Na1xiSAIJk2aNGDAgOal9957729/+5unEgAAAABgfyLgDgAAAADALli4cOHTTz/d/Hh2dvaPfvSjcDjcjrZvLy4uPvfcc2+//fY23gU8CII333xzwoQJL7zwwn6QcU9JSamoqPjv//7vq666qrq6eq+fPBQK5eXlXXzxxc1LsVjsnnvuqaio8GACAAAAAOw3IloAAAAAAMBOampq+u1vf1tVVdW8NG7cuEGDBrWXhQRBsHjx4smTJ8+fP3/n/1R6enp2dnaPHj26deuWl5eXmZkZCoWampqqqqrKysqKi4s3b97c0NAQjUZ35mzr16//7ne/e9ddd1144YVpaWnt/d6IxWL333//9jskKytrr59/0qRJd95556pVq3Y4/tFHHz399NMXXXRRO3qzAgAAAACABATcAQAAAADYWfPnz3/++eebH09PT7/kkkvS09PbxSqCIPjwww//67/+a9myZTszPicnZ8CAAePGjRs5cuSAAQM6duyYmZmZlpb2eaI6Go3W19fX1tauXbt27ty5r7322ptvvrlhw4ZYLJb4zNXV1VOnTq2qqpo6dWrbZNwLCwt3Jn0eBEFTU1NDQ0NNTU1tbe3ObzP/4IMP9ujR45prrgmHw3t95ueff/5NN93UfKrTpk2bNGlSly5dPKEAAAAAAPsBAXcAAAAAAHZKNBq97777tm7d2rw0ePDg4447rr0sZNGiRTuZbs/LyzvjjDMuvPDCo48+Ojs7u6U9wsPhcPY2BQUFgwYN+t73vldcXDxz5swHHnjg448/TpwOr6+vv+6669LT0y+77LK9HgrfQWpq6gMPPHDSSSclHrY93V5XV1dRUVFSUvLpp5++8cYbb7755qpVq740sh8Ewf/9v/93+PDh48aN27uTD4VCkydP/t3vfldaWtr8Bzp9+vQf/OAHHlIAAAAAgP1AqhYAAAAAALAzli1bNnPmzLil8847Lzs7u12sYsOGDVOmTPnSdHsoFDrxxBNfeumlhx9+eNSoUTk5OS2l25uLRCK9e/e+7LLL5syZ88tf/jI/Pz/x+IaGhmuuuWbGjBltsPyMjIzsL5OTk5OXl9etW7dDDz30+OOPnzJlyl/+8pd33nnnwQcfPPLII7/0EjU1NTfeeGPcFyH2UJ8+fcaMGRO3dP/991dXV3tIAQAAAAD2AwLuAAAAAADslPvvv7+ysrL58e7du0+cOLFdLKG6uvryyy+fO3du4mGdOnW68847X3jhheHDh6em7uYX6aFQqEuXLjfccMPs2bOPPfbYxINramouueSSDz/8MDn7FgqFCgsLp0yZ8sYbb1x77bVf+jLDe++919K7EHsiHA5fdNFFkUicX067YMGCl156yUMKAAAAALAfEHAHAAAAAODLrVq16umnn45bOv3004uKipJ/CbFY7L777nvuuecSDzvooIOeeeaZK6+8Misra3u2e08uGgTB0UcfPXPmzAsuuCBuMvtzJSUll1xyyaZNm5K5h/n5+TfddNMf//jHjh07Jm71H//4x9ra2r179SAIRowYEXcX+SAI7rvvvvr6eo8qAAAAAEB7J+AOAAAAAMCXe+KJJ+Jmr9PT088777x2sYR//etft912WxAECcYccsghf/vb38aOHbuHufbPbT9PQUHB73//+4svvjjxfvDvvffe7bff3tTUlMxtDIfD55577s033xwOhxMMmzdv3scff7x3Lx0KhbKzs//rv/4rbvXdd999//33PaoAAAAAAO2dgDsAAAAAAF+isrLyySefjFs68sgjBw0alPxLqK6u/sUvflFVVZVgTFFR0WOPPfb1r3+9NSaQnZ19++23f/e730087P7770/+lHZqauoPf/jDE088McGYmpqa1157rTWufvrpp+fl5TU/3tDQ8Oc//znxCwwAAAAAACQ/AXcAAAAAAL7EnDlzFi9eHLd01llnZWZmJv8S/vKXv7z99tsJBuTk5DzwwANDhgxpvTlkZWVNmzZt1KhRCcbU1tb+4he/qKmpSfJ+ZmZmXn/99WlpaQnGvPrqq60RN+/bt+/w4cPjlv73f/937dq1HlgAAAAAgHZNwB0AAAAAgESampoef/zxaDTavJSbmzt+/PjkX0JxcfHdd9+dIGydmpp6xRVXfOtb3wqFQq06k06dOk2bNq2oqCjBmLfeeuvZZ59N8pYGQTBs2LDBgwcnGLN48eLy8vK9fulwOHzOOefELW3atGnGjBmeWQAAAACAdk3AHQAAAACARFavXj179uy4pUGDBvXr1y/J5x8EwSOPPLJy5coEY4499tif/exn4XC4DeYzcODAG2+8McG1YrHYb3/728rKymTuaigUSk9PP/XUUxOMKSsr++yzz1rj6ieccEJBQUHcn/VTTz1VW1vrsQUAAAAAaL8E3AEAAAAASGT27NmlpaVxS+PGjcvMzEzy+ZeVlf35z39OMCAjI+PGG2/My8trm/mEQqHJkycfc8wxCcYsXLjwlVdeSf574+ijj05NbfEfGqqrq1tjB/eUlJTu3bu3tHn8v//97yVLlnhsAQAAAADaLwF3AAAAAABa1NTU9PTTT8ctZWRknHzyycm/hJdeemn58uUJBkycOHH06NFBELTZlHJzc6+//vr09PSWBkSj0YcffrihoSHJe9urV6+cnJwEA1ppB/e0tLTx48fHLdXU1PzjH//w5AIAAAAAtF8C7gAAAAAAtOjTTz+dO3du3FLfvn379++f5PNvbGz885//nCC8npOTc/XVV4fD4VAo1GazCoJg7Nix3/jGNxKMefPNNxctWpTk7S0oKEgQ009JSamqqmqlS48ZMyYrKytu6bnnnqutrfXwAgAAAAC0UwLuAAAAAAC0aM6cOS1llIcNG9axY8ckn/+yZcvef//9BAPGjRt35JFHtuX27SkpKaFQKC0t7dJLL02Qqq+urp45c2aStzczMzMcDicYsHXr1la6dJ8+ffr16xe3tHTp0iVLlnh4AQAAAADaKQF3AAAAAADiC4JgxowZLVVPPPHE5F/CrFmzEmSsw+HwlClTIpFIW27f/rkxY8YccsghCQbMmDGjoaEhmdu7T/q2XW5u7uDBg+OW6uvrZ8+e7fkFAAAAAGinBNwBAAAAAIhvw4YN8+fPj1vKzs4ePnx4ks8/Go3+/e9/TzCgZ8+eI0eO3FfTy83NnThxYoIBy7ZJ5g7X1NREo9EEA7Kyslrv6glesfjHP/6ReGIAAAAAACQtAXcAAAAAAOJbsGBBSUlJ3FKfPn0OOOCAJJ//+vXrP/roowQDTjnllPz8/H04wwkTJmRkZLRUra6u/te//pXMHS4tLa2vr08woFu3bq139aFDh7YUoF+0aFFxcbFHGAAAAACgPRJwBwAAAAAgvldeeaWl0sCBA3NycpJ8/v/5z39KS0tbqobD4XHjxqWm7svvyQcOHNizZ8/d+xEkgzVr1tTW1ibocGFhYStdOgiC7t27H3jggXGrpaWlLf3yAQAAAAAAkpyAOwAAAAAAcdTX18+bN6+l6vDhw5N/Ce+8806Cak5OzuDBg/ftDLOysoYMGZJgwOLFi7du3Zq0HZ4/f340Gm2pmpeX13o7uIdCodzc3H79+rU04PXXX/cUAwAAAAC0RwLuAAAAAADEUV5evmTJkpaqX//615N8/rFYbMGCBQkGHHbYYV27dg2CYB9OMhKJJH5VYO3atRs3bkzODjc0NMycOTPBgB49ehQVFbXqHIYNG9ZSaf78+fX19R5kAAAAAIB2R8AdAAAAAIA4Fi9eXFFREbfUuXPnXr167dto+Jeqrq5euXJlggGHHHJIdnZ2KBTat/McOHBgWlpaS9WqqqrVq1cnZ4ffeeed+fPnJxhw4oknZmRktOochg4d2lLp448/3rJliwcZAAAAAKDdEXAHAAAAACCO//znP42NjXFLBQUFhYWF+zwanlh1dfW6desSDDjiiCOSYZ4HHXRQ4hT4okWLkrC9dXV1t956a0NDQ0sD0tLSvvWtb7XqHIIg6NGjR05OTtxqRUVF4jccAAAAAABITgLuAAAAAADsKBaLffzxxy1V+/Tpk5WVleRLKCkpqa2tTTAgSQLueXl5X/va1xIMSMKUdhAEDz/88OzZsxOM6d+//7Bhw1p1GqFQqLCwsFOnTnGrjY2NyfluAAAAAAAAiQm4AwAAAACwo6ampgQB90MPPTT5l1BcXByNRluqhkKhAw88MBnmmZmZ2a1btwQDEu9D3/ai0eizzz77i1/8IkF7U1NTL7744g4dOrT2ZPLz87t27Rq3FARBgnsYAAAAAICkJeAOAAAAAMCO6uvrV61a1VL1oIMOSv4lbNq0KRaLtVTN3SYIgn0+z7S0tJb2IN+urKyssbExGVoaBEF5efmdd945ZcqUqqqqBCOHDh363e9+tw2mFA6H+/Tp01J1+fLlTU1NHmcAAAAAgPYlogUAAAAAAOxg48aNlZWVLVV79uyZ/EsoLy9PEHDv0KFDVlZWKBTa5/NMTU0tKChIMGDLli1NTU1paWn7cJJBEJSVlc2ePfu3v/3te++9l6CxKSkpHTt2vOOOO/Ly8oIgaIMO9+3bt6XSihUrmpqaIhH/FAIAAAAA0J74VhcAAAAAgB2VlJTU1dXFLaWnpycOZCeJxFuMZ2VlZWRkJMlU8/PzE1Tr6uraeJtEe2gAAIAASURBVBvyIAii0Wh9fX1VVVVpaenKlStfeeWVWbNmLVu2LHG0ffuW6jfddNOoUaNSUlLa5v2B7t27t1T67LPPamtrMzMzPdEAAAAAAO2IgDsAAAAAADvavHlzfX193FJaWlriQHaSqK2tTVCNRCLhcDhJppqVlZV4IdFodK9cKBaL/fCHP8zNzd2ZkY2NjbW1tZWVldXV1Tt5/vT09J///OeXXXZZW3avsLCwpVJ9fX1ZWVmnTp080QAAAAAA7YiAOwAAAAAAO9q0aVNLpfYScE+863laWlokkizfkCcOuDc1NQVBsLeutXbt2lZaRUFBwU033XTRRRe1cWM7deqUmpoad2v5+vr6zZs3H3TQQZ5oAAAAAIB2RMAdAAAAAIAdbd68uaVSWlrazmwBvs/FTTx/LjU1NRQKJclUEyfCY7HYXgy4t4ZwODxq1Khbb7112LBhqampbXz1nJycSCTS0NDQvNTU1FRZWelxBgAAAABoXwTcAQAAAADYUXl5eUulSCSSmZmZ/EsIh8MJqtFoNHECvi3V19cnqEYikbZPje+k1NTUI4888vLLLz/rrLP21WsP2dnZCQLuW7du9TgDAAAAALQvAu4AAAAAAOyooqKipVJOTk7S5q2/KPG26I2NjdFoNEmmmjjgnpaWloQND4VCJ5988uWXXz5q1Kh9u6N/VlZWgv5UV1d7nAEAAAAA2pdULQAAAAAAYAd1dXUtldLS0kKhUPIvIScnJ0G1sbGxqakpSaZaU1OToJqenp6EDQ+CYOHChf/85z9LS0uDINiHM0n8AkDcnd0BAAAAAEhmAu4AAAAAAOyosbGxpVLindGTR4cOHRJUq6urE4T421hpaWmCaseOHdPS0pKww+vXr7/zzjtPPvnkl156KRaL7atpRCKRBC8ACLgDAAAAALQ7Au4AAAAAAOwoGo22VEqwW3ZS6dy5c4Kpbt26tba2NklaXV5enmBA0gbct1u6dOnZZ5/95JNP7quMe2ib3biTAQAAAABIThEtAAAAAABgBwm2aW8vieHCwsJwONxS6rqmpmbLli3JMM+GhoaysrIEAzp16hQOh/fKtVJTU++///5Ro0a1NCAIgqamppqamk2bNq1YsWLhwoULFixYsmRJTU1NgtNWVVX94Ac/iEajkydPbvv3H2KxWBAELVWT+d0AAAAAAADiEnAHAAAAAGBHGRkZLZUaGxsT5ImTR8+ePcPhcGNjY0sDPv3006OPPnqfz7O2tnbDhg0JBvTt23cvXq5Xr16HH374zo/funXrkiVLHn/88SeffLKkpCTBKi6//PKCgoJvfvObCfZTbw2Jb8j09HSPMwAAAABA+5KqBQAAAAAA7CA7O7ulUn19fbsIuBcUFHTs2DHBgIULFybDPDdv3rxx48YEA/r167cPp5ebmztkyJDf/OY3s2fPnjBhQoIN2rds2XLppZcuWbKkjWfY0NCQ4LcKZGZmepwBAAAAANoXAXcAAAAAAHbUqVOnlkq1tbVNTU3Jv4Ts7OyePXsmGLB06dJkmOenn36aYJv5UCh0yCGH7PNJpqamHnHEEU888cT3vve9BBu0r169+qc//WltbW1bzq22tralgHsoFMrJyfE4AwAAAAC0LwLuAAAAAADsKEHAvampqY0TzLsnOzu7b9++CQYsXry4srJyn89z/vz5CV4Y6NKlS8+ePZNky/wOHTpMmzZt8uTJCca8+OKLf/jDH9pywjU1NS0F3CORSG5urscZAAAAAKB9EXAHAAAAAGBHhYWFLZUaGxuTIRf+pUKh0NChQxMMWLFixbp16/btJBsbG//1r38lGNCzZ8+uXbsm2DS9jWVlZd1zzz3HH398gjG33nrrggUL2mxKlZWVLW2Bn56enuBVDQAAAAAAkpOAOwAAAAAAO+rSpUs4HI5bamxsrKioaBerOPbYY1NTW/wavK6u7p133tm3M6yoqJg/f36CAUOGDElPT0+qrhYUFNx7770JXoEoLS298cYb6+vr22Y+ZWVlLZXS09MLCgo8zgAAAAAA7YuAOwAAAAAAOyooKMjIyIhbamhoKC8vbxer6Nev3wEHHNBSNQiCl19+uampaR/OcO7cuRs3bkww4JRTTknCxg4aNOjqq69OsK/8Sy+99Morr7TNZEpKSloqZWdn5+fne5wBAAAAANoXAXcAAAAAAHZ0wAEHZGZmxi1Fo9HEmezkUVhYePTRRycYMGfOnM8++2xfTS8IgunTp0ej0ZYGdO7cedCgQUEQJGFvf/SjH40YMaKlakNDw6233lpZWdkGM1m9enVLpV69eiXb/vcAAAAAAHwpAXcAAAAAAHaUn5/ftWvXlqqrVq1qLwv59re/naC6adOml19+eV/NraSk5MUXX0wwYMiQIb169UqwUfo+lJOTc8stt7T0FkRKSsp77703ffr0NpjJ8uXLWyoddNBBkUjE4wwAAAAA0L4IuAMAAAAAsKO0tLR+/fq1VP3000/by0JOOOGEBEn9lJSUP/3pTzU1Nftkbs8++2xxcXGCAWeffXY4HE7OxgZBcPzxx0+cODHBgLvvvruioqJVp1FfX7927dqWqgcffHDSNhAAAAAAgJYIuAMAAAAAsKO0tLTDDjusperSpUuDIGgXC+nRo8cJJ5yQYMC8efPeeuuttp/Y1q1bH3rooQQDunTpcuKJJyZtY0OhUCQSmTp1ak5OTktjFi5cOHPmzFadRmlpaXl5edxSOBzu37+/ZxkAAAAAoN0RcAcAAAAAII4BAwakpsb/Drm4uHjLli3tYhWhUOjCCy9MS0traUA0Gv3Vr37V9pu4P/nkkwsXLkww4LTTTuvZs2eSt/foo49OsIl7SkrKnXfe2aq3SklJSVlZWdxSWlraEUcc4UEGAAAAAGh3BNwBAAAAAIjjqKOOSk9Pj1sqKytbv359e1nIcccdN2TIkAQD3n777aeeeqotp1RcXHzHHXck2AU/KytrypQp4XA4yXsbiUQuv/zyDh06tDTgo48+evrpp1tvAsuXL29sbIxbOmAbDzIAAAAAQLsj4A4AAAAAQBy9e/duKR9cXV29fPny9rKQnJycSy+9NEFYPBaL3XLLLW22osbGxttvv/3TTz9NMGbcuHFDhw5N/t4GQXD00UefeuqpCcZMmzatpU3W99y7777bUunwww/Py8vzIAMAAAAAtDsC7gAAAAAAxNGxY8f+/fu3VP3ggw/a0VpOO+20wYMHJxiwatWqa665pq6urg0m88orrzz44IMJBmRkZPzsZz9rafv8pBIKhcLh8E9+8pPs7OyWxnz88cd///vfW2kCH374YUulIUOGpKb6RxAAAAAAgPbHd7sAAAAAAMQRDodHjRrVUvWdd95pR2vp0KHDtddemzgy/uyzz/7+97+PRqOtOpOlS5f++Mc/Tpyk/853vnPssccGQdAuehsEwZAhQyZMmNDSgFgsdt9995WXl+/1S2/evHnFihVxS6mpqSeeeKKnGAAAAACgPRJwBwAAAAAgvjFjxkQikbilpUuXbt68uR2t5Zvf/OZZZ52VYEAsFrv++usfffTRWCzWSnNYvXr1//k//2flypUJxnTv3v2mm24Kh8OhUKhdNDYUCqWmpl511VU5OTktjVm4cOHzzz+/1y+9cuXKdevWxS316NEjwe8fAAAAAAAgmQm4AwAAAAAQRxAEBx988IEHHhi3WlxcnDionWwikcivfvWrPn36JBhTW1t7+eWX//Wvf93r+7gHQbBq1arJkye///77CYaFw+Ff/vKXffr0aS/bt3++ukGDBp1xxhkJBvz2t7/d65u4v/322y39pAYNGtSlSxdPMQAAAABAeyTgDgAAAABAHKFQKD8/f+TIkXGr0Wj0jTfeaF8r6t279x133JGRkZFgTFVV1WWXXXbvvfc2NDTsxUsvWrRo0qRJb731VuJh3/nOdyZPnhzapn3dKpFI5LLLLsvOzm5pzEcffTRjxoy9eNEgCBL0M0HaHgAAAACAJCfgDgAAAABAiyZNmtRS6bXXXtvrO523tokTJ1555ZWpqYm+G6+pqbnqqqsuvPDClStX7uFO6kEQ1NbWPvrooyeddNKHH36YePDAgQPvuuuuzMzMdnqrDB48eMKECQkG3HXXXRUVFXvrcmVlZR988EHcUl5e3qhRozy8AAAAAADtlIA7AAAAAADxBUEwdOjQ7t27x63Onz9/06ZN7WtF4XD42muv/e53v5t4i/RYLPbYY4+NHj162rRpJSUluxdzr6ure/vtt88555zvfe97GzZsSDz4wAMPfOSRR7p3776Hkfp9KC0tberUqTk5OS0NWLRo0VNPPbW3LvfRRx+tX78+bunoo48+8MADPb8AAAAAAO2UgDsAAAAAAPGFQqFu3bqNHTs2bnXjxo3vv/9+u1tUTk7OtGnTEu81vt3q1auvuOKKE0444Ve/+tWiRYvq6up25vxBEGzcuHHGjBnnnHPO+PHjZ86c+aX73Hfv3v2vf/3rUUcdFQRB4uR9khs6dOg3v/nNBAN+97vflZWV7fmFgiCYNWtWY2Nj3OrZZ58diUQ8vwAAAAAA7ZSAOwAAAAAALQqFQhMnTkxNjfNlcjQafeWVV2KxWLtbVKdOnR5++OGTTz75S0fGYrElS5bccMMNxx133CmnnHLLLbfMnj176dKlGzdurK2tjUajsVisoaFhy5Yta9asmTdv3qOPPnrBBReMHDnyzDPPnDFjxtatW7/0EkVFRY8++ujxxx+/vdvt+m6JRCI/+clPMjMzWxqwePHi559/fs8vVF9fP2vWrLil/Pz8MWPGeHIBAAAAANovW5gAAAAAAJDIcccdd+CBB65YsaJ5adasWVVVVXl5ee1uUV27dn388ccvvfTSZ5999kt3WE9JSamoqHh9m5SUlA7bZGVlRSKRUCgUjUYbGhqqq6srKiqampp2aRqHH374ww8/PHz48P3jVgmCYPjw4ePHj58+fXrcAbFY7L777ps0aVKnTp325ELLli1btGhR3NLxxx/fu3dvjy0AAAAAQPtlB3cAAAAAABLp3LnzpEmT4pZWrlz5wQcftNN1FRQUPPzww9dcc01ubu4u/cGqqqr169cvX7586dKlS5Ys+eSTT1avXr158+ZdSrdHIpFTTz31f//3f4cPHx4Ewf5xq4RCoXA4fPXVV2dlZbU05j//+c+zzz67hxd68cUXq6urmx8Ph8PnnntuWlqaxxYAAAAAoP0ScAcAAAAAIJFQKHT22WdnZ2c3LzU2Nj7//PPtd2k5OTk33njjk08+edhhh7XldQsKCu64444nn3yyd+/eQRCEQqH95m4JgmDIkCETJkxIMObee+8tLy/f7UvU19e3FJHv06fPmDFjPLMAAAAAAO2agDsAAAAAAF9iwIABI0aMiFt68cUXy8rK2u/SwuHwhAkTXn311e9///uZmZltcLmTTz755Zdfnjp1ak5Ozvb3B/anWyUUCkUikcsvvzxBMxctWjR9+vTdvsSiRYs++uijuKWJEycWFBR4YAEAAAAA2jUBdwAAAAAAvkRGRsb3v//9uFHslStXzpkzp70vsHv37g888MCsWbMmTJiwPXe+16WlpQ0fPvzxxx+fOXPm4MGD9+8bZtiwYePHj08w4De/+c1ub+L+2GOP1dXVNT/eoUOH733ve55WAAAAAID2TsAdAAAAAIAvN378+MMOOyxu6eGHH45Go+19gaFQ6LjjjnvuuedefvnlH/zgBz169AiHw3vx5P/93/89a9ass88+Oy0tbf/buH0HaWlpV1xxRXZ2dksDFi9e/NRTT+3GmTdv3vz3v/+9pVv00EMPDYLA0woAAAAA0K5FtAAAAAAAgC+Vl5f3wx/+cOrUqc1Lb7755pIlS4444og9vEQoFBowYEBeXl7can5+fiTSit9pb0+cp6enjxw5cvjw4evXr3/zzTdnzpw5d+7cdevWNTQ07MnJgyD429/+ds455xxxxBGtHW3Py8srLCxMTY2zwU04HM7IyGibG2b48OFnnHHGa6+91tKA55577rzzzsvNzd2l07788ssrV65sfjw9Pf3HP/5x3FUDAAAAANC+hOxl0komT578+OOPb//v/v37f/zxx3oCAAAAALRrn3322THHHLN27drmpZ///Oe33Xbb/rfkWCxWWlr6ySefzJs37/333//kk0/KysoqKytrampqa2uj0egufcc+ePDgmTNnHnDAAa06582bN1dVVbUUoy8sLEywsfreVV5evmXLlpaqoVDogAMO2L6f/U5qaGiYMGHCrFmzmpfGjBnz4osv7tLZAAAAAACS0COPPHL++edv/++srKwVK1YUFRV91ZpgB3cAAAAAAHZKt27dpkyZctNNNzUvPfPMM1deeWXXrl33syWnpqZ23ebYY4/dnnffuk19fX1DQ0MsFvtiwP2NN9648sora2trWzrbvHnzzj333GeeeaZVG9Vlm2ToXqdt9uIJ//3vf7/11lvNj0cikalTp0q3AwAAAADsHwTcAQAAAADYKaFQaMqUKX/+85+bb+K+cuXK6dOnX3TRRft3B1JTUztu07wUBMFhhx0Wi8V+9rOfJci4z5kz5/vf//5f/vKXzp07u6N2STQaffDBB+P2dtSoUSeeeKIWAQAAAADsH1K1AAAAAACAndSzZ88LL7yw+fEgCP70pz9VVVV9ZTsTCoVSU1MvuuiiX/7yl+np6QlG/uMf/5g6depXuVe7Z/ny5dOnT29+PD09/corr8zOztYiAAAAAID9g4A7AAAAAAA7a/sm7j169GheWrBgwZw5c77i/YlEIldcccVPfvKT1NQWv34PguCxxx675ZZbGhsb3VE774knnigtLW1+fMSIEWPGjNEfAAAAAID9hoA7AAAAAAA7KwiCnj17XnbZZc1LTU1Nd999d11d3Ve8RWlpab/61a9+9KMfhUKhBG2866677rzzzqamJjfVzli3bt1DDz3U/HhGRsZ1112XlZWlRQAAAAAA+w0BdwAAAAAAdtb20PYPfvCDww8/vHn1zTfffO2113QpPT39zjvvnDJlSuKM+0033XT//fdHo1Ed+1IPPfRQcXFx8+OnnXbaCSecEASBFgEAAAAA7DcE3AEAAAAA2DWdO3e+5pprUlN3/IY5Go3efvvtNnFPSUnJzs6+6667zj777ARjGhoarrnmmsceeywWi+lYAmvXrn3wwQebH8/Ly7v22msjkUiCFwkAAAAAAGh3BNwBAAAAANhlZ5555vHHH9/8+L/+9a+XX35Zf1JSUvLz83/3u9+NHTs2wZjq6uqpU6fOmjVLuxJ44IEH1q9f3/z497///YEDB+oPAAAAAMB+RsAdAAAAAIBdlpWVdfPNN2dnZ+9wvKmp6fbbb9+6dasWpaSkFBQUPProoyNHjkwwpqKi4vzzz3/77beDINCx5pYvX/7QQw81P96nT58rrrjC3u0AAAAAAPsfAXcAAAAAAHbHiBEjLrjggubH33///b/97W/i2tsVFRU98cQTxxxzTIIxJSUl55577vz587VrB01NTffcc09JSckOxyORyHXXXde9e3ctAgAAAADY/wi4AwAAAACwOyKRyM9//vODDjpoh+PRaPSOO+7YuHGjFqWkpARB0KtXr0cfffTII49MMGz16tXnnXfe0qVLdeyL5s+f/+ijjzY/Pnbs2HPOOUd/AAAAAAD2SxEtAAAAAABg9/Ts2fPaa6+9+eabd9ivvaam5qWXXjr//PO1KBQKpaSkHHLIIY888sgvfvGL2traBIP/3//7fzfddFN6erq+bX834PHHH8/Pz+/UqdMXj2dkZNxyyy3Z2dlaBAAAAACwXxJwBwAAAABg95133nmnnXZa8+NpaWma87kgCAYNGvTiiy9qxS658cYbr7/++h0OhsPhvLy8IAi2vzwAAAAAAMB+RsAdAAAAAIDdF4lECgoK9CExUezda9oOe7cDAAAAAPBVkKoFAAAAAAAAAAAAAAAkAwF3AAAAAAAAAAAAAACSgoA7AAAAAAAAAAAAAABJQcAdAAAAAAAAAAAAAICkENECAAAAAEgSjY2Nq1evbmho6NWrV05OTigU0hMAaD1VVVVr1qzJzMzs3bt3JOJfzQAAAAAgKdjBHQAAAACSQl1d3dVXXz18+PBjjjnmrLPOKi4u1hMAaD1r1qyZOHHiMcccM2zYsBtuuKG+vl5PAAAAACAZCLgDAAAAQFJ45pln7r333tLS0urq6hdffPHGG28MgkBbAKA1BEFw1VVXzZ49u6amprS09Pbbb585c6a2AAAAAEAyEHAHAAAAgH0vFou99dZbX0y0v/nmm7aSBYBWsmXLlnnz5n3xL+LZs2drCwAAAAAkAwF3AAAAANj3giCoq6v74pGmpqbGxkadAYDW0NTU1NDQ8MUjNTU12gIAAAAAyUDAHQAAAACSVCgU0gQA8PcsAAAAAHylCLgDAAAAAAAAAAAAAJAUBNwBAAAAAAAAAAAAAEgKAu4AAAAAAAAAAAAAACQFAXcAAAAAAAAAAAAAAJKCgDsAAAAAAAAAAAAAAElBwB0AAAAAAAAAAAAAgKQg4A4AAAAAAAAAAAAAQFIQcAcAAAAAAAAAAAAAICkIuAMAAAAAAAAAAAAAkBQE3AEAAAAAAAAAAAAASAoC7gAAAAAAAAAAAAAAJAUBdwAAAAAAAAAAAAAAkoKAOwAAAAAAAAAAAAAASSGiBQDsr5577rkPP/wwFAo1L51++ulDhw7d1RMGQfDAAw+sW7cubvWii/4/9u48Lsqqf/w/swHDvouAKIKiaImK+5Km3ppmuGSiuX6stM3bMsstSzNLy26ztLvMXTJz15tc0xRNyz1REREBkR3ZYZjt+j1+zOPRt0fOXKLMAAOv5189PG+u61znnJnmzLzPOa8EBgbS7AAAAAAAAAAAAAAAwFyOHDly4sSJB/9dr9f379//6aeffoxr/vDDD9evX3/w33U63fjx48PCwmh2AEDtIsEdAFBv7du3b9OmTUaLAgICHi/Bfd26defOnTNaOnjwYBLcAQAAAAAAAAAAAACAGR0/fvyTTz4xWqRQKB4vwX379u179uwxWtS5c2cS3AEAtY4EdwANmiAIhYWFaWlp9+7du337dnJyclZWVn5+vkql0mg0CoVCqVR6eHg0atSoWbNmISEh/pWcnZ2NbgqOukakmx67B6VSKQ0LAAAAAAAAAAAAAKg7BEEoKSlJS0tLT09PTExMTk7OzMzMz88vKyvTarUymcze3t7d3b1Ro0ZNmzYNCQkJqOTq6kryg1WwRPKDJa4JAIAZkeAOoMHR6/WlpaXXrl07derU0aNHb9y4kZubW1ZWVpW/dXJy8vb2btu2bf/+/Xv27BkaGqpUKsl4BgAAAAAAAAAAAAAANUkQhLKysps3b54+ffro0aNXr17NyckpKSmpyt86ODh4eXm1atXKkPzQtm1bR0dHkh8AAEDdQYI7gAY0tdNoNNevX9+1a9fevXsTEhJUKtWjXqSk0p07d/bv3+/o6BgWFja8UkhIiFzOOyoAAAAAAAAAAAAAALAsrVZ769atPXv27N69+9q1a1Xc0e/vysrKUisdPnzY3t6+ZcuWkZGRI0eObN26ta2tLS0MAABqHemYABrK7O7s2bMrV648fPhwYWGhWa5ZWlp6rtIXX3wxdOjQN99888knn5TJZLQ2AAAAAAAAAAAAAAAwO51Od+XKla+//nrfvn15eXlmuaZKpfqz0sqVKwcOHPjvf/+7c+fO7PEHAABqF59FANRzgiAkJyd//PHHP/74Y2lpqSVukZubu379+t27d7/00kvvvPNOo0aNaPZ/yMzMfOWVV4qKih4scnV13bhxo5ubG60EAAAAAAAAAAAAAIBRgiBkZmZ+/vnn69atKygosMQtCgsLf/rpp5iYmDFjxsyfPz8wMFAikdDy/2iiqVOnZmZmPlhka2u7bt26gIAAWgkAALMgwR1AfVZeXh4dHf3BBx+kp6db+l4FBQWff/75vn37Pv300yFDhnBo19+pVKpTp07l5+c/WOTp6anRaGgiAAAAAAAAAAAAAACMUqvV+/btmzNnTmJioqXvVVpa+v333x88ePCjjz4aPXq0Uqmk/f+i1WrPnj2bkpLyYJGdnV15eTlNBACAuUhpAgD1kiAIqampU6ZMmTp1ag1kt/8lISEhKipq5syZOTk5giDQEQAAAAAAAAAAAAAA4LFlZ2fPmDFj7NixNZDd/pe0tLSXXnrp5ZdfTktLowsAAEDNI8EdQD0kCMLFixefe+65rVu36vX6Gr67Wq1etWpVVFRUUlISfQEAAAAAAAAAAAAAAB6DIAgJCQnPP//8N998U/NHo+t0uujo6MjIyMuXL7PBHwAAqGFymgBA/ZvgnTlzZsyYMampqVX8E4lE4uvr27x58zZt2oSGhvr5+bm5uSkUCrVaXVBQcO/evfj4+GvXriUlJWVnZ1exDseOHRs5cuT27dtbtGhBpwAAAAAAAAAAAAAAgEdy48aNF1544dq1a1X/E29v76CgoLZt24aGhgYEBLi5udnZ2Wk0msLCwvT09Fu3bl29ejUpKanqJ+FfvHhx5MiR27Zti4iIoEcAAECNIcEdQL0iCMKpU6dGjx6dkZHx0GCpVBoQEDBo0KCRI0c++eSTjRo1kkgkpoJ1Ol1WVtalS5e2b99++PDhrKysh+4Nf+XKlcjIyJ07d7Zu3ZquqTccHBycnJyMFslkMtoHAAAAAAAAAAAAAFB9V69eHTly5K1btx4aKZVKfXx8BgwYMHLkyIiICF9fX5EfrwVByM7Ovnr16s6dOw8cOHD37t2HJj8kJSUNHz58x44dnTt3FkmrgHVRKpVGkx90Op1cTkohAKD28X8jAPXK+fPnX3zxxYdmt0skktDQ0KlTp77wwgt+fn5VubJMJvOrNHjw4Lt370ZHR3/33XfJycnif3Xjxo0xY8bs2LEjJCSE3qkHJBLJ9u3bTR395uHhQRMBAAAAAAAAAAAAAKrp5s2bo0ePrkp2e9OmTV966aVx48Y1bdq0KtnnEomkUaX+/ftnZmZu3779m2++iY+PFwRB5K/S0tKioqJ27drVvn17eqd++Prrr5cvX/7gvwuC4O7uTvsAAGodCe4A6o+kpKSJEyfevXtXPMzR0fHVV1996623qpja/qDAwMDZs2ePHTv2008/3bBhg0qlEgm+cuXK1KlTf/rpJ09PT/rI2kkkEvoRAAAAAAAAAAAAAGA5WVlZU6ZMuXHjhniYnZ3dhAkT5syZ06xZs8fbWN3X1/fNN98cNWrUihUrVq1aVVJSIhKcnJw8efLkffv2BQYG0kf1AFnsAIA6TkoTAKgfSktL//3vfz90ghcQELB169alS5c+dna7YVookUiaNm26cuXKb7/99qEZz8eOHVu0aJFWq6WbAAAAAAAAAAAAAACAKWq1+v333z99+rR4mKen57fffrt69eqgoKDHy27/i6+v75IlS7Zu3RoQECAeeeXKlVmzZpWVldFNAADA0khwB1Af6PX6FStWxMTEiIe1a9cuJiZm6NCh1Zzd/UWhUEyYMGH37t3NmjUTj1y9evX27dvpKQAAAAAAAAAAAAAAYJQgCNHR0evWrRMPa968+e7duydOnCiXy81yX6lU+uyzz8bExDz55JPikdu3b//uu+/0ej2dBQAALIoEdwD1wZkzZ5YtWyYIgkhMx44dd+zYYZiMmSvB3TC97NWr165du0JCQkTCtFrte++9l5iYSGcBAAAAAAAAAAAAAIAH3bx5c+7cuTqdTiQmJCRk+/btvXr1Es+ReFSCIDz55JM7d+7s0KGDeNiiRYsuXbpEZwEAAIsiwR2A1SspKZk7d25RUZH4BG/z5s0hISHmneAZcuUFQQgPD9+4cWOjRo1EIu/evbtw4UKtVkuXAQAAAAAAAAAAAACAv1Or1fPnz8/MzBSJ8fX13bx5c4cOHQRBMOPWfn8lPxiSK5o3by4SmZ+fP2fOHJVKRZcBAADLIcEdgNXbtWvXyZMnRQKUSuWqVatat25t3r3b/z7Nk0gk3bp1W7Jkifj5Xzt37jx16hRdBgAAAAAAAAAAAAAA/u7YsWP79u0TCZDL5cuWLevatavlkh9sbGzCwsK++uorpVIpXtW9e/fSZQAAwHJIcAdg3e7fv79kyRLxCdg777zTv39/s+/d/uCNxo8fP2bMGJGY8vLypUuXso4ZZiRU0ley9CCvH01kQLMAAAAAAAAAAAAAqDvKyso+/vhjjUYjEjNp0qTRo0fXQGUGDhw4ffp0kRx6nU63dOnSwsJCOg7mQvLDIzXRX/kPNAuAekxOEwCwaj/88MPNmzdFArp37z5z5kyptCbW8ygUik8++eT06dNJSUmmYo4dOxYbGztgwAD6Do83XVGpVPn5+VlZWUlJSRkZGXl5eSUlJRqNRiaTKZVKR0fHxo0bN2nSpFmzZl5eXs7OzjUz+B+VTqcrLCy8f/9+cnJyWlra/fv3DU+hUCg8PDz8/f2DgoJat25tZ2f3GFcuLi4uKChIS0tLSUnJzc29f/++SqVSq9WCIMjlcoVC4eTk5Ozs7Onp2ahRIz8/P3d3d8dKMpmMMQYAAAAAAAAAAACg5h06dOjs2bMiAaGhoQsXLrS1ta2Byshksvfee+/YsWPnzp0zFXPlypU9e/ZMnDiRvsNjEARBrVbn5+dnZ2ffuXMnPT09Nze3uLhYo9FIJBKlUung4NCoUaPAwMBmzZp5e3u7uLjUzR/09Xp9UVHR/fv3U1JS0tLScnNzS0pK1Gq1XC53c3Pz8/MLCgoKCwtzcHB4jCuXlJQUFBTcu3cvJSUlJyfn/v375eXlarVar9cbkh8cHR2dnJw8PT19fHz8/Pw8PT0NyQ9yOUmhAOoD3ssAWLGioqI1a9aIBNjb28+fP9/V1bXGPn/7+/vPnj176tSpplZJqtXq1atX9+3b95E+TZaVlcXHxxu9poODQ2hoqHmTmPPz82/fvv3gamxBEDw8PIKCgkQWaguCkJqampOT8/eY9PR0nU5nNF6r1V65csXd3f1Rm9rX1zcgIKDmp1g3b94sLS019YWCk5OThW5dXFwcFxd34MCB3377LSEhITs7W1fpwVEhlUplMpmDg0OLFi3atWs3bNiwzp07e3t7m/2Iuvj4+JKSEqOXDQ4OdnNzM9qAmZmZp06d+t///nfp0qXk5GSVSqXT6fR6/V8xEolEJpPJ5fIzZ86Eh4dXsTI6ne7u3bunT58+dOjQtWvXkpKSysrKDE1kNF4ikUgryeVyQ0p9SEhIx44du3Xr1rx5c29v77q5MAAAAAAAAAAAAABA/VNRUfHNN99otVpTATKZbPbs2X5+foIgmP2X3wcJguDu7j5v3rxRo0aZ2lRer9d/++23zz//vKOj4yM96Y0bN4z+jGtra9u6dWvzJuaWlJSY2jPRycmpRYsW4r8LZ2Rk3Lt37+8NXlBQUFFRYapBrl27VlRU9KhN7enpGRQUVPOj7vbt2wUFBUarFBISYvQXf7MoKyu7cePGoUOHYmNjb968mZGRodVqRZIf7O3tg4OD27Zt+9xzz/Xo0cPX19fsv+YnJiYWFBQYfWU1adLEx8fHaCvl5eWdOXNm//79Fy5cMJWiYEjKP3DgQNX3wdTr9enp6b///vuBAweuXr16+/btkpISrVYrsrG9oaFkMpmbm5u/v39wcHB4eHj37t1DQkJ8fX3Z6Q+A9SLBHYAVi42NvX79ukjAgAED+vXrV2P1MXzYHTNmzLfffnvhwgVTYb/88ktiYmKrVq2qfuWEhIRu3bqp1eoHizp06BAbG/sYaz1FHDt27PnnnzdaNHr06OjoaJGPv4IgLF68+Pvvv6/ivQoLCx9vP/uZM2d+/vnnNTzkBEGYNGnS77//brT09OnT3bt3N/sdc3JyduzYsWHDhitXrhgdAw/OdvR6fWFh4flK69evDwkJmVjJz8/PjF92TJ482egWAjKZbNeuXc8999w//v3evXtr1qzZvHnznTt3RM7JEgRBW+nvWe8idDrdxYsXv/3225iYmMzMzKo3rGFuqdFo7lX6448/fvjhB7lc3rRp065du44cObJnz55eXl418PUQAAAAAAAAAAAAgIYsLi7u9OnTIgERERGjR4/+Ky3B0gx3GTx48NNPP33o0CFTYRcq9e7du+pXzszM7NOnT2Fh4YNFTZs2vXDhgqenp3kbtlu3bkaLevbsefToUfFDxdeuXfv+++9X8V4ajWb48OGPUcmxY8dGR0fX/KibNWvW7t27jRbt3r172LBhZr9jfn7+/v3716xZc+HChfLy8ofGG5IfNBrN5UrR0dGBgYFjxox5+eWXxXdmfFTvvPPO3r17jRatXr361Vdf/cc/5ubmbtq0ac2aNQkJCeKJDYZ8d1Mb8z34vNevX1+zZs2ePXtSU1OrXv+/Giqz0oULF3766SepVNqkSZOIiIiRI0f27t3bvOkiAFAz2J0UgLXS6XRbt24VWcGsUChmzJihUChquGJOTk5vvPGGSEBxcfH27dvpQYgTBCE3N3f58uWdO3d+/fXXz507V5XsdqMzmYSEhHnz5nXu3PmLL74oKCgQSS63kNLS0tWrV3ft2nXhwoVJSUnmqoBer4+Pj588efJTTz21du3aqme3i9Bqtbdv346Ojh4xYkSHDh02btzIUAQAAAAAAAAAAABgOYIgbN++vaysTCRmxowZSqWyhiumUCjeeustkf3v1Gr11q1ba/4HaFjdCC8sLPzuu++6des2ceLEU6dOVSW73eh1UlJSPv300y5duixYsCA7O7vmx55KpYqOju7evfvMmTPj4+OruG1fFR9t+vTpPXr0WLly5SNlt5ui1+tTUlJ27tw5duzYjh07fvbZZwxFAFaHBHcA1iojI+Po0aMiAV27du3Ro0etTKWGDBkSEhIiErBjx47S0lI6EaZoNJr9+/f3799/1qxZKSkpZrlmenr6O++888wzz5w5c8Zcs6yqTMOSkpLGjh375ptvpqWlmfHKarV6/fr1Tz/99ObNmx9v9vtQaWlp4mdEAAAAAAAAAAAAAEA1FRcXm9pI2yAsLOyZZ56p+eQHQRB69erVsWNHkZiYmJjc3Fw6EabodLoTJ04MHjx42rRpN2/eNMs1c3NzFy9e3L9//0OHDlVxc3SzyMjImDZt2uTJk2/dumXGy2q12l27dvXr12/VqlVFRUWWqHlWVtaVK1cYjQCsDgnuAKzVmTNnsrKyRAL+7//+z87OrlZO2PHy8hoxYoRIQHwlOhFGFRUVzZs3b8yYMZaYYJw9e3b48OGbNm0SOf3AjOLi4kaMGLFv3z7zptSrVKoPP/zwtddey8jIsGj9OaILAAAAAAAAAAAAgEX9+eeft2/fFgkYO3asi4tLzf92KZFIHBwcJkyYIBJz9+7dCxcu0IkwSqVSffbZZ8OGDfvtt9/MvkLj6tWro0ePXrFiRUVFRQ08S3JyclRU1MaNGzUajRkvq9Fovvrqq0mTJom/CZjl5cyABGB1SHAHYK0OHjwoUurh4dGnT5/aqptEInn22WdtbW1NBajV6iNHjtCJeND9+/enTJny+eefi59AVx3Z2dmvvvrqunXrLL2Pe3Jy8tixY82epq/T6ZYvX75s2TK1Ws2AAQAAAAAAAAAAAGDVxHehdnBwGDhwYC0mp/br18/FxUUk4Oeff6YT8aCSkpIZM2bMmzevsLDQQrcoKiqaPXv2smXLzJt0/qDs7OwJEyacPHnSvJcVBGHTpk2zZ88uKSlhwADAg+Q0AQBrVFpaeurUKZGArl27BgYG1mINw8PDW7Roce3aNVMBJ06ceOedd+Ry3ofx/2RlZY0bN+7o0aNV/b94JZlMZvg6Q6/X63Q6jUbz0Mx1lUo1ffp0qVQ6ZcoUC30Vkp+fP2nSpLi4OLNP8P73v/8tXry4igeNyWSyv5rI8KRCJUNbabXamj/IDwAAAAAAAAAAAAAMdDrdsWPHRAJat27dpk2bWqxh8+bNO3bsePz4cVMBsbGxKpXK3t6e3sRfCgoKpk2btm3btirGG5IfpJUMyQ96vV6j0Tw0MUCr1S5cuFAmk7377rsWysApLy9/7bXXYmNjzX7lM2fOzJw5s4pb+xmSHwxNRPIDgAaCxEoAVik5OTktLU0kYNCgQYZPvbXF2dm5c+fOIgnuV69eLSgo8PLyqn+94+XlFRgY+Pe0aa1Wm56ebvTDtFQq9fPzk8lkj3QLvV7v7u5ez9otNzd34sSJD81ul0qljRo1at++fadOncLCwgICAry8vOzt7SUSSWlpaUZGxq1bt86dO3fixInk5GSRZcoVFRUzZ8709/d/5plnzP4sWq12wYIFJ06cMFpqa2vr5eXVvHnzoKAgHx8fR0dHvV5fWlqamZl569atlJSUvLw8Uzn6mZmZs2bNUqlU4vM6X1/fdu3adejQoWXLlv7+/l5eXs7OzgqFwnB+Qnl5eV5eXnZ2dkpKyp07d+Li4hITE/Py8sQvCwAAAAAAAAAAAADmZfiRVCTgqaeeqt3ccVtb2z59+ogkuN++fTs9Pb158+b1r3fc3NwCAgL+ns+g1+vT09NNZV37+fkZfpWuOkEQ6l/eSHFx8fTp0x+a3S6RSLy9vZ944okuXbq0adOmSZMm3t7eSqVSKpWWlZVlZ2cnJiaeP3/+xIkTt2/fFvk1X6fTLVq0qEmTJuPGjTP7Bn96vf7LL7/cvXu30VK5XO7p6RkUFNS8eXNfX19HR0dD5kZ2dvatW7eSk5Nzc3O1Wq3Rvy0qKnrrrbfEt7eXSqXe3t5t27aNiIgIDQ0NCAjw9vZ2cXGxtbWVSCRqtVqlUuXl5eXk5KSmpt65c+fatWsJCQm5ubllZWW8uwKoB0hwB2CVbty4IfJpzM7OLiIiotYr2adPn/Xr15sqzcnJuXPnTv2bqEgkkg8//HD+/Pl/nzakpKT06NEjPz/f6ITw9OnTj9oOgiA86rSwjisvL581a9ahQ4dEYmQyWceOHadMmTJw4MDGjRvb2to+GNOqVau+fftOmTKloKDgyJEjK1eu/P33300lixcVFb3++utHjhwJDg427xg4cuTIxo0bHyzy8PAYMmTIqFGjOnTo4OXlZVhe/NfaYsP28/fu3fv111/Xrl1rdNnD2rVrRb7fkUgkERERr776av/+/Rs1amS0iR6cjmo0mvz8/KtXr8bGxv7888/iby8AAAAAAAAAAAAAYC63b9/OyckxVSqTybp3726hQ7mrrlu3bnK53FSebnFx8Y0bN+plgvvUqVMnT5789/bPy8vr0aPH3bt3Hwy2tbU9ePDgo/74LghCPTv5X6vVLlmyZMuWLSIxEomkTZs2U6ZMGTJkSGBgoJ2d3YMxoaGhvXr1mjhxYnFx8cmTJ1euXHn8+HFTSwsqKirefvvtsLCwjh07mvdxLl26tHv37geTLpydnQcMGBAVFdW5c+dGjRr9/ex9w67qGo0mKyvr1KlT3333ndH8lp9++uncuXMit27Tps2rr746aNCggIAAQ0b7Q8eSRqMpKiq6du3a6dOnY2Jirl69WlxczNssAOtFgjsAq3T+/HmRUg8Pj9DQ0FqvZEREhJ2dXUVFhanP9NevX+/UqVM96xqJRGJX6e//qFQqReKVSqWDg0MDH9KbNm3avHmzSECjRo3ef//98ePHOzs7P3TeIpPJPD09o6KinnnmmZUrV3766aemMrbv3Lnz0UcfrVmzxowLBrRa7YYNG/6xflomkz333HMffPDBE088YfR0BYlEYjh0LKRSVFTUgwnuhYWFItNgOzu7WbNmzZw5083Nreq1lUqldnZ2vpUGDBgwe/bsy5cvb9y4cd++fZmZmbzZAgAAAAAAAAAAALCcS5cuiZTa29t36NCh1ivZpk0bFxeX+/fvmwq4ePHikCFD6l/vKCr9/V/Ky8uN/t5t+Mnb3t6e5IeYmJgvvvjC6An/Bm5ubrNmzZo6daqHh8dDkx+kUqmrq+vQoUP79eu3fv36+fPnFxQUGI3Mzc2dM2fO3r17RRJUHsMPP/xQXl7+j45++umnP/roo06dOhldnCCRSGSVmlYaPnz4g62hUqk2btxoqpXkcvnLL7/84Ycf+vj4VL2qEonEcJz+U5Xefvvt69evR0dH79ixIzU1lTdbANZIShMAsEZXrlwRKQ0ODnZ0dKz1Snp7e4t81tTr9fHx8XQlbGxs4uLi5s+fb2qpsY2NTa9evY4dO/b666+7uLg80up8FxeX+fPnb9u2TWQo/vDDD4cPHzbvE/0ju93V1fWrr77atm1bu3btqlh/JyenB6edFy5cSEhIMPXNwrJlyxYtWvRI2e0PcnBw6N69+7fffnvu3LmPP/44MDCQ8QkAAAAAAAAAAADAQuLi4kRK/f39PTw8RHKFa4aLi0vTpk1FAq5fv05XwsbGJjU1dcaMGWq12lRAu3btDh48OGfOHE9Pz0dKflAqla+//vq+ffuaNWtmKuaXX37ZsmWLeV8v/8huVyqVH3300f79+7t162b0UPoHOTg4PJjCdOvWrQsXLhiNl0gks2fP/uqrrx4pu/1BhuUxy5cvP3fu3JdfftmyZUvGJwCrQ4I7AOtTXl5+7949kYDQ0FAzbkf92Dw8PBo3biwSkJSUZOoMLzQcFRUVs2fPzs3NNRUwfPjwnTt3hoWFPcY0zDAhHDJkSHR0tJeXl9EYjUazdOlSU1u8V5+np+eWLVumTZtmeFVW5/i8w4cPm2qE559//rXXXjPj2XwBAQFz58595ZVXGKIAAAAAAAAAAAAALEGr1aakpIgENG3a1NHR0Yw/gz4eR0dH8QT3u3fv/mMTNDTM8bxw4cLk5GRTAb179967d2+XLl0eY0hLJBJBEHr16rVz505To1Gv1//nP//Jy8uz0AM6OTmtWrVq9uzZht36qvPCPHXqlKmXzNNPPz1nzpwqZs9XhY+Pz/Tp0+fMmcMQBWB1SHAHYH2KiopEjr6ysbEJCQkxdSZUTZLJZMHBwSIBqampIpt2o4GIiYk5dOiQqdK+fft+++233t7ejz07klTq16/fZ599ZmtrazTm9OnTR48etcTTKZXKL7/8cvDgwdX/zkWv15vavcDOzm769OlGD/+qprqwVAYAAAAAAAAAAABAvVReXp6ZmSkSEBQUZImfQR+VRCJp0aKFSEBWVhYJ7jh79uy2bdtMlbZr127z5s1NmzZ97B3WDTnu7du3/+abb5ycnIzG3LhxY+fOnZZ4OplMtnDhwgkTJlQ/9VwQhLi4OKPtIJPJ3nzzTQcHB7PXn+QHANaIBHcA1qesrKyoqMjk+5pU6uvrW0eqGhgYKD7HI8G9gSsvL1+xYoWpjfwbN268atUqQ3Z79b9xGDt27HPPPWe0VK/Xr1271hIH202YMCEqKsosC05UKpWpL3f8/f3btm3LcAIAAAAAAAAAAABgRdRqtfhu0/7+/nWkquI1ycvLU6vVdGhDptFovv7669LSUqOlLi4u33zzjSGFpjq74xk2+BswYMCUKVNMxWzYsMESo3Ho0KFvvPGGWTZWFzm6wc3NrVOnTgwnADAgwR2A9SmtZPJ9TSr18fGpI1X18/MTKS0pKSkrK6NDG7LY2NizZ8+amph98MEHrVu3Nlfeua2t7YIFC1xdXY2WnjhxIjEx0bxP16xZswULFpjr5CyNRlNcXGy0qHHjxo6OjgwnAAAAAAAAAAAAAFakoqJCZHe/h6Yc1KTGjRuLlJaXl4s/COq969ev//zzz6ZK33777a5du5or+UEul7/99tsBAQFGSy9evHjp0iXzPp2np+cnn3xi6sz8R6XX6wsKCowWeXl5ubm5MZwAwIAEdwDWp7CwUK/Xm3xfk0q9vLysYo6n0WhKSkro0AZLq9Vu3LhRo9EYLe3UqdOLL75YzeXLfycIwhNPPBEZGWnqZXXo0CHzPuCMGTPM+IWLXq+vqKgwWqRQKMzVSgAAAAAAAAAAAABQM4qLi00d921Qd46vF6+JXq8vLCykQxssQRB++OEHUzvWhYSETJs2zbD5urluFxgYOG7cOKOlarV679695n3Al156KTQ01IzNpVKpjBbJ5XKznJAPAPWDnCYAYHXEF/5KJBInJ6c6UlVTu2Ub6HS68vJyOrTBSk9PP3r0qKlh/MYbb5h3JBvmipMmTYqOjtbpdA8GHDly5NVXXzXXhuv+/v4vvPCCeeuvUCiMFmVnZ6vVanOtlgYAAADqjuzs7EmTJpn6JAwAAKqjoqIiJyeHdgAAAEAtKikpEd/T2tnZuY5U1cXFRaRUEAR292vICgsLd+/ebap08uTJPj4+ZrydIflh7NixK1euLCsrezDgl19+MWMKgaur64QJE8y46Z5EIjFVt/v375eVldnb2zOoAIAEdwBWydRCxr8+CNrZ2dWRqorXRK/Xq9VqOrTBOnv2bHZ2ttGixo0bDxgwwBI3DQ8PDwgISElJebDo8uXLhYWFHh4eZrnRgAEDxE8weFQKhcLUlyapqamJiYlhYWEMKgAAANQzpaWlO3fupB0AAKgZ5jouHwAAAKiiiooK8U+hdSfP1dbWViKRmKqtIAimjuNGQxAXF3f79m2jRc7OziNGjLDEkewtWrQIDQ29dOnSg0UJCQkZGRlNmzY1y426dOnSokULM9ZcKpW6u7sbLcrLy/vzzz/79OnDoAKA//8NkyYAYHU0Go1IqchKx5onl4utIxIEQfy4MdRjgiAcPHjQVOlTTz3l7e1tifu6ubm1a9fOaFFWVlZaWppZ7iKRSCIjI81bc6VSaSpjvqSkZMWKFbyaAAAAUA+mCeIrugEAgKX/X0wjAAAAoCZptVprSXCXVRIJEE/kQP124MABvV5vtKh9+/ZBQUGWmG3Z29t37tzZaFFBQUFiYqK5bjRkyBDznrEpl8tNJd+r1er//Oc/5eXlDCoAIMEdQP1kiaWfgHmVlZWdPn3a1ADu06eP+LcD1Xl1dOrUydQ3DlevXjXLXdzc3MLDw838kUUqFbnmhg0bVqxYQTIQAAAArBoJ7gAAAAAAAKizyMSAUVqt9tdffzVV2qtXLzs7OwsNnq5du5oqOn/+vFluYWdn16NHD7O/lMLDw021yf79+xcuXFhSUsLQAgAS3AFYn4dui153jr4S31JaIpFYKIkZdV9aWlpGRobRIoVC0aFDB8vdOigoyOi/6/X6pKQkc93C19fX7DX/17/+Zeolo9Fo5s6dO3Xq1Li4OJ1OxwADAACANZJKpW5ubrQDAAAAAABAAyGXy8UTf+tO8oNOpxPPfxBP5EA9lpubK5Jp0L17d8vd2lTyg42Nzc2bN81yi0aNGonc5bH17NnT0dHRaJEgCJ999tm4cePOnTvHOfYAGvonJZoAgNWxs7MTD1Cr1XWkquI1kUql5j3GCFbk7t27xcXFRotcXFwCAwMtd2s3NzepVGr0gLDMzExBEKq/eLpFixaW+P4iPDy8devWcXFxRks1Gs2mTZtiYmKGDx8+adKk8PBwBwcHdhEAAACAVZNKpX5+fiyNBgDAEtRq9T92oJBK2RYKAAAANcrW1lY8oO4kuGs0GkEQTJVKJJKHPgvqq6ysrJycHKNF9vb2ISEhlru1s7OzQqHQaDQPFmVnZ+v1+urP8gIDA01loldHcHBwp06djh8/brRUr9fv3bv3+PHjgwcPfumllzp16uTs7EzyA4AGiAR3ANbHxcVFpFSv15eVldWRqprKYDaQyWQODg50aMN07do1U0VeXl5arVZ88FSHYRZnNME9IyNDp9NVPzc9KCjIEgnuLi4u06ZNe+ONN0Ri8vLyvv/++w0bNrRo0WLQoEFPP/10u3btvLy87Ozs+IUSAAAAVsff3//kyZNOTk40BQAAZpebm9u3b9/MzEyaAgAAALXFyclJ/EfMkpKSOlJV8ZpIJBJnZ2c6tGGKj483dcq6Yfc9yyU/aDQauVxuNME9Nze3oqJCqVRW8xb+/v4P3YXzMdjZ2b3++uuxsbEie7QXFRX9+OOP27Zta968+YABA/r379++fXtfX19D8gP57gAaAhLcAVgfNzc3iURianGwXq83tTa05v1jB6B/vgXL5aQpNFgJCQmmihITE9u3b2+52YharTY1RyoqKjKa+P6oGjVqZKHKjx8/ftu2bbGxseJhWq32RqWVK1e6u7u3bt06IiKiY8eO4eHhvr6+rq6uHJAHAAAAqyCXy728vJg5AgBgIewxCQAAgNrl7OwsfnZf3VmQKV4TqVTq6upKhzZMiYmJpopycnK6d+9uua3otFpteXm50aLS0lKR3PGqs1zyw7PPPjt06NDdu3eLhwmCcLvSt99+6+bm1rJlS0PyQ/v27f39/d3c3ORyOcnuAOorsrsAWBlBEBwdHR0cHEpLS40G6PX67OzsOlLbe/fuiZQaHoQ+bZhSU1NF5mC1NYbLy8tFzpWrIqlU6uHhYaEauri4fPnll5GRkXfv3q1KvE6ny83Nja0kk8ns7e2bNm0aFhbWrVu3Hj16hISEuLu7s7M7AAAAAAAAAAAAgBomCIK9vb2zs7Op5AcbG5v09PQ6UlvxmtjZ2YkfxY96LC0tzVSRTqerrR0qKyoqzLK7n4+Pj4VqaGdnt3z58ps3b16/fr2K7xj5+fm/V5JKpXZ2dgEBAWFhYV26dOnZs2doaKiXlxfJDwDqGRLcAVgZiUTi4ODg4uIikuCelZVVR2ornuDu4+PDNtINVn5+fh2sVUVFhVlepPb29parZHh4+Pfffz9+/PhHXQag0+lKS0uvV9qxY4etrW3z5s179+49atSoiIgIV1dXljUDAAAAAAAAAAAAqBkSiUShUHh4eIhsji6eclCTxI+v9/Dw4HykBuv+/ft1sFYajcYsCe5KpdJylQwKCtq4ceMLL7xw586dR/pDvV5fXl5+q9LevXvlcnmzZs26des2atSobt26eXp6kvwAoH5g1Q4A6+Pi4iK+P/Tt27fN8jm1mvR6/a1bt0QCAgMDxY8bQ32l0WhMnZNVu3Q6XfV3cK+Bw53/9a9/7du3r2PHjtWZlanV6vj4+O+++27AgAGdOnWaN2/e1atXNRoN4xMAAAAAAAAAAABADVAqlb6+viIBycnJOp2uLlRVPPnB19fXonnAqLP0er3IEQS1yFwvHDs7O4vWMyIiIiYmpk+fPtVJH9JqtYmJiZs3b37uueciIiJmzJhx7tw5s+xvCAC1iwR3ANbHwcGhcePGIgHx8fFarbbW65mfny++iDkoKIgE94ZJq9XW70Rqi557JZFIBEHo0qXLwYMH33//ffF3gypKTEz85JNPevXqNWXKlAsXLtSFNxAAAAAAAAAAAAAA9ZtCoWjSpIlIQHJycl3IHi4rK0tOThYJ8Pf3t+gp36iz9Hq9Wq2uxw9o0eQHGxsbQRBat269d+/epUuXNm3atPo7r6ekpKxcubJv375jxoyJjY1ljz8A1v0mTBMAsEZPPPGESOnt27fLyspqvZK5ublZWVmmSiUSSatWrTgVqGESBKEuHDJgvQwvHC8vrw8++ODXX3999913g4KCqv9qKiws3Lx584ABAz744IO6eYwaAAAAAAAAAAAAgPqkbdu2IqX37t0rKCio9UoWFxenpKSIBLRu3ZqubJhIfqgmQ56Di4vL22+/ffLkyUWLFrVq1ar6WfWlpaW7d+8ePHjwjBkzMjIyzHKSPwDUPBLcAViljh07ipTm5eWJH49VMy5dulReXm6qVKFQhIWF0ZUNdopi6WW+DeVzjFTasmXLTz/99LffftuwYcPAgQM9PT2rec38/PwlS5ZERUWlpqbSwgAAAAAAAAAAAAAsJzw8XKS0rKzs8uXLtV7J+Ph48Tz7Dh060JUNk6QS7WCWlgwMDJw3b96pU6e2bdsWGRnp6+tbzWuWlJSsXr06MjLy+vXrtDAAaySnCQBYo7Zt29rb26tUKqOl5eXlFy5c6NSpU+1W8vjx4yKlHh4eISEhdGXDJJPJ5HKT/wuOior64IMPan6VsyAISqXS1tbWGmd6vr6+EyZMGDduXHp6+oULF44dO3bp0qWbN28WFhaq1erHWI585MiRYcOG7dixo3nz5oxYAAAAAAAAAAAAAJbQsmVLd3f3/Px8o6VarfbMmTPPPfdc7Vbyt99+02g0pkodHBzE96FHPSaRSERyDPr27fvNN9/odLqar5hCoXBxcbHG9vTw8Hi+UmZm5uXLl48dO3bhwoX4+Pi8vLzHS344d+5cZGTkrl27nnzySUYsAOtCgjsAqxQUFOTn55eUlGQq4PDhw6+88kotbpJdUlLyxx9/iAS0bdvWzc2tbjYvhxNZmq2trVKpNFWq1+tbtWpFKz0GqVQaUCkyMrKiouL+/fvXrl07d+7chQsX/vzzz+zs7KKioqoP70uXLr388ss7duxwd3enbQEAAAAAAAAAAACYna+vb3Bw8Pnz500FnDx5UqVS2dvb11YN1Wr1iRMnRAKCg4MbN25cN5uX5AdLk8lkjo6OpkorKipCQ0NppUfy1474vr6+gyqp1eqCgoL4+HhD8sPly5czMjKKioqqvm3i7du3J0yY8PPPP/v5+dHCAKwICe4ArJKzs3PXrl1FEtxPnTp17969Jk2a1FYN4+Libty4IRLQs2dPhUJRN5tXq9UyxizN09PTVFFOTo5Go6mzw8Na2NraNq7Uv39/rVZbWlp669atixcvHj58+Pz583fv3q3KZO/48eOrVq2aO3duLa6WAQAAAAAAAAAAAFBf2dra9u7dWyTB/c8//7x582a7du1qq4apqaniu/t17dpVJMW5dtXK3uENjZeXl6migoKC0tLSOjs8rIVCofCp1Lt3b61WW15enpSUdOnSpaNHj549ezYlJaUqST5XrlxZtGjRqlWrZDIZTQrAWpCtBcAqSSSSgQMHigTk5OScPn26Fmv4888/V1RUmCqVyWTi9X8kZl9zrFarGWOW1rRpU1NFaWlpZWVlNFH13yX++m+5XO7q6hoREfHKK69s3779zJkzO3fuHD58+ENPURAEYfXq1WlpabQnAAAAAAAAAAAAAEsYPHiwSGlJScnRo0drsXonTpzIz88XCRg6dKi57mX25AeNRsMAszSRrSdzcnIKCgpoomr6R/KDs7Nzu3btJk2atHnz5rNnz+7fv//FF1/09vZ+6HV++OGHuLg42hOAFSHBHYC16tmzp4eHh0jA2rVra2uukp+fv2PHDpGAli1bhoWFVX1uJpFITG0grdPpzD7Hy87OZoBZWuvWrU0Vpaen5+bm0kSWm/v5+voOGzZs165dZ8+enTFjhru7u0h8RkbGrl27aDcAAAAAAAAAAAAAZicIQnh4eLNmzURitmzZUlJSUivVq6io2Lhxo0iAn59fRESEuZIfqnIK9yPJyspijFlaaGioqaLc3Nx79+7RRBYikUg8PT0HDRq0ZcuWP/74Y8GCBY0aNRKJLy4u3rhxo9lfZQBgOSS4A7BWgYGBvXv3FgmIjY0VPyfLcg4ePBgfHy8SEBkZ6eLi8vdFluIUCoWpQ4IqKirM/ukzOTmZAWZpbdu2NVWkUqnOnTtHE1l0mmf4qig0NPSLL77Yv3+/yHoDGxubn376iZX9AAAAAAAAAAAAAMxOIpF4eHgMGTJEJObPP/+srU3cf/vtt7Nnz4oEDBgwwNfXt+rJD/JKRos0Go1WqzVv/ZOSkhhjltaqVStbW1ujRYIgnDx5kiay6BuI4T+aNWu2cOHCw4cPd+nSRSQ+JiamtlbLAMBjIMEdgLWSy+VjxowxlfZtyPz+6quvzD7/eajS0tJVq1aJLFB2dHSMiop61Ic19aRFRUXmTb0VBOHq1asMMIsSBKFp06aenp5GS3U6XWxsLKtma2ym16NHj02bNomc2JWQkJCenk6LAQAAAAAAAAAAADA7iUQSFRVlZ2dnKkCv169YsaKioqKGK6bValeuXCmSkKBQKF588cWqZ7fb2NjIZDKFQmG0qLS01OzPePnyZQaYRQmC4Ovr6+/vbyrgxIkTOp2OhqqZvnjyySejo6ODgoJMxaSlpSUmJtJWAKwFCe4ArFj//v2bN28uErB///7ffvuthmu1b98+8Zv26NGjTZs2j3RNJycne3t7o0VFRUXl5eVmrP/9+/ctsYjZ1Jy26keV1bNvKPz9/UWOmTt8+HBxcTGv8ZrpCxsbm44dO77yyiumYvLy8khwBwAAAAAAAAAAAGAhHSuJBJw+fXr//v01XKtff/31wIEDIgFt2rTp1q3bI13T3t7e0dHRaFFZWZl5fyUvKyu7efOm2ZuF5Id/tIaHh0erVq1MBZw9ezYjI4PXeM30hY2NTXBw8HvvvSfyouBYAwBWhAR3AFbMw8Nj8uTJ4tOVjz76qCaP18nJyVm0aJHIvEUul7/xxhumjtwyxcnJycHBwWiRWq1OTU014yNcu3bN7Lm80kpGi3Q6XcPcqlwulw8aNMhUaXJy8qlTp3iN1+RMb8yYMaZeZYZ1zLQSAAAAAAAAAAAAAEtQKpVTp04VOcFeq9V+9NFHubm5NVal4uLihQsXimypLpVKp06d6uTk9KhP6uzsbLRIr9ebd2/pO3fuJCQkmLdZJBKJqeQHfaWGOYCfffZZU0V5eXkxMTG8xmvS0KFDRU6wv3v3Lk0EwFqQ4A7Auk2aNElkG2wbG5tjx47997//rZlZhEaj+fDDD+Pj40VievTo0a9fv0e9sqOjo4eHh6mbxsXFmfEpduzYYfbmksvlpqbiGo1Gq9U2zNE7aNAgU8fMabXa1atXq9VqXuM1JqCSqdL79+/TRAAAAAAAAAAAAAAsJDIysl27diIBf/7555IlSzQaTQ1URqfTrVy5Uvzs+latWo0aNepRr2xra+vj42Oq9OLFi2Z8iv3796tUKvO2jEwmM7WhoVarbbA/8ffr18/V1dVokSAI33//PSfY1yRPT8+WLVuaKs3Pz6eJAFgLEtwBWDFBEBo3bvzWW2+JxOj1+sWLF58+fboGKrNr165169aJxNjZ2b377rsiu0SLzJFat25t6r6///67uVLSMzMz9+zZY/bGsbe3VygUpibGRUVFDXMAh4eHt2nTxlTp0aNHT5w4wcu8xtja2ppaRmJYiUETAQAAAAAAAAAAALAEQRBcXV3fffddkU3cbWxsvvnmm/3799dAfWJjY5ctWyaShyCVSmfOnOnp6Slyvr0pbdu2NVX0xx9/mOuX2aKiom3btpm9ZWxtbe3t7U2VNtjU4eDg4G7dupkqvXjxoiUSUWCKTCZr1KiRqdIGuwclAGtEgjsAKyaRSGxsbCZOnBgeHi4SVlhY+Oqrr6amplq0MnFxce+884748t9nnnmmf//+j3d9kTneyZMnzbXadcuWLZY4jcjJyUmpVBot0uv1GRkZDXMAOzk5RUVFmSpVq9UffvhhSUkJr/SaIQiCyBc0po7JAwAAAAAAAAAAAIBqMiQ/REZG9u3bVyRMpVLNmDHj2rVrFq1Mamrqa6+9Jr5RXdeuXUePHv1XzR+JyEb1ly5dysrKMstTxMTEXL161eyNo1QqnZycTJWmpaU1zAEsl8snTZpkajDo9folS5bk5OTwSq8xOp3OVJGjoyPtA8BakOAOwOq5urp++umnpvKnDa5duzZu3Lh79+5ZogKCINy6dWvs2LHicxUfH5+PP/7Y1tb28e7SsWNHUwdd3blz59SpU9V/kMTExC+//NISTaRQKLy9vY0WabXahISEBjt6o6Ki/P39TZX+9ttvn3zyCctna0Z5ebnIWguRY/IAAAAAAAAAAAAAoPrs7e0//fRTNzc3kZi7d+9GRUVZ7kf29PT0F1988caNGyIxTk5OS5cufew02SeffNJUgkdeXl5MTEz1nyIrK+uTTz4RyfGtDpG9sePi4hrs6B04cKDIvo3x8fFz5sxRq9W8zGuARqNJSUkxVUryAwArQoI7gPqgX79+r776qvjK4NjY2DFjxiQkJDzGCVkiBEG4fPnyiBEjxCcqMpls0aJFYWFhj333tm3benh4GC3S6XRff/21+ObxD1VcXPzee+9ZaD2xRCJp3bq1qQY8d+6cyM7Z9ZggCE2aNJk2bZrI0P3iiy82bdpkoYn332uiVqvN+9IwO7VabdF2uHTpUmZmptEipVLZpEmTOt4+AAAAAAAAAAAAAKyaIAgdOnSYP3++VCqW0BUXF/f8889fuHDB7MkPt27dGj16tPj+ehKJZNasWd27d3/suwcFBQUEBJiqw5o1awoKCqrzIBUVFYsWLbLE9u0Gbdq0MVV0/vx5jUbTMEevm5vbW2+9JZPJTAVs2LBh+fLllm4fq0h+0Gg0Ft3o8NatW4mJiUaL5HJ58+bNebMFYC1IcAdQH8jl8rlz5/bs2VM8LDY2dtiwYb/++qu50qm1Wu3evXuHDRv20GW4EyZMmDRpkiAIj3E+l4G3t3f37t1NlR45cmT37t3VmeAtXry4Old4qCeffNJU0S+//NIwz6IyDIZp06aJTIANZ8xt2rTJQtMbQRBKS0t37969YMGCxx6cNePYsWOzZ8+Oj4+3xHIIlUq1atUqU3NpPz+/wMDAOt4+AAAAAAAAAAAAAKyapNK0adOGDx8uHnn16tURI0bs2bPHXL8j6/X6EydOREZGPvT0+GeeeWbGjBlSqfSxfz91cnL617/+Zar04sWLGzZseOwEZcP+gN99953luik8PNxU0fnz5+/cudNgB/CoUaN69eol0jULFy5csWJFRUWFhSqgUqmOHDkya9asOt5Qf/7557///e9Lly5ZIg9Eq9X+97//LSkpMVrq7u7eqlUr3mwBWAsS3AHUE56enqtXrza1zPcvN27cGD58+LJlywoLC6t5x/v37y9YsODFF19MTU0Vj4yIiFiyZImdnV11EmTlcvmQIUNMXUGn082ZMyc+Pv4xrlxRUfHxxx8vX77comtY27VrZ2tra7QoJSVl3bp1DXMTdxsbGy8vr48//lihUJgKKC4ufu211z7//POysjLz3rqoqGjnzp2DBw8ePXr0mTNn6nhD5efnf/HFF717954+fbp5Z3p6vX7t2rX79+83FfDUU0+5uLjwNgsAAAAAAAAAAADA0hwdHb/44ouwsDDxsNTU1BdffHH+/Pm5ubnVvGNxcfHy5cuHDRt248YN8cjg4OAVK1ZU88dTiUTy7LPPyuVyo6WCICxevPiPP/54jCtrtdpVq1bNnz/fottjh4WFOTk5GS3Kz8//6quvGuwm7k5OTosXL3Z2djYVUFFRMXfu3Pnz51c/Y+cfSktLDx48OGLEiKFDhx4+fLiON1RpaemaNWv69u370ksvnTlzRq1Wm+vKgiDs2bNn3bp1pgI6duzo4+PD2ywAa0GCO4B6QhCEtm3brl+/3sPDQzyysLBwzpw5Tz/99NatW/Pz8x81r1qv1+fm5q5bt65Hjx6ffPLJQ3OOg4ODN2zY4OvrW/1nfPbZZ5s0aWKqNCUlJSoq6urVq1V/Ir1en5SUNHHixMWLF+t0Oot2UJs2bUQaYdGiRYsXL87IyNBqtXX8rChLDN3Bgwe/8cYbIusfVCrVnDlzIiMjf/vtt2rObfR6fVlZ2eXLlz/66KMuXbqMGjXq5MmTFp3em1dOTs6qVat69uw5dOjQLVu2pKWlaTSaxx4zgiAUFxcvW7Zs5syZpl4CdnZ248eP5z0WAAAAAAAAAAAAQA0QBCEwMHDTpk0i6QEG5eXlS5cu7dmz55o1a3Jych4j+aGgoOCnn37q27fvu++++9CcYx8fnw0bNrRo0aL6v+n36NGjbdu2pkrz8vKioqJOnz5d9ScSBCE9PX369OkzZ85UqVQW7aBmzZoFBwebKv3vf//77rvvpqSkVOeHbOsdut27d583b55UajIjUavVfv755wMHDjxy5IhKpapOEwmCoFKprl+/vnz58p49ew4ePPjAgQNmTBa3KIlEUlhYuHHjxj59+gwYMGDNmjV37txRq9XVSX4oLy//7rvvpkyZYmqPfJlMNn78eJHtFwGgrpHTBADqB4lEIghCv3791q5d+9JLL+Xl5YnHX7x4cdy4cWFhYSNHjnzmmWeCg4Pd3NxElghrtdqCgoKbN2/GxMTs2rXr1q1bVflY2axZs+jo6DZt2giCUJ3t2w118PX1HT9+/Mcff2wq5sqVK4MHD37//fdHjhzp4eEhcketVpuWlrZt27bVq1f/Ywd6mUzWrVu3h5479qg8PDwGDhy4Zs0ao6UqleqDDz74/vvv+/Tp0759+6CgIC8vL6VSKZPJTD2Ft7e3n59f/Ri6crl8wYIFCQkJMTExIpFHjx49c+bMs88+O27cuC5dunh4eMhksirepaKiIj8//9atW8eOHfvll18uXbpk6kQqq1BWVnawUuPGjXv37t2vX7+ePXv6+vq6uLhUsU30en1+fv7Jkye//PLLkydPiryc+/fv37VrV95jAQAAAAAAAAAAANQAQ/JDx44do6Ojx44dm5aWJh5/8+bNqVOnLlu2bMSIEUOGDGnVqpW7u7tIDqtWqy0sLExKSjpw4MDOnTvj4uKqkkfu4+OzadOmnj17Vj/5wcbGxtnZeerUqa+//rqpWycnJ0dGRr733nsTJkzw8fERuaNOp8vMzNyzZ89XX3118+bNf5T27t07NjbWvInmSqVy5MiRV65cMdW8K1as+PHHH3v37h0REdG8eXNvb28HBwe5XG7qKdzd3QMDA+vN0J0+fXp8fPyGDRtEIn///fehQ4cOGDBgwoQJvXr18vLyMpWu8yCNRpOfn3/nzp1ff/31l19++eOPP8y+H3xNUqvVJyt5eXn16NGjX79+Tz31VEBAgKuraxWTHwRBKCws/OOPP1auXHno0CGR/Q3bt28/ZMgQ3mMBWBES3AHUq2mejY3Nc889t27dupdffjk7O1s8Xq/Xx1VaunRpUFBQq1at2rRpExwcbEiTVSgUarW6sLAwMzMzMTHx+vXrN27cSE5Orvpyz5YtW0ZHR0dERJhlgme4wmuvvbZ169akpCRTYWlpaa+99trq1atHjBjRv3//gIAAFxcXW1tbQ45+cXFxXl7elStXDh06dOLEifT09AcnckOHDh0xYoTZE9ylUumECRO2bNlSXl5uKubu3bubK8nlcqlUKqlkqu/eeuutTz/9tN6MXjc3t2+++Wb06NFnzpwRCSstLd22bduuXbuaN2/erVu3nj17PvHEE15eXs7OznZ2doYpn06n02q1ZZXy8/MTEhKuX79+6dKl+Pj4jIwMU0t1rVRGRsa2bdu2b9/u6OgYHBz8xBNPhIeHt2nTJiAgwMnJydHR0dbW1vBNgU6nq6ioKC0tzc/Pj4+PP3HixMmTJxMSEsSPh/Pw8FiwYIG9vT1vsAAAAAAAAAAAAABqhiFRuGfPnlu3bh0/fnxycrJ4vCAIiYmJy5Yt+/LLLwMDAw3JDyEhIY0bN3Z1dbW1tdVoNMXFxZmZmbdv375+/Xp8fPzt27ervtO5v7//+vXr+/fvb5bkB4PRo0evXbv2/PnzpgLy8vLee++9devWRUZGPvPMM02bNnVxcbGzs5NIJBqNprS09P79+9euXTt8+PDx48dTUlIezJXv1avXe++9d/LkSbN30AsvvLBixYr79++bCsjMzPypUlWSH8aMGSOeDm5dQ1epVH7++ed5eXn79+8XiayoqPjf//534MCBpk2bdunSpVevXu3atfPx8XF2dlYqlYZf+bWVysvLy8rKCgsLDak7huSHu3fvWnqr/hqWm5u7d+/effv2OTg4BAUFtWnTpn379m3btg0MDHR2dnZ0dDTkhBiSH9RqdVlZWUFBwa1bt2JjY0+cOBEXFyeezmRvb79w4UJXV1czvooBwNJIcAdQ30il0qFDh/7444+TJk36x97kpqhUqhuVdu/eba5qhIeHb9682XColhk/Gvr5+c2dO/fll18WWWGs0+muVFq0aFGjRo08PDzs7OwM6z4LCgpycnJEPuWHhYWtXLnyjz/+sETXdOnSZdCgQVVpZJEVpY8UY12aNGmyZcuWF1544cKFC+KRGo3mZqUNGzbI5XJ3d3c3NzelUmlra2toGbVaXVpaWlRJp9PV+1e9Xq8vLi6+XGnz5s02NjYODg5ubm7Ozs729vZ/TX1VKlVRUVFeXl4Vs/xlMtm8efM6derE+yoAAAAAAAAAAACAmmRIM+jRo8fOnTvHjx9//fr1qvxVRUXFrUriucWPJDg4eOPGjd27dzdvUqy7u/uCBQtGjRol8uutIAjxlT777DMfHx8PDw+lUmlIfigqKsrNzS0tLTX1twEBAatWrRIJqI6QkJCxY8d+/fXXD42sSmKD+KZs1sjT0/O7774bP3780aNHxSN1Ol1Spa1bt0qlUg8PD1dXV0dHR4VCIZVKNZVKS0uLi4sLCwvrX5aI0TFfWlpq2Kxz27ZthhMDXF1dXVxc7O3tFQqFIcFdpVIZNrgU2WLyH6ZPnz5o0CDzpjABgKWR4A6gfurbt+/hw4dfe+21X3/9tSrHaZnzjVUuHzly5H/+85/GjRtb4rPs+PHjT58+vX79+ocG63S69EpVvHhQUNCWLVuaNGlioQR3hULxySefnDt37qFnqDVYzZs337Nnz8svv3zo0KEqnpKm1WpzKtF6f2fYwL46V5DJZDNmzHjzzTeZ3QEAAAAAAAAAAACoLR06dDh48OC///3vffv21fDuZlKpdMCAAatWrQoODq7i79dVJwjCkCFDZsyYsXTp0ocG6/X6zEpVvLiPj8/69eufeOKJs2fPWqJlZDLZnDlzjh8/fu3aNYaoUb6+vj/++OObb775008/VXHc6vX63Eq03t+VV6r64H+QRCIZP378Bx98IJVKaU8A1oW3LQD1kOG4rtDQ0F27dn344YdeXl41dusmTZp8/fXXGzZsaNy4sdkneIZHs7W1XbZs2eDBg8175VatWm3durV9+/aWaxxDp2zYsMHPz49RakpAQMCPP/747rvvOjs70xq1xdHRccGCBR9//LFCoaA1AAAAAAAAAAAAANQKQ/JDkyZNoqOj//Of//j7+9fYrX18fJYsWbJjxw5DdrvZ9wWTSCRSqXT+/PkTJ04078UDAgI2btzYv39/S+RsGAiC4Ofnt3HjxhYtWjBKTfH09Fy7du2SJUs8PDxojdpiZ2f35ptvfv311w4ODrQGAKtDgjuAejvNs7GxcXV1nTdv3oEDB4YNG2Zvb2/ROzo5OU2ePPno0aOvvPKK4V6W2/jZy8tr7dq1kZGR5rpFr169du3a1aVLF8tN8P6aez/99NN79uzp2bMna0NNcXV1Xbx48fbt2yMiImpm+3APD48OHTrQ8gYhISHr16+fO3eunZ0drQEAAAAAAAAAAACgFhl+MlYqlW+88caRI0cmTJjg6Oho0Tva29uPHDny0KFDs2bNcnJysmjyg5OT04oVKyZPniyTycxywfDw8J07dw4aNMgSSfl/7xRBEDp27Lhv377Bgwebq/L1j1KpfOedd/bv39+nT5+aaSUXF5eIiAha3sDf33/lypWfffYZGywCsFIkFwKo729zUmlERMS2bdt27Njx1FNPWWI/ZqVS+f+xd+9BVtb34cd5zmVhVxaQgKjURYHxQmoiImhRYtVYo+TXNNaOrbdIGi8THW3aamqbjpM6k/lpvUC8tOlM40SbpAo21Psl0WimVisJIwhKiCBdkwgCCwsLy7k8z2/m7PwYR+F5VhB8zve8Xn+t53zPAb4P6+G7+97P+fznP//EE0/8y7/8y5FHHrl/iuSDDz74vvvuu/baa/cy3B82bNjVV1+9cOHCY445Zp+eS3ce86Iomj59+qOPPnrnnXcee+yxMvddKpVKZ5111tNPP33zzTdPmDBhH/0qxWJxypQpf/u3f/vCCy/ceuutOd+T448//s/+7M8OP/zwffrVky9/+cvPPPPMn/zJn5RKJX8PAQAAAAAAgJyIouiYY47513/918cee+ycc87ZFzP+2traTjvttIULF/7gBz847rjj9s9380eNGnXXXXfdeOONe9nglsvlCy+88NFHH50xY8b+iR8G3ip//vz599577/Tp0709+C4VCoWZM2c+8sgj99xzz5FHHrnvLsfkyZOvueaaZ5999rvf/e7+6Xb22OTJky+99NLJkyfvu+h/2LBh55133tNPP33ZZZe1tbX5ewg0KfEW0BLa2tpmz5595plnvvTSS9/73veeeeaZd955p1qt7uVzdnV1nX322V/60peOO+64YrG4T8eff1BnZ+dtt932+c9//qabbnr55Zf7+/s/1MPb29tPOeWUG2644TOf+cz+/3nikSNHfvWrX73kkksWL178yCOPLFq0aOXKlRs3bqw3xHGcNLT439sDDzzwuuuuu+SSSx544IEf/vCHS5Ys2b59+15uS7FY7OjoOProo0855ZRzzz3305/+dFP8qG6SJEcdddS//du/bdiw4dVXX33yySdffPHF5cuXb926dS8/kQd+nGDcuHGzZ8++4oorpk6dmvOzLgAAAAAAANCyisXiqaeeesoppyxevPh73/veE0880d3dXalU9uY5y+XyIYcccuaZZ1566aUnnnhiuVzez9+sHzZs2De+8Y2zzjrrm9/85k9/+tNt27Z9qIe3tbVNnz79+uuvP/vss/d/Zd7R0XHxxRefd955S5cuffTRR19++eUVK1asX7++VquJH3Y64IADLr/88vPOO+8///M/77vvvkWLFvX19e19/DBs2LDJkyfPnDnz3HPPPeGEE0aNGjVQF+R8Nw499NDvfOc7mzZtWrZs2VNPPfWzn/3stdde6+3t3ctP5IE9GT169B/8wR9cccUVM2fO9N4CQLMTuAMtpFwuf6Zh7dq1L7300nPPPfff//3fa9as6e3t3b59e+bDoyjq6OgYMWLEpEmTTj755NNOO2369OmjR49+74L9+ccZmIZ+xhlnnHzyyS+88ML8+fOfffbZtWvX9vX1pTxq+PDhhx566BlnnHH++eefeOKJu/yp7ilTpvzDP/zDLh/+u7/7ux/hH3P48OGzGiqVSm9v7/r167u7u9evX9/T07Nt27ZqtVqv13d39vi93/u9zOc/99xzJ02atMu7pk+fvmd7fsUVV8yePXuX93Z1de2LCz1u3LhrrrnmK1/5yrJly5555pnnn39++fLlmzZtGuR5r1QqdXR0dHZ2TpgwYerUqTNmzJg+fXpXV9fA+9btzdHu8ssvP+eccz54e6FQOOqooz7yv+0DH3ziE584vWH79u3vvvvu4sWLFy1atHTp0mXLlm3atGnr1q2D/EmPcrnc2dl5yCGHzJgx48wzzzz11FMPPfRQ/5MEAAAAAAAA8mzgO6cDb2V/wgknbNiwYdGiRc8+++yLL7745ptv9vb2btu2bTDfBW5vbx8xYsSECRNmzpx52mmnnXTSSWPHjt35bdn9Hz8kSTJjxowf/ehH//M///Pggw8+/fTTv/nNb7Zs2ZLyqI6OjnHjxp166qnnn3/+rFmzBr4D/j6/8zu/c9NNN+1yQ7q6uj7C/HfYsGEzGqrV6pYtWzZs2NDd3f3uu+/29PT09fVVKpWU+OHYY4/NfP7Pfvazu6w7kiT5/d///T37PV9wwQVTp07d5XMec8wx++Lv7ejRo+fMmXPBBResWLFiIH5YsmRJT0/P1q1b4zjOfJJisTjw93b8+PFTp06dPn36jBkzjjjiiPcN9duDv70XXHDBtGnTdnnXnrUlgzFy5MiTG3bs2LF+/folS5YsWrRoyZIlr7322oYNG/r6+gY5ALFUKnV2dh500EHTpk377Gc/e/rppx922GH75+0XAPb5vxD8iNg+ctFFF33/+98f+PiYY45Zvny5PYG8SZKkv79/3bp1q1evfuutt1avXv3222+vX79+06ZN/f399Xq9VCoNGzZs1KhRY8eOPeywwyZOnNjV1TVp0qQxY8a0tbXlbcxzvV7v6elZsWLFsmXLVqxY8dZbbw2clOI4bm9vHzt27OGHHz6l4eijjx45cmQA/5xNkiTlKqTfO5gFH/lv6SNRqVQ2bty4atWqNWvW/OpXv+ru7l67du3mzZu3b99er9fL5XJbW1tnZ+eYMWPGjh3b1dV12GGHjR8/vqura+TIkW1tbfvtuu/rrXjv81er1f7+/t/+9rfd3d2//vWvu7u733777Q0bNmzcuHH79u2VSqVQKAwdOrSjo2PMmDHjxo2bOHHi4Q0TJkxob28f+LLFfrh2AACQeaybM2fO/fffv/OWI444YsmSJcOHD7c5APCRW79+/bRp0/73f/935y0XX3zxfffdZ2cAAGg6SZLs2LFjw4YNA99HXr16dXd397p16wa+j1yr1QZmXY8cOXLMmDGHHXbYEUccMWHChIkTJ44bN27o0KF5+z5pHMe9vb0rVqxYvnz5G2+8sXr16oHet16vDxs27BOf+ERXV9eU/+/AAw8Mfkz1vogfPpag4n3PXK1WN2/evGrVqrfeeuvNN99cs2bNQPwwcK1LpVJbW9vw4cPHNAzED4ceeuiECRNGjx79EcYPH+NWfPD5a7Vaf3//2rVr3xs/rF+/fsOGDdu2batUKlEUDR06tL29fcyYMQcddNDhhx8+ceLECRMmHHHEER0dHaVSSfwAwbjvvvu+9KUvDXzc3t6+atWqgw8+uNU2wQR3oHVFUdTe3j6hIYA/TrFYHPhn/cknn9w6V3CP791HP3S+Hw4JbW1tBzfMnDmzea/OR/v85YbOzs4jjzwyz9cOAAAAAAAA4CMXRdGwYcPGN8yaNavZ/ziFQmHUqFEnNri4+yh++FiCivc9c7lcHqhcZsyYEdj27vFvoFQqDW+YNGnSvvsTATTNPwlsAQAAAAAAAAAAAAAAeSBwBwAAAAAAAAAAAAAgFwTuAAAAAAAAAAAAAADkgsAdAAAAAAAAAAAAAIBcELgDAAAAAAAAAAAAAJALAncAAAAAAAAAAAAAAHJB4A4AAAAAAAAAAAAAQC4I3AEAAAAAAAAAAAAAyAWBOwAAAAAAAAAAAAAAuSBwBwAAAAAAAAAAAAAgFwTuAAAAAAAAAAAAAADkgsAdAAAAAAAAAAAAAIBcELgDAAAAAAAAAAAAAJALAncAAAAAAAAAAAAAAHJB4A4AAAAAAAAAAAAAQC4I3AEAAAAAAAAAAAAAyAWBOwAAAADkQrFYfO9/Rg22BQD2hSiKCoVCygsxAAAAAPBxEbgDAAAAwMevWCweffTR771l0qRJ7e3tdgYA9oURI0Ycdthh773lU5/6lG0BAAAAgDwQuAMAAABALlx00UUnnXTSwMfjx4//u7/7u/dNlgUAPirlcvkb3/jGuHHjBv5z1qxZF154oW0BAAAAgDwo2QIAAAAAyIPx48c//PDDTz31VG9v7xlnnHHkkUfaEwDYd84888yf/OQnzz333IEHHnj22WePHj3angAAAABAHgjcAQAAACAvxo4de9FFFw18nCSJDQGAfSeKok822AoAAAAAyBXvcQwAAAAAeRRFkU0AAAAAAACg1QjcAQAAAAAAAAAAAADIBYE7AAAAAAAAAAAAAAC5IHAHAAAAAAAAAAAAACAXBO4AAAAAAAAAAAAAAOSCwB0AAAAAAAAAAAAAgFwQuAMAAAAAAAAAAAAAkAsCdwAAAAAAAAAAAAAAckHgDgAAAAAAAAAAAABALgjcAQAAAAAAAAAAAADIBYE7AAAAAAAAAAAAAAC5IHAHAAAAAAAAAAAAACAXBO4AAAAAAAAAAAAAAORCyRYAELZqtdrT01OpVEaOHDl8+PAoiuwJAAAAAAAAANBc4jju7e3dunVre3v7qFGjisWiPQEgVAJ3AIJVr9efe+65u+66a9myZTt27DjooIP++I//+Ctf+crYsWNtDgAAAAAAAADQLFavXn3nnXf++Mc/7unp6ezsPOmkk6655ppPf/rTxvwBECSBOwBhqlQqN9100y233FKpVAZu6e7u/vnPf75gwYL7779/ypQptggAAAAAAAAAyL8f//jHX/7yl7u7u3fe8vrrr//oRz+aO3fuJZdconEHIDwFWwBAkO69995vfetbO+v2nX7xi1/8+Z//eU9Pjy0CAAAAAAAAAHJu5cqVc+bMeW/dPmDTpk3XXHPN888/b4sACI/AHYAA9fT0zJ07N47jXd770ksvPfzww3YJAAAAAAAAAMi5e+655+23397lXb29vbfffnu1WrVLAARG4A5AgFauXLlq1aqUBY8//rhdAgAAAAAAAADyrK+v74UXXkhZ8NJLL3kTewDCI3AHIEBr1qyp1+spC9atW1epVGwUAAAAAAAAAJBb/f39a9euTVmwZcuWTZs22SgAAiNwByDMA16SJCkL4jhOXwAAAAAAAAAA8PFKkqRare7NAgBoRgJ3AAJUq9XS+/VisRhFkY0CAAAAAAAAAJpX1GAfAAiMwB2AANVqtfQFpVKpUPAiCAAAAAAAAADkV9JgHwBoNdo+AAJUrVZNcAcAAAAAAAAAml1m4K5/ACA8AncAApQ5wV3gDgAAAAAAAAAEQP8AQHgE7gAEKDNwL5VKDngAAAAAAAAAQM6Z4A5ACxK4AxCgarWavsAEdwAAAAAAAAAg/zID90JBBAhAaLy2ARCgwUxwt0sAAAAAAAAAQJ4lDfYBgFYjcAcgQJmBe7FYtEsAAAAAAAAAQLPzDvYAhEfgDkCATHAHAAAAAAAAAAKQOcFd4A5AeOR9AASoWq2mLyiXy3YJAADIlW3btvX09PheFDSvJBkyZkz30KHbU5Zs3Hhwf/9IewWhfNYnnZ2dI0aMsBUAAMC+Pn2kL/BFRQDCI3AHIEAmuAMAAE2nu7v7Jz/5SaHgHRehWcVx8Qtf+L/jx69KWbN48cUrV860VxCGJElOOOGE6dOn2woAAGCfHj1sAgAtSN4HQICnu8zAva2tzUYBAAC5EkVRocFWQDN/HpeyVhR9mkMwkiQxJREAANg/p4+Ue6MGuwRAYHwlHYAAZQbu5XLZLgEAAAAAAAAAOZc5xF3gDkB4BO4ABHi0q1ar6WsE7gAAAAAAAABA/gncAWhBJVsAQHhMcAcAAJpekgzJ+sYVkC9xlP1pmyRD4thWQROLoiHCEQAAYD9KBvFFQoE7AOERuAMQ4OlO4A4AAARwthny5ptD+vvtBDSNuDDks30Za3796yHLltkqaFbl8pDJk4eUfHMNAADYr0xwB6AF+RocAAGqVqvpCwTuAABA3iXJkN7eIVu32gloGvXCkFrGVySG9PUN2bjRVkGzGjrU+6sAAAA5JHAHIDwCdwBCY4I7AAAQDt+agmb6hB3c56zPa/C6DAAAMGhJQ9ZhxWkFgNAUbAEA4THBHQAAAAAAAABodlEUCdwBaEECdwBCY4I7AAAAAAAAABCAOI5tAgAtqGQLAAiPwB0AAAhPqVAY1dGROa4J+LgkcaFUKKav6Rw67BMHHGCvoClEUbRl+/Yd9bqtAAAAcq5QKCRJYo47ACERuAMQmiRJqtVq+hqBOwAA0HTGdnb+n+OOGyJwh9yKC0M6nx0y5LcpS6YfPmF6bZqtguYQRc8uX/6rd9+1EwAAwMcoc+BFFEXqdgDCU7AFAISnnjVXSeAOAAAAAAAAAOTcYAJ3dTsA4RG4AxAgE9wBAAAAAAAAgGaXeEdHAFqSwB2AAE93tVotfY3AHQAAAAAAAABodsa3AxAkgTsAARK4AwAAAAAAAADNzgR3AFqTwB2AAE931Wo1fY3AHQAAAAAAAADIuczAPWqwUQAERuAOQIBMcAcAAAAAAAAAmt1gAne7BEB4BO4ABHi6M8EdAAAAAAAAAGh2cRynN+4CdwCCJHAHIEAmuAMAAAAAAAAArUDjDkB4BO4AhCZJkszAva2tzUYBAAAAAAAAAHmWPr5d3Q5AqATuAAR4uqtWq+lrSqWSjQIAAAAAAAAA8kzgDkBrErgDEJo4jjMPeAJ3AAAAAAAAACDnMvsHAAiSwB2A0NTr9TiOUxYUG2wUAAAAAAAAAJBng5ngbog7AOERuAMQmlqtln7AKxQKTncAAAAAAAAAQM4NJnC3SwCER+AOQGjq9Xr6Ac8EdwAAAAAAAAAAAMgngTsAoTHBHQAAAAAAAAAIgAnuALQmgTsAoTHBHQAAAAAAAAAIgMAdgNYkcAcgNPV6PY7jlAXFYtEBDwAAAAAAAADIuczAHQCCJHAHIDS1Wi3jxa/BRgEAAAAAAAAAeZY0pCyIGmwUAIGR9wEQmsFMcBe4AwAAAAAAAAA5lznBXd0OQJDkfQCEplarpR/wBO4AAAAAAAAAQP4J3AFoTfI+AEJTr9fTD3iFBhsFAAAAAAAAAORZZuCucQcgSPI+AEJjgjsAAAAAAAAAEAAT3AFoTfI+AEJjgjsAAAAAAAAA0AoE7gAESd4HQGjq9XocxykLSqWSwB0AAAAAAAAAyLnMCe4AECR5HwChqdVqJrgDAAAAAAAAAM0uM3CPGmwUAIGR9wEQmnq9LnAHAAAAAAAAAJrdYAJ3uwRAeOR9AIQmc4J7sVgUuAMAAAAAAAAAOZc0pCwQuAMQJHkfAKHJnOBeLBYd8AAAAAAAAACAnMuc4A4AQRK4AxCaWq0Wx3HKgmKDjQIAAAAAAAAAmpoBfwAESeAOQGjq9XrGi1+h4IAHAAAAAAAAAORc+oC/ARIIAMIjcAcgNLVaLf0tugqFggnuAAAAAAAAAEDOpfcPAwmEXQIgPF7eAAhNrVZLX1Aqlfz4MgAAAAAAAAAAAOSQwB2A0NTr9YwXvwYbBQAAAAAAAADkWRzH6QsM+AMgSPI+AEKTGbgXi0W7BAAAAAAAAAA0u6jBPgAQGIE7AKGp1WrpCwTuAAAAAAAAAED+JUliEwBoQQJ3AEJTrVbTF5TLZbsEAAAAAAAAAOScwB2A1iRwByA0AncAAAAAAAAAIACZgXsURXYJgPAI3AEIjcAdAAAAAAAAAAhDeuMeNdglAAIjcAcgNJVKJX2BwB0AAAAAAAAAyD8T3AFoTQJ3AEJTq9XSF7S1tdklAAAAAAAAACDnBO4AtCaBOwChqVar6QtMcAcAAAAAAAAA8i8zcAeAIAncAQhNZuBugjsAAAAAAAAAkH+DmeBuiDsA4RG4AxAaE9wBAAAAAAAAgAAMJnC3SwCER+AOQGgqlUr6AoE7AAAAAAAAAJB/AncAWpPAHYDQ1Gq19AUCdwAAAAAAAAAAAMgngTsAoalWq+kL2tra7BIAAAAAAAAAkHMmuAPQmgTuAIQmM3A3wR0AAAAAAAAAyL/MwF3jDkCQBO4AhMYEdwAAAAAAAAAgAElDygJ1OwBBErgDEJpKpZK+oFQq2SUAAAAAAAAAIOcyJ7gL3AEIksAdgNDUarX0BSa4AwAAAAAAAAD5J3AHoDUJ3AEITbVaTV9QLpftEgAAAAAAAACQc5mBu8YdgCAJ3AEITWbgboI7AAAAAAAAAJB/JrgD0JoE7gCEplKppC8wwR0AAAAAAAAACIDAHYAgCdwBCE3mBHeBOwAAAAAAAACQf3Ec2wQAWpDAHYDQZAbubW1tdgkAAAAAAAAAyLkkSdIXRA02CoDACNwBCE2tVktfYII7AAAAAAAAABAAdTsAQRK4AxCaSqWSvkDgDgAAAAAAAADk32AmuNslAMIjcAcgtKNdtVpNX9PW1majAAAAAAAAAICcywzcNe4ABEngDkBoR7t6vZ6+plQq2SgAAAAAAAAAIOeShpQFURQNJoIHgOYicAcgKHEcZ57cBO4AAAAAAAAAQP6Z4A5AaxK4AxCUWq2WOcG9UPDyBwAAAAAAAADkXWbgrm4HIEgKPwCCMpgJ7gJ3AAAAAAAAACAAAncAgqTwAyAocRynT3AvNtgoAAAAAAAAACDn4jhOXyBwByBIAncAglKv19MnuEdRJHAHAAAAAAAAAAIQNdgHAAIjcAcgKPV6Pf3HlwuFgsAdAAAAAAAAAMi/9Bl/ABAqgTsAQckM3IvFYqHg5Q8AAAAAAAAAyLvMwN34dgCCpPADIChxQ/rRTuAOAAAAAAAAAOTfYCa4a9wBCI/CD4CgZAbuxWKxVCrZKAAAAAAAAAAg/9IbdzP+AAiSlzcAglKr1UxwBwAAAAAAAAACMJgJ7gAQHoUfAEHJnOBeKBSKxaKNAgAAAAAAAAByLjNwj6LILgEQHoE7AEGp1+uZgbsJ7gAAAAAAAABA/pngDkBrUvgBEBQT3AEAAAAAAACAMKQnEAMT3A1xByA8AncAgjKYCe4CdwAAAAAAAAAAAMgngTsAQRlM4F4oePkDAAAAAAAAAPIuSZL0Bca3AxAkhR8AQYkb0o92JrgDAAAAAAAAAPkncAegNQncAQhK5gT3YoONAgAAAAAAAAByTuAOQGsSuAMQlHq9nn66i6KoUPDyBwAAAAAAAADk3WACd407AOFR+AEQlHpDygIT3AEAAAAAAAAAACC3BO4ABCWOYxPcAQAAAAAAAIAAJA0pC4xvByBICj8AghI3pL3yFQqlUslGAQAAAAAAAAA5l163D9C4AxAegTsAQanVahmvfA02CgAAAAAAAADIuczAXQIBQJC8vAEQlHq9nnm0KxaLNgoAAAAAAAAAyLnBTHAHgPAI3AEIymACdz++DAAAAAAAAADkX2bgHkWRXQIgPAo/AIJSq9XSF5RKJac7AAAAAAAAACD/BjPBXQUBQHgE7gAEpVKppC8ol8t2CQAAAAAAAADIPxPcAWhNAncAgpIZuLe1tdklAAAAAAAAACD/BO4AtCaBOwBBqVar6QtMcAcAAAAAAAAAmkJm4A4AQRK4AxAUgTsAAAAAAAAAEIz0xr1QKBjiDkB4BO4ABEXgDgAAAAAAAACEIUkS/ToALUjgDkBQKpVK+gKBOwAAAAAAAADQFJKGlAXydwCCJHAHICgmuAMAAAAAAAAAYUiv2wEgVAJ3AIIicAcAAAAAAAAAWoQJ7gAESeAOQFAqlUr6AoE7AAAAAAAAANAU4ji2CQC0IIE7AEExwR0AAAAAAAAACEOSJOkLCoWCIe4AhEfgDkBQTHAHAAAAAAAAAMKQGbgDQJAE7gAEpVarpS8QuAMAAAAAAAAATSEzcDe+HYAgCdwBCIoJ7gAAAAAAAABA69C4AxAegTsAQRG4AwAAAAAAAABhMMEdgNYkcAcgKNVqNX2BwB0AAAAAAAAAaAoCdwBak8AdgKAI3AEAAAAAAACAMAjcAWhNAncAgiJwBwAAAAAAAADCMJjAXeMOQHgE7gAEpVKppC8QuAMAAAAAAAAATSEzcAeAIAncAQiKCe4AAAAAAAAAQIswvh2AIAncAQiKwB0AAAAAAAAACIMJ7gC0JoE7AEGpVCrpCwTuAAAAAAAAAEBTyAzcTXAHIEgCdwCCYoI7AAAAAAAAABAGgTsArUngDkBQarVa+gKBOwAAAAAAAADQFATuALQmgTsAQYnjOH1BsVi0SwAAAAAAAABA/mUG7gAQJIE7AEGd6+r1evqaUqlkowAAAAAAAACA/DPBHYDWJHAHIBxxHGcG7ia4AwAAAAAAAABNQeAOQGsSuAMQjrghfY3AHQAAAAAAAABoCpmBOwAESeAOQFDnuvQJ7lEUlUolGwUAAAAAAAAABMAEdwCCJHAHIBz1hvRzncAdAAAAAAAAAGgKmRPcBe4ABEngDkBQ5zqBOwAAAAAAAAAQhszAHQCCJHAHIBz1ej2O47SXvUKhWCzaKAAAAAAAAAAg/0xwB6A1CdwBCOpclx64R1EkcAcAAAAAAAAAmoLAHYDWJHAHIBxxHNdqtfRzXalUslEAAAAAAAAAAACQTwJ3AMIRN6QsMMEdAAAAAAAAAGgWJrgD0JpMjzrOjgAAgABJREFUsQUgHHEc1+v19HOdCe4fo02bNl177bU7duzY3YKhQ4fOmzdv1KhR9goAAAAAAAAgDMuXL7/xxhtTptGNHz/+tttus1G7JHAHoDWJ/AAIhwnuOdff3z9//vzt27fvbkF7e/vNN99sowAAAAAAAACCsW7dugULFqQsOOaYYwTuuyNwB6A1FWwBAMEYzAR3gTsAAAAAAAAA0BQE7gC0JoE7AOHIDNwLhUKp5N1LAAAAAAAAAIAmIHAHoDUJ3AEIR9yQfq4zwR0AAAAAAAAACIPAHYAgCdwBCEeSJOkT3KMoMsEdAAAAAAAAAGgK6WP+BO4AhErgDkA46g3p5zoT3AEAAAAAAACAMAjcAQiSwB2AcJjgDgAAAAAAAAAEI0mS9AUCdwCCJHAHIBz1ej39zbkKhYIJ7gAAAAAAAABAUxC4A9CaBO4ABHWuSw/coygSuAMAAAAAAAAATUHgDkBrErgDEI44jmu1Wvq5rlQq2SgAAAAAAAAAIP8E7gC0JoE7AOGo1+smuAMAAAAAAAAAYRC4A9CaBO4AhCOO4/SjncAdAAAAAAAAAGgKSUP6GoE7AEESuAMQjmq1mr6gVCoVCl77AAAAAAAAAIAmkBm4qyAACJKXNwDCMZjA3S4BAAAAAAAAAABAbgncAQjHYAJ3b84FAAAAAAAAADQFE9wBaE1e3gAIR2bgXi6X7RIAAAAAAAAA0BQyA3cACJLAHYBwmOAOAAAAAAAAAAQjM3BXQQAQJIE7AOEYTOBulwAAAAAAAACApiBwB6A1CdwBCIcJ7gAAAAAAAABAMATuALQmgTsA4ahUKukLyuWyXQIAAAAAAAAAmoLAHYDWJHAHIBy1Wi19gQnuAAAAAAAAAECzELgD0JoE7gCEo1qtpi8olUp2CQAAAAAAAADIv8y6XeAOQKgE7gCEo1KppC8ol8uOdgAAAAAAAABAU4jjOH2BCgKAIAncAQhHrVZLX2CCOwAAAAAAAAAQjEJBAQhAiC9wtgCAYGROcC+VSn52GQAAAAAAAABoCkmSpC9QQQAQJIE7AOHInOBeLpftEgAAAAAAAADQFATuALQmgTsA4ahWq+kLTHAHAAAAAAAAAJpFZuAOAEESuAMQjkqlkr7ABHcAAAAAAAAAoFlkBu6FggIQgAB5eQMgHCa4AwAAAAAAAADByAzcVRAABEngDkA4BhO42yUAAAAAAAAAIAwCdwCCJHAHIBwCdwAAAAAAAAAgGJkT3AEgSAJ3AMJRq9XSF5TLZT+7DAAAAAAAAAA0hczAvVBQAAIQIC9vAITDBHcAAAAAAAAAIAxJg30AoAUJ3AEIR6VSSV9QKpVMcAcAAAAAAAAAmoIJ7gC0Ji9vAIQjc4J7uVy2SwAAAAAAAABAU8gM3I35AyBIAncAwlGr1dIXlEoluwQAAAAAAAAANAWBOwCtSeAOQDjq9Xr6AoE7AAAAAAAAAAAA5JnAHYBwmOAOAAAAAAAAAATDBHcAWpPAHYBwZE5wL5fLdgkAAAAAAAAAaAqZgXuhoAAEIEAG2QKQ30Pajh07tm7dWi6XOzs7M49kcRyb4A4AAAAAAAAABMMEdwBak84PgDzavHnz/fff/+CDD7777rvlcnnq1KlXX331tGnTUjL3JEkyJ7gPJnCv1+vvvPPOu+++O3To0K6uro6ODqdBAAAAAAAAAGBvJEmycuXKxx57bOnSpW1tbTNnzvzc5z43duzY9CbhIwncN27c+PLLL7/22mvt7e1TGzo6OlwRAPJM4A5A7qxateriiy9+8cUXd96ydOnShx566Kabbrr66qvL5fLuDnXpE9yjKEoP3OM4Xrx48c033/z8889v3ry5XC53dXVdccUVc+bM6ezsdF0AAAAAAAAAgD3Q398/b968m2++uaenZ+CW73znO5MmTbr99ttnz55dLBZ3+aikIf2Z0wP3Wq22YMGCv//7v//Vr341cEuxWJw5c+att946ffp08/4AyK2CLQAgV3p7e+fMmfPeun1AX1/f17/+9Yceemh3DxzMBPfdxfEDnnjiiXPOOWf+/Pnr1q3bsWPH1q1bly9ffu2111522WW9vb0uDQAAAAAAAADwYdXr9VtuueWGG27YWbcPePPNNy+88MJnnnlmdw+MomhvAvckSb773e/OmTNnZ90+8Jv52c9+9sUvfnHRokUuDQC5JXAHIF8WLlz4wgsv7PKuarX6zW9+c/369bs7mO3NBPe33nrrqquuWrdu3QfvevDBB++44w6XBgAAAAAAAAD4sJYvX37HHXfsMlXfunXrddddt3Hjxl0+cC8nuL/xxhs33nhjf3//B+/6zW9+c9111+3yLgDIA4E7APny+OOPp9z7y1/+cuHChbs712VOcN9d4J4kydy5c9esWbO7e++9997dhfUAAAAAAAAAALvz+OOPb9q0aXf3Llu2bP78+bu7d48D9ziO/+mf/umdd97Z3QNffPHF119/3dUBIJ8E7gDkSKVSWbt2bcqCOI7vvvvuzZs37/JQlx64R1FULpd3edfrr79+//33pzz2t7/97cqVK10gAAAAAAAAAGDw4jh+4403UhYkSXLnnXf29PTs2fPvLnBfsWLF97///ZQHVqvVJUuWuEAA5JPAHYAcKZVKI0eOTF/z6quvPvroo7s8E9Zqtczn/+CNtVpt7ty5u3vDr51PvsuqHgAAAAAAAAAgxdChQ9MXvP766w8++OAu79qzCe5xHN91113pIcRgnhwAPi4CdwDy9LJUKJx++umZ56tvf/vbfX19H7w9c4L7LgP3V1999YEHHkj/Rcvl8iGHHOICAQAAAAAAAACDVygUpk6durs56wMG3s1+l0Pc96xBX758+Q9+8IP0NaVSacqUKS4QADl9AbUFAOTKF77whYMOOih9zSuvvPLcc8998FCXOcG9XC5/8JQ4b9683t7e9AdOmTJl8uTJrg4AAAAAAAAA8KGcddZZY8eOTV/z2muvPfLIIx+8fQ8muCdJcvfdd2/atCn9gZ/61Kc++clPujoA5JPAHYB8mTBhwsUXX5y+JkmSW2+9dceOHe+7cQ8muL/yyisLFizIPA1eeeWVBxxwgKsDAAAAAAAAAAxekiSHH374RRddlLns9ttv37x58wdvT39gofD+AnDZsmU//OEP0x8VRdFf/MVfCCEAyC2BOwC5c+WVV44ZMyZ9zX/91389++yz7zvUfdgJ7tVq9Vvf+tb27dvTHzVt2rTzzz/fdQEAAAAAAAAAPpSBCetXXXVV5rvZv/rqq//xH//xvhs/7AT3er1+xx13fDCUf58TTjjhj/7oj1wdAHJL4A5AviRJMnHixD/90z9NX1ar1ebNm/feIe5xHH/YCe4//elPn3zyyYxXykLh61//emdnp0sDAAAAAAAAAHxYAyHEJZdckrly7ty572vTP2zgvnTp0oceeij9IcVi8S//8i+HDx/u0gCQWwJ3APIliqJCoXDZZZeNGDEifeXzzz//yiuvvPdQlx64Dxky5L2B+44dO/7xH/+xUqmkP+Skk06aPXu26wIAAAAAAAAA7IGBBv3KK68cPXp0+sqlS5c+/PDDO/8zaRjMkw+o1+v33HNP5vj2qVOnzp49+31lPADkisAdgDyaMmVK5pth9ff333nnndVqdee5rlarpR/q3hu4P/30088//3z6L1Eul2+44Yb29nZXBAAAAAAAAADYYxMnTrz00kvT1yRJMnfu3N7e3vfekv6Q93bqr7322oMPPpi+vlQqfe1rX/M+9gDknMAdgDwqlUpXXXVV5vthPfbYY4sXL955qMuc4F4ulwc+2Lp162DGt59++ulnnHGGywEAAAAAAAAA7I0oiq688sqxY8emL3v11VcXLlz4oZ524INarTZv3rzM8e0nnHDCH/7hH7ocAOScwB2APEqS5Pjjj//c5z6Xvqyvr+/uu+8e6NozJ7gPdPMDHzz22GMvvvhi+uL29vbrrrvO+HYAAAAAAAAAYO9NmjTpoosuSl9Tr9e//e1v7xziPvgJ7kuXLp0/f3764mKx+LWvfS1z2iAAfOwE7gDkURRFpVLp6quvbmtrS1+5cOHCFStWDGaC+8BzDmTxt956a+a49zPOOGPWrFmuBQAAAAAAAACw9wqFwuWXXz569Oj0ZYsXL37qqacGPh5k4B7H8bx587Zu3Zq++Pjjj589e7YLAUATvGjaAgDyKUmSk08++bTTTktf1tvbe+eddyYNg5zgvmDBgkWLFqWvbG9v/5u/+ZvMvB4AAAAAAAAAYDCSJDnqqKPOP//89GVxHN966619fX2DD9wXL168YMGC9JWFQuH6668/4IADXAgA8k/gDkBODQxc/+u//utyuZy+8oEHHvjlL3+ZGbhHUVQulzdu3HjLLbdk/upf/OIXTzrppMyDIgAAAAAAAADAYEQN11xzzYEHHpi+8pVXXnnkkUeiKBpM4B7H8e233z4QxKeYOXPmOeecI4QAoCkI3AHIryRJZs2a9ZnPfCZ9WU9Pzz//8z/X6/U4jtNXlsvl+++/f/ny5enLRowYcf311xeLxYEfdAYAAAAAAAAA2HtJkhx99NEXXnhh5rLbbrtty5Ytgwncf/7znz/yyCPpy0ql0l/91V91dHQIIQBoCgJ3APIriqKhQ4deddVVxWIxfeW///u/r169OuM1r1DYsGHDXXfdlfnrnn/++ccee6z9BwAAAAAAAAA+QgN9+Ve/+tWRI0emr/zFL37x5JNPZvbocRzfddddW7ZsSV924oknnnnm/2PvTn/jOu+7/1/X2WbO7DMkhzspilotyba8ypuS2IntJL4D9Je0QZAGBowiaGAn9RYgyLM+6YO26F+QFn3eBy36oC1aZHFc6/YdL4oXLTRJLSTFnRzOcLazXj+QR6aVOJFtictQfr9sBBR5eObrbw4x/Or6nOt8hf4DAHYLAu4AgFb3+OOP33vvvdc/ZnZ29mc/+9n1b1w2DOOf//mfx8bGrn+qQqHw/PPPaxpvkQAAAAAAAAAAAAAAYPMdOnToO9/5zvWPCcPwH/7hH6rV6vUPe/fdd//1X//1+seYpvnCCy8kk0k6DwDYLUjvAQBaXTKZfO655z5xE/d/+Zd/cRznOgc0m82f/exnn/hyTz/99KFDh2g7AAAAAAAAAAAAAADYClLK5557rlAoXP+wt99++/z589c/5t/+7d8+cfv2Bx544Ktf/SptBwDsIgTcAQC7wFNPPXXs2LHrH1Or1a6/g7vjOOVy+fon6erqevbZZ9m+HQAAAAAAAAAAAAAAbJ1Dhw792Z/92fWPCcNwcXHx+sdMT09f/wBd11966aVEIkHPAQC7CAE+AMAukM1mv//972/DCz399NPDw8M0HAAAAAAAAAAAAAAAbB1d13/wgx9kMpmtfqEHHnjg8ccfp+EAgN2FgDsAYHf49re/vX///i19iZ6enmeffZZWAwAAAAAAAAAAAACALaWUOnr06De/+c0tfRVN037yk5/E43EaDgDYXQi4AwB2h0Kh8Nxzz23pS/zwhz/s7+9XStFtAAAAAAAAAAAAAACwdaSUmqY9//zzW7qJ+5e+9KXHHnuMIAQAYNch4A4A2DW+853vDA0NbdHJ9+3b98wzz0QzJK0GAAAAAAAAAAAAAABbSil17Nixb33rW1t0fsuyXn755Xg8ThACALDrEHAHAOwaHR0df/EXf7FFJ//hD39YLBZpMgAAAAAAAAAAAAAA2AZy3Y9+9KNUKrUV53/kkUe++MUv0mcAwG5EwB0AsJt873vf6+3t3fTT3nbbbd/97ndpLwAAAAAAAAAAAAAA2E5btIm7ZVkvvvhiPB6nwwCA3YiAOwBgN+nt7X366ac395y6rr/wwgttbW20FwAAAAAAAAAAAAAAbCdN0370ox9lMpnNPe0XvvCFxx57jPYCAHbr+yMtAADsrrnumWeeKRaLm3jOO++880//9E/pLQAAAAAAAAAAAAAA2H7Hjh37kz/5k008oWVZL7/8ciwWo7cAgF2KgDsAYJfZu3fvN7/5zU17I9S0559/PpvN0lgAAAAAAAAAAAAAALD9DMN49tlnU6nUZp3w5MmTX/rSl2gsAGD3IuAOANhlpJTPPffcZkXS77vvvs29DRoAAAAAAAAAAAAAAODTU0rdddddTz311KaczTTNn/zkJ6Zp0lgAwO5FwB0AsPvmusOHD3/rW9+6+VMZhvHTn/40mUzSVQAAAAAAAAAAAAAAsCOklLquv/jii5uyifsTTzzxyCOPKKVoLABg9yLgDgDYfXOdlPKHP/xhOp2+yVM9+uijjz/+OC0FAAAAAAAAAAAAAAA7SCl19913/5//839u8jzxePyll16yLEtKSVcBALsXAXcAwK507Nixr33tazdzBsuyXn755VgsRjMBAAAAAAAAAAAAAMAOklJqmvbCCy/Ytn0z53n00UcfeOAB+gkA2O0IuAMAducbmKb96Ec/SiQSN3yGJ5988uTJk3QSAAAAAAAAAAAAAADsOKXU8ePHv/GNb9zwGWKx2IsvvshOfwCAWwABdwDAbnXPPfc88cQTN/a9yWTyxz/+MUMdAAAAAAAAAAAAAABoBVJKwzBeeOGFVCp1Y2d4/PHHT548qZSimQCA3Y6AOwBgt7Is69lnn43H4zfwvU899dSJEyfoIQAAAAAAAAAAAAAAaB3Hjx//+te/fgPfGI/HX375ZdM0pZS0EQCw2xFwBwDsYg899NADDzzwWb8rmUy+9NJLhmHQQAAAAAAAAAAAAAAA0Dqizf5s2/6s3/jlL3/5wQcfpIEAgFsDAXcAwC4Wj8eff/55Xdc/03d961vfuvvuu3kmFwAAAAAAAAAAAAAAaDUnTpx44oknPtO3xOPxn/zkJ+z0BwC4ZRBwBwDsbl/5yldOnDjx6Y/P5/M//vGPNU3jmVwAAAAAAAAAAAAAAKDVmKb50ksvfaZN3J966qn777+fnf4AALcMAu4AgN3Ntu0XXnjh06fVn3766cOHDzPUAQAAAAAAAAAAAACA1vSZNnFPJpMvvviiYRjs9AcAuGUQcAcA7HpPPvnknXfe+WmO7Ojo+MEPfsD27QAAAAAAAAAAAAAAoGUZhvHiiy9alvVpDn7yySfvuecemgYAuJUQcAcA7HrJZPKv/uqvPk1m/Zlnntm/fz8dAwAAAAAAAAAAAAAALUspdeLEia9+9aufeGQikXjhhRdM06RpAIBbCQF3AMCt4Bvf+MbRo0evf0xfX98PfvAD9m4HAAAAAAAAAAAAAACtTEppmuaLL74Yj8evf+TXv/71+++/n44BAG4xBNwBALeCfD7/9NNPX/+Yp59+enBwUClFuwAAAAAAAAAAAAAAQIu7//77v/jFL17nAMuynn/+ecMw6BUA4BZDwB0AcIv4zne+09fX98e+2tnZ+f3vfz+6y5leAQAAAAAAAAAAAACAFheLxf7yL//SNM0/dsCXv/zl++67j0YBAG49BNwBALeInp6ev/mbv7Ft++Nfisfjf/u3fzswMECXAAAAAAAAAAAAAADAbvH1r3/9mWee0bQ/EPPr6+v7u7/7O7ZvBwDckgi4AwBuEUqpP//zP/+nf/qn/fv367p+9X1O04aHh//xH//xu9/9rlKKLgEAAAAAAAAAAAAAgN3CMIy///u//+lPf9rR0bHxyVgsdvLkyX//93+/7bbbaBEA4NZ8B6QFAIBbg5RSKfXtb3/7sccee/XVV8+cOSOEOHz48MMPP9zZ2SmlpEUAAAAAAAAAAAAAAGB3SaVSf/3Xf/29733vN7/5zdmzZ7u6ug4fPvzggw8mk0maAwC4VRFwBwDcOqIUe0dHx/+3joYAAAAAAAAAAAAAAIDdTtO0A+toBQDg8/LeRwsAAAAAAAAAAAAAAAAAAAAAAK2AgDsAAAAAAAAAAAAAAAAAAAAAoCUQcAcAAAAAAAAAAAAAAAAAAAAAtAQC7gAAAAAAAAAAAAAAAAAAAACAlkDAHQAAAAAAAAAAAAAAAAAAAADQEgi4AwAAAAAAAAAAAAAAAAAAAABaAgF3AAAAAAAAAAAAAAAAAAAAAEBLIOAOAAAAAAAAAAAAAAAAAAAAAGgJBNwBAAAAAAAAAAAAAAAAAAAAAC2BgDsAAAAAAAAAAAAAAAAAAAAAoCUQcAcAAAAAAAAAAAAAAAAAAAAAtAQC7gAAAAAAAAAAAAAAAAAAAACAlmDQAgDALqXWBUHgOE61Wm1+KAzDtXc4w7BtO74unU4bhqHrupSSvtFPAAAAAAAAAAAAAACuTykVhqHv+7VarV6vO47TaDQ8z1NKSSljsVi0gJ5MJm3b1nVd07QWWUOPKg+CoNFo1Gq1aOnfcZyoctM0bduOxWKJRCKZTBqG0TqVAwCwgYA7AGD3zZBBENRqtbm5uZmZmaWlpdXVVd/3gyCIotjX0tdZlpXL5drb23t7ewuFgm3bmsYzTOgnAAAAAAAAAAAAAAC/QynlOE65XL5y5cr8/HypVGo2m8E6pdS1R0opdV03DCORSBQKha6uru7u7nQ6bZrmjuTFlVKe562urs7MzMzOzi4vL9fr9Wj1/w9Wrut6PB7P5/PFYrG3tzebzcZiMZLuAIAWQcAdALCbxshms3nlypXR0dH5+XnXdaME9sZ89fGYtVLK933P82q12pUrV95///1EItHb23vw4MH29nbDMOgn/QQAAAAAAAAAAAAAIAzDUqk0Pj5++fLlSqWykQuP1tDluo9/i+u6juOUSqULFy4YhlEoFIaHh/fs2ZNKpbYtLK6Uqlarly5dGh8fX15e9n3/01QeFV+pVCYmJk6fPp3JZAYHB4eHh/P5PJvcAQB2HEE0AMDu0Gw2P/jgg3PnzpXL5Ws/74We4zs1t9b0m07guIEbhqGUUpd6zIhZupUwE7Zpx424rulhGFar1ZGRkbGxsc7OzjvuuKO3t/fzOZjRTwAAAAAAAAAAAAAAooD40tLSO++8Mzk56TjORhxcKdUMmtEauhM4ju/4ylehkpq0NCtmxGJ6LGkl40bc0i0hhO/78+veeeed4eHho0ePptPprS5+dXX1/fffHx8fr9fr137eDdym39yo3A3dqHJDGhuVx4xYXI9LKYMgKJVKy8vLZ8+e7e/vv+OOO9ra2tjNHQCwgwi4AwBaneu6Fy5cePfdd0ulUvSZUIVNv7nSWFluLtfcmhd6oQqvHi3X/1mfMzfOoGu6pVmZWKZgF7LxrKVbQRBcuXJlZmamr6/v+PHjxWLx8xPLpp8AAAAAAAAAAAAAAERL4eVy+d133x0bG/M8L4p0e4FXcSsr9ZVSs+QEjh/6G8dHB6j1f65+RkhDN2zDLsQLOTuXNJO6ptdqteicR44cOXTokG3bmx4WV0o1Go1z586dPXt2I9oehEHNq0Wr/w2/4Qf+7xT6sdV/QzNieiwfz+cSuYyVMTTDdd2xsbHLly/v27fv9ttvz2azxNwBADuCgDsAoKUnycXFxd/85jdXrlxRSkkpXd9daa7M1eYqTiWaIa+OUlJoH1qfyIQKVfRELRGuB7iDZqPWmKvNxfRYW6KtmCymrJRUcmJiYmZm5rbbbrv99tsTiQT9pJ8AAAAAAAAAAAAAgM8Dz/M++OCD06dP12q16DM1t7ZQX1ioLTT8RhQEl+uEEJquaZomtWgFXYRhqEIVhIEQwg/9ilOpOBWtoqWsVDFZbEu0xfRYvV5/4403xsfH77333v7+fl3XN6vyIAgmJyffeOON5eXl6DNO4CzVl+Zr81W3Gm1pt1b2erG6pktN/v7qf7B2TKCCmlerebUr1Su2YXckOzoSHQkz4XneuXPnJiYmjh8/fuDAAdM0uVoAANuMgDsAoEX5vn/u3Lm333672WxKKUMVLtYWpypTNa8WhbPXxjBDjyfj6Xw6lUvZSdu0TN3Uo3kyDELf9T3Hq63WqqVqtVx1664Sygmc6dXpudpcIV7oy/alrbTnee++++7U1NRDDz3U1dV1q958TD8BAAAAAAAAAAAAAIi2h6tUKqdOnZqamgrDUAjR9JtXVq/MV+f90FdCRbl2M2Yms8l0Lp3MJq24ZViGrutCChGKIAg813MaTrVUXS2t1qt13137xopTWXVXpypTPemezmSnZVjLy8s///nPDx06dPfdd8fj8ZsvvtlsvvXWW+fPn/d9P9rYbq42N7067QTOxuq/YRmJVCKdT6fyqZgdMy1zrXJNCLVWue/6btOtlWurK6u1cs1zPCFE3atPrExMV6aLqWJvujduxGu12qlTpyYmJh588MFMJsPqPwBgOxFwBwC0Itd133jjjTNnzkR/rDm1C6ULK87K1YdnSZFIJdr72gtdhWQmqRvXu8u5XbQrpTzXq5aq81PzpdmS53qhChcaC6VmqSfd05fuMw1zaWnpv//7vx9++OG9e/feelMZ/QQAAAAAAAAAAAAAIDI/P//KK6+USiUppVJqrjZ3eeWyG7rRV3VDz3Xkin3FdFs6Zsc0TbveuQZFGISNWmNlfmV+cn51ZVUo4QTOxdLF+er83sLeXDwXBMGZM2fK5fLJkydTqdTNVL66uvrqq69OTk5GC/GlRunC8oWaV4t2Z5eaTOfSxf5irpizk7amX7fyfhGGodNwVpdW56fmVxZWQj/0lT+9Or1YWxzMDXYmO5VSk5OT//Vf//WlL32pWCxy5QAAtg0BdwBAa1FKNRqNV155ZWJiQkoZhMFsdfbyymUv9KI7pNOFdO++3nxHXrd0KWT0ULDrk1JaMavQVch35p26Mz81P3Nxxqk7QRhMlCeWG8vD+eFsPOs4zi9/+ctKpXLs2DHDMOgn/QQAAAAAAAAAAAAA3ErCMLx8+fKvf/3rZrMphGh4jQulC0v1JSWVFNIwjeJAsXtPdyKT+PRbuWm6lswkk5lk11BXtVS9Mn5leXY5DMKqXz0zf6Y71T2QGzA0Y3Jy8j/+4z8effTRtra2G9gnTim1tLT0i1/8olQqCSG8wJtYmZipzgQikFJqulboKvQO96bz6U/ItV9buabZSdtO2h39HfVKfebSzPzEvO/5TuiMLo0uN5b35vfGjfjKysp//ud/njx5cnBw8BPi/gAAbBLSZgCAFqKUqtVqv/zlL6enp4UQbuBeWL4wX5+Pnv+VyCQGDg60dbddu8X4Z5r6pJTxZHzg4EBnf+fMpZnpC9O+61fd6tmFs3tye7rSXSIUb775pu/7x48fvwUy2fQTAAAAAAAAAAAAAIBIGIbj4+P/+7//67putP352PJYw29EUe9if7FvX99nirb/Hk3Tsu3ZTCFTXipPjEysLKyEKpxanVp1V/e37U+YiVKp9D//8z+PPfZYR0fHZ3oVpdTCwsLPf/7zSqUihKh79dGl0bJTjja2y3XkBg4OZNuyUvtUu9p9nJQymU0O3z7cvad7amxqfnI+DMLF+mLNre0r7Mvb+Waz+atf/erhhx8eHh4m4w4A2AZEzQAALaTZbL7yyitRGrvpN0cWRypuRSml63rXUFf/wf5YPLYpLxRLxAYPDxa6Cxffu1heLHuhN14ab/rNwdygrum//e1vdV0/fvz4DU+t9PMP9pMrHAAAAAAAAAAAAACwI5RSly9ffu2111zXVUrN1eYulC74oS+ltFP20NGhQldB07QbC4hHooyB1GSuI5fKp2YvzU6cn/Acr+yWz8yfOdB+IBvLViqVX/ziF48//nihUPj0Zy6VSr/4xS+idHvZKX+w+EEjaAghDMsYODTQtadrY8u5m8w5JLPJ/cf3t3W3XXz/YqPaaPiNc4vn9ub3diY7Xdd97bXXDMPYs2fPbk9TAABaH3dTAQBaRRAEv/nNb65cuSKldHzn/OL5slOO5rF9x/ftPbZ3s9LYG0NdJp858sCRrj1dUkol1NTq1KXSpSAMlFKnT5++cOEC/aSfAAAAAAAAAAAAAIBbwPLy8muvveY4jhBivjY/XhoPVCClzHZkjz50tK27LdqYfLOi24Zh9A73HnngiJ2yhRLNoHl+8XzFWU+ol8uvvvpqs9n8lKdqNpu//vWvy+WyEKLiVM4vnm8GTaGEnbKPPHCkd7h3sx6oHv23a5rW1t129KGj2Y6slDJQwXhpfL42L4RwHOe1115bXl7mcgIAbDUC7gCAlqCUOnPmzMjIiBDC9d2NuS6WiB194GjnYOcWPeLKMI19d+4bOjoktbU5bao6NVmeDFUYBMGpU6fm5+fpJ/0EAAAAAAAAAAAAAOxq9Xr9V7/6Va1Wk1Iu1hZHl0dDFQohuvZ0HTlxxE7aW/S62bbssYeOZduzQgg3cM8tnqu5azXMzs6eOnXK9/1PPIPv+6+99trc3JyUsubWzi2ecwNXCJHryN3+8O3ZtuwWVW4n7dvuv61zsFMIEapwdHl0sba4VkOt9sorr9TrdS4qAMCWIuAOAGgJs7Ozb7755tpsFvpjy2PRXuOJVOK2+29bm/TUVr4Xalrf/r7h24c1fe1tcbIyOVedU0rV6/VTp059+num6ecn9vP1118Pw5CrHQAAAAAAAAAAAACwbcIwfOONNxYXF6WQK42V0dJoKEIhRO9w7/Dtw4ZpbOLG7deKzmmn7MP3Hc515IQQju+MLI00vaaUcmxsbGRkRKnrrd8rpc6fPz8+Pi6lbHrNkaURx3eEEPmO/KF7D8WT8S2t3LTMfXfs6xnuWeuhCEdLoyuNFSnkwsLCG2+8weo/AGBLEXAHAOy8ZrP5+uuve56nlJoqTy02FoUQlm0duu9QKpdSSm3FPPZ7s1n3UPee2/ZIIUMVXihdqDgVKeXc3Nx77713/XmSfn76fpbLZUZcAAAAAAAAAAAAAMB2unjx4ujoqJSy6TdHl0e9wJNCdg527jmyRzf0rX51pVTMjh2852AqnxJCVN3qeGk8CAOl1Ntvv728vHyd711eXj59+rRSKgiD8dJ41a0KIVL51MF7D8bs2DaEGXRDHzoyVBwoSiG9wBtdHm36TSnl6OjoxYsXubQAAFuHgDsAYOedPXt2YWFBCFFxKlOVqbUZSdeHjw2ncim5bhtqkFL2DPd0DXZJIX3lXyhd8ENfSvn+++8vLS3Rz03pJ5c6AAAAAAAAAAAAAGA7NRqNt956K1w3UZ6oe3UpZTqfHjo6tA3p9o3d0GN27MBdB6y4JYRYrC/O1+aFEPV6/e233/5j+8SFYfj222/X63UhxHxtfrG+vrdd3No4z/as/uuGvvfY3nQ+LaWse/WJ8kTUzLfeeqvRaHCBAQC2CAF3AMAOq1QqZ86cEUIEYXChdCFQgRCie193R1/H9gxjH70patrQ0aFUISXUejS8PKWUcl339OnTu2jf8Vbup1Bc7wAAAAAAAAAAAACAbaKUGhkZWVlZEUIsN5bnanNCCNMy99+137TMbS4mmUkO3zGsaZqU8mLpYsNrSCkvXbo0PT39B4+fnp6+dOmSlLLhNS6WLkopNU0bvmM4mUluc+XXdmyuNrfcWBZCrKysjIyM7LpH4gMAdgsC7gCAnRSG4ZkzZzZuOF51VqPHaQ0cGNjmNPbVqSxm7j261zANKeX06nTdrUspL1++PDMzQz83oZ9eXQrJZQ8AAAAAAAAAAAAA2AbVavXMmTNKKS/wJsoToQqllIO3DSazye0vRkrZ3tNeHCwKITx1tZ4wDE+fPu37v/9EdN/3o834QhVOlCc85QkhOgc723vad2T1P5lNDhwekFJerSfwlFJnzpypVqtcZgCArUDAHQCww8Pk2NiYlNLxnanKlBJK1/WhI0Pbf6v0hmx7tnNP59o8GXpXVq+EYRgEwfvvv78rNnFv8X5Ora6VxGUPAAAAAAAAAAAAANgGY2NjUQJ7obaw6q4KIbId2c6BTinkjsTENU0bODgQs2NSyMXGYrRp3ezs7Mc33ZuZmZmdnRVCrDqri41FKWTMjvUf7Ne0Hcj7rTdLdg12ZTuyayW5q4u1xSiiMD4+zmUGANiSN01aAADYQRMTE9F244v1xYbfEELku/K59twOliSl7B3uNWOmlHKhvhA9FGx6erpcLtPPm+zncnM51EIuewAAAAAAAAAAAADAVvM8b3R0VAjhh/50dVpKqWla/4F+3dB3sCo7YXcNdQkhgjCYXp0WQiilRkZGlPpot7hrPzO9Oh2EgRCia6jLTtg7WLlu6P0H+jVNk1JeqV6JqhodHfU8j4sNALDpCLgDAHZymDx//vza2BYEM9UZIYWma/37+6Umd7YwO2l37elSSvmhv1BfUEq5rjs2NnbtPEk/b6Cfa793JLjwAQAAAAAAAAAAAABbbmZmZmVlRUpZbpbrbl0plSvmdnaHuDVSdO/ptmxLCFFqlBpeQwgxNTVVqVQ2DqlUKlNTU0KIhtcoNUpCCMu2uvd0ix1e/Be59lyumFNK1d36SnOtt6VS6ePbzwMAcPMIuAMAdkypVLo6TDprw6RQItueTeVSrVBb50CnYRpCivnavB/4QojLly/7vk8/b6qfQoik2PGRGwAAAAAAAAAAAABwy4u2sVNKRTvESU12DXZp+s7n5ay4VewvCiG80FuqLwkhXNeNEu2Rqakp13Wjh7d7oSeEKPYXrbi145VrutY12CU1KaSYrc5G7R0bG+NiAwBs/psOLQAA7JTJyckgCIQSC/WFtWFSys7+zlYYJoUQ8WQ8X8wLJZp+s+pWpZTlcnllZYV+3mQ/hSGEybUPAAAAAAAAAAAAANhCzWZzdnZWSun4zqqzGj17PNeRa5Hyiv1F3dCFEAv1hTAMlVKTk5NhGAohwjCcnJxUSoVhuFhfFELohh4F4ltBriNnJ20hRMWpOL4jpZydnW02m1xyAIDNRcAdALAzgiCI7j/2lV9xKmsjmalnO7Kt8gapaW09bUIIJdRyc3mtTt+fm5ujnzfTTyWVkEIkuPwBAAAAAAAAAAAAAFuoVCrVarUoh+0rXwiRbc8aMaNFykukE4l0QghR9+rNoCmEWFhYiGLizWZzYWFh7YOgWffq1x7cCoyYkW3PXhtOqNVqpVKJSw4AsLkIuAMAdkaz2axUKlLKhtdo+mtDWiafseKWUqpFKsy0ZUzLlEKWmqXoPunZ2dnWKW9X9tNc37w9xuUPAAAAAAAAAAAAANhCc3Nzat2KsxKtm7d1t0khW6Q8TdPautuEEIEKKk5FSuk4TvRU+ZWVFcdxpJQVpxKoIKpc01ol5ieFjCrf6K1SqpW3CwQA7FIGLQAA7IhqtdpoNIQQNbemhIoC0K0zkgkhrLhlp+zKcsX1XTdwY0ZsaWkpCALDMOjnDfYzbV/97UMTIvwDx4ShOH1atLXx8wEAAIDPo8lJcemSkBtLbKFILAit/tEBPAwJAIBtVq2KhcWP/qgsUb8k1DV/O2jbQinRqntiAAAAAK3i3LntfkWl1OLi2m/zoQprTk0IYVhGKpdqqbZEa/phGFacSleyy/f9lZWVnp6elZUV3/c1qVWalSgKn2nLtFTlyWzSsAzP8WpuLVShLvXFxUWllJSSqx0AsFkIuAMAdsbS0lI0VVa9ajTnpAvplqpQ07RkNllZrnih1wyacTPeaDTq9Xomk6GfN9bPVHb97wu09V9A3D9wTBiK994T2Sw/HwAAAPg8mpsTExMfBdylEoUFYTofHZC3aBIAANuqWhPLyx/9MTDEUkKE+u8cs77pBAAAAIDrGR3d7lf0fb9cLq99EPqNoCGljNkxw2qtpJydtHVDV56qutVQhFLKKJS/uLgopQxFWPWqUkrd0O2k3VKVmzEzZsd812/4DT/0dU0vl8u+7199qDsAAJuBgDsAYGdUq1UhhBKq6TWj9HM8GW+pCqWUiXQi+qDhNXLxnO/7ruvSzxvup51an7rlHw24rx8muKkbAAAAn1u/8/uwWvvd+dpfj/lVGQCAHXl3/p2Pr3mzVoq/ywIAAAA+8+/V2yMIgmazKYRwAzcIA6WUnbR1XW+pthgxw7RMz/X80A/CwNCMaN0/+t8gDLzAU0qZlmnEWivjp+u6nbSrK9VQhdHz8JvNZhAEBNwBAJtIowUAgB1Rr1990L4XeGvzj6kbRsvddmXFregRWq7vRjd5O45DP2+8n/bVfnKHHQAAAAAAAAAAAABgiwRBEC3u+4GvhBJCxBKxVitS0zTLtqJV/iAMonX/MAyj1f8gDPzQj9bZNa3lMn5RP0MV+sFakY7jBEHAhQcA2Mw3SloAANh+SqnobmmllBd6QgrDMDS95d6VzJh5NeAeXN1vPCqbft4YK2aJ6NZ8nR8CAAAAAAAAAAAAAMCWcBxHKSWE8JQXfRCzWy7gLoU0Y6YQIgzDUIRSSs/zms2m67pSyjD6dJRbEC336KhYPHY1oqC86IOW3S4QALBLEXAHAOwApVQ0iQkhAhVIIaUuZes9zVc39I0ir37Qkvcc75Z+arp2dfDmwc0AAAAAAAAAAAAAgK0RhmGUaw/V1ZX0jdX/FiKFrq9VFcoPqw3DIAiij5VSoQyvVt56K+y6ebWfH1X7YWgBAIBNQcAdANAig5ts0dDzelVKKLmrQtkt2k9y7QAAAAAAAAAAAACALRalrn9HCwcSrl3dv3Ynu5ZOKXxYmhLqj/YcAICbQMAdALATk46Umnb1PUiTmhIqDEIVtty0EwZhNIvpUo+mso2y6eeN9NMPrw63DLYAAAAAAAAAAAAAgK2h63qUFNc+TMcFfus9rV1drUoKGWXZNU2T8urT2jc+GfphC66wB97VfkYdllJGu9EDALBZCLgDAHaAlDIWi0UjmamZQgnf98Og5Z5X5TpudJNxTI9Fn7Ftm37eMM/xrg7eAT8EAAAAAAAAAAAAAIAtYVlWFBM3NCP6wG24rVakEspzvGgbO01qSinDMOLxuGmaSqnok2uVu65qvYR71E8ppaEZ0QeWZXHhAQA2EQF3AMDOSCQSYj2RbelWdHev7/stN5I13WhOjIo0DMOyrNZ8rtZu6efV7vn8BAAAAAAAAAAAAAAANl+UFI82iTN1M9oHvVlrtlydoXKbbpTCj57ZnkgkdF2PVv81TdM1PYqSt+Dz25v1ZhTNN3VTCBGLxQzDaM00BQBglyLgDgDYGalUKtpxPGasTZVhGDp1p9WG3ka1Ed0JHTfjUcA9FotFt3fTzxvr5/pHBNwBAAAAAAAAAAAAAFtCSqnr+kbAXdd0KWWz3my1p6B7ruc5npTS1M1oH/RkMrnxv4ZmWLolpfQcz3O9lqo8DMJmvSmlvDbgrut6a6YpAAC7lEELAAA7oq2tLQpkp8xUNOSsllbzxXzrVKhCVSvXhBC61G3DFkLE43HbtunnDfezWq6uD7t/NOCuaWLvXlEo8PMBAACAzyPbFqWS+GgNKBSpVaE3Pjogem4TAADYvnfnuEinP/pjaAqtQ6gP19aUEgMDYv9++gQAAAB8glptu1/RMIxsNru8vGxqZlyPrwarTt3xXC9mx1qnLY1qI/ADpVTSTGpCC1XY3t4uhGhvbz9//rwmtaSRXHVWAz9o1prxRLx1Kvdcz6k7Sqm4Hjc1UwiRzWYNgyAiAGBT381pAQBgR6TT6Xg83mw2k7GkFFIJVVmsqP1Kaq1yR6/ruPVKPdoT3dRNpVShUGjZkWx39HO1vvaRv55x/0M0TTz8sOjs5OcDAAAAn0ejo6JeF9qHD1xUgRBNIaofHVDI0iQAALaREtmc6Hav+UxMiENCmh9+XYm77177FwAAAMD1bfyV17aRUra3t1+8eFGTWtJKrrqrruvWK/WWCrivllbDMBRCZGIZIYWhG/l8XgiRz+cNwwjDMBPPzNZmwzBcXV7NdeRap/Japea6a8NS0kpqUotC+WzfDgDY5N8faAEAYEfE4/F0Oq2UShiJmL42Q1ZKFddxW6fCynLFcz0lVDaW1TVdCNHV1dWyI9mu6Kfvru/c7lzvMKX44QAAAMDnlFK/86+I/gUAADtF/qH3YvWxt2wAAAAAn2RHfnMuFotR0j0bz0oppZCLM4uqZf7GLQzDpZml6JHymVhGKWVZVjabjXZDtyxLKZWJZXSpCyEWZxajKHxL/L8p1NLMklxr7dXebnQbAIBNRMAdALAzdF3v6+sTQhiakYllhBC+65eXyi0zYKtomBRCtNlt0SPMOlt4a/Hd0c8ooNPg8gcAAAAAAAAAAAAAbKFCoZBMJoUQWSsbxcTLC+Wrm7K1gGatWa/UhRS2YduGHW2CnkgkhBCJRKK9vV2ID78kRb1Sb9aaLVK57/rlhXIUzc9aWSFEMpksFApccgCAzUXAHQCwY/r7+zVNE1K0J9qjDPT8xHyL3HbcrDVLsyUhRcyIpa20UiqdTrf4SLYr+il8IVyufQAAAAAAAAAAAADAFrJtu1gsKqWiRX8hRL1aryxVWqS8+cl53/OFEu2Jdk3TpJR9fX2apgkhNE3r6+uTUmqa1pZoE0r4nj8/Od8ilVeWKvVqXQiRttIxI6aUKhaLtm1zyQEANhcBdwDAzlBKFQqFXC6nlMrFc9EdySsLK7VyrSWGyal5z/WEEsVE0dANIcTg4KBhGPTzpvophKgLwYObAQAAAAAAAAAAAABbbN++fVFevCvVJYRQoZq5NNMKm8S5jjs3OSeFNDQj2sDONM3+/v6NA/r7+03TFEJ0JDoMzZBCzk3OeY6345WHYTh7aVaFSgjRleqKEvlRnwEA2FwE3AEAO0NKaZrmgQMHhBCGbnQmO4UQgR9MjU1Fs9AOatabMxdmhBC6pheTxajU4eFhKSX9vJl+inA94A4AAAAAAAAAAAAAwBbr6enJZrNKqbydjxtxIcTK3MrOb+KuxNzEnFNzlFD5eN62bCFEb29vNpvdOCSbzfb09AghbMvOx/NKKKfmzE7M7vh2cpWlSmmuJISIG/G8nVdK5XK5qFQAADYXAXcAwI6RUg4ODsbja2NkZ6ozZsSklEtXllZXVnd0llQzF2fcpiuEaLPbEmZCCNHV1VUoFOjnTfYzZ+W0gN89AAAAAAAAAAAAAABbLhaLRZuLG5rRk+oRQgRBMDk6ubObuDtNZ2Z8RgihSa0n3SOFlFIePHgw2g09omnawYMH174gZHe6W5NrX5oZn3Gazg5WHobh5OhkEARCiN5Ur6EZ0fbtsViMiw0AsOkImQEAdlImk9m7d69SKmbEelO9Qq3Nkxffv+h7/k6VtLq8Gm03bmpmX7pPW3fkyJFrh0n6eYP9zPS18i74AAAAAAAAAAAAAIBbyf79+xOJhBCiM9mZNJNCiNJsaX5yfqfqCcNw8oPJRr0R7biXiWeEEO3t7T09PUr9zvbsvb297e3tQohsPNtmtwkhGvXG5Ac7mc6fn5wvzZaEEEkzWUwWhRCJRCK6hQAAgE1HwB0AsKPvQ5p27Ngx27aFEF2prqS1Nk+WF8tXxq/83vC2PTzXu/j+Rc/1ok3QU7GUUqq3t7evr49+3nw/k1ZyR8oAAAAAAAAAAAAAAHwOZTKZw4cPSylNwxzIDkgplVCXzlyqr9a3f/FaKVWaL81enBVCGNIYyA5oUtM07fjx46Zp/t5ucaZpHj9+fO3LUhvIDhjSEELMXpwtzZd2pPL6av3SmUtKKCnlQHbANNYKPnz4cCaT4TIDAGwFAu4AgJ2klMpms4cOHVqb33RjKD+kS10IMfXB1PLs8jZPZWEYTpyfKC+WhRRJM9mf7V+bck3zrrvu0nWdfm5KP7nmAQAAAAAAAAAAAADb49oQdluirSPRIZRwGs7Yb8e2/0Ho9Wp9/J3xIAiEEv3Z/miHuP51H1/Nv/ZLSSvZn+2PHuE+/s54vVrf5sp9zx/77ZjTcIQSHYmOtkTbtTcPcJkBALYCAXcAwA4Pk1LKY8eO5fN5IUQ+nu9KdW1MR41qY9sqUUrNT8xfGb+y9u4otb35vZZuKaUOHz5cLBbp56b0kwseAAAAAAAAAAAAALCdksnk8ePHpZS6pu/J7YkbcSnlysLK5bOXwzDctjI81xs7fXXVPhfP9aR7hBCxWOzuu+/Wdf3jMfG1gnX97rvvjsViQoiedE8unhNCNKqNsdPbms4Pg/Dy2csrCytSyrgR35Pbo2trBd91113JZJILDACwRQi4AwB2nm3bJ06cMAxDSrknvycfzwshmvXmuf93bnueC6aUWphaGH9nXCghhRzKDuXiOaVUW1vbnXfeuetuOG7ZfiaTSU3jdw8AAAAAAAAAAAAAwDZRSu3bt29oaEgpZRv2/sJ+XepKqOkL0xPnJ4Ig2IYaPMcbfXt0ZWFFCJEwE/vb9kcZ8TvvvLO9vf0639je3h6FFnRN39+2P2EmhBArCysfvPWB53jbUHkQBBMjE9MXppVQutT3F/bbhq2UGhoaGh4e3ubHyAMAPlcImQEAWmKe7Ovru+OOO6SUhmYcaDuQttJCiGq5evb/na2uVLd0KArDcPbS7Ojbo9Hg2p3q7sn0SCnj8fiDDz5o2zb93Kx+njhxgoA7AAAAAAAAAAAAAGDbRFuhnzhxolAoKKEKicLe/F5tPTU3cX7i8tnLW70berPeHHl7ZOHKgpTS0q0DhQNRTn1wcPDIkSPX33FPSnnkyJHBwcEoGX+gcMDSLSnlwpWFkbdHmvXmllbue/7ls5cnzk+spwy1vfm9hcR6DwuFEydO/MGN5wEA2CyEzAAALTFPSinvuOOOvXv3CiEs3TrYfjBpJoUQtXLtzP89szi9uEWPBvM9/9LZS2PvjPn+2sjamejck9sjhdQ07b777uvu7qaf9BMAAAAAAAAAAAAAsKslk8mTJ0/atq2U6kx2DuWGpJBCiKnRqZG3RpqN5lbsE6eUWl1ZPfv62aXppY396TLxTPQ8+Yceesg0zU88iWmaDz30UFtbm1IqE88caDtgaIaUcml66ezrZ1dXVreo8majOfLWyNTolBDrT27PDXUmO5VStm2fPHkymUxyUQEAthQBdwBAqzBN88SJEx0dHVLKhJk43HE4ZaaklE7DGXlzZHJkMspMb+I8Vq/WR94cmfpgSoVKCtmV7BouDBv62ih47NixgwcP7uq7jeknAAAAAAAAAAAAAADRPnHFYvHEiROmaWqa1pPuGcoNRfu4L00vnTl1prxU3tykeBAGc5NzZ06dWS2tCilMaR5qP1SwCxtp+1Qq9SlPlUqlNjLlBbtwqP2QKU0hxWpp9cypM3OTc0EYbGLlSqnyUvnMqTNL00vR3u1DuaGedI+maVEOoVgssvoPANhqBNwBAC0kkUg89thjbW1tUSb7aOfRQrwgpQyD8NLZS+/973uluVIYhDc5VSqlPMebuTDzzivvLE4vKqU0qe3J7dlX2BelsY8cOXLPPfdomkY/6ScAAAAAAAAAAAAA4BYgpdy/f//999+v67qmab2Z3oPtBy3NUkpVV6rvvfbexfcvNmubsJW7CtdOOPLGyAdvfuA2XSllykwd7Tyaj+ejdPujjz7a3t7+mc7Z3t7+6KOPJhIJKWU+nj/aeTTa4c5tuh+8+cHIGyPVlaoKb7pypZq15sX3L7732ntrJ1TK0qyD7Qd7M72aphmGceLEif3795NuBwBsA4MWAABaSiaTefzxx3/5y1/Ozs7GjNihjkNT5akrq1d85VeWKmf+75l8V75nb086n9YN/bNOTVEUe2l2aXp8ulauKaWklLZhD+WG2hJtUkpN044ePXrPPffouk4/6ScAAAAAAAAAAAAA4JYhpTx8+LCu66+//rrjOO2J9rgRv1C6UHbKKlCTH0wuTC10DXUV+4rxRFxqn3kBPQzDxmpj5tLMwuSC53pSSk1o7Yn2ofxQzIhFK/hf+MIXurq6PuvqvJSyu7v7y1/+8q9+9avV1dV0LH20ePRi6eJifTEU4cLUwsr8Skd/R/eebjtta5r2mVf/Q9WsN+en5mcvzjbrTbkuG8vuze9NWSkhhGVZJ06cOHDgAOl2AMD2IOAOAGitYVIplUqlvvKVr7z++utjY2OGZgzmBvPx/MWVixW3EgTB4pXF5dnlVC5V7CvmOnLxZFw39E8cI33Pr1fqi9OLSzNLV2+5lkLX9GKiOJAdiCZJ0zTvv//+gwcP3jJpbPoJAAAAAAAAAAAAAMAGTdMOHjyYTCZfffXVarWaslJHOo5Mr05fWb3ihV6z3rx89vL0+HS+M9/R25HKpayY9YlJ9zAMnbpTWa4sTC2sLK4EfiCUkELauj2YG2xPtEeh8M7OzpMnT+ZyuRvLiEspu7q6nnjiiVdffXVubs7SrQNtBwp24fLK5Ybf8Fxv+sL03MRcrj3X0deRKWRiidgnPmhdhcp13OpKdeHKQmmu5DletLGdqZm96d6edI+u6VLKVCp18uTJ3t5e0u0AgG1DwB0A0Fqicci27UceeSSdTr/77ru+72ft7FHr6EJ9YbI82fAbKlSry6uVpYphGolMItuWTefT8WRcN3XDMNZmS7U2QAZ+4LlevVIvL5WrpWqj2th4lJiUMhfLDWQHsvFslAJPp9OPPPJIX1/fLTaP0U8AAAAAAAAAAAAAADZIKfv6+p588slf//rX8/Pzhm70Z/vbEm2TlcmF2oISynO8+Yn5+Yn5mB1L5VLZ9mwyl7Rilm7ouq4LKVSogiAI/MBpONVStbxYrlVqbtON1selkIZmdKe7e9I90fZwUsq9e/c++OCDtm3fZOWFQuHxxx8/derUhQsXlFLFVDEbz06vTs+szvjKD/1weXZ5aWbJilvJTDLbnk3lUzE7FlUerf5HlbuOW1uplRfL1ZWq03A2XkKTWkeyoz/TnzAT0X9OsVg8efJkPp9n9R8AsJ0IuAMAWvUtyjDuvvvunp6e119/fXFxUdf07nR3m922UF+Yq83V3XoowsAPKkuVylJFKKHpmqZr0TAZ3SEdBmEQBCJcHx+lVEKtjZHSyNm5rmRXNp7VNV0Ioev63r1777333lQqtZHYpp/0EwAAAAAAAAAAAABwqyoUCl/72tfeW+e6btJKHmw72JvunanOLDeWvcALReg0nGa9uTi9GC2Fa4amaZqQQigRLaAHQSDX19SllFKs/Rs34u2J9q5Ul21ezbKnUql77rlneHh4sx5+btv2F7/4xf7+/jfffLNarcaM2FB+qCvVNVudXawvNv2mEMJzvNJ8qTRfUkLp6zT9w8rDMPTXV//XRav/mtBM3SzYhe5Ud8pKRVl2y7KOrbMsi9V/AMA2I+AOAGhpPT09X/va186tq1arlmH1Zno7U501t7ZcX15xVhp+IwiDUIZKqcAPAj+49tvl+j+aphmakbJS+Vg+n8jbhn11QtO0jo6OO+64Y2BgIHoy1y1/wzH9BAAAAAAAAAAAAAB8zm0EuO+6667+/v7f/va3U1NTvu+nY+mUlXICp9wsLzeWV51VL/QCFVzdFc4NP36eaGM4y7CysWzBLmRiGVMzo43kYrHYvn37jh07lslkNrd+XdcPHDjQ1dX17rvvjo+PO45jm/ZQbqgv01dxKsuN5bJTdn3XV74QQoXKD33h/YEO6FI3NTMdSxfsQjaejemx6POGYfT19d15550dHR1Xt6Vn9R8AsL0IuAMAWn2kjMfjd9555759+86fPz86OlqtVg3NyMazmVgmVKEbuHWvXvfqTb/pBq4buNF9w7qmW7pl6VbCTCTMRNyIm7qpCS0aIzVNa2trO3r06ODgoGVZ9JN+AgAAAAAAAAAAAAA+b6SUxWLxsccem5mZee+992ZmZjzPixvxeDJeTBb90G/6zWgN3fVdN3A95Qm19l2mZlq6FTNi0Rp6TI/pmh7tGRetyw8MDBw9erStrU1KqZTa9IC4UiqTyTz00EOHDh16//33JyYmms2mqZttdlvBLgRh4AROVLnjO2uVh55SSkhhyrXKLeOj1X9DM6LKlVKGYXR3dx87dqy7u3uztpwHAOAGEHAHAOyOkTKdTt9777233XbbpUuXRkZGSqVSEAS61G3Ntk27TbR9ygEvHot3dXUdPny4u7vbNE36ST8BAAAAAAAAAAAAAJ9nuq739fX19PQsLCyMjIxMTEzU63UppKmbpm6mY+lPeR4pZSaTGR4e3rdvXzab3Qi1b8X25xsbq7e3t3/hC18ol8tjY2Pj4+OVSkUoYeiGoRtJK/npT5hIJAYGBg4ePNjR0RE9sx0AgB1EwB0AsJskk8kjR44cOnSoXC5PTk5OT0+Xy+V6vR6GoVr38YlOSmkYRjqdzufzAwMDnZ2dqVQqukOaftJPAAAAAAAAAAAAAACiR5d3dnYWi8VGo7G0tHT58uXFxcVKpeJ53sYa+kZUPfpYSqlpWjwez2QynZ2dg4OD+Xx++x97LqXM5XL33HPP7bffXiqVLl++PDc3V6lUms3m9Ss3TTOTybS3tw8ODra1tdm2vRVZfAAAbgABdwDArpwqC+uOHTvmeV6tViuXy41Go16vu64bhuHaO5xhxONx27aTyWQ2m43H47+3vzhTGf0EAAAAAAAAAAAAAOBaUsrEuv7+ft/3Xdctl8vVarWxzvf9KCBuWZa9LpPJpFIpy7J0Xd/x4i3L6lwXBIH7/7N372E6lfv/wJuDGcNonEYpIpFKIu1vu11SDpVz9fsmxdBh70p2ql1SEZXvLqWiogO1HbJpBmGHrbQ77yQlh5BTKITYGIMxx+d3Xc11uVzzPDONMeylXq+/ct/rWWs991rzPD3rfq/Pys7eu3fvnj17CvY8Ozu7YM9jY2ML9jwxMTEpKSkuLi42VoYQgMDx5QTAcfl7suA/oqOj439WtWrVgpZD64iLXBtPAAAAAAAAACidmJiYgrB7wT+Pown0mJiYghR7cnJy8Tvvae0ABJOAOwC/KkLYxhMAAAAAAAAAjlyhGfPjegK9qJ2XCgAgmKINAQAAAAAAAAAAAAAAQSDgDgAAAAAAAAAAAABAIAi4AwAAAAAAAAAAAAAQCALuAAAAAAAAAAAAAAAEgoA7AAAAAAAAAAAAAACBIOAOAAAAAAAAAAAAAEAgCLgDAAAAAAAAAAAAABAIAu4AAAAAAAAAAAAAAASCgDsAAAAAAAAAAAAAAIEg4A4AAAAAAAAAAAAAQCAIuAMAAAAAAAAAAAAAEAgC7gAAAAAAAAAAAAAABIKAOwAAAAAAAAAAAAAAgSDgDgAAAAAAAAAAAABAIAi4AwAAAAAAAAAAAAAQCALuAAAAAAAAAAAAAAAEgoA7AAAAAAAAAAAAAACBIOAOAAAAAAAAAAAAAEAgCLgDAAAAAAAAAAAAABAIAu4AAAAAAAAAAAAAAASCgDsAAAAAAAAAAAAAAIEg4A4AAAAAAAAAAAAAQCAIuAMAAAAAAAAAAAAAEAgC7gAAAAAAAAAAAAAABIKAOwAAAAAAAAAAAAAAgSDgDgAAAAAAAAAAAABAIAi4AwAAAAAAAAAAAAAQCALuAAAAAAAAAAAAAAAEgoA7AAAAAAAAAAAAAACBIOAOAAAAAAAAAAAAAEAgCLgDAAAAAAAAAAAAABAIAu4AAAAAAAAAAAAAAASCgDsAAAAAAAAAAAAAAIEg4A4AAAAAAAAAAAAAQCAIuAMAAAAAAAAAAAAAEAgC7gAAAAAAAAAAAAAABIKAOwAAAAAAAAAAAAAAgSDgDgAAAAAAAAAAAABAIAi4AwAAAAAAAAAAAAAQCALuAAAAAAAAAAAAAAAEgoA7AAAAAAAAAAAAAACBIOAOAAAAAAAAAAAAAEAgCLgDAAAAAAAAAAAAABAIAu4AAAAAAAAAAAAAAASCgDsAAAAAAAAAAAAAAIEg4A4AAAAAAAAAAAAAQCAIuAMAAAAAAAAAAAAAEAgC7gAAAAAAAAAAAAAABIKAOwAAAAAAAAAAAAAAgSDgDgAAAAAAAAAAAABAIAi4AwAAAAAAAAAAAAAQCALuAAAAAAAAAAAAAAAEgoA7AAAAAAAAAAAAAACBIOAOAAAAAAAAAAAAAEAgCLgDAAAAAAAAAAAAABAIAu4AAAAAAAAAAAAAAASCgDsAAAAAAAAAAAAAAIEg4A4AAAAAAAAAAAAAQCAIuAMAAAAAAAAAAAAAEAgC7gAAAAAAAAAAAAAABIKAOwAAAAAAAAAAAAAAgSDgDgAAAAAAAAAAAABAIAi4AwAAAAAAAAAAAAAQCALuAAAAAAAAAAAAAAAEgoA7AAAAAAAAAAAAAACBIOAOAAAAAAAAAAAAAEAgCLgDAAAAAAAAAAAAABAIAu4AAAAAAAAAAAAAAASCgDsAAAAAAAAAAAAAAIEg4A4AAAAAAAAAAAAAQCAIuAMAAAAAAAAAAAAAEAgC7gAAAAAAAAAAAAAABIKAOwAAAAAAAAAAAAAAgSDgDgAAAAAAAAAAAABAIAi4AwAAAAAAAAAAAAAQCALuAAAAAAAAAAAAAAAEgoA7AAAAAAAAAAAAAACBIOAOAAAAAAAAAAAAAEAgCLgDAAAAAAAAAAAAABAIAu4AAAAAAAAAAAAAAASCgDsAAAAAAAAAAAAAAIEg4A4AAAAAAAAAAAAAQCAIuAMAAAAAAAAAAAAAEAgC7gAAAAAAAAAAAAAABIKAOwAAAAAAAAAAAAAAgSDgDgAAAAAAAAAAAABAIAi4AwAAAAAAAAAAAAAQCALuAAAAAAAAAAAAAAAEgoA7AAAAAAAAAAAAAACBIOAOAAAAAAAAAAAAAEAgCLgDAAAAAAAAAAAAABAIAu4AAAAAAAAAAAAAAASCgDsAAAAAAAAAAAAAAIEg4A4AAAAAAAAAAAAAQCAIuAMAAAAAAAAAAAAAEAgC7gAAAAAAAAAAAAAABIKAOwAAAAAAAAAAAAAAgSDgDgAAAAAAAAAAAABAIAi4AwAAAAAAAAAAAAAQCALuAAAAAAAAAAAAAAAEgoA7AAAAAAAAAAAAAACBIOAOAAAAAAAAAAAAAEAgCLgDAAAAAAAAAAAAABAIsYYAADg2qlat+s477+Tn5xe1QHR0dNWqVQ0UAAAAAAAAwK9G06ZN33///ejoIiuxVqhQwSgBAIcScAcAjpG4uLgWLVoYBwAAAAAAAIDfjsqVK7dq1co4AAAlF20IAAAAAAAAAAAAAAAIAgF3AAAAAAAAAAAAAAACQcAdAAAAAAAAAAAAAIBAEHAHAAAAAAAAAAAAACAQBNwBAAAAAAAAAAAAAAgEAXcAAAAAAAAAAAAAAAJBwB0AAAAAAAAAAAAAgEAQcAcAAAAAAAAAAAAAIBAE3AEAAAAAAAAAAAAACAQBdwAAAAAAAAAAAAAAAkHAHQAAAAAAAAAAAACAQBBwBwAAAAAAAAAAAAAgEATcAQAAAAAAAAAAAAAIBAF3AAAAAAAAAAAAAAACQcAdAAAAAAAAAAAAAIBAEHAHAAAAAAAAAAAAACAQBNwBAAAAAAAAAAAAAAgEAXcAAAAAAAAAAAAAAAJBwB0AAAAAAAAAAAAAgEAQcAcAAAAAAAAAAAAAIBAE3AEAAAAAAAAAAAAACAQBdwAAAAAAAAAAAAAAAkHAHQAAAAAAAAAAAACAQBBwBwAAAAAAAAAAAAAgEATcAQAAAAAAAAAAAAAIBAF3AAAAAAAAAAAAAAACQcAdAAAAAAAAAAAAAIBAEHAHAAAAAAAAAAAAACAQBNwBAAAAAAAAAAAAAAgEAXcAAAAAAAAAAAAAAAJBwB0AAAAAAAAAAAAAgEAQcAcAAAAAAAAAAAAAIBAE3AEAAAAAAAAAAAAACAQBdwAAAAAAAAAAAAAAAkHAHQAAAAAAAAAAAACAQBBwBwAAAAAAAAAAAAAgEATcAQAAAAAAAAAAAAAIBAF3AAAAAAAAAAAAAAACQcAdAAAAAAAAAAAAAIBAEHAHAAAAAAAAAAAAACAQBNwBAAAAAAAAAAAAAAgEAXcAAAAAAAAAAAAAAAJBwB0AAAAAAAAAAAAAgEAQcAcAAAAAAAAAAAAAIBAE3AEAAAAAAAAAAAAACAQBdwAAAAAAAAAAAAAAAkHAHQAAAAAAAAAAAACAQIg1BABwJIYOHTp27NioqKhC7Xl5eYMGDerevftvbUDmzp17zz33hA9IKBTq0KHD008/HRMT47QBAAAAAAAAKCv5+fndunVbunRpxN5JkyY1bdrUKAEAxxEBdwA4Ilu3bl25cmXErp07d/4GByQjI6OoAWnSpIkTBgAAAAAAAKDMbdiw4dtvv43YtX//fuMDABxfog0BAAAAAAAAAAAAAABBoII7wHFp8eLFffv2zc3NLdSemJj4+uuvn3zyyUW9sHfv3suXL4+KiirUnpKS8qc//akUezJu3LgxY8ZER//yHVNRUVGPPfbYZZdddsxG6amnnpozZ074m43wdRgb+9xzz6kvDgTWhg0bbr755vD2hISEUaNGnXbaaRFflZubO3DgwHnz5hX6JAyFQl27du3du7eBBQAAAADgV2n//v29evX64YcfCrXn5eUNGDCgbdu2Rb0wLS3t5ZdfDr+ufuaZZ7700ktxcXGHuyerVq26++67s7KyfnHJUCh0+eWXP/7448dslObPn9+/f//8/PxfXDI/P//666+/6667nFrAb0p+fv6wYcNmzpwZ/r3QunXrAQMGxMTERHzh2rVr77zzzpycnELtcXFxY8aMqVWrlrEF+EUC7gDHpfT09E8++ST8f4UrV65c/MWRRYsWzZ8/P7z9kksuKd2ebNiw4dNPPy3hwq+99lqLFi1Kkjg/cjt27Bg1atSGDRtKsnBcXFx6errzCgis/fv3f/zxx+HtiYmJxTxTMhQKLV269JNPPgnvuuCCC4wqAAAAAAC/Vnl5eQsWLFi1alV419atW4t54aZNmyJeV9+zZ09JguDhMjIyPv3008zMzJIsvGbNml69etWsWfMYDFEoFBo3btyHH35YwuWbNWvmvAJ+g1atWhXxe6H4z+q9e/d+8skn2dnZhdrj4+NL+I0AQLQhAOCYeffddzdu3HhstvXBBx+UMN0OAAAAAAAA8F+3ZcuWd95559hsa+vWrTNnzjTmAAAEk4A7AMfOjh07Zs+efQw2lJub+/e//92AAwAAAAAAAMeRiRMnhlf8PRree++9H3/80YADABBMAu4AHFOTJk3Kyck52lv5/vvvP/30U6MNAAAAAAAAHEcWLFiwdu3ao72VvLy8CRMmGG0AAAJLwB2AY+qrr7765ptvjvZWpk2btnv3bqMNAAAAAAAAHEcyMjKmTp16tLeycuXKzz//3GgDABBYAu4AHFMHDhyYOHHiUd3Evn37Jk+ebKgBAAAAAACA487UqVP37NlzVDeRmpq6b98+Qw0AQGAJuANwrM2aNWvnzp1Hb/1ff/31MSgSDwAAAAAAAFDmVq5cuWDBgqO3/vT09OnTpxtnAACCLNYQAHCMrVu3bt68eR07djxK6586dWpWVtYxezv169dv0aJFVFRUofa8vLxTTz31N3h8k5OTIw5IKBQ655xznP8AAAAAAABQjJycnClTprRu3Tp8xq1MfPHFF6tXrzbOvzJRUVHNmjUrX758xN6kpCRDBAAcXwTcAThaYmJiateuvWHDhkLtubm5qampbdu2jY0t+6+h7du3z5gxI2JXgwYN1qxZU7abC4VCvX/mcB/UokWLjz/+2DgAAAAAAABA8YqawZw1a9bWrVtr1qxZ5lvMy8tLTU3NyckJ76pbt+7GjRvz8vIcl+NRVFTUyy+/XMwCoVDoKN0yAQBwNEQbAgCOkvj4+K5du0bsmjt37qZNm47GRt9///0ffvghvL1SpUpdunQ5GpcJHGgAAAAAAACgFLp06VKpUqXw9h9//HHu3LlHY4tbtmyZM2dOxK6uXbvGx8c7KL9WprYBgOOLgDsAR1Hnzp2rVq0a3r59+/Z33nmnzDeXl5c3bty4iF0XX3xxgwYNHBEAAAAAAAAgIBo0aHDxxRdH7Bo/fnxubm6Zb3Hu3Llbt24Nb69atWrnzp0dEQAAAkLAHYCjJRQK1alT59JLL43YO3HixIhPvjsS33333eeffx6xq2fPnrGxsQ4KAAAAAAAAEBCxsbE9e/aM2PXll1+uXr26bDeXm5s7adKkiF0tWrSoU6dOKBRyUAAACAIBdwCOotjY2JSUlIgPO1u4cOGyZcvKdnNTpkzZs2dPeHutWrVat26dn5/viAAAAAAAAAABkZ+f37p161q1aoV37d27NzU1tWw3t2LFioj1wqKiolJSUtQLAwAgOATcATiKQqFQq1at6tWrF96VmZlZVHmA0snIyJg6dWrErs6dO9eoUcPhAAAAAAAAAAKlRo0anTt3jtg1ffr0iOW9Si0tLW3//v3h7fXq1WvZsqXy7QAABIeAOwBHV9WqVa+++uqIXdOnT9+5c2dZbWjBggUrVqwIb4+Pj7/hhhsiVpEHAAAAAAAA+C+Kiorq2rVrfHx8eNeqVasiFlwvnfT09KLqhV199dVVq1Z1LAAACA4BdwCOuq5du8bFxYW3r1+/vqyuyOTn50+dOjU7Ozu86+yzz27WrJmjAAAAAAAAAARQs2bNzj777PD2nJyct956Ky8vr0y28vnnn69duza8vaBeWKAGJBQK5ebmHjhwICsrKz8/3xkCAPAbFGsIADjamjRp0qxZs/nz5xdqz8/PHz9+fLt27aKjj/SGq+3bt8+cOTNiV5cuXSpWrPhbGOdQKJSdnb1169Zvvvlm2bJlq1at2rhx486dO7Ozs+Pj4ytWrFizZs169eo1+tkZZ5yRmJh45CMf8AHJysr68ccfl/1s9erVmzZt2rVrV1ZWVmxsbOXKlWvVqtWoUaOmTZs2adIkOTk5Nja2dJX+Q6FQfn7+nj17Vq1atWzZsuXLl69fv37btm379+8PhUKJiYnJyckNGzY899xzzz///DPOOCMhIcEjBcpEfn7+/v37N2zYsPxna9as2bJlS3p6ek5OTlxcXNWqVevWrXveeec1adKkcePGSUlJMTExpT6XcnNzd+7cWbChFStWfP/99zt27MjMzIyNjU1MTDzllFMaNmxYcC7VqlUrLi7OIQYAAAAAAEooMTGxS5cuixcvDu+aNWvW448/XrNmzSPcRMHMbMSw+Pnnn3/eeecd+3cdCoXy8vIOHDiwffv29evXb9iwYd26devXr9+6deuOHTuysrLy8vKioqJiYmLi4+Nr1KhRu3btunXrnnPOOfXr169bt27FihVjYmLMyARQweRpRkbG6tWrC2bWvvvuu23btu3duzcvLy8hISE5OfmMM85o0qRJ06ZNzzrrrAoVKpR62rpginzLli3Lly9ftmzZypUrN23atHPnzqysrPj4+BNPPLFOnToNGzZs1qxZ48aNj2RGmELDnpubu3v37oLju2LFig0bNuzYsePg/PjJJ5985plnNv3Z6aefHh8fX+phz8/PP3DgwPfff18w6b9mzZoff/wxPT09Nzc3ISGhcuXK9erVO+ecc84///xGjRodyYwwAAEk4A7AURcfH9+jR4/wgPsJJ5zwwQcffP/996effvoRbmLu3LmbN28Ob09KSvrf//3fo/ru5syZ8+9//zv891h+fn7nzp0vuuiiw13hTz/99Oqrr0asRl+xYsX77rsv/AGF+fn527Zt++c///nWW28tWLBg165dxVcyqFixYr169dq3b9+1a9dzzz23XLlyZTggy5cvnzRpUviAhEKh8847r0uXLod7eSInJ2fEiBE7d+4M74qJibnttttq1aoVPiCbNm2aOXPmtGnTFi1atHv37lAoVNT6Y2JiatSo0aZNm549e15yySUJCQmHtXv79u378ssvp0yZUnASZmZmFrNwpUqVGjdu3LVr1+uuu65mzZpldfVk9+7dI0eOPHDgQHhXYmLifffdF/ERCqW2fv36sWPHhp9joVDotNNOu+OOO47BOZ+Tk7N69eqpU6fOmjVr1apVGRkZxaw/Li7utNNO69SpU48ePRo3bhwbG3tYV2d279794YcfTpky5ZNPPtm+fXtOTk5RC0dFRVWpUuXiiy/u1q1bu3btkpKSXCADAAAAAABK4v/9v/83dOjQ9PT0Qu1btmyZO3fuTTfddITr37hx4/vvvx+xq2fPnuFzMUdPfn5+enr6hg0b5s2b9+WXX3799debNm3au3dvMVMwhSQmJp566qmXXnrpVVddddlll1WrVq2sqnp98skn7777blHzO3FxcX/6059OOeWUsh2QxYsXT506taje2NjYbt26nXnmmb+4nlAoNGrUqE2bNkXsvf3220877bTD3belS5dOnjw5YledOnVuu+228PbMzMyvv/46LS3t3Xff3bRp0/79+4tZf4UKFRo2bNilS5cbbrihTp06h3Uc8/Pzt2zZMnv27GnTpn311Ve7d+8u5lkHsbGxycnJV155ZUpKSvPmzY8kb13IBx988K9//Svinl922WVXXHFF2Z4taWlpS5cuDd/5qKioLl26lOJOldmzZ8+bNy/iaLRo0eLKK68Mb09PT//444+nTJny4Ycfbt++PeIk70EnnnjiBRdc0L17986dO1evXv2whj03N3ft2rXTp09/++23V6xYsWfPnmIWjo+Pr1Wr1tVXX52SklLmEQgA/lsE3AE4Ftq3b1+9evUdO3YUat+5c+esWbP69OlzJCvPzc2dMGFCxK7mzZufccYZR/Wtvffee8OHD4/YVbNmzVIE3Hfs2DF06NB9+/aFdyUnJ/fp06fQBaZdu3aNHTv2lVdeWbduXQmf0Ldv375vfjZq1Khrr7324Ycfrl+/fln9hv/222+ffPLJiF3XX3/9ddddV4rj+9JLL61bty68q1y5cp06dSoUcN++ffurr776+uuvb9y4sZhc+0F5eXlbtmyZMGHClClT2rVr99hjjzVu3Lgko5Gbm/vpp58+/fTTn3zySfG59oMyMjLmzZv3+eefv/zyyw888ED37t3Lly9/5GOenp7+7LPPhl/xPOGEE2rUqNGnT5+yDbh///33Q4YMyc3NDe+68MILSxFwP6xzPhQKrV279tlnn506dWrE2x7CZWdnr127dvjw4WPHju3Ro8dDDz1UwrsL9u/fP3369OHDhy9ZsiTi+y0kFAoVfKbNmTPnwgsvfOyxx1q3bq1IAAAAAAAA8Ivq16/fvHnz2bNnh3dNmDChW7duR5jXnDVrVvhc7QknnFC9evV27dodgzdYMI2yePHif/zjH5988smaNWsyMzNLMpcXbu/evat+Nm7cuPr163fv3v3WW28tk9pS9erVmzFjxooVK4paYO3ataNHjy6TCb4C27Ztu+2227766quiFujYsWPfvn1LOMJjxoz58ssvI/a2b9++FAH3FStWPPHEExG7mjdvXijgnpeXt2DBgiFDhrz//vvF59oP2r9//6KfvfLKK/fcc8/tt99eqVKlkrxwx44df/vb31577bV169aV5CzKzc3dsmXL+PHjJ0+e3K5du8cff7xRo0ZlMj/+8ccfDxkyJGJXfn5+mQfc33rrrSlTpoS3R0VFnX322aUIuM+dO/fFF18satAKBdyzsrJmzZr17LPPLly4sIR3pOzZs+fDDz/8+OOPR4wY8cgjj3Tu3LkkM9ehUGjdunXPP/98Wlra9u3bS7KhrKys7777btiwYePGjUtJSXn44YdPPvlk3ywAx7toQwDAMVCrVq2WLVtG/GUyderUiJWnS27t2rURy8OfcMIJN95442FVaw7K13MR96aHty9cuLBTp059+/Zdu3ZtCdPth9q9e/fYsWNbt249ffr0Urw8omIuBJTuGkHUz0qywlAoNG/evHbt2g0aNOiHH3443CtiBw4cmD59+lVXXTVlypRi7u8vsGvXrgcffLBjx47vvvtuCdPth+7nqlWr7rzzzt69e+/ateuoDnsxo3ck2ypqnaUuj1HCcz4vLy8tLa1169ajR48uYbq90Ak/YsSIdu3aFXOV8KB169alpKTcdNNNCxcuLEm6vdB+fv7559ddd90zzzyTlZXlKwAAAAAAAChebGzsDTfcELHriy++WLNmzZGsPCsra+rUqRHnzlq2bBn+tOQyt2rVqoEDBxbUXB8xYsSSJUv2799funT7oXJzc1euXDlw4MCWLVtOnDix5DXgi1KrVq0XX3wxMTGxqAUmTpz4xhtvlNWw5OTkDB48uJh5qzp16jz//PPF7E8hZVXJvhTb2rdv35AhQ9q2bTtz5swSptsPtXHjxgceeKBbt24bN24sfsmCGeH27ds/9NBD33333eGeRZmZmdOmTWvbtu2MGTOO/Aw8GpPjpdtcqSeFS77/W7du7dWrV7du3ebPn3+4f2v5+flLlixJSUl58MEHiy/EXvB3kZqa2qpVq5EjR5Yw3X6onTt3vvjii+3bt1+0aJFvFoDjnYA7AMdCwRWZiJWMv/zyy2XLlh3JyqdMmZKRkRHeXrt27TK/JTo4cnJyxo4de8UVV3z22WdH+Nt748aN3bp1GzZsWPGPDwv+gIwZM6Z9+/YLFy48kvVs3br1pptuGjFiRFGZ5lAo9O2333bu3HnYsGGluDpT6Ah27959y5YtPiJKYu/evQ8//HCPHj1+8cJW8ZYuXdqxY8c5c+YU9YeTn5//3nvvtWnTZvr06b94q0MxMjIy+vfv//DDDx/JeQIAAAAAAPxGXHnllbVr1w5v37t3b8SazSW3bNmyBQsWhLfHxMQcm3phAwcOfOKJJ7799tsjmXkpxurVq2+++eY77rjjyOfdWrZsOWDAgKKe0Jufn//QQw8VVXztsIRCodTU1NGjRxe1QEJCwogRI47248rLxJYtW3r06DFw4MBfzC4XPyCzZs3q1KnT8uXLi1omJydn1KhR7du3L6pQfQlt3rw5JSVl9OjRR+mE/JUJhUKLFi1q167duHHjjiRRkJWV9fzzz99yyy3FxNb37Nnz0EMP9ezZ84cffjiSfV60aFGnTp0+/PDDMrmNAYD/FgF3AI6Ryy+/vF69euHtmZmZRRUMKImMjIy0tLSIXR07dqxRo8avcjCzsrKGDh165513llX976ysrP79+7/44ouHW6k6IHJycoYPH/7nP/85PT39yNd24MCBBx98cNSoURGvaHzxxRedO3f+97//XSZ7PmfOnF69eu3evdtHRPHS09P79Onz7LPPlskp+tNPP/Xs2fODDz4I78rLy3vzzTevv/769evXH/mGQqHQ888//3//939HXjIEAAAAAAD4datRo0bHjh0jdk2ePDliwa+SKHikdsRyPPXq1bvsssuOwVsrq0dJFyMvL2/s2LFdu3Zdu3btkawnOjr67rvvvuaaa4paYNeuXb179z7yJP2iRYv69u1b1MxXVFRUv379OnToEPx47vr166+77rrp06eXydqWLFnSvXv37777LrwrMzPz8ccf79OnT5nMCO/fv/++++578803j8HJeVwLhUKfffbZNddcs3jx4jJZ4bRp0+68886IB3H79u1//OMfhw0bViYzwps3b+7Zs2dJnuwNQGAJuANwjH72VK1atVOnThF733rrrVIHfOfPn79y5crw9ri4uJSUlF/lYObm5j777LOPPfZYVlZWGa42Jydn0KBBM2fOPB7PrldffXXgwIFlOCDZ2dkPP/zw+++/X6h94cKFN9544xFeFyvk7bfffvzxx5UHKEZmZma/fv3Gjx9fhpfwduzY0atXr0KHMhQKTZkypWxvOQiFQsOGDZs0aZLjCAAAAAAAFC8lJSUuLi68feXKlfPmzSvdOnfv3j116tSIXZ06dapateqvqcLxp59+2rVr1++///5IVlKhQoVhw4Y1bNiwqAUWLVo0YMCAAwcOlHoTO3bs6N27908//VTUAu3atbvvvvuio6OjoqKCPOBbtmzp2bNnqU/OiJYsWdKnT59Cd3RkZ2c/+eSTTz31VBnWayvIuH/99dc+eYqxePHibt26HWE99ULeeuutv/71r4Xmx3fv3n377bcX9WFVOps2bbr99tuL+UMDIOBiDQEAx0DBD+8bb7xx5MiR4U+tWrt27fz589u1a1eKNU+cODFiMrhRo0bNmjX7VQ5mamrq4MGDi7mbv3LlytWrV69QoUK5cuVyc3P37du3ffv2kgR2MzMz+/bte+GFF5566qnH0an1r3/9q3///kU9DS0mJiY5OblKlSoJCQlRUVFZWVk7d+7ctm3bLwbKMzIy+vXrd8EFF1SrVq2gZfPmzbfeeuuGDRuKeklSUlL16tUTExPj4uJycnIyMjK2bdu2d+/eX3wXo0aNateu3ZVXXumzIqJXXnnl9ddfL+rqanx8fHJycuXKlePj40Oh0P79+//zn//s2LHjF6/Grl279rHHHhszZszBK8Xz58/v06dPUYcsKiqq2s8qVKgQExOTnZ2dnp6+devWX7yzIjs7e9CgQS1atDj99NMdTQAAAAAAoCjNmjVr1KjRokWLCrXn5+dPmjTpyiuvLEXc+YsvvohYvCkuLu7GG288OJP7X1euXLmqVaueeOKJiYmJ5cuXj4mJiYqKysnJ2b9/f3p6+k8//ZSZmVmS9Xz99dd9+vSZNGlSYmJiqXfmtNNOe/HFF6+99tqIle9POOGEN95449JLL73llltKsfK8vLzBgwd/8cUXRS1Qq1at55577sQTTwz46Zqbm/vggw8W8+DrxMTE5OTkSpUqlStXLj8/f+/evT/99FNJ6q/PmTPn9ddf/8tf/lLwz1AoNHHixKFDhxY1wxsbG1swI1y+fPnDmhHevn37gw8+OHPmzAoVKvj8Cbdjx47bbrtt48aNRS1QpUqV6tWrV6xYMTY2NicnZ8+ePVu3bi3Jn+pLL73Utm3b1q1bF/wzOzv70UcfnTFjRlHLly9fPjk5OSkpKT4+vuDmhO3bt+/YseMXN7R48eIhQ4Y899xz0dGqAAMcfwTcAThGQqFQ48aNL7jggs8//zy8d8yYMW3btj3cqyebN2+eO3duxK7u3buXL1/+1zeMCxYsuPfee8PD3OXLl2/SpEnbtm1btWp1+umnV6pUqXz58rGxsXl5eZmZmenp6cuWLZs2bdrs2bO3bdtWzPrXrVv39NNPv/DCCwEvBnDQhg0bHn744fBEcsWKFX//+9936tTpsssuO/nkkytVqhQXF1dwFSwjI2Pjxo2zZ8+eMmXKypUri7musWTJkpdffnnAgAHR0dH79++/9957ly5dGn655IwzzrjqqqvatWt31llnJSUlJSQkFIz8/v37d+7cOX/+/DfffPPDDz8s6vpXwa0FgwYN+sMf/lCpUiWfFYV8/PHHjz32WPjDAatVq3bZZZd16tTpwgsvLLivoFy5cieccEJWVlZ6evrq1aunTZs2Y8aMzZs3F5N0nzJlSrdu3dq3b19wB/9tt90Wfh0kPj6+cePGHTt2bN26dd26dU888cT4+PiYmJjc3Ny9e/du27bt/ffff/PNNxcuXJiTk1PUhn744YehQ4eOHDkyJibGMQUAAAAAACIqX7589+7dwwPuJ5xwwnvvvffjjz8ebpmqUCg0ZsyYiF0XXHBB48aNQ6HQf2taMD4+/uSTT27cuPH555//u9/9rn79+lWqVKlQoUJCQkK5cuUK9ioUCmVlZe3bt2/Xrl3Lly9///33P/zww9WrVxdV+qrAzJkzR44c2a9fv1JHWkOhUJs2bfr37z9o0KDwWaqCkHq/fv3OO++8Cy644HDXnJqaOmrUqGLOgWHDhp111ln/xUNTwjfyt7/9beLEiYXao6OjTz311CuvvLJDhw7nnXde5cqVC+qy5efnZ2Zm7tq1a/HixWlpae+8807xBdqeeuqpTp061a9fv+Amjfvvvz/8oCcmJv7+97/v3LnzpZdeWrNmzYIyZNHR0dnZ2RkZGT/88MPMmTMnT568Zs2aiAexwAcffJCWlla6exV+3bKzswcMGLBw4cJC7bGxsQ0bNmzXrl3btm0bNGhw4oknJiQkFEyeFlQi+/TTT1NTUz/99NNinnKQmZn5yCOPXHjhhZUqVQqFQhMmTHj55ZcLLRMVFVW9evWDM8LVqlWrWLFiuXLlQqFQQSWyVatWTZ06dcaMGVu2bCnmjbz22ms33njjhRde6JgCHHcE3AE4RqKiouLj43v06BEx4P7BBx9s2LDhcMsbz5kzZ+vWreHtVapU6dy5869vDPft23f33Xf/5z//ObQxPj7+iiuuuOeee/7whz9UrFgx/OdlfHx85cqV69Sp06FDh7Vr1w4dOnTChAnF/JgcN27cbbfd1rhx4+APSH5+/hNPPLFmzZpCA9KxY8e//OUvv/vd7wpu4D706k+5cuUSEhJOOumk3/3ud3fdddfo0aOfeeaZXbt2FbWJV199tWfPnqeddtro0aPfeuutQqf02Weffd99911zzTUHq7wXGvkqVaqcccYZ119//UcfffTQQw8V84S7r776avr06T179vRZcai9e/f27du30CMIk5KSbrrppjvvvLNBgwYFefFChzgxMfHUU09t2bJl3759n3zyyfHjxxdVZD07O/upp55q2bJldHR0//79ly9fXuggNm/e/P7772/ZsmVRf1zVq1dv1KjRH//4x7S0tEGDBm3evLmo9zJp0qQ77rijadOmDisAAAAAAFCUTp06PfHEE+GzV1u3bp0zZ86f/vSnw1rbhg0bPvjgg4hdPXv2LJhKO8YqVKjQoEGD9u3bt2nT5rzzzqtSpUox5YGioqLK/6xatWr169e/+uqr09PTP/7445deeumjjz4qJub+zDPPXHXVVeeff37pdjLqZ/fee+/ChQunT58ecZkdO3b06tVr9uzZNWrUKPmalyxZ8sADDxSz5/fcc8///u//BqeyflHWrVv36KOPFgqO16pVq0+fPikpKaecckr4S+Li4pKSkurWrdu5c+fFixcPGDBg7ty5RUXPf/rppxdeeOHFF1/8z3/+07t370J/EQkJCddee+0999zTtGnTg89qPig2NrZChQonnXTS//zP//Tp02fkyJHDhw8vNOF4qKeffvrqq6+uWrWqz59Dvfvuu999912hv4vGjRv37du3U6dOlStXDh/28uXLV61atUGDBikpKe+9997DDz/8zTffFLX+L7/8smB+fOnSpQ899FChJ9hXrVr11ltvvf32288444zwO1Xi4uIKZoRbtWp13333DR48ODU1tahiZPv27Xv66adTU1MLyqUBcBwRcAc4Lp199tkTJkwI/7EXFxdXvXr1Yl44ePDgiM9patSo0bHZ8w4dOiQnJ2/fvr1Q+86dO//xj3/ce++9JV9VVlZWampqxNrMl19+ed26dX99x33v3r2FArg1atQYMmTIjTfemJCQ8IsvD4VC9evXHzlyZNOmTfv167dv376Ii2VkZLz22msvvvhi8AckNze3UAWL5OTkoUOH3nDDDYfW7y909edgvYdq1ao9+OCD55577i233FLotoGDfvzxx7S0tPbt2//1r3899GSLiYm5+eabH3/88YI6GcVXUChXrtwVV1xx9tln9+jR46OPPoq4TF5e3uuvv96lS5eSHMrfjn379q1cufLQlnPOOWfkyJEtWrQ49FpnxMEPhUJ16tQZMWLEmWee2b9//6IuFM6bN++zzz7btWtXamrqoe0VK1YcMGDAn//852Ke/3hwuxUrVrz11lsbN258ww03rFu3LuLCe/bsGT9+fJMmTUp3OfLUU0+dNGlShP+bj42NeInw4Inar1+/lJSU8K6zzjrLCQYAAAAAwK9V+fLln3vuuT179hRqD4VCF110UTEv7NChQ8QL71WqVDk24cjTTz/98ssvDw9Vh0KhtLS0Hj16HFYqfcaMGRFnwZKTkwuecHssVatWrV27djfffPOFF16YmJhYuhmTpKSkzp07t2nTJjU1dcCAARGroRXMPj/33HPjx48/kofrVqxY8bnnnlu+fPnq1asjLvDVV1/179//5ZdfDs9YR7Rr164+ffoUU236iiuu6N+/f6kLzx9L4VWfrrrqquHDh5911llRUVHFT55GR0c3a9YsNTX13nvvHTduXFGLTZ48+b777nvllVcKzQifcsopw4YNu+aaa+Lj44t5kvPBU33QoEFnnXVWr169wj8QCqxateqf//xnxAm137Lw0mC33377oEGDTjrppF98bVxcXIcOHRo1atS9e/d58+ZFXCYvL2/UqFEdO3Z84IEHCoVYmjVrNmLEiIsuuig6OvoXD3H9+vVHjx5dt27dJ598sqiHt7/33nsrVqxo0qRJKcYhKirqtttua9WqVXhXnTp1ivlrrVOnzhtvvBGe6omJiTn55JOdYAAlIeAOcFyqUaNG165dS/HCK6644r+757Vr127VqlVaWlp419SpU3v16nVoLrl4q1ev/uKLLyL+Hu7Spctv4e7b2rVrv/nmm5dccknJf3oV/Jjs1avX7t27Bw4cWNQN8W+//fagQYOKv1kigE4++eS///3vrVq1KsnlsIJloqOjO3bsOHTo0Ntvv72on7sTJkz47LPPDr32FxMT88ADDzz66KMHT9eSbLFWrVpjxoxp1arVhg0bIi7w1VdfffPNNx6OVozzzz9/8uTJBc8iLPkJf/fdd69fv/6ll14q6tLJCy+88P333x96T3/FihVfffXVbt26HdYFxP/5n/959dVXr7322qLuHpk2bdojjzwSXu+/JJKSkm688cbDfVV0dPRll13mzAEAAAAA4LemXLlyHTp0KMULz/rZf3fPu3Tp8o9//CN8Im/+/Plr1qw599xzS7iqAwcOFHpA8UGtWrWqXbv2MXtTJ5544h//+Md777337LPPPpLE+UEVKlS45ZZbzjrrrO7duxc19TZjxowVK1Yc4WOrTz/99GHDhnXp0iUzMzPiAm+88call17as2fPX5wuLHg29b///e+iFqhZs+bw4cOLKb0UZF26dHn11VcPFkEvyeRpUlLS888/v3bt2qLGZPv27U899dTkyZMPbaxdu/bkyZMP3qZSkg3FxMTccMMNmzdvfvDBB4uaH//73//etWtXFb6LEhsb+8gjjzz00EOHdYNN3bp1x44d27p1602bNkVcYNGiRY8++mihp0w0b9584sSJp512WskPcfny5R955JF169ZNnDgx4gIZGRlvvfXWeeedV4r7aqKioi782eG+sEqVKqVL9QBwULQhAOBYioqKSklJiXjZYuHChUuXLi3hekKh0PTp0/fu3RveVbt27TZt2vzqR7JmzZqTJ0++5JJLfvGW5Qhf/9HR999//1VXXVXUAps2bSrqRurAqly58rhx41q3bn24P0qjoqK6d+9+9dVXF7XAsmXL3n777UOX79279+OPP17ymzEOOv3004cMGRIbG/kOw8zMzHfeecenRFEaNmyYlpZWwnT7ocqVKzdw4MBiLkbPmjXr0KfjlS9f/oUXXujevXspymO0bt36jjvuKKr3hx9++PLLLx1KAAAAAACgGG3atImYPt+7d+/06dNLPjm4dOnShQsXhrfHxMSkpKSUroB66TzzzDOvvfbaueeeW4a1yaOioi6++OKJEycWVU96375948ePP8KthEKh9u3b9+vXr6jhysnJ6dev35IlS35xVVOmTBkxYkRRvQXPHDhmz10vW+3atXvttdcOpttLLikpafjw4ZUqVSpq8EePHr179+6DLTVq1EhLS7vooosOd4o8Kirqz3/+c4sWLYpaYP78+UWFsImKivrLX/7Sv3//w0q3FzjzzDMHDx5c1B9+ZmbmSy+9dGgduqZNm7755psH0+0lFxcXN2TIkGLu25k9e3ZRt6kAEFgC7gAca82bN48YUT1w4MDkyZNL+Fs0IyMjNTU1YleHDh2Sk5N/3WOYkJDwwgsv/P73vy/hLcvh4uPjBw8eXLFixYi9eXl57777blH3rwdQTEzM4MGDr7zyytK9PD4+/v77709ISCjJwm3atHniiSdK+JzBcJ06dSo4cBHNmjXr0DriHJSUlPTKK680aNCgFK8NhUInnXTSXXfdVZKFo6Ki7rzzzptvvrl0f1nR0dF33XVXMQ/mmzFjhqMJAAAAAAAUJRQKJScnF1V+PjU1NWIJsHD5+flpaWkHDhwI76pfv37z5s2P5ZuqVq1awcxL2abqQ6HQxRdf/H//939FVYWfMWPGzp07j2QTBTv8wAMPdOrUqahlfvrpp969e+/YsaOY9SxduvT+++/Pzs4uaiu9evW6/vrrj8cztmHDhq+88kpSUlLpjmCzZs1K+Mbj4uKee+65P/zhD6FQqBQnUkJCQv/+/YuqRJaRkfHRRx/5/ImoQ4cOjz76aKnL21933XXnn39+MefAwf9OTk7+29/+VqtWrVLU+CuohPjn/8/ef4dFcf2P/ze7y7JLFwQpUgQbYo81dk3U2BIsKGCLMTG2mMSPsRtNMbFFoyYaTTMa3thj18RYEjVW7AVQmoIiIL0t7O7c1w3Xz68XW0QYqs/HlT/iOWfPzJw5O+zMec05U6YYyg0PD4+IiOBsAkD1QoA7AKCi2draDhkyxNAjhtTU1JJUcvbs2bCwMN10uVw+atSoGt+Go0aNGjx4cFkeAAmC0KpVKyNT3Z8/f97QE5Yq6LXXXnvvvffK0iCvvPJKSZYVs7OzW7ZsmaFZBErC0tLSyJQYUVFR8fHxXCV0TZw4sUePHqX7bFFrDx482MXF5bmFmzZtOnfu3FIvjikIQr169d544w1DBS5cuKD3UTIAAAAAAAAAAMDTcY2RI0fqDScNCws7d+5cSepJTU01NO3OkCFDSheOXDXbatSoUZ06ddJbIDo6uuRLiBvZiqWl5apVq4zMxHT27NkFCxao1WpD5+LDDz80MgjYtWvXhQsXlnp8qhLJ5fLFixd7enqWLiJZIpFIpdIxY8aUZGrwIUOG+Pv7l/o1CUEQunTp0rx5c725Wq32/Pnz1WgCuArj4OCwdOlSQxPnlYS1tXVQUFBJOsOsWbNat25duhcYivj7+xtaSSA7O7skKy0AAKoUAtwBAJXwoGHIkCF6Z8uOiYk5c+ZMSSrZsmWL3pvkFi1atGrVqsbfQ86cOdPQy+UlPwumpqYBAQGGCkRHRycmJlaLBjEzM5s/f75SqSxLJUql0khQ8lOjRo1q2bJlGXe4d+/eVlZWerOePHkSHR3NVaKYunXrfvDBB2Wc0sPV1bUk7zDMmjXLwcGhLN8siUQyePBgQwViY2OTkpI4pwAAAAAAAAAAwIjWrVu3aNFCN12r1f7+++8lqeH06dMxMTG66ebm5kOGDBF3JvXKZW5uPnnyZL1ZWq322LFjomzF29t7+fLlRlaE/uWXX7Zt26Z3H5YvX25kdvA6deqsXbu2Vq1a1bHxu3XrVrTaQFl6VOvWrT08PIyXsbKymjlzZkni4A2RSCTm5uZGZuIPDQ1lqW1d77zzTpMmTcpYSd++fS0sLIyXadSoUdEi22XpS+7u7m3btjWUe/78eU4oAFQvBLgDACqaIAjNmjXTe1+h0WiCg4Of+2J0XFzc0aNH9WYFBQUZeaxQMwQFBTVo0ECUqjp27GhnZ6c3Kzs7OzY2tlo0SI8ePTp27Fi6WQGe9frrr0ulxn4a2djYvP/++2V83icIgqurq6+vr6ECN2/e5CpRzNixY+vWrVv2evr162e8QJMmTd58882y96U2bdrUrl1bb1ZKSgqT9AMAAAAAAAAAAOPMzc0DAwP1Zv3111/PHWvQaDRbtmzRO+ratm3b5s2bl300pOoQBKFbt25OTk56c8+dOydW1PKgQYM+/vhjQ2OF+fn5n3zyie6E8Xv37l25cqWhOs3MzFasWGFoWvEqztTUdPLkyWWchqxoBezOnTsbL/PGG2+0bNmy7P22a9euhiaSi42NzczM5OLzLDs7u/Hjx5d9fNzT0/O5EQ7vvvuuoQHWkpPL5d27dzeUe+PGjZp06QOAlwEB7gCAiiaRSJRKpaG5w//+++/nxlXv27dP7+Ti9vb2b731Vs1uPaVSOXbsWLFqc3Z2rl+/vt4slUp1//79atGdxo4dK5cB3ilDAACAAElEQVTLy35f7e7u7uzsbKRMly5dGjVqVPYdNjc3b9q0qaECBLgXY2lpaWSpgRfSunVr42s7BgQE2NjYlH3OEkdHR09PT0O5YWFhnFYAAAAAAAAAAGCcn5+fvb29bnpCQsKhQ4eMfzYmJubEiRN6swICAhQKRU2awV0ikTg7O/v4+OjNjYqKysrKEmVDUql0zpw5RiZUevTo0dSpU5OTk5+m3L59e9q0aSqVytCeT5gwISAgoJqeDm9v7549e4rSsK1btzZ+iseOHSuVSsveUI0bN7axsdGblZOTwzRVxfTq1cvb27vs31ArKytD39AidnZ2RpbIfiGtW7c29A5DXFycWFcDAEDFIMAdAFA5Bg4c6OjoqJv+5MmTAwcOGPlgXl7e1q1b9Wb17NnTy8urZrdb48aNmzZtKtaLxXK53EikdVxcXNVvEHt7+65du5a9HolEUqtWLUNTOxTp16+fXC4XZbeNzOAeFRXF9eFZPoVE6fNOTk5GlndUKpV9+vQRZZ8VCoWRa1F0dDSnFQAAAAAAAAAAGFevXj1D0cMhISGGYqaL7N27NyUlRTfd0dFx0KBBNa+tpFKpoUHPR48ePRtxXkZWVlZr1qwxEvJ76tSpL7/8Uq1Wm5iYpKenT5s2zciQ66uvvrpw4UKxxh8rXrdu3ezs7EQZxWvYsKGhoGQTE5O6deu2b99elH12cHDQG6VQFIfw+PFjrjxPSSSSAQMGGDkvL8R4gPsrr7zi4eEhVl8y9J3KyspKTU3lzAJAdfqNRxMAACqFh4eHkScy+fn5hj54586d0NBQvfdXgYGBUmkN/9PWo0cPEedUkMlk9erVM5RbLW7gfX19jUell5xCoTBSlUKh6NKli1i7beSxV0ZGhkaj4RLxbJ8v+wz9Rezt7a2trQ3l1qlTx/iDlRdiaG0EExMTvQtQAAAAAAAAAAAAPEsmkwUGBuodIrlw4UJERIShD+bl5W3btk1vVs+ePd3d3Wtkc7m6uupNV6vVDx48EHFD9evXX7lypVKpNFRg/fr1e/bs0Wq1K1asOH78uKFitWvXXr16tYODQ/Vt8169ehUN05e9Kjc3NyPrMPv6+tapU0esr5Wbm5veLI1Gk5aWxpXnKaVS+eqrr4pVm/GZCjt16iTWiHCtWrVsbW31ZuXm5jKDOwBULwS4AwAqzbhx4/TeooSGhl67dk3vRwRB2LFjR05Ojm5WvXr1evToUeMbrV27duJWaORZQFJSUtVvkJYtW4o4q4GRAHcHBwcRn/cZ2VB2dnZeXh7Xh6fatGkjVlWWhQzlNmnSxEjui3J2djaUpXfGFAAAAAAAAAAAgGJ69Oihd7Kq7OzsnTt3Gprt+Eoh3XSJRDJu3Lia2lZWVlZ60zUajeizeg0cOPCjjz4yFIybn5//4YcfrlmzZuXKlYbOkamp6ZIlS9q2bSvWwt0Vz8zMrGXLlmLVVrt2bSMB7iIOkctkMkMzuJuYmDC997NcXV2dnZ3F6qJGBk9NTEzEmqG/qGcaWtM7Ly8vOzubMwsA1YgpTQAAqBSCIHTq1MnHx+fOnTu69/zBwcF6b1PT0tJ2796tt0I/Pz97e/ua3WgKhcLIhOulY2dnJ5VKtVqtblZubm7Vb5NGjRqJNZ990QzfhrI8PT1FjH429NZ4Uf8vWrUQRRMDiNjnpVKpkZZv3LixWEvsFT2GM5SlUqkEQRCx3wIAAAAAAAAAgBrJ3t7ez89v1apVulm7du2aPn263oGPLVu2FBQU6Kb7+Ph06tSpag5SaDSarKys7OzsJ0+exMfHp6SkpKamZmVlFRQU5OfnazSa5+7zxYsX9aZrtVrRA9xlMtmcOXMuX778119/6S3w8OHDGTNmGFm0+d133x07dmy1HjBydHR0cHAQ5RAEQZDL5ZaWlnrnuSua8kys3ZZIJDY2NoZyq8X4eIUpGh8Xq4saCjovCklv0KCBWLttampqaFhfo9Hk5+dzZgGgGiHAHQBQOSQSibW1tb+//+eff66be+DAgQULFuhGiJ45c+bevXu65ZVKpb+/f40PGFUoFEZeKC91nYbarerPIy6TyQytNlg6RhYTdHBwMDMzE2UrgiCYmprKZDK9T7U0hbhEFDEzMxN3ZUYjp9jFxUXEa4iRDRUUFBDgDgAAAAAAAAAAnksikfj7+69fv1532C48PPzcuXN9+/Ytlp6YmHjo0CG9tfn7+1tbW1edEQpBELKzs+/evXv69OkLFy6EhYXFx8enpqZqNBptIbGmjs7MzBR9z21sbNauXdunT5/Y2Fi9ZYyM93Xo0OHzzz8XcZHqSmFraytW9LNEIpFKpUYaxMXFRcTvlEKhMJSrUqm47Dzl6OgoYi81MnhqY2NjZWUl1vipRCIxstsMxANA9SKlCQAAlUUikfj5+VlYWOhmxcTEnDp1SvdJwdatW/XecrRo0ULE97arLLlcbmT+6dIxMmV11Z9HXCqV2tnZidvCRu6rpVKpWD1fKpUaWmVPo9FU37UIy6PPG5lEQcQOL5FIKqwvcYoBAAAAAAAAAEAJtWzZskWLFrrparV627ZtuiMOJ0+ejIuL0y1vYWHh5+dXRaLbtVptVFTUsmXLevbs2aVLl2nTpv3++++XLl169OhRXl5eQUGBuIMpos/ZXNSMjRo1Wrly5YvOkGVnZ/ftt9+KPqlZxbOysjISslyKJjU0FGtmZibiOttFc6gZytK79MFLS9z1842EJVhaWiqVSrGuTkYG4osuPpxZAKhGCHAHAFQmX1/f9u3b66ZrNJqQkJBiAdYPHjz4888/9dbj7++vN1C+pv3ZlkqNvFBe6jqr70zSEonE3Nxc3AoNZYm7IePbQvn1eUPNLpFIRHwGx/kFAAAAAAAAAACisLCw8Pf315t16NChR48ePZtSUFAQEhKid76wDh06+Pr6VvrhaDSaW7duTZo0qW3btrNnz7506VJOTk55b7Sclq0WBOGtt9766KOPSv4RU1PTzz//vGPHjjVgLiS5XG4kjPhFSQoZajQR5xE3siEUI+74uJG55ORyuZHw99KdZU4fANQMBLgDACqTQqEIDAzUe4Nx7Nix+/fvP5ty4MCB5ORk3ZJ2dnZDhgx5GZpLIpGIe2tXA1RYg1T3VQLp85xiAAAAAAAAAABQHQ0dOlTvOrSPHz8+cuTIsylRUVEnT57ULSmRSAICAkSfSOuFCIKQkpKyePHibt26bdy4MTU1tcI2rTfiv+wkEolMJps7d27v3r1L+JFRo0ZNmDChZgTgirX2dQnbmetAxXvR1QnK0pcqrDsBAKrZ7w2aAABQufr16+fk5KSb/uTJk4MHDz79p0ql2rJli94aevbs6eXlVQNecy/J3TsdprLahMav8X2eUwwAAAAAAAAAAKoaQRDq1avXs2dPvbm//fZbfn7+03/u378/LS1Nt5iTk1P//v0r90AiIyP9/f0XLVqUkpJSk06Qra3tt99+6+Hh8dySr7zyytKlSyssaLi8VeQoLaN4NRunGABgCAHuAIBKVrduXUNPZEJCQp4+kbl58+aVK1f0FhszZgz3PAAAAAAAAAAAAABqmKJh0DFjxujNvXTpUnh4eNH/5+Xlbd26VW+xnj17urq6VuJR3Lt3b8iQIcePH6+Rc5b5+vq+++67xsvY2tquXr26Tp06dGkAAIASMqUJAACVSyqVjhkzZtu2bVqttljW5cuXr1271q5dOxMTk+DgYJVKpftxb2/vrl27CoJAgDsAAAAAAAAAAACAGkYQhC5dunh7e0dFRRXLysnJCQkJad68uYmJSWho6PXr13U/XjQaK5VW2gyY8fHxAQEBN27cKElhqVRqZmYml8vtCtna2lpYWJibm5uZmckKGfpgWFjYxYsXK+UAY2Jifv/9d+NllEol0e0AAAAvhAB3AEDl69SpU+PGje/cuVMsXaVSBQcHt2vX7smTJ/v379f72WHDhtnZ2RHdDgAAAAAAAAAAAKDmkUgk9vb2w4YNW7ZsmW7unj17Zs6cWatWrc2bNxcUFOgW8PHx6dSpU2XtfF5e3v/93/+FhoYaL2ZlZeXt7f3qq6+2atWqSZMmnp6eNjY2crn8aVz7c4eD161bVykB7llZWdOnT4+IiDBe7PHjx9OmTdu+fbuNjQ1dGgAAoCSkNAEAoNLZ2NgMGzZMb9a+fftSUlJOnjwZHR2tm2thYTFs2DCi2wEAAAAAAAAAAADUVBKJZNiwYRYWFrpZd+/e/e+//xITEw8ePKj3s8OGDavEoOpdhYwUcHBwmDp16p9//nnmzJl169ZNnDixe/fu9erVs7Ozs7a2VigUpqamJRkOVqvVFX90Wq32u+++27t3b0kK//nnn0uXLtVd1RwAAAB6EeAOAKgSDD2RiYmJOXHixM6dOzUajW5uy5YtmzVrRusBAAAAAAAAAAAAqMGaNWvWsmVL3XS1Wr1r166//vorPj5eN9fCwmLo0KGVtc8ZGRmrVq0yEnreuXPnv/76a82aNZ06dbKyspJK/18U04vOcaZSqSr+AE+fPv3VV1+VPGZ91apVR44coTMDAACUBAHuAIAqwdfXt2PHjrrpgiAsW7bsr7/+0vupgIAAc3NzWg+oSEwsAQAAAAAAAAAAUMHMzc0DAgL0Zu3fv//bb7/Vm9WxY0dfX9/K2ucTJ05cuXLFUO7AgQP37dvXunVrUbaVnZ1dwUcXFxc3ceLEzMzMkn8kNzf3gw8+iIyMpD+jdBioBQC8VAhwBwBUCaampmPGjNGbdeHChZSUFN10BweHQYMG0XRABVOpVIIg0A4AAAAAAAAAAAAV6c0333RwcNBNT0pKCg0N1fuRMWPGmJqaVsreCoLw+++/G4rHbdKkyfr16+3t7UsxWbtejx8/rsijy8nJmT59+p07d170g1FRUR9//PELhcUDT+Xl5dEIAICXBwHuAICqonfv3i4uLiUv37NnTw8PDwJtAeM0Go24Febk5PC9AwAAAAAAAAAAqEiCILi7u/fs2bPkH3Fxcendu3dl7XBycvLZs2f1Zkml0k8++cTNzU3Ezd2/f7/CDk2r1a5bt2737t2GCtgWMpR74MCB1atXiz6Eh6qmPE5xVlYWDQsAeHkQ4A4AqCqcnJz69u1bwsISiSQoKEgmk4nyQj9QrZmamkql+n/UabVatVot7uYSExN54gYAAAAAAAAAAFCRJBKJTCYLDAws+fBo3759nZycKmuHo6KiHj16pDfLzc1twIABIm5LpVJFRkZW2KGdPXt28eLFhsbLpFLp4sWLly5dKpPJ9BYQBGHJkiWnTp2iV9cACoXCUFZ+fr6429JoNImJibQ5AODlQYA7AKCqkMlkAQEBcrm8JIW9vb27d+9OowEmJiZmZmaGHmVqtVrRF6qryAkwAAAAAAAAAAAA8FSPHj28vb1LUlIulwcEBBiKsa4A4eHhWq1Wb1abNm0cHBxE3FZ8fHyFBf4mJCRMmTIlLS3NUIGRI0e+9957b7/99qhRowyVyc7Onjhx4oMHD+jS1Z1SqTSUJfps66mpqenp6bQ5AODlQYA7AKAKefXVVxs3blySkkOGDLGzs6PFgKKJAUxNTfVm5efni/uYQ61W37p1izYHAAAAAAAAAACoeHZ2doMHDy5JycaNG7/66quVuKthYWGGspo3b25odeLSuXHjRmpqagUcVF5e3owZM65du2aoQOvWrZcsWWJmZqZQKJYsWdK6dWtDJcPDwz/++OPs7Gx6dbVmbW1tKCslJUXcbcXHxycnJ9PmAICXBwHuAIAqxMbGZsiQIc8tZmFhERgYSHMBReRyuaH3PVQqlbjzVWRmZl69epU2BwAAAAAAAAAAqBRBQUHm5ubPLTZkyBAbG5tK3M/Hjx8bynJzcxN3W3v37q2AIxIEYcOGDdu2bTNUwM7Obs2aNa6urkWFnZ2d165da29vb6j8nj17vv/+e41GQ6+uvlxcXAxlJSUlqVQqEbd1+fJlcSsEAKCKI8AdAFC1+Pv7W1hYGC/TqlWrZs2a0VZAEZlM5ujoqDcrPz8/Pj5exG3duHEjISGBNgcAAAAAAAAAAKgUzZo1MzIveBELCwt/f//K3c+srCxDWSUJ0C+5pKSkv//+uwKO6OLFi59//rlardabK5VK58yZ07lz56J/SiQSExOTTp06LViwoOj/dWk0mq+//vrs2bP06urLyAsMcXFxubm5Im7r4MGDNDgA4KVCgDsAoAoRBMHHx6djx47Gi40ZM0Yul9NcQBGZTObp6Wko99KlSyJ+Q3ft2pWfn0+bAwAAAAAAAAAAVAq5XD569GjjZTp27Ojj4yMIQiXup6FAcBMTE3Gjfvfs2fPgwYPyPpzHjx9PmTIlJSXFUIHBgwdPmzZNN5Z90qRJI0aMMPSptLS0yZMnP3r0iI5dTdWuXdvW1lZv1qNHjx4+fCjWhu7fv//vv//S4ACAl4opTQAAqDokEompqen48eMvXboklep/C8ve3v6NN96grYCnZDJZo0aNDOWePHlSpVIpFIqybyguLm7Hjh00OAAAAAAAAAAAQCXq16+ft7e3oWBrrVY7fvx4U9NKjgiysrIylBUTEyPWVlJSUtauXVvex6JSqebNm2dkVqmmTZt+++23uuNxEolEoVAsX7781q1bN27c0PvZGzduzJgx4+eff1YqlfTtasfJyalWrVrp6em6WXl5eWfOnPH19RVlQyEhIUlJSTQ4AOClQoA7AKDK8fPza9q0qaFchULh7u5OKwHPatq0qUwm02g0ullhYWF37txp1apV2beyfv16JpAAAAAAAAAAAACoXO7u7gcPHlSpVIYKNGzYsNJ30tnZ2VDW1atX1Wp12UPwBUHYsGHDzZs3y/VABEHYVMhQAVtb27Vr17q5uRkq4ObmtmbNGj8/P71h0CYmJtu2bWvfvr3eCeBRxVlbW9evXz82NlZvzzl06NDbb79d9tXp4+PjN2zYQGsDAF42BLgDAKocCwuLli1b0g5Ayb3yyisWFhaZmZm6WTk5Odu2bSt7gPuVK1fWr19PUwMAAAAAAAAAAFQuqVTq4+NTxXeyfv36hrIuXbr06NGjsk9qduXKlVWrVgmCUK4HcvXq1fnz5+udZ6pojvYZM2Z0797deCXdu3efOXPmggULtFqtbq5Go/n88887duzYoUMHune1+zJ269bt+PHjenNPnjwZFRXVuHHjsmxCrVYvX748Ojqa1gYAvHR/Z2kCAACAak0QBCcnJyPL223atKmMjzwSExMnT56clpZGawMAAAAAAAAAAOC5mjZtamg+8sTExN9//72Mgenx8fETJkxISkoq16NISkqaNGlScnKyoQIDBw78+OOPpdLnx19Nnz590KBBhnJTUlKmTp36+PFjek6107lzZ0PLEaSlpa1bt87Q2xElodVqd+/ezfTtAICXEwHuAAAA1ZtEIjE3N+/Xr5+hAgkJCZ9++mleXl7p6k9OTp40adK5c+doagAAAAAAAAAAADyXIAgNGjRwcXExVGD16tVXr14tdf1xcXFjxowJDQ0t16NQqVSffvrp+fPnDRVo0KDB6tWrLS0tn1uVRCJRKpVr1qwxMpn3pUuX5s2bp1Kp6D/VS5s2bTw9PQ3l/vzzzydPnizd6xyCIBw9enTKlCmlHucFAKBaI8AdAACgJhg8eLCFhYWh3K1bt65evbqgoOBFq42Ojh47duzu3btpYQAAAAAAAAAAAJSERCJxdHTs0qWLoQKPHz9+7733IiMjX7RmQRCuX78+dOjQ48ePl+shCIIQEhLy888/GypgaWm5du1aLy+vkscuu7u7r1mzxtra2lCB3wqVcW57VDBbW9sBAwYYys3Ozp40adLt27dftFq1Wh0SEjJq1CgjCwgAAFCzEeAOAABQEzRt2rRnz56GctVq9cKFC1esWJGbm1vCCtVq9cGDBwcMGHDo0KFn02UyGa0NAAAAAAAAAAAAI6RS6YgRI6RSg4FJoaGhw4YNu3TpUsnjufPy8jZv3ty/f/8LFy4UyzIyD1Tp3L59e86cOUZmj5o+fXqfPn2KovlLWKdEInnttdemT59u6CNqtXrevHllmdseldLVR48ebaQH3r17d/jw4S/U1RMTE2fPnv3uu+8Wi25noBYA8HL9kaUJAAAAagCZTDZ9+nQzMzNDBVQq1dy5c996661jx45lZWVptVrdMoIgFBQUpKSkHDx4cHChO3fuPFtAoVCMGzdOLpfT4AAAAAAAAAAAADDi9ddfb9WqlZECV69eff3112fPnn3nzh2VSqU3/Ldo9CohIWHbtm2vv/76uHHj4uPji5VxdXV97733RNzztLS0iRMnJiQkGCrQt2/fTz75xEj4viEymWzGjBl9+/Y1VCA5OXny5MlM2l2NCILQqlWrfv36GSlz+/bt3r17L1q0KDo6Oj8/X29X12q1eXl5d+/eXb58+auvvvrNN98Um7msVatW3bp1o8EBAC8PU5oAAACgBhAEoVu3bv7+/sHBwUaKHT169J9//mnRokWPHj2aN2/u7u5ubW0tkUhycnKSkpKio6OvXr169uzZ2NhYtVpd7LMSiWTChAlvvvnmb7/9RoMDAAAAAAAAAADACBsbm7lz544cOVKlUhkqk56evmzZso0bN7Zr165Tp04+Pj4uLi5WVlYmJibZ2dmPHz+Oioq6dOnS+fPn4+Li9IYFK5XKb775RsSI8IKCgk8//fT06dOGCnh5eX377bfW1talq9/Kymrt2rV9+vSJjo7WW+DcuXMLFy5cuXKlQqGgF1V9EonE1NR0wYIFJ06cSElJMVQsLS3t888/X7duXbdu3Tp27NioUaM6deoolcr8/PzMzMy4uLjw8PCLFy9evnw5NTVV9+OOjo7r169ftWoVDQ4AeHkQ4A4AAFATFD06WbRo0X///WfocViR/Pz8S4WkUqmpqWnRGoiCIGi1Wt2g9mcNGDDgiy++YFVEAACAypKvVidnZpZ8LWMAFUzQSmup1WZGy2Tk5akyM2kroFqQSCR5Rh+VAAAA4LkGDRoUEBDw3LmT0tLSjhaSFXo6eqUpZOSDUql05syZw4YNW79+vTh3doKwffv2jRs3GipQFE/v4+MjCELRfpZiEw0aNFizZs3w4cOLTdH91I8//tihQ4fRo0eXbhOo6AcCgtCiRYvZs2fPmjXL+LO75OTk3YVMTU2lhYpGaTUajd71t4tYWlquXr26Q4cONDUA4KVCgDsAAEDNUb9+/RUrVowePTonJ+e5hbVabX5+fglr7ty5848//mhra0sjAwAAVJYn2dm7L1+mHYAqS6uRvDkwy9VomUuxsfeuyGgrAAAAAC8JMzOzJUuW3Lx5MzQ0tCTlnxvRXsy4ceNmzZplaipa+FNERMTs2bONTDk/derUt956q+h9yNJtouiD/fr1+/DDD5csWaK3TEFBwaxZs9q1a9ekSRN6UdVXdE6nTp3633//7dmzpyQfUZf4ZVozM7Mvvvhi+PDhvO0AAHjZSGkCAACAGkMikQwePHj58uUWFhYi1tm7d+/t27c7OzvTwgAAAAAAAAAAACg5Z2fnkJCQli1bilutXC6fNGnS6tWrRRwUS09Pnzp1alxcnKECPXr0WLBggVQqQrSVTCabM2fOa6+9ZqhAQkLCxIkT09PT6ULVhbm5+caNG42c01KwtrZesWLFhx9+KJPxtjwA4KVDgDsAAECNIpFIJk6cuGHDBicnp7LXZm5uPnny5G3btrm6utK2AAAAAAAAAAAAeFENGzb8448/3njjDVFCw01MTBwdHVesWLFq1SpLS0uxdlKj0SxevPjvv/82VMDd3f3777+3sbERa4s2NjZr1qzx8PAwVODff/9dtGhRQUEBXai6cHR0DA4ODggIEGVVgQYNGgQHB0+dOlWsLw4AANULf/8AAABq3C88qXTkyJH79u177bXXyvI2f9OmTbds2bJq1So7OztBEGhYAAAAAAAAAAAAlIKXl9fWrVsXLVrk4OBQlnrMzMwGDBhw+PDhDz74QKFQiLiHu3btWrt2raFcc3PzZcuWNWnSRMQtCoLg6+u7fPlyIwfyww8/7Nq1i3G66kIQBCcnp59//nnZsmUuLi6lrsfc3HzMmDF//vnnwIEDaVUAwEuLAHcAAIAaSCKRtG/f/o8//li3bl2zZs0kEskLfdzLy+vLL788fvz40KFD5XJ5UYW0KgAAAAAAAAAAAErH1tZ23rx5x44dGzlyZK1atV704+bm5r169dq+ffvOnTvbtGlTbOjKzMzMwsLCRoeVlZVSqXxugPi9e/c++eSTvLw8QwXGjRvn7+8v7nhZUW1Dhw6dOHGioTJ5eXmzZs26e/cu/adaKDqnFhYWH3300bFjx8aPH/+iXV2pVPbu3Xvv3r0//fSTt7e3pBANCwB4Sf+w8pJfORk1alRwcHDR/zdp0uT27du0CYAaKSkpKTExUe89lUQiadiwoShrb4kiLS0tPj7e0K56eHiUbgG7hISEJ0+e6FYrCIKLi4u9vf2LVqhSqaKjo7VarW6WTCZr0KBBWSbk1pWZmfngwQPddEEQrKysPD09X7TCjIyMBw8e6G0QW1vbunXrvugduFarjYyM1Lv0nkQi8fT0tLCwqID+bGdnV5aX7IvJz8+PjIzU+zNMLpd7eXmJ+8XJyMg4e/bsjh07QkNDo6KiVCqVWq3WarVFOyCRSKRSqUwmk8vl7u7ur7zyyuDBg3v27Fm7dm29tWVnZ8fGxurtMxYWFl5eXlW5z8fGxmZlZek9xXXr1rW1tRWxzfV+EUxMTCwtLT08PHgUBQAAdEVERBw/fvz/rTgsCCbJySZqNS0DVBdarfTNt3929Yo1Uub47sH3brSkrYDqSio1cXQ0+f/+WAuC0KZNm7Zt29IwAADAiNzc3JiYGL2jQoIg1K1btxSh3uVErVbfvXvX0K7Wrl3b2dlZlA0JghAZGbl3796jR4/eunXryZMnarVao9EIhZ4dvTI1NXV0dGzSpEm3bt0GDhzo4+Mjl8sFQdAdZ8nIyEhJSdG7ORsbGzs7O+NDM6mpqQ8fPjRURhAELy8vEQcli1Ve1EmMFChJPxEEISYmJjc3V29uvXr1SrH/6enp8fHxerPMzc1LMSxoiEajiYqK0jsiLJVKvby8RJyt38j4fp06dRwdHcU9v9HR0fv37z98+PDt27eTkpJ0u3pRP7eysvLx8enWrdvQoUNbtGhhamqqt5/HxcWlp6eLONZpqDVMTExq167t5OQkVjuoVKrIyEi9WWZmZl5eXmKNCGu12vv37+fk5Oj9jtSrV690YSEAUPE2b948duzYp392o6KixPolVo0Q4F5eCHAHAABVTVZWVmJiYmxs7IMHD9LS0nJzc9VqtUKhsLOzc3V19fb2dnZ2FjHIGwAAAC+keIA7gOpGq5W9+eYyV9cII2WOHx93715H2gqoGQhwBwAAKPXvqKKA2oKCgvT09AcPHsTExDx+/DgrKys/P18qlSoUilq1ajk7O3t4eBSNXlWdWdWAUlCr1enp6fcLJSQkZGdn5+XlSaVSCwsLR0dHDw8PLy8ve3t7pVJJWwEAihDgbmJiwu8/AACAl4WlpaV3IZoCAAAAAMqBIFIZAAAAAKjJnk4XLZfLHQq1bt2aZkENZmpqWrsQXR0AgJJjRigAAICXhfG1FwEAAAAAAAAAAAAAAACg0hHgDgAAAAAAAAAAAAAAAAAAAACoEkxpAgAAAAAAAKDSmZqaWltbs+oOUH1ptVKZrK6JicpIEaXSwcrKirYCagZBEMzMzGgHAAAAAAAAQHQEuAMAAAAAAACVr169eu7u7rQDUJ1JZLK3TEwEwwWEDh1M27VjYVWg5pBK+UYDAAAAAAAA4iPAHQAAAAAAAKh80kK0A1DNPeeRu0z2//8PAAAAAAAAAAAYwZgZAAAAAAAAAAAAAAAAAAAAAKBKIMAdAAAAAAAAAAAAAAAAAAAAAFAlEOAOAAAAAAAAAAAAAAAAAAAAAKgSCHAHAAAAAAAAAAAAAAAAAAAAAFQJBLgDAAAAAAAAAAAAAAAAAAAAAKoEAtwBAAAAAAAAAAAAAAAAAAAAAFUCAe4AAAAAAAAAAAAAAAAAAAAAgCqBAHcAAAAAAAAAAAAAAAAAAAAAQJVAgDsAAAAAAAAAAAAAAAAAAAAAoEogwB0AAAAAAAAAAAAAAAAAAAAAUCUQ4A4AAAAAAAAAAAAAAAAAAAAAqBIIcAcAAAAAAAAAAAAAAAAAAAAAVAkEuAMAAAAAAAAAAAAAAAAAAAAAqgQC3AEAAAAAAAAAAAAAAAAAAAAAVQIB7gAAAAAAAAAAAAAAAAAAAACAKoEAdwAAAAAAAAAAAAAAAAAAAABAlUCAOwAAAAAAAAAAAAAAAAAAAACgSiDAHQAAAAAAAAAAAAAAAAAAAABQJRDgDgAAAAAAAAAAAAAAAAAAAACoEghwBwAAAAAAAAAAAAAAAAAAAABUCQS4AwAAAAAAAAAAAAAAAAAAAACqBALcAQAAAAAAAAAAAAAAAAAAAABVAgHuAAAAAAAAAAAAAAAAAAAAAIAqgQB3AAAAAAAAAAAAAAAAAAAAAECVQIA7AAAAAAAAAAAAAAAAAAAAAKBKIMAdAAAAAAAAAAAAAAAAAAAAAFAlEOAOAAAAAAAAAAAAAAAAAAAAAKgSCHAHAAAAAAAAAAAAAAAAAAAAAFQJBLgDAAAAAAAAAAAAAAAAAAAAAKoEU5oAACrGtWvXtm/fLpFInqYIgtC+ffu33nqLxgEAVAvp6ek//PBDRkbG0z9ngiDUqlVr8uTJlpaWtA8AAAAgruvXr+/YsUMQhGcTBUFo0aKFv7+/VFrS+WtUKtUPP/yQlJRULN3MzGzixIl16tShqQEAAFDxIiMjN23a9OzPXUEQfHx8goKCZDIZ7QMAwHOdPn36yJEjxRK7du3at29fGgdADUCAOwBUhKysrGnTpv3777/PJiqVyoMHD9I4AIDqwsrKKjo6esOGDbrpkyZNon0AAAAAcd28eXPx4sXFAtxNTEyGDx8+bNiwktejUqnWrVsXERFRLN3S0nLYsGEEuAMAAKDiqVSq2bNn79y589lEmUy2efNmotsBACghBweHH3/8MTEx8dnEBg0anDx5sm7durQPgOqOAHcAqAhbtmw5ffp0scQhQ4Z07dq1Arau1WpTU1Pj4uJiY2MjIiJiY2MTExMzMjJUKpVEIlEqlXZ2dk5OTvXq1WvcuLG7u7ubm5uVldWzk80DqGGys7MnTZp0//79on/a2Nhs3LjR2dm55h2pIAgZGRkPHjy4f/9+RERETEzM48eP09PTVSqVIAhKpdLW1tbJycnT07NRo0YehWxsbLgAGiKTyaZPn7579+5iUz9+/fXX/fv39/T0pIkAAAAAEUkK6Qa4l+KeRe907yWfAx4AAAAQ1+HDh/ft21cssWvXrn5+fhWw9eo4diAIQlZW1uPHjxMTEx88eBAbGxsXF5eSkpKWlpaXl6fVas0L1alTx83NrWHDhl5eXm5ubnXq1OFnP1AtnD59es6cOU/f8Ondu/e8efNq5JGq1epHjx7Fx8ffKxQfH//kyZOsrKyCggJTU1NLS0t7e3tXV9f69es3bNjQzc3N1dXVzMyMHmKIj4/PhAkTvvzyy2cT7927t2rVqmXLlvEnAEB1R4A7AJS7mJiYr776SqvVPptoZ2c3c+ZMuVxeThsVBCE3Nzc8PPzEiRN//fXXrVu3kpKSVCrVcz9oaWnp5OTUtm3bN954o0uXLh4eHmZmZpX1vEar1RYUFOTm5sbFxUVERFy7du3ChQv379/XHdkVBMHX1zckJIR7m8olCEJBQYFKpXr48OHdu3dv3rx54cKFu3fvajQa3cIODg67du1ydHSsXsc4d+7cP/74o1y/FBXQnzUazcWLF8PCwp5ekfLy8kTfyvfff7927Vq9t80bNmwovzd8BEFQqVSRkZH//PPPn3/+ee3atcTExNzc3Od+sOjJb8uWLd94441u3brVr19foVCU37k+duzYpEmTTE1L84NcIpGYmZkpFAobGxsnJydnZ+cGDRrUq1evQYMGzs7OSqVSKpWW0543bNhwwoQJixcvfjbxwYMHX3311bp165hZBwAAoGJkZ2cPHz48Ojr6uSVXrFjRv3//8tuT3NzckSNH3rlzx/jvT7VavWLFijfffJNzBwAAACA5OXnhwoX5+fnPJioUivnz51tYWJTTRqvL2MHTvVWr1bm5uTExMXfu3Ll8+XJoaGhUVFRKSkpGRobuUKkuuVzu4ODQuHHjN954o3fv3k2aNFEqlczv87IRBKFowD0zMzM6Ojo8PDw0NPTSpUtPnjzR2xmCgoLmz59fvY7x4cOHQ4YMycjIKNetaDSaJUuWDB48uFwvjM/Omejm5ib6JnJzc/v27ZucnKzbT8p1bLqoH6anp4eGhv7999/Hjx+PjY198uRJsRAavezt7d3c3Hr06NG7d+/27dvXrl27/MZACwoKxo8ff/HixdLVL5PJlIVq167t5OTk4eFRv359T0/PBg0a2NjYlGvUzZQpU7Zs2RIbG/ts4saNG4cPH96+fXuuhACqNQLcAaB8qdXq5cuXx8XF6d4ctmjRQhAE0X/FarXaR48e7d27NyQk5OrVq1lZWS/08ezs7KhC27dvt7Oz69at28iRI1977TU7O7sKeOQhCEJ+fn56enpCQsLNmzdvFLp9+3ZycnJmZqbxzyqVypLcAqE87vQyMjKSkpJu375ddMpu3ryZkJCQmZlp/Iw4OTnpDXyv+k9JnsaFl5+a0Z+TkpLCw8P1Zr3opank15CkpKTDhw8HBwefP3/+RR9m5ebmxhbat2+fjY1Nhw4dgoKC+vfv7+joWB4XwMzMzLt374r5y97U1MrKysvLq0uXLv3792/btm3t2rVF33OJRDJx4sTff/+92FOS4ODgoKCg7t27c1UEAACoAFqtNjIy0tDv7Wf9/PPPffv2Lb8XEa9cuXL48OGSvDGblpbGiQMAAAAgCMLGjRuvX79eLH3gwIHdu3cvj8HT6jV2kJeXFx4e/l+hixcvxsfHl25IpaCg4FGhkydPfvHFF+3atXvnnXcGDhxoZ2dHJ6zxX7GcnJz09PTY2Ngb/5+IiIi0tLTnvtGRkJBQ7Y63oKAgPDy8Ap45pKen14C+ERER8fjxY92s8hubLigouHXrVkhIyB9//BETE1NQUPBCH08pdP369e+//97NzW3QoEEjR45s3bq1QqEoj/aJiYkRNxLA3Nzc3t6+RYsWvXv3fv311xs1alQeke7Ozs4ff/zxRx999GxiZmbmokWLdu3aZW5uzoURQPVFgDsAlK8LFy5s3ry5WKKjo+NHH31UHk9nEhMTf/nll59++ik6Orok7+4bl5qaunfv3oMHD7Zs2fKjjz4aPHiwpaWl6E2k0WhSUlISEhJu37598eLFmzdv3rt37+HDh/n5+dUx+vkleSySlpaWkJAQERFx6dKla9eu3bt378GDB3l5eWq1mvZBZUlNTQ0ODl63bl14eHjZH8FkZGQcPXr0+PHjjRs3njp1amBgYK1atap4C6jV6rS0tCuF1q9f7+PjM7qQs7OziH9xBEFwc3N7//33586d+2x6dnb2l19+2bZt2/L4SwEAAIBSO3nyZGxsrLe3dznVv3379vJYDwoAAABATRUREfHtt98WS7S0tJw9e3bpljw1rtqNHRw9etTf3z8/P7/sQ71PZWdnnzx58tSpU23btp07d26/fv3Kb5lxVIr8/PykpKT4+PirV69eunQpLCwsMjLyyZMn4nYk4IVotdobN26sXLly7969ZX89QKPRxMbGfvfdd5s2berbt++MGTPatWtX9VeWzs3NjS905MgRa2vrXr16TZo0qUePHqJPlj969OgNGzbcuXPn2cQ///xz3759I0aMoDcCqL6kNAEAlJ+CgoKlS5fqvlUfGBjYoEEDcbel0WgOHTrUu3fvuXPnRkVFiXinqlarQ0ND33777WHDhl2/fl30e+Ddu3d36dKlY8eOAQEB33zzzZ9//hkZGZmbm0t0e5V15cqVrl27dujQwc/P78svv9y/f/+dO3eysrKIbkdl0Wq1p0+fHjBgwLRp0+7cuSPiBAMajeb27dtTpkwZOHDgf//9V42m1Ver1Tdv3pw1a1avXr127dol4tezKFb+7bff1l0b8eTJk3/99RcdEgAAoEpJTU09ePBgOVWekpKyb98+GhkAAABACQmCsHLlyqSkpGLpAwYMaN26tbjbqqZjB7m5uSqVqjyCkjUazfnz50eMGDF79uwaMBc1njVv3ryOHTt27tz5/fff//HHH0+dOvXw4cNy6khASWRkZHz99devvfba5s2bxb3gZGVl7dq1q2/fvvPmzXvy5Ek1+vOXkZGxZ8+eQYMGvfPOO1FRUeLWb29vP2XKFN2/g0uWLHnRdUsAoEohwB0AytGxY8cOHTpUkl+WZfwpnJycXDTD+o0bN8rpWDQazZEjR3r16rVu3brnLl72QoomAs/JyaHDVBfp6em3bt3KzMykKVBFngV89tlnffv2PXv2bDk9pxME4cyZM3379l28eHG1ewQQFhYWEBDw4YcfpqSkiFiti4vLhAkTiiWq1erFixdzcQAAAKhqv5m3b98u7o38U//88090dDSNDAAAAKCELl26FBwcXCzRwsLio48+EnEiXsYOjMjLy1u5cmVgYOCDBw/okDVGREREXFwck5GhKhAE4cqVKwMGDJg/f375BaBnZGQsXbr09ddfP3PmTDWaoaxovYXg4OBevXrt379f3Dkfhw8f3rBhw2KJV69e3bx5M90SQPVFgDsAlJecnJwvvvhC9zYyICBA92dlWW4Pbt265efn99133xUUFJT3QT158mTatGlTpkzRnVkBACpeTExMUFDQ559/XgEvyWRlZX366adjx469f/9+9ZrxQqPRrFu3buzYsY8fPxax2nHjxrm4uBRLDA0N3bZtGz0TAACgSgkNDb1+/bro1Wq12l9++YXmBQAAAFBCBQUFX3/9dXZ2drH0Pn36tG3bVsQNMXbwXIcPHw4KCoqLi6NbAhCRWq0OCQnp16/f6dOnK2BzV69eHTRo0I8//pifn1+9Gio2NjYoKGjz5s0ixrg7ODi89957RWtxP2v16tUJCQl0TgDVlClNAADl5ODBg+fOnSuWaGNjo/c3ZamdPXt27Nix9+7de25JiURSp06devXqNWrUqGHDhvb29lZWVlqtNisrKzExMTw8/O7du7Gxsampqcbr0Wq1v/76a1xc3C+//OLm5saJBqqOR48eOTg4yOXy8tuERqNJTEx0cnKSSiv/Pclbt26NHj36ypUrJSlcu3btogtgo0aNateubW1tXfTcOTk5+e7du+Hh4bGxscnJyc+tZ8+ePfHx8Vu2bGncuHH16h4HDhyYOnXqr7/+amVlJUqFdevWHTVq1PLly4ulr1q1aujQoXZ2dnwlAQAAqojc3NydO3d26NBB3GojIyNPnTpF8wIAAAAoobNnzx45cqRYopmZ2aRJk0Qc2ngZxg4sLS1tbGwsLCyUSqWpqalUKtVqtfn5+Tk5OWlpaRkZGSUJtT99+vSkSZO2bt1qaWlJ5wTKg0qlSk9Pd3R0FDE+RFd6erqJiYmtrW2lH29BQcF33303f/78krxcJJfL3dzcvL29fXx8PD09i65peXl5GRkZcXFxYWFhkZGRDx48yMvLM15Pamrqhx9++OjRo9mzZyuVymrUPbKysj744INatWr5+fmJ0kMkEklgYODq1avj4+OfTY+MjPz999//7//+r1z7IQCUEwLcAaBc5OTkrF69WnctpNdee61p06ZibSU0NDQwMPD+/fvPfcbRrVu3MWPGtGvXzsPDQ+8TIkEQ8vLyoqKiTp8+vWnTpsuXLxt/yfXo0aNjxozZunVrnTp1ON2AiYlJ/fr1xXrlQxCERo0avWgEeWpq6uDBg1u0aDF//nx3d/fyuEFNSUlZs2bNjh079u7d26BBg8pt8Lt3744YMeLWrVvGiymVyg4dOowdO/bVV1/19vY2MzPTWyw/Pz8mJubcuXObNm06d+5cbm6ukTovXrw4YsSI3bt3e3t7l9PRTZgwISgoyMgDaK1Wm5ubm5qaGhsbe/369Rs3bkRGRj53coJdu3a1a9fuk08+EespyZgxYzZs2FBs6dU7d+7s2LFjwoQJXBYAAACqjj179syfP1/cwc4//vijaAwVVZ9MJmvXrp2Tk1OxdAsLC2JZAAAAUDEKCgrWrl2r+/j9lVde6dKli1hbqaljB9bW1p6eno0bN27Tpk3z5s1dXV3t7Oysra0tLS3lcrlUKtVoNCqVKjMzMzk5OTIy8lih8PBw3dHqZx06dGj9+vUzZsygf6LmMTU1bdeunaFv94vSaDTOzs4v+ql9+/Z9Wmjo0KFi7cmztFrthQsX5syZ4+vr+91331Vu+LJWq12/fv3s2bOfO17p6ur61ltvDR8+3NfX11D0vyAIqamp4eHhe/fu3bFjR1RUlJEKVSrVl19+KZPJ5syZY2paLpGQNjY2v/32W61atQwVEARBrVZnZ2cnJCRERERcvXo1LCzs0aNHxqvNzs7+8MMPW7RoUb9+fVH2083NbciQIWvXri22bxs2bBg7dqyjoyNXBgDV7w86TQAA5eHYsWPnz58vliiXy8ePHy/WDAS3b98ePny48eh2KyurIUOGzJgxo2nTpsaDZSUSibm5edNCb7/99tmzZ5csWXLixAkjtx8nTpwYP378li1bjPyOLyOJRCKXy5VKpaenZ8OGDVu2bNmqVauZM2eGh4fTx6osuVyuUCjq1q3bsGHD5s2bt2/ffs2aNSdOnKjxBz6tUGVtXRCEdevWnS90+PDhefPmBQYG2tjYiPIgo+gFmEOHDi1cuLDoofBXX321YcOGcp0q3rj79+8HBAQYf0KtVCr79es3a9asNm3aPPdZhpmZWdEELUFBQVeuXFm6dOmhQ4eMPKq+du3aqFGjdu7c6erqWh4HWL9+/e7duxs5I8XObFZWVlhY2G+//bZt27akpCQjH1y6dOmAAQPEetWqcePGr7/++u7du3V7Y0BAgI2NDZdEAACAiuft7R0fH69SqZ5NvHfv3qlTpwYOHCjWVrKzs3fu3Kmb3qhRo8jISBGXV4YoLC0tN2/eTDsAAACgEl25cuXQoUO66e+8846FhYUom6hJYwdSqdTCwqJJkyYdOnTo1atXy5YtnZycjLyeKpVK5XK5lZWVi4tL8+bN/fz8MjMz//nnn2+++eb06dNqtVrvp7Ra7TfffOPn51fpsxqh/BT1DWtr6/r16zdq1Kht27Z2dnYTJ04syRzb1Zqtre3BgwfFXXBYd4TOiKSkpEWLFoWFhY0cOTI4OHjRokWtW7eWyWRi7UlcXNyqVas2btyYnZ194cKFESNGdOvWrbJaWxCETZs2zZw503h0u4eHx5QpU0aPHu3i4mK8PSUSib29/auFZs6cuWPHjpUrV969e9fQ7GAajeazzz6zsrKaNm2aWI1c7M9B586dSx4gLghCQkLCyZMnN27c+N9//xlplgcPHixcuHDTpk1iheaPHz/+l19+yc7Ofjbx3r17O3funDhxIpO4A6h2CHAHAPHl5eV9//33uk8KmjdvbiRg8YU8fPjw7bffNvKiqkQiadu27bJly7p27SqTyUqyDt1TCoWiR48eHTt23LVr1/z582NiYgyVPHDgwKxZs9asWaNQKMRqPYVCYWtr6+zs3LxQs2bNmjZtWrt2bSsrK4lEolKpFi5cSB+rUuRyuY2NTZ06dXx9fZ+etTp16lhbWxfdPb4kg+jG58Aob3fu3FmzZk3R/8fFxU2ePPl///vfp59+2q1btzLOB6DRaK5evbp48eIDBw4UFBQUJf7vf/8LCAjo06dPpRxsWlraxIkTL1++bKRMkyZNlixZ0q9fP7lc/kIXwKLpHEJCQo4cOTJ79uzbt28bKnn27NmpU6f+9ttvRSuWViTdRw+WlpZtC02aNGnu3Ln79+831CFTUlKWLVu2adMmUZ5fyOXyd955Z//+/U/7RpGbN28ePHgwMDCQKyQAAEDFa9OmjZ2dXWhoaLH0X3/9dcCAAWKNY12+fPn69eu6P6cDAgKWLl1KgDsAAACAZxXN7KsbUOvp6fnWW2+JsokaM3ZgZWU1aNCg/v379+jRw8PDo9TR/9bW1gMHDuzVq9dPP/20aNGi1NRUvcUSEhJ++umnr7/+uoZFPWq12h07dly/fr3YcbVs2dLf37/Gf+MsLS1tbW3r1avXvHnzFi1aNGvWrGHDhra2tkXdKSws7EXXka6mDL3aUWol/5oIgrB27dqia4UgCAcPHjxz5sx77733wQcfuLm5leXrJghCZmbm1q1bly5d+jRcJCcnZ8GCBQcPHrSysqqUpj5y5Mj06dOLzbbwLIVCERQUtHDhQk9PzxdtT3t7+/fff9/Pz2/58uU//PBDsdDtpzQazbx58+rWrTt8+PBK73sSicTFxSUwMNDPz2/btm0LFiyIi4szVHj37t2TJk3q3Llz2bcrCEKzZs169Ohx8ODBYlnff/99YGBg+U1eCQDlhAB3ABDfpUuX/vnnH930ESNGiHJHkZeXN2vWrIsXLxoqIJVKR48evWzZsjp16rzovdZTSqUyKCioTZs277///r///muo2C+//NKiRYvJkyeX+jZMJpPVqVPH2dm5WbNmbdu2bdq0af369V1cXMzMzJ6+pfr05d0XetiE8rsfs7e3d3Jy8vHxadu2bdGaWe7u7kqlspzW/IJxarV62bJliYmJz967njp1ys/PLzAwcPbs2d7e3qX7hiYkJKxdu/aHH35ISUl5Nl2lUi1atKhz584Vv5a9Wq3+6quvDh8+bKTMoEGDvvvuOw8Pj1JfAOVy+aBBg1q1avXBBx/s27fP0JXnjz/+aNas2aJFiyr9OeDTK6Svr+/mzZtnzZq1YcMGQ7u9d+/eu3fvNmrUSJRNd+nSxcfH58aNG88majSaDRs2+Pn5mZub8w0FAACoYBYWFkFBQboB7idPnoyJifHy8ir7JrRa7bZt23SHLb28vLp27bpkyRLOAgAAAIBnRURE7NmzRzd98ODBT0czy6ImjR30LiTWIroWFhYffPCBu7v722+/nZGRobfMjh07Pvnkk9q1a9ekLicIwu7du7dv314sPSgoqEYGuCsUCldXV3d399atW7dp08bHx8fb27t27dpyufwliWWvasLCwr7//vtnU9LS0pYvX7537965c+f6+/uX7t0VtVr933//ffbZZ//880+xyQXOnDmzffv2d955p+IP9t69e1OnTk1PTzdUwNbWdtmyZWPHjlUoFC80C/6znJyclixZ0rFjx6lTpz5+/Fhvmdzc3OnTp/v4+LRo0aKK9ARzc/OxY8f6+vqOGDHC0MySubm5P/74Y8eOHcs+97xEIpHJZOPHj9cNcL9169aRI0cCAgL4egKoXvgdAwDi3y3/9ttveXl5ur/aBw8eLMomdu7cGRISYuQ366RJk9avX1/250ESiaRx48YhISG9evUychP12Wef3bx5s9RbGTJkyOnTp8+dOxccHPzxxx/36dOnfv36FhYWz4ZKs1JSldK6devTp0+fP39+165dc+fOHThwYJMmTaysrIhurywSiaR3794+Pj7F0rOzs3/66adevXr9/PPPRlbM1Cs/P3/fvn19+vT56quvikW3m5iY1K1bd+jQoeWxvttznThx4ulc9XqNGDFiy5YtT59Ql4W7u/uvv/5q/EHnypUrT506VXV6gomJiY2NzZIlS3r06GGoWHp6ut51YEvH1tZW7/w658+fNz5TDgAAAMrPwIEDbWxsiiWmpKQcOHBAlPpTU1P1VtW/f/8aFhIBAAAAQBQhISFpaWnFEs3MzMRaCLQmjR3IC4nY+BKJxM/Pb968eYbGW+Pi4orNYlMz6D3emjro/NVXX507d+7UqVPr169/9913u3Tp4urqqlAoiG6vLLVq1Ro2bJju7IcRERHvvvvuiBEjrl+//kJT+wmCkJCQMHv27AEDBhw/frxYdLupqWn37t2bNWtW8dMF5uXlzZ8//+lc8rpsbW1//PHHd999V6FQlPE7aGpqOnTo0ODgYCcnJ0Nl4uPjZ8+erbtgSOVei9q3b79hwwYj84IdPXr0yZMnYm2xe/fu9erV003fuHGj6MsaAEB546cMAIgsNjb2jz/+0E3v0qVLgwYNRKl/7ty5Rhb7Hjdu3Dff/P/Yu++oJrLvAeCmEJJQQkKXDiJSRBFUdEEUO9gb9tW1d13bV111bWtddy1rX3vXFVSwoSgiooiKWGjSpQcIJSGkze8cc34eTjIzApmEIPfzH/OGmclkZjLvvfvu+5OopLkkEqlt27YXLlzw9fXFWqe0tHTt2rWNDZ/9xsLCwtnZGbL8tiAsFsvV1dXAwAAGHmgJCoUyadKk58+f79mzx8HBQeF7yc3NnT17dnBwcGxsrFgs/u7WZDLZhw8fpk6dOnr0aOUGTTMzs1WrVsXFxS1fvpxOp2v4k5aVleFPbzd06NBjx46xWCyi9shms48dOxYcHIy1Ap/PX7lypXK7fLPfpLt27cKZ//TOnTsNuRgaKCQkRDnPhFAoPHnyJEy7AQAAAADQLNq1a4c6r/Hly5ebXHmvLyoqKjc3V2Ghrq7u5MmT4Q0QAAAAAAAAoIDL5Z47d055eefOnTt16qT69qHv4LtIJNKcOXOwzrZIJIqPj4cLtaW3A9jY2BA7NAKowtLS8siRI0+ePFFO1i6RSMLDwwMCAjZu3FhcXPzdhhQEQfh8/vnz5/39/f/888+ampr6pVQqtXv37leuXLl79263bt00/DERBAkNDb1+/TrWCkwm8/Dhw2PHjiUwrqBv377nz59ns9lYK9y7d+/cuXNa1UKFIEi/fv1mzJiBtUJRUdGrV6+I2h2Hw0FNvvn8+fOEhAS4PQEALQsEuAMAAMFu3LiBOrZyypQpqr+1y2Sybdu25eXlYa0wePDgvXv3yge/EsjCwuLMmTNOTk5YK9y9exd1YkEAgMaw2ezly5fHxMSsX7/e2tpaoc78+PHjQYMGLVu2LDMzE6s+Lx/6v2XLlj59+ly5ckVhADeHw5k/f/7Tp0937txpY2PTLDX//fv348wX4ePjc/ToUeVElSqS5xXw8vLCWiEhIeHEiRPa1kri7e0dFBSEtcLHjx9xJgps7L5cXFy8vb2Vi27fvo3zgwUAAAAAANSHTCZPnDhROU/bmzdvkpKSVNy4RCJB7Sbs0qWLp6cnBLgDAAAAAAAAFDx48CArK0t5eUhIiOp9mtB30PADnjx5MlbpD5nBHYDmRSKRvL29L168GB4eHhwcrJA4jMfjbdmyJTAw8NKlS3w+H2sjEonk+fPnY8aMmT59+ufPn+sXUSiUTp06HT9+PDIyctSoUfLhDRrOT1dSUrJx40as5IxUKnXLli0hISEIghB1YCQSCUGQvn37/v3331i/IAiC4AfVNMvFQCaT58+fjzXUSiaTvXz5ksA9jhw5Uvn81NXVnT59Gu5NAEDLAgHuAABAJPnYWeXlFhYWvXr1Un37r1+/vnjxIlapjY3N3r17CUw/UL8O4OzsvGfPHqw861KpdMeOHdqWwxiAVsjKymrjxo2PHz9esmQJh8OpX1RTU/PPP//07dv38OHD1dXVCpVqoVD433//DRw4cNOmTVwut36pnp7exIkTIyMj9+/f7+Li0lytsRkZGUePHsUqNTIy2r9/v6WlJeGHhyCIpaXlgQMHsJ6uCIIcOHDgy5cv2nMZkL6aNGkS1gplZWXKGTebvC8dHZ2QkBDlotLS0tu3b8NdCQAAAADQLPr3729lZaWwUCgUXr9+XcV35szMzKdPnyovnzJlCo1Gg5m+AAAAAAAAAPWJxWLU9O0GBgaDBg1SffvQd9BwgYGBWPGgOTk5cK0CoA4UCqVPnz7XvvLz86NSqfVLP336NG3atPHjxyckJMhkMoX/LSwsXLFiRVBQ0L179xSCyJ2cnPbu3fvo0aNp06bJp3RulgaZ48ePp6enY5WOGDFi7ty5ZDKZ2GOTd4OOHz9+2rRpWOvk5eUdOHBA2y4GJycnnCz7BGZwb9OmjZeXV/v27ZWXR0REFBUVwY0JAGhBqHAKAACAQO/fv0fNEODr62thYaHixmUy2YEDB7DG75LJ5PXr13fo0EEdn0te5RgyZMiECRNOnjyJuk5SUtKdO3cmTpwIlwEAzYtMJrdr127v3r0///zzH3/8cfv27frzcmZnZy9atOjChQulpaXfFgqFwgULFsTExIjFYoVN9erVa8OGDf7+/t8aXJqlfQRBkNOnTxcXF2OtsHz5cl9fX3UcnnyDPXv2XLJkyebNm1HXyc3NvXLlyooVK7TqSvDw8GCz2RUVFcpFEokkNze3S5cuRO2rb9+++vr6CrMitmnT5uLFi7NmzaLRaHBjAgAAAABomJmZWf/+/ZWr8Ldu3Vq3bp2RkVGTt3z79m3l6YCMjY1xZhBSNz6fn52dnZmZmZaW9vnz57KyspqaGpFIxGAwDA0NbWxsXFxcXF1dHR0dTUxMlBPbq/vY0tLSPnz4kJSUlJeXx+PxxGIxk8k0MzNzcnLq1KmTi4uLnZ3djzGPvFQq5XK5BQUFubm5nz9/zs3NLSkpqaysrKurI5PJenp6BgYGNjY2dnZ2rq6utra2VlZW2vPBJRJJTk5OSkpKYmJienp6aWlpbW2trq6uvr6+nZ2di4uLp6ens7OzwkhyAAAAAADwXdnZ2c+fP1de7uHh4ejoqOLGoe+gUaysrAwMDOr3GX2jkBcJAEDss4LBYAwZMiQgIODq1au7du1KS0v7toJYLA4PD4+NjVWYLfn169eBgYEpKSkKG+RwOLNmzVq8eHHbtm2b96MVFxcfP34cq9TCwuKPP/5gMplq2juNRlu/fn1kZGRmZibqCufOnVu4cKGdnZ32XAw0Gq1Hjx6RkZGopTk5ORKJRGEIRJPp6en169dPeXaOgoKCqKgoiOoBALQgEOAOAABEunLlikJ4qNyIESNUbzdJS0vDSYXbs2dPnGS9xPxmUKmrV6+OiIjAaifat2/fyJEjsbK8AwA0iUwme3l5Xb58+enTp9u3b4+OjhaJRPIimUym0JosEAiioqIU7ncvL69Vq1YNGTKETqc3+xyaxcXFZ8+exSp1d3efN2+eWiPvSSTS/PnzL1++XL/Jqb5jx47NmDGDzWZrzzVgYWFhbGyMGuAulUoLCgoI3JeTk5O7u7vy3Hlv375NTU3t2LEj3JIAAAAAABpGIpEmT5589uxZiURSf3lGRsazZ8+GDBnStM0KBALUmev69u1ra2uryQ8ok8nKysri4uJCQ0NjYmIKCwsFAgF+FcnCwqJLly7jxo0LDAy0tLRUa6S7WCz++PHjpUuXwsLCcnJyUCNI5FgslpubW0hIyIgRI6ytrSkUipqOJyIiQnlkgo6OTlBQUJMHPCAIUldXV1BQ8Pr16+df5ebmlpeXf6t+4uBwOI6OjoMGDQoKCurUqRODwSCqTldTU3P79m3lY6DT6cOHD1eYFF4mkxUWFt66devixYsfPnzAmZyQQqFYWVn1799/8uTJvr6+urq6MF8BAAAAAEBDhIeHV1VVKS8fNGiQwrtZE0DfQaPo6uqyWCyFWXzlFJJDAwDUwcDAYMaMGSNGjDhx4sShQ4fy8vK+9cBWVFQ8fPiw/srKoe0sFmvcuHHLly93cXHRho9z5coVnPmiFy9e7OzsjCCI+h7CVlZWq1atmjdvHmpHdnFx8blz53777TetugZcXV3JZLJytn75QKPKykpjY2Oifp6CgoIOHjyoEL8kk8lu3Lgxbtw4oiLpAQBA3eBpBQAAhKmsrLx3757yciMjo59++knFjSMIcunSJaxuNh0dnQ0bNqhv/Ou3Y2jfvv2sWbO2bt2KusKbN29evnzZu3dvuBgA0BJkMrlPnz49evS4d+/e3r17X7x4gToIR+Ff3N3dlyxZMnbsWENDw2914Ob9IOHh4Xl5eVgHvHr1aqJq+zjMzc2XLVu2YMEC1EaH9PT0yMjIcePGac+3T6fTjY2NP3/+jFqKNR9I0+jo6AwbNkw5wL22tva///6DAHcAAAAAAM1DEKR79+4eHh6JiYn1l0ul0vPnzwcFBTUtvDshIUF55joKhTJlyhSN1RpkMll2dvb58+fPnj2blZWF+n6O+l8FX4WHh9va2k6dOnXGjBl2dnaEH7ZMJktOTv7zzz+vX7/ekCSIlZWVcV/t2rVr9uzZc+fONTMzI/yoamtrV65cqVw7YDAYCQkJjQ1wRxCEz+enpKRERkbev38/KSkJdWAtvvKvEhIS/vzzz27dus2bNy84OFhPT0/1z87lcmfPnq08wRSLxQoMDPwWRIUgCJfLPXny5OHDh3Nycr67WalUmpub+++//164cKFfv37r16/39vZW04AEAAAAAIAfRl1dXVhYmPJyXV3d/v37q7596Dto7Js8Vj4jFosFlysAmmFsbLx69eqJEyceOXLk9OnTDclIZWBgMGTIkOXLl3t5eZHJZLVGjTdQTU3NmTNnsErbt28/e/ZsDXQxT5o06fjx469fv0YtvXjx4sKFC1WZxpBwFhYWFAoF9fdCJBLh5EdoAi8vLysrq+zsbIXl0dHR+fn5WpXbHgAAcJDhFAAAAFGSkpJQ5z/q0KGDjY2N6jWEGzduYJV2797d399f3SmW5dWP6dOnYzUGSSSSCxcuwJUAgPaQ37Z0On3EiBEREREnT5709PTEaUpwcHDYs2dPVFTUjBkzDA0Nmz1xu5xYLMZ5tri4uAQHB2vmSEaPHm1vb49VeubMmQbG1mjs29fT08Mqra2tJXZ3fn5+NBpNefmDBw8I3xcAAAAAAGjI2yCTyRw/frxy0aNHj3AybOE7d+6cQkp4+Xw+qg/sbwgEQSorK/ft29erV6+NGzdmZGQ07Q08Nzd369at/fr1O3v2bENyjTecSCQ6efJkv379Tp061dgp/gsKCjZt2hQcHBwXF6eOuhhqaq6m5eu6fPlyUFBQQEDA2rVro6OjmxDdrlA3iY6OnjJlyujRoxMTE1X/7CQS6bsfFkGQFy9eDBkyZM2aNQ2Jbq9PKBSGh4cPHjz46NGj3x1DDgAAAADQymVlZSmMuZWzsbFxdXVVcePQd9CECovytE5yOMcPAFBH+4aNjc3WrVsfP368cOFCnEkeaDRaUFBQeHj4mTNnvL295dkKtGE+sTdv3ihnQPhm5syZGhhf1KZNG319/Xnz5mGVfv78OS4uTqu+eiaTifX1SaVSYhsZOByOt7e38nIulxsbGwu3IQCgpYAAdwAAIExkZCRqtyhWzF+jJCUlpaen49QQ6HS6Zmoyjo6OgwcPxiqNiopSsV8TAKAmBgYGkydPvnHjRteuXVFXsLW1vXjx4tKlS01MTORLtGS+9ezs7Ldv32KVTpgwgcPhaOZITE1Nx4wZg1X68uXLL1++aNWXjjOpaNMSduLw8PAwNTVVXv7+/fsmh08BAAAAAAAVDR8+3MDAQGEhl8u9f/9+E7ZWUlLy4MED5eXDhg3TTDaszMxM+WTc+fn5qm8tIyNj1qxZK1eurKqqIuTwamtr165dO3/+/KKioqZtAUGQ169fjxo16t69e1oy3hjVtWvXYmJiBAIBgdsUi8UPHjwIDg6+ceOGuj87giA3b94cMWJEfHx8k/dVXl6+bNmy3bt341S7AAAAAABAbGws6vu2l5eX6inDoe+gsbKysrAG4nbu3BkuVwA0Rt4DSyKR2rdv/9dff+3cufPbbGMKpk2bdvny5V69euno6GjP8SMIEhERgZUywMTEJCQkRGMHM3ToUGtra6ymhtu3b2tVejLltBHfkL8i9jILDAxELYqIiIDbEADQUkCAOwAAEKOuru7hw4fKyykUSs+ePVUPEn306BHWhERmZmb9+vXT5IedNGkSVlFeXh5qJgYAQLM3NFRWVp46dWrIkCHx8fGo6+Tm5o4ZM2bPnj0lJSVaFUsRHR2NlVNET09v5MiRmjyYcePGYTUhlZWVPXv2THvOm0wm4/F4WKU4yd2bxtDQEDUNAJ/Pf/LkCdyDAAAAAADNwtnZ2c/PT3n52bNnmzDrcWRkpHJYBp1OHzt2rLoHxyII8ujRo/79+z948IDA2opYLN6/f//PP/9cWlqq4qb4fP6yZcv27t2rerat4uLiyZMno7Yy/fAKCwunTp166tQp9UWNy2SyixcvTpkypaSkRMVNiUSiTZs2nThxQqs6ywEAAAAAtIc8AhK1yN/fX/VKBPQdNPbrePDgAWpAqq6urq+vL1yxAGiYVCpNSUlZsGDBr7/+KhQKUdf5999/R40aFRUVVVdXpz29t7W1tagZEOR69+6NFXGuDqampjj5GR89esTn87XnS6+srMRqQ6BSqarnzVTg5+eH+tv07NkzSFsJAGgpIMAdAACIkZ+fn5ycrLxcT0/Py8tLxY1LJJJ79+7h1BDMzc019kkRBOnWrZudnR1qqVgshkBGALRNdXX19evXBw4cOHPmzJSUFPxH2apVq3r16nXkyJGysjItaSgJDw/HKvLy8mrXrp0mH4Du7u4eHh5YKzQtEaaaVFZWlpeXo9cByGTCfzioVCpqCziCINHR0ZDUEAAAAACgWVAolKlTpyoHjrx+/TopKalRmxKJRJcuXVLuhPPx8fH09FTrp5DJZDdv3gwJCcnKyvruynQ63cjIyNTU1Nzc3MTExMDAgEKh4P9LWFjYzJkzsV6eG6Kuru73338/evTod+tQNBqNzWabfcVms3V1dVFXKy8v/+WXX96/f99CLzwymcxgMIyMjExMTMzMzOTfhaGhYUN6agUCweLFi8PCwtRUIb1169b8+fNrampQD1tPT8/Y2PjbF/TdAxaJRGvXrn316hU8bQAAAAAAUF9rExISlJdTqdSffvpJ9e1D30GjFBcXnz9/HrWoQ4cOnTp1gisWAI2RyWQZGRlr1qzx9/c/duwYahVVTiqVPnz4MDg4ePLkyS9fvlR9UD0hMjMzP3/+jFU6ZswYwueRxkEikUaOHInV+JOXl4ffOa5hOTk5WH2mTCbT0NCQ2N8m26+Ui/Lz8z99+gR3IgCgRaDCKQAAAEK8ffsWNVGuo6OjqakpgiCq5CEoLCzEqiGQSKR+/fpRqVRN1hDYbPZPP/2Uk5ODukJcXJxYLNaqSbIA0Bgulysf7vL58+fCwsKamhqpVMr8ytzc3MbGxsHBwdra2szMjMFgaOB46urqnj59unPnzqdPnza8ySM1NXXhwoUnTpxYuXLl0KFDCU/13SgVFRUfPnzAKu3duzfWnH1qegDS6fTAwECsaU8TExNramr09fW14WrMycnBykNJpVIdHR0J36O3tzeVSlWeXC8uLq6mpkb1CWcBAAAAAEATBAYGWltb5+XlKdQULl682LVr14Zv5/Pnz6hJB0NCQtT6To4gyP3792fOnFlWVobzom5ra9ujRw9/f//27dubmJjo6+vr6OiIRKKKioqcnJzY2Nh79+6lp6djZcm6devWmjVrDhw40IRcWQiC/Pvvv3///TfOOnQ6vUuXLkFBQT4+PpaWlnp6emQymc/nFxYWJiYmRkREvHr1SiAQ1P+XL1++LFmyRJOTeqtIT0/P2tra3d29c+fOzs7OFhYWLBZLT09PR0eHRCKJRKKqqqqSkpLU1NSYmJhXr17l5+djhbDz+fwlS5a4ubm5uroSe5BJSUkLFy6sqqqqv5BMJjs6OgYGBvr5+Tk4OBgbG9PpdARBampq8vPzX716FRYWlpSUhNUDXV5evm7dutu3b2ummg8AAAAA0IKkpaUVFBQoL7e0tLS1tVWx8xT6DhpFLBbv3r07LS0N9eB/+eWX5u0JAkB9RCJRQUFBdnZ2SkpKVlZWeXm5QCDQ0dFhMBgsFsva2trW1tbBwcHCwoLD4Xx3hDwhrRzFxcUnT548cuSIQlsNDqFQeP369fv3748bN27ZsmWurq6ajCBX9u7dO6ygfDabrfkZIby9vU1MTIqLi5WLamtr375926gWMPWRyWSJiYlYjSG2trbE/nKRSCQjIyMXF5eMjAyFIqlU+uTJE0IGmwEAgLpBgDsAABAjPj4edbmzs7PqLQI4QYo0Gq1bt24a/rAkEsnf3//ixYuopR8/fuTz+UZGRnBVgFbl9evXs2bNiomJycnJwZpFTt5xbmZmZmdn179//8GDB3fu3JnJZKrjeBAE+fDhw/bt20NDQxWOh0wmd+/ePS0t7VuACJPJ9PX1jYmJ+RYEL5PJ3rx5M3ny5MDAwPXr1/fo0UOTA2nqKyoq+vLlC1ZpQECA5g+pd+/ef/75J2pRZmZmWVmZlgS4R0dHY12KLBbLwcGB8D126NCBwWBUV1crLC8pKcnMzFR9PhMAAAAAANAEJiYmQUFBR48eVVh+586dDRs2sNnsBm7nzp07yrP/czicIUOGqPX409PTFyxYgBPd7ubmtmTJkqFDh1pYWKDGx3Tr1m3s2LHl5eWhoaE7duzAyiBw8uRJX1/f6dOnN/YI379/v3HjRuVxnt/06NFj48aNAQEByv2UHh4e/fv3X7x48YsXLzZt2hQdHV0/BD86OlpLcrPhoNPpnTt3Hj58eL9+/ZydnQ0NDfGjlIKCgpYsWZKfnx8WFnbw4EHUCBt5LrFNmzadOXMGK8l9EwiFwtWrV+fn59df6OLisnz58pEjRxobGysfuaen5+DBg3/99ddr165t2LABq3IaFRUVGRk5bNgweOAAAAAAANT36tUr1FGCtra2HA5Hleh26DtoFIlEcvjw4QMHDqCWuru7T5w4UcWvAwAtJBKJjhw58uTJk+Tk5KKiIpxZwphMprW1tZub24gRI/z9/e3t7dUUPs7n82/cuLF9+/bk5GSFIjab7e3t/fDhw29LOnTo0KZNm/rZx6urq//9999bt27NnTt3/vz5FhYWzXVuX79+jVXk7OxM+CTS32VkZOTh4YEa4C6P5Jk9e7Y2XJN8Pv/p06dYpT4+Pup4FHft2vXOnTvKy1HTWAAAgBYiwykAAADVSaVSrPc/QuL5cOYNt7GxsbOz0/xH7ty5M9b40crKSqzk7gD8wM6fP3/ixInU1FSc6HZ54HhRUdHLly+3bt3aq1evnj17/vXXX1++fMHKI9gEMpns8+fPS5cu9fPzu3TpUv3jIZFIjo6OR48eDQsLMzU1/bacTqcfPXr0v//+69KlS/0mG6lUGhkZ2b9//ylTprx58wYnYkN9kpOT6+rqUItMTEzkjTuahCBIhw4dsMbwCIXC1NRUbbgga2pqzpw5g1XaqVMnDodD+JnhcDiocfMCgeD9+/fwlAAAAAAAaBZkMjkkJEQ5MXlGRkZMTEwDNyIQCC5cuKC8vE+fPvb29mp9rZ0/f35WVhZqqaGh4caNG589ezZ79mxLS0v8XkA2mz1jxoynT59OmTIFNSWbRCLZuHGjclIrfLW1tStXruRyuaildDp97dq1Dx48GDhwIE4WLhqNFhAQcOfOnW3bttUPeZHJZM+ePSOwtkggEolkZ2e3bNmyuLi46Ojo//3vfz4+PiwWqyF9sWQy2cbGZtGiRc+ePVuxYgVW4vPQ0NDY2FgCj5nP59fvg6fRaAsWLHj69OmsWbNMTExwjlxfX3/69On379/v3LkzVm1o37592j8aAQAAAABAw548eYK63MvLS/XgUeg7aAiZTCafG2r58uWo76sGBgZ79uwxMTGByxX8eKqrqzds2BAVFVVYWIgT3S5v9EhLSwsLC5s2bZqPj8+ECRPu378vEAjw/6tRzweBQHD79u0BAwZMnTpVIbpdV1d35MiR0dHRCxYsqL/cx8cnNjZ25cqVCg+W0tLSLVu2+Pr67t+/v6ysjKiDbNTHwQlw7969O4Ej1RsIPynk27dvseZk0/zPItY4fzKZ7O/vr46dYp2Z1NRUnHQSAACgPSDAHQAACFBWVobV2+rp6an69hMTE7GKHBwcmmW4v729PdZ+BQJBdnY2XBUAfJdUKn337t2vv/7q5+e3e/fu0tJSFdsgEATJzc39/fff/f399+/frzDrOpvNXrZs2dOnT2fOnKkQWoEgCJVKHTp06MOHD//44w8rK6v6pXV1dZcvXw4MDFy0aNGnT5803ASAExhtaWlpbGys4W+NRCLh7FcikdRPpdBcEAQ5f/78u3fvsFYYPny4jo4O4WeGyWRihTclJCTALQ8AAAAA0Fy6devm7u6uXB+5dOlSA0exvnr1Snn2f/lE9mp9rT18+PCjR49QS+3s7C5fvtzwJPTy8GVLS8vjx4+vXr0adYqqvLy8Xbt2NarKc+PGjaioKNQiBoOxZ8+eLVu2fLfdRn5sdDp99erVR44cMTQ01PIrysHBYefOnXFxcXv37u3cuXOTKxempqY7duw4dOgQi8VSLhWJRH/99ZeaosaZTObOnTv//vtvMzOzBl6Nbm5uFy5cwEozERsb++nTJ3jaAAAAAAB8U1NTgxXSjTVusFGg7wCHTCarrKxMTEyUdxgdOnQItepHp9N37NgxYMAAzQfIAqC1Kioqrl69OnTo0FGjRj1+/FjF5F8IgtTV1UVFRY0ZM2b06NHPnz+vX0omk728vC5cuHDp0qWOHTsq/y+Hw9m5c2dkZOTw4cMVosZzcnKWLFnSp0+f06dPV1RUaPIUVVdX5+bmYpW6uro2y4wQbm5uWEOnioqKysvLm/3Sqqys3L59O1ajk7W1dffu3QnfKYIgtra2qPPJ5+fnFxUVwS0PANB+EOAOAAAEyM/PRx3dSKPRnJycVN8+1vTZbdq0cXR0RO2UVTcjI6O2bdtivSXjVGkAAMpycnLWrFkzbNiwJifnQxCEy+X+/fffvXv33rJli0J1lEKhDBo06O7du7t27bKyssJqqUQQhM1mr1q16uHDh1OnTlXIoldZWXnkyJHAwMDffvstJydHY82dOAkU7ezssFL9qRVOGLf822zetmAEQeLj4zdt2oR1LVlaWo4cOVItVQsy2dnZGbXozZs32pl4EgAAAACgNdDT0xszZozy8ocPH+LM6V/f2bNnlft0nZ2df/rpJ/W9/aanp+/atQu1yMLC4vz584MHD25C3kddXd0NGzbMmDEDtfTq1asfP35s4Kaqqqr+/PNP1N5uMpm8Zs2auXPnNuoISSTShAkTtm7dSvh4VGJt27ZtxYoVlpaW8m9fla5rCoUyderUbdu2obZuPXnyRB15LikUym+//bZo0aKGN6mRSCR5jPu2bdtQP29dXd3NmzfhaQMAAAAA8A2Xy83Pz0ctcnFxUX37rbPvoLa29u3bt6+VJCQkvHjxIioq6urVq7t37/7ll1/69u3r5+e3ZcsWrKxkhoaGf/755+zZs0lfwRULQH1isfj+/fvDhw9fvXo11qRt3yWVSl+/fj116tRhw4bdvXtXYfy2mZnZpk2bHjx4MHr0aPyU5z4+PpcuXTp9+rRy8oL379/PmjUrKCgoNDS0trZWMyenrKxMIcnaNzo6Ou3bt2+Wr6x9+/ZYdfyqqqomf4kEXlFbtmyJi4vDWmHMmDHqmEyDRCJZWFig5oYQiUQNbwEDAIBmBAHuAABAgOzsbJFIpLzcxMQEayq6hhMKhThzA2GFEqobhULBylklb6OBqwKARkEQ5MWLF8OHD7906VJjU6RLpdLQ0NC+ffsuX75ceTYJGxubI0eO3Lhxo3v37vKJ+LFaKuXLSSRShw4djh8/fvnyZQ8PD4V1iouLd+zY0bt37yNHjmDN/kkgiUSCM3a8uZpISCQSzrM3Pz+/eee5e/369ZQpU3DO27Rp0xSS9BMIq2ciLy8Pq7ULAAAAAABowKhRowwMDBQWcrncBw8efPd/i4uLUVcbNWoUi8VSUyQEgiD//PMPagekjo7O33//7efn1+SN6+rqbtmyRTk7Wps2bXg83vnz5xu4nSdPniQlJaEW9enTZ9myZfIqWKOQyeQ5c+YMHTpUmy8nOp3+rf6o+tbIZPKsWbMGDRqkXFRTUxMeHk748QcHB//666+N/XbkH3bkyJFdunRBXSEmJkZN+eYBAAAAAFqi/Pz8yspK5eWGhoYNnEUHR6vtO8jKygoICPBR0rVr1x49evTt2zckJGTVqlVnzpx5/fo1n8/H2o6Tk9P58+fnzJnTLGnUAGgpampq9u7dGxIS0oTgh5KSkhUrVvTr1+/q1asCgaB+EZVKDQ4OjoyMXLdu3XdjmuVVUQaDERIS8vDhw+XLlytMEyeVSl+8eBESEjJ27NjExEQNJOHi8XjV1dWoRRQKBWecj1pZW1vTaDSs75HH4zXjhSQUCv/444/9+/djrcDhcGbOnNmEJA4NwWazsWYXwWrUAgAArQIB7gAAQACsoY0cDkf1eaUFAgFWDUGeiLdZPjKFQsFpfoLJjABomoqKil9++WXv3r2N6hRHECQ0NDQpKUmhzcLAwGDevHmxsbEzZ86k0+mNOhIdHZ1hw4ZFR0f//vvvpqamCqXZ2dmoGRwJJxKJcFoc1Bel/V1YU1i0adOmtLS0WVKVy2Sy0tLSv/76a9CgQenp6Virubm5LV26VH2HgTVvCY/HKykpgXscAAAAAKC5tG/fvmfPnsrLz507hzpiv7779+8rJ3pnMpmjR49W3wFnZWVdvHgRtWjq1KmjR49WscvW1NR006ZNqMEc165da8jU1VKp9NixY6gRKoaGhtu2bVPocm44Go32xx9/qCNxl9ai0Wjr1q1DrbdGREQQO4TY2Nh4586d+OnxcDCZTKz0/x8/ftTwvPAAAAAAANosJSUFdbmBgQGHw1Fx49B30DRkMtnCwmLlypUxMTFDhw5VUzAlAD+YqKio4ODgjx8/Nqohgsvlnjp1SmGcD4lEcnV1PXv2bGhoqKenZ6MOQ56Ke/fu3Y8ePRo4cKDCzG9isfju3bsJCQkamJChsrISqyObyWQqp1fQDDqdjpqnXA4noaT6IAgiEonevHkzfvz4zZs3Y500Eom0ZMmSDh06qGlwAs6og7S0NLjBAQDaD15YAQCAAMnJyajLORwOk8lUceNCoRBnhD1OQ4l6fz/IZJwA99LSUrgqQGt8ryKT9fX1TUxM2rZta2NjY2dnZ2Nj07ZtWw6H0/D4cpFI9Ntvvx08eLDh4eNUKnXdunUWFhbflujo6PTv3z8iIuLgwYM2NjZNyKsnX5/D4WzYsCEqKmrChAn1J/RkMBhbt27V09NT9ykVi8U4ab+bsZG6/tlWUF5eroFGagRBpFJpXV1dZWXlly9fHj16tHbtWj8/v19//RWnjYbNZh84cED17Dg42rZtixokVFVVBT8NAAAAAADNW1uZPn268vKEhIQPHz7gv5NfuHBBebmPj4/yjE8Evu5ev34dNX27ubn5mjVrqFSq6l22gwcP7tatm/Ly7OzsFy9efPffs7OzY2NjUYtGjhzZtWtXVT6+i4vLzJkzW8/1iSBIl6+Ui1JSUgoLCwnc188//4w18VQD9enTBzWfRVlZWV5eHjxtAAAAAADkUlNTUZcbGhqyWCwVNw59B43FZrP9/f13794dFxe3c+dOeQI1DQTCAtDsaDSakZGRubm5tbW17VfW1tbm5uYsFqvh83p9/Phx/PjxDY8GRhDE1dVVIeGUmZnZb7/99vjx4wkTJsi70ppwD5JIpG7duoWGhp44ccLV1bX+FgICAiZMmKCBU4rfEYmVRl0DXzROgLsGknAhCCKTySQSiUAg4HK5ycnJZ8+enTBhQp8+fW7evInz/A8ODl62bBnpKzUdG1aAe0FBgVAohKcEAEDLwXxDAABAgNzc3Ma2YjScWCzGea00MjJqrk+NM/oWp1EJgB8MjUaztrZ2d3f38fFxd3e3tLQ0MTExNDSk0+kUCkUikQiFwoqKisLCwtTU1MePH8fHx+fl5eGPwJbHuDs5OQ0bNqyBFeYOHTosWbJkzZo18hTaa9euHTduXJPzBdZHIpE8PDxOnz59//7933///e3btwiCTJo0KSAgAEEQdbd+SqVShWn76sNpp1A3nNk5ampqVB9hf+HCBfmpxv914PP58hCK8vLy72b9NzQ03L9/f+/evdV3WhAE0dPTMzAwQE1bWFBQAE8MAAAAAIBmFBgYaGtrq9CCIRQKL126hBpYLJeamhoXF6dcTQgJCWnsPFENV1tbe+XKFdSikJAQBwcHQvZCp9OnT5/+/Plz5aKIiIigoCD8f4+KikLNGamrqzt37lxVUiHK61nTpk07fPiwQrK3HxWJRKLRaAMGDFD+OrhcbnZ2trW1NSE70tPTmzJlioo1WTs7O3t7e+WJvCUSSXp6ure3NzxtAAAAAADatGmDNfbP1NRUIfFwE7TavoMmc3R0HDdu3IABA6ytrSGuHfzwOByOvb29t7e3l5eXg4ODhYWFkZGRvr6+PPZaJBLV1NRwudycnJy3b99GRUV9+PABZ0Z9uQ8fPsyePTssLKwhTxj5XbZw4cL//vvvw4cPOjo6Q4cOXb9+vaenp7y5QMXbkMFgTJ06tX///vv27Tt27FhFRYWent7mzZs1kJsMPxREX18fNQ2WBlCpVJyPr3r4SlVV1ezZs/Gng5PJZPLcZMXFxfn5+Xw+/7vjmvz9/Y8eParutPdYSTNLSkrq6urU174HAADEPOHhFAAAgIpqa2uxXojlw99VJPkKq2rUXENg5V22OOcELgzwYyOTyS4uLkFBQUOHDnV3d+dwODjhC5aWlm5ubn379p03b15hYeHdu3cPHDiQlJSE05QpEAiWLl3auXNnW1vb7x6MvBFkzpw5YWFhnp6ev/32m42NDbENlDQabejQoT/99NO+ffuuXbu2atUqzTRPyGQykUjUhKeQuuG0vwuFQtUbqZO+IvCATU1NDxw4MHbsWLVOOUoikRgMhqGhIWqAO+QyBAAAAABoXqampsHBwYcPH1ZYfuvWrXXr1qGOn0cQ5ObNm8q9vBwOJzg4WH2Hmp6ejpruUVdXd9y4cQS+0/bq1cvAwED5A8bFxQmFQvwevvv376Mu79ixo5eXl+rH5uzs7OfnFxER0XouUXd3d9Tl79+/9/PzI2QXbm5uHTp0UL0+6Obmplxlk8lk+fn58KgBAAAAAJB3bmKl+CUkO1ir7TtostdfcTicwMDAhQsX9uzZU/VhBgBoGxaL1b1799GjR/v7+zs4OOBU6k1MTOzt7X18fEaPHi0SiZKSkk6ePHn58mXU7q1vnj59unXr1t27dzewXcLExGT9+vUbN27csGHDqFGjCH80WVpa/vHHHyNGjFizZk2HDh169uypmfOMEwqio6Oj1o5IHCQSCeexpnr4ikgkCgsLI/aABw4ceOLECazocwKZm5ujLi8vL6+rq4NHBwBAy5HhFAAAgOpv8FgB7iYmJqpvH0EQqVSKWkSlUhs+cxbhcOpgWBH5APwAOBzOxIkTIyMjX758uWfPnoCAAGNj4wbW1UkkUtu2bWfMmBETE7Nv3z78MTBZWVmbNm3Cuv2VsdnsiIiII0eO2Nraqin9BofD2bRpU0xMTLt27TRztnEegPJnYHNdBjQaDeskN/wr09ihDho06OHDhyEhIRrIy6Krq8tgMFCLIIM7AAAAAECzGz9+vHJdPj09/dmzZ6jr19TUXLt2TXl5YGCgjY2N+oIzYmNj+Xy+8vJ27dp17NiRwB3Z2dnZ2NgoL8/Ly+NyuTj/yOPxEhMTUYuCg4MJ6bQmk8kjR45sVdenmZkZah6HlJQUonYREBCg+rdDpVKxphEoLS2F5wwAAAAAgDwQECtO1NjYWPXtQ99B05SXl1+/fr1///5jxoxJTEz8bmphAFoEMpns6em5Y8eOhISEu3fvzp4929XVteFJqWk0mo+Pz6FDh2JiYkaNGoU/9uPYsWPK09zhGDlyZFxc3IQJE9Q08IZEIvn6+kZERDQ87F51OHNK02i05gpwJ5PJOKkhvzsPtoaZmZlt2bLl2rVrVlZWGtgd1uwifD6/pqYGniEAAC0HGdwBAEBVdXV1WCM+UfOfNa1m0uKqkXBhgB/Vpk2b9PT06l/kTbhDDQwMFi1a5O/vP2/evBcvXmCtdvHixZ9//rlXr14N3Cwh7cJaspdv51Y7H4A4oTzac8BsNtvX13f27NmDBg2i0+kIgmjg2Gg0GlajYXl5OTxAAAAAAACal7e3t4eHx+vXrxVebs+ePRsUFKRcl4+Pj//06ZNylX/KlClqrfg/efIE6/hxZvxvAl1dXTc3N+XPyOVyv3z5Ym1tjfWPxcXFX758Qa0O9O3bl6jD69atm56eHmqs/w+JTqejXldFRUWEbJ9MJnfq1ImQapGpqSnqch6PJ5PJoFkMAAAAAEAikWDFzLFYLNW332r7Dmg0mq2tLeq5lclkEolEJBIJBAL8XMVisfjWrVvPnz/ftGnTL7/80vA4YI1dPEePHi0oKFDxjMlksvfv3ysvT0xMXL9+veoDttu2bTtz5sxmnGsdfGNpaXnnzh09PT0Vt+Pu7n7hwoUjR45s3LgRK79hTU3N5s2bw8LCsJI9KdDR0SEqYgTnwcJkMjV5wrW2zotzX2vJMevo6NjY2IwcOXL27Nnt27fX2H6ZTCaFQlEeZ4UgSGVlJTxDAABaDgLcAQBAVSKRSCgUohYR0u1KJpOx0rRLJJJmHO6vnXP/AaDuirGBgQFReQo7d+589erVSZMmxcTEoK4gFAoPHDjQs2fPZkw30rxIJBLOPBXNOFmERCLBugy05AHo7Oy8ffv24ODgb23Tmmnu19HRwToD+BM7AgAAAAAADdDT0xs7dqxCgHubNm0eP36cm5trb2+vUP25fPmyco6rdu3a+fv7q+8ghUIhahRCmzZtunbtSvjuFD71N1lZWb6+vlj/lZ6ejjqJs6mpqaOjI1GDS+3t7c3NzTMzM1vQNSaTyXg8XmlpaXFxcWZmZlFREZfLra6uFgqFYrEYP0NkeXk5altTRUWFRCJRvV5MpVKdnZ0J+ZgsFotEIinXCuvq6tQ3swEAAAAAQAsikUgEAgFqkYGBgerbb7V9B46OjvHx8ajv4WKxuLa2lsfjFRUVpaWlxcTEPH/+PDc3F+slnMvlLlmyJCsra8uWLVoV4y6RSI4fP/7u3Ts1bf/jV6pvx8vL6+eff4YAd21A/YqQTdHp9MWLF5uams6dOxdrlE50dPSLFy/69OnTmk84VtF3K/7qgyAITpp2bXjKkUikiRMnrlu3zsnJiUwmayYxmRxWgLtMJsMaywEAAFr0uwOnAAAAVCSVSrEaSgip01KpVBqNhpqvC/81Xd1Qu3K1p4YAgJpqnsQGCtvY2Jw8eXLAgAFZWVmoKzx48CAzM1OTY7i1CplMxnme4AyzUTecXePMQKpJ6enpCxcuzM7Onjt3rupZKxr1lWE1bGENBgMAAAAAAJo0fPjwbdu2VVdX119YVlZ2586d+fPn119YUlJy9+5d5S0MGzZMrenHiouLS0tLUYs6dOhA+O6wpqhCTdD+TXJyMtbWzM3NiaoR0Ol0Z2fnFhHgLpFIsrKynj17dufOnU+fPuXn5xOYA0woFEqlUtXjFSgUirm5OSGHJK/3oQa4w0MGAAAAAEDeg4nVik5I52mr7Tsgk8k4qZrZbHbbtm3d3NwCAwPnzJlTUlJy7969AwcOvHnzBjXsXiKR/PXXX/r6+uvXr9eqlMwtYm5zrZ1GAKh+l02YMKGwsHD16tWosdp1dXWnTp3q3bt3q70AcMYpiUSi5gpwl4/zwSptYMZ9df8ynjt3LicnZ+fOnV27dtXk9UOlUlF3h/NjDQAA2gMC3AEAgIB3Zaw06jo6Oqpvn0aj4bTRNGNCXJzRnFjdw0AmkwkEAtWzeenq6kJKgB9Gu3bt9u7dO27cONRad1VV1Z07d1ptgDuFQsEJzi4vL2+uA1OIB6qPzWZrSUNwUVHRihUrnj17dvDgQSsrK01+a6jLoYkEAAAAAKDZIQji5OTk7+9/584dheVXr15VmJs+MjIyPz9fYQt0On3ixIlqPcjy8nKs9+34+HjlQ1IRVrb4oqIinP/Ky8vDqt8ROAEXlUp1cHDQ8iuqurr6wYMHJ0+ejI2NVVPeL6I6yKlUKoPBICRHGlatp7k68gEAAAAAtI26O0+h7+C7SCSSubn5zz//PHr06FOnTm3durWkpER5NalUun379g4dOowbNw7CtQGQI5PJCxYsiI6ODg8PR13h0aNHJSUlRI2gbnFwsh7U1NQ01xwaYrEYNWWknJaEr8hksidPngwcOHD37t0///wzIT+IDUGlUrF+gJoxnyYAADT0IQanAAAAtByDwdDX18cqLSgoaK6Xb9R2EDkzMzP44lBVVFT4+/ur3rK2e/fuKVOmwPn8MSAIEhwcPGTIkNDQUNQV7ty5s2DBAo1VcbUKjUZjsVhYpYSHtjRcYWEhVpGxsbHqjdQDBgzo1asXVmyEVCoVCARcLjcrK+vz58+lpaU4aQLDwsJKS0vPnz9vb2+vsUsa7msAAAAAAO1EIpF0dHQmTZp09+5dhde2V69effjwwcfHR/6nRCI5deqU8ha6devm7u6u1oMsKyvDGhu5bt06jZ0rgUCAU1pcXIy6nNiRpSQSycLCQmsvp7q6uoiIiF27dr169Uqtgd1ETXGuo6MDSRYBAAAAAH4MrbbvoAn09fUXLVrUo0eP6dOnf/jwAfXF/n//+1/37t011okAgPZjMBgbN26Mjo5GHbVSUFCQkJAQHBzcOk8Om83GKqqoqGiudFdisRgnNaSpqamK22cymYsXL8aZQ0MkElVVVRUUFKSlpX358qWiogKrw5TH4y1YsKC8vHzZsmWaCQBAvoL7GgDQQkGAOwAAqIpMJmPlbSJkvCOTyTQ0NMQqba4Ad6lUitWb26ZNm7Zt28KFgUomk5WWlnK5XBW3g9/RDloWeYjJggULIiIiUOv879+/5/F4qle8WyIajYYzpP7Lly/NdWA47eNmZmZYPwoN169fv5UrV+K3RMhkMolEwuPxEhISLl26FB4eXllZibpybGzs9OnTr127ZmJiopkHHda3Cfc7AAAAAIA26N+/v7W1tUIOcoFAcOPGjW8B7ikpKS9fvlT+38mTJ6v7vQ4/dbrG1NbWYhVJpVKsvIyED/jX2inySktL161bd+7cOaFQqJmKMyEbgeh2AAAAAADNIJPJWFMbEdJ52mr7DpoGQRAfH5/Lly+PGDHi8+fPyitkZ2fv37//zz//hBdmAL7x8vLq27dvWFgYaml0dHSrDXA3NDRkMBiozSYCgaCqqqpZkiHW1tbyeDzUIh0dHSMjIxXnc2MymStWrMBvpUEQRCKRiESi7OzsqKioU6dOvXv3DrXbVCQSbdiwwdDQcPbs2RoY+ySVSrEC3Ftnij0AQAurWcApAAAAFVEoFKw2GkLGp+ro6ODk60JthtAAqVSam5uLVero6AgXBgCN0rVrV6wbh8fjZWRkEP7g6tq1a8D/8/Pzo9Pp2viqSibjDJhJT09vrgPD+UZsbW1Vb4n47jB6EolEoVB0dXXNzc2Dg4PPnDkTHh7+LRpJ2ZMnT9auXauBaeZwZp7VzmsMAAAAAKAVMjU1HTx4sPLy//7771vc9rVr15RndjYxMRkwYIC6Dw9nRmlNwplTWyaTYb1a6+npEXsYDAZDC0NMSkpKJk+efPz4cc1EtwMAAAAAgBYHJ8CdkM7TVtt30DTyOoW7u/uePXuwGuovXrzYjAMDANBCFApl3LhxWKXx8fGEp8Q2MTHx8/P71nvr6uqqnWfG2NjYwMAAtUgqlebk5DTLURUUFGDNd21gYGBsbKx668p3J5eTZ7XT09Nzd3dftGjR48ePt23bpq+vj7pyXV3dmjVrYmNjNXByJBIJ6uVKIpEgPRkAQPtBBncAAFAVjUZjMBioeXOrqqoI2YWrq2tERARqUWZmpkQiwWokUh8ej4eVhIBKpRI7JTcArYG+vr6fn19KSopykVAoJHw+TT09vbNnz7aIM+Pi4oJVlJOTU1tby2AwNHxIfD4/MzMTtYhMJjs4OGj+LJHJZD8/v7t3786aNQsrmcSpU6d8fX2nT5+u1vgYsViMFeOCM2UhAAAAAADQsClTppw8eVIhhjs9PT02NnbQoEFVVVWhoaHK/zVgwABra2sNvG9r+dmTyWRYQTmE9wvSaDQSiaRVE0nzeLypU6c+ePDgu5UUGo2mq6trYmLCZrNZLBaTyWQwGJSvUGslZWVl9+/fxxoxCwAAAAAAWhAKhYIV0oc1G1JjQd9BEwQHBw8bNuzq1avKRcXFxREREXPnzm32gySRSHp6eljXT6MIhULloctUKpXBYKheyWIymXCn//B69OjBYrFQ40CKioqqq6tx5uFvLARB/Pz8YmJiFBZq4aB3DofDZrNLSkqUi8RicVpaWt++fTV/VKmpqVipCoyMjDQzx7UCFou1evVqT0/PX375pbi4WHkFHo83f/78yMhInHyXhKitrUVtbCGTyQRewwAAoCYQ4A4AAKrS1dXFaiLBmgWpsby8vLCKMjMza2pqjIyMNPyps7KysLqc9fX1taGNBoCWhUwmd+7cGasUZ8KEH56npydWUUFBQVlZmQYibBQUFhaWlZWhv1tTqW5ubpo/S/LmLRMTk5MnTwqFwnv37imvI5FI1q9f7+vrq9YjFIlEWAHuHA4H7nQAAAAAAG2AIIi3t3enTp1ev36tsPzUqVODBg16/vy58uBbKpU6fvx4DUypj5M6XUuQSCSszIvfzebVWIRvUPVvZ+PGjffv38dagUaj2dnZ/fTTT927d/fw8LCzs9PX19fV1aV+hZ+x8u3bt48fP0ad5RwAAAAAALQsVCoVK0AZNVS0CaDvoGnfy8KFC0NDQ1HnpAoNDZ0zZ06zR9PSaLSwsDCxWKzikUil0gULFty8eVNh+fDhww8fPqz6wFp5oDzc7D82MzMzGxsb1KdWeXk5sQHuqBe8Fka3y8NjXFxcUlNTUUs/ffrULHH5nz59wmpCcXJyInzCvYZ/rUFBQSdOnJgyZQpq7NCHDx82bNhw6NAhtWa05PP5qA89EonEYrHgTgcAaHvNAk4BAACoiMFgYLXRlJaWErILNzc3XV1d1DmV8vPzs7OzceJi1eTdu3dYIYxWVlbqHmMKwA/Jzs6OSqWiBnNwudxWe1ratWuHlR2hrKwsOTlZ843UycnJWE3wxsbGzTvCh81mHzp0aPDgwajtSgUFBRs2bLhw4YKurq6aDqCurk4gEKAWWVpawm0OAADghycWi6uqqmpqampra+vq6mRfyWdm19XVZTKZBl8116TkAMiRSCQGgzFx4kSFAPc2bdpERUVlZmZevXpVOdzBycnJz89PA4eH1emoq6vr6uqqsdsH58Venpsc632Y2MMQiURalb796dOnJ06cwLquevTosXTp0j59+rDZ7G9jIRresS0Wi7Xqw4KWSCKRVH8l/yGWSqXyH2IKhSLPUWJoaGhgYKCBsToqQhBEIpHUfFVXVydPPioP16BSqRQKhcFgMJlMQ0NDBoOhnVEvAAAAWjkajYaVnAsrBLyxoO+gaby8vNq1a5ecnIx6/Fwu19TUtNlrrITkWpZKpXQ6XXk5nU5v9s8IWgomk2lmZoZaxOfzsYIlfngkEqlbt263bt1CLY2Pj6+rq0O9+9RHJBLFx8djlXbr1q15K01BQUEbN25csWIFapT52bNnhw0bNmTIEPUdQFVVFdYVTsh0GQAAoFYQ4A4AAKpiMBhYbTRFRUWE7MLOzs7MzCwvL0+5qK6u7tWrV5oPcDyfjUcAAIAASURBVH/69ClWkZeXl/pCJwH4gRkZGWHFatTU1LTa02Jubm5vb//u3TvU0ujo6P79+2v4kJ48eYJV5OLi0uxTuTk4OGzfvn3ixImoLWs3b96MjIxUXytJbW0t1uVqa2sLtzkAAIAfD4IglZWV6enpb9++jY+PT01N5XK5PB5PIBB8i0WTx8LKh0YbGRlZWlp27NixR48ebm5ujo6OUHsCzSUoKGjz5s0K4RdcLvfMmTMPHjxQXn/IkCFsNlsDB4YV4G5lZfXo0SNtmBcIJ8CdqGyU31RXV2tPzLdIJPrrr79QR7SSyeQlS5b8/vvvyhWihvcia1s0P2gpP8Q1NTUZGRmJiYkvX75MTk4uLS3l8Xh8Pl8+CbtUKiWTyTo6OgwGQ09Pz8jIyNzc3MPDw9fX18PDw8nJiclkasMHkclkZWVlBQUFWVlZHz58+PTpU05OTuVXgq8kX5FIJCqVSqPR5KPm2Gy2o6Njp06devbs2b59e0tLSxhEBwAAQEtQqVRjY2PUIqI6T6HvoGn09fU7duyIGuBeXFxcXl4Owd8A1IfVEiISibR/Ajr18fLyIpPJqBnT09PTi4uL7ezsNHk8PB7vw4cPWKXe3t7Ne7rIZPK8efMePXoUHh6uXFpXV7d58+ZevXqp72eiuLgYdTmHw4GmaQBAC6hZwCkAAADVYeUAKCwsJGT7RkZGXbp0QQ1wRxDk4cOH06dPV+ukRQrKy8ufP3+OWkQikXr16qX9aZCasQ787Nkz1ae9g0TIPySsCAl5K0mrPS10Ot3X1xerkfrJkydCoVCTaQBqa2ujoqKwSv38/HC+R40ZOnRoSEjImTNnlIskEsmGDRvU10rC5/Orq6vhwQUAAOCHJ5FISkpKnj59evPmzbi4uPz8fJw+LZlMJvyqoqIiLy/v/fv38uhhfX19e3v7QYMGBQcHd+nSRV9fX0uC0hAEkUqlYrGYx+N9/vw5JSXl1atXb9++5fP5qOtLpdJly5bNnTsXLoyWxcnJqVevXrdv31ZYvmvXLuUKCJ1OnzhxomYODCtXnzzKU0sC3LF6uIkK1vlGq6bz+vTpE2rIDolEWrhw4Y4dO1SsDcnDkeHeBA0hlUrLy8tjY2Nv374dHR395csXnPkTZDJZ3Vc8Hi8/P//jx49RUVH79+9nMBi2trb9+vUbMmRI9+7dWSyWxn6I5T+1tbW1OTk579+/f/Xq1cuXL7Ozs8vKyvAngkAQRPwVn8+Xzx36+vXra9eutWnTxtTUtEuXLqNHj+7Xr5+NjY0m24oBAAAAVDY2NqjLS0pKxGKxjo6OituHvoMmc3NzQ10uEomKiopcXFzg6gXgG6zwX/lg2lZ7Wjw9PdlsNuqMHBUVFS9evNBwgHtCQgJW+wmHw/Hy8tKGC2n37t0vX76U1+OUj//s2bMLFixQU6Z5rLAlMzMzCHAHAGg/aOECAAA1NgSUl5fz+Xys3GMNRyKRgoODb968iVr65MmToqIiTU609/Lly5ycHNQiPT09f39/uCQwf3epVGgYAlhqa2uxktUxGIzWfGaGDh169OhR1KK3b9+mp6d37NhRYwcjz6OGWkShUAYOHKglj5oNGzZERkYWFBSgnrRz584tWLBAHbvOz88Xi8XKyw0NDbGmcQQAAABaEARB6urqEhMTz5w5c/v27YKCAlWSDdfU1Hz4av/+/W5ubhMnThw7dqytrW2zhLnLZLKamhoej5eRkfH+/2VkZFRXV+NH2slpVQwuaCAdHZ0JEybcuXNHoUcWdSKgrl27enh4IAiigTmdzc3NKRSKcj8xj8fjcrmabP3A0bZtW9Tl2dnZBJ4lqVSKmuygudy7dw91viZ3d/f169erHq/D5XJbcwI80EBisfjjx4/nzp0LDQ3NyclBTRnYQLW1talfHT16tF27diEhIRMmTGjXrp1aM3cgCPL58+eYr16+fJmXl0fUrH2lpaX3vzI3Nx8+fPisWbM6d+4MYe4AAACaEVZ3WHV1NY/HIyRNOPQdNA1OW31FRQVcugDUh5XugfpVqz0t5ubmPj4+9+/fRy29du3a2LFjNTl+ODQ0FGu8gaenJ1YbjuZ/FlesWLF69WrUj/D333+PGjVKTYeamZmJutzKykqTI8EAAKBpYLJCAAAggKurK+rysrIyrES2jdWrVy8Wi4VaVFJS8vDhQ419WARBzp8/j1XapUsXe3t7uCQAaILS0lKsfll9ff3WfGZ8fHysrKxQiwQCQWhoqCZnsb969SpWQn1nZ2dPT09tOGMIgjg6Oi5ZsgRrhf3796NmCFAdVhMJi8WCiU0BAAC0dFKpND4+fsqUKf369Tty5Eh+fj5RLyEikSgxMXH16tX+/v6bNm1CHaKmjhcGeeLYmJiYffv2TZs2bcCAAd7e3oMGDVq6dOmJEydevnzJ5XIbEt0OWq6+ffs2MF58ypQpNBpNA9Ht8txaBgYGqPfgx48fteTUOTg4oC7Py8sTCARE7UUikWRkZGjJR5bJZFitTzNmzDAxMVH9kag9HxZoJ5lM9v79+zlz5vTp02fv3r1ZWVmqRLcr3GspKSmbNm3q1avXihUrMjMz1dfOIBKJpk6dOmvWrNOnTycnJxMV3V5fcXHxsWPH+vXrt2TJktzcXE22mQAAAAD1YQW4V1VVlZeXE7IL6DtoGpyoUxhxCkB9CIJg5XSg0WitOcBdR0cnKCgIqzQ6Ojo3N1djB1NSUnLv3j2s0iFDhmjJBBokEmn69OkeHh6opRkZGahTc6tOKpViJa9s164d3OYAAO0HAe4AAEAAR0dH1Nfi8vJyHo9HyC4cHBy6deuGVXrixAmNhR1kZWXh1BCGDh0KozwBaPLNhTW43MLCojWfGTMzs379+mGVXrx4kagn7XeVlpb+999/WKWDBw82NDTUhjMmDzyaPn26o6Mj6grp6elXrlxRx67T0tJQl1tbWxsZGcFtDgAAoOXicrlr167t37//9evXsVI3qQhBkC9fvmzevDkwMPD69evq61SWyWQ3btyYM2dO7969fX19e/fuvXTp0nPnzskj2kUiEUTCtao37QEDBnx3NVNTU02mG7S0tDQxMUEtio2N1ZJThzWVH5fLJXCMSlVVFdYIUs2rrq7+/Pmz8nIGgyG/PFQf//D27Vu4KwHO7bBz587AwMBTp06prxGgpKTk77//7t2797///qumtlYEQYRCIVGh+TgqKysPHTo0cODAR48ewS87AACAZmFtbY2auqu6upqo9CvQd9DkNyusIiaTCZcuAA15XhkaGrby+2XQoEFYTzYul3v16lWNHUl4ePiXL19Qi/T19QcPHqw9J83U1HTBggVYo4yOHDlSXFxM+E55PF5ZWRlqkVYNvgIAACwQ4A4AAASwsrJC7XwViUSonX9NQKPRJk6ciPWy+/Lly+joaM182H///Rcrs4KxsfHo0aPhegCgCSQSSUJCAs5DpjWfHBKJNGnSJB0dHdTStLS027dva6CzFkGQ69evZ2dno5YyGIzJkydr1XkzNTXFSuKOIMjBgwcJT+Iuk8mwAty7dOmimXyfAAAAAOGkUmlUVFTfvn137dpF1Axd+FJTU8ePHz9z5sy8vDx1vORIpdItW7YcP348Pj6+qKhIAzF2QJtNnTr1uynH+vfvb2Njo7FDYjKZWB1sL168UNMIk8aytbVFDdapqqoiMM38p0+fKioqtORSKS0traysVF5uaWlJyJDsyspKCHAHWDXNhISE4ODgtWvXYmVPJFZeXt6sWbNCQkLS0tJaemh4SkrK8OHDDx06hJVQFgAAAFAfExMTrK6NlJQUQnYBfQdNg9N5jTWdOACtU35+fl5eHmoR1uxzrYR8KunevXtjrXDixAnNVN+qq6sPHjyIVRoQEODs7KxV1brx48e7u7ujFuXm5v7777+E77GoqAi1cYlKpXbs2BFucwCA9oMAdwAAIICxsbGdnR1qUVJSElF7CQ4OxsrFK5FINm/erI45bRWkpKScOHECq3TYsGFYk3QDAPCVlZU9f/4ctYjJZNra2rby89OzZ09vb2/UIgRBduzYoYFWkqKior/++gurEaRPnz5aOMx9woQJWPPApqamXrp0idg2HYFAgNWI7+PjA7c5AACAlqi2tnbv3r0jRowgsGbXEFKp9MyZM8HBwc+ePVNHADqFQoEvF8jfpbt06YL/HkulUidPnqzhwYp9+vRBXf7p06f3799rw6kzNzfHaqK5efMmUXt5/Pix9sSk1tTU1NbWKi9nsVh6enqqbz8pKQkrbgC0ZmKx+NSpU4MHD3727JmGd33z5s1BgwaFh4djzbbXUggEgqVLl/7xxx8Q4w4AAEDD9PX127dvj1pE4MhG6DtoLIlE8u7dO9QiOp1uamoKly4A3zx48AC1IiyfpIKQunALRSKRqFTqnDlzsJImpKenHz16VAOR5efPn8d6plEolDlz5ujo6GhVBi4jI6PFixdj5bU8fPgwVjb6JsvJyREIBMrLraysLCwsYL4vAID2gwB3AAAgAIVC8fPzQy1KTEwkZBcIgpiamv7yyy9YK8TFxV24cEGtH1MkEu3ataukpAS1VF9ff+HChXAxANA0kZGR+fn5qEWmpqZYkROth56e3vz587EisZKTkw8dOqTWGrhMJvvnn3/S09NRS2k02qJFi76b+VLzTExM5s+fj9Vwc+DAAWKTuFdUVKAGuDOZTMgBAAAAoCWqqqpaunTpmjVrGpW4nUQisdlse3t7Nze3zp07e3l5eXp6uri4WFtb6+vrN+oA3r9/P3r06OvXr0OSdaAmJBKJyWROmDABZx1nZ+cePXpo+MACAgJQ75e6urrz589rwx1Bp9N79uyJWvT48WNCYmj4fD6BsfKqE4lEEolEeTmVSsXql22Uixcvom4ftGa1tbUbN25csGBBY+8pFotla2vr6uraqVMnLy+vTp06dejQwdbWFmsCfSxZWVmTJ08+duxYS784JRLJ9u3b//nnn5YerA8AAKDFCQgIQF3+7t07ot7qoe+gsbKzs7Ey6JuamrLZbLhuAZATCARXrlzBKsUKDmlV+vTp0717d6zSgwcPEjVfB5bc3Nw9e/ZgPeR9fHwCAwO18LyNHTvWw8MDtejLly/Hjh0jdnevXr1CXd6+fXsOhwPzbwMAtB8VTgEAABCiW7duqMvT09P5fL7q43flb5bTpk07duwYavigTCbbvHlzQEBAhw4d1PQZ79y5gxNDP3LkyM6dO8OVAEAT8Pn8AwcOYFW/vby8WnMOgG+GDRvWqVOnN2/eoJbu3bt3wIAB6ou8efHixb59+7BKe/XqhTMNXzMikUjjx4/fv39/RkaGcunnz58vX768ePFionaXmpqKmsrC2NjYyckJrmEAAAAtS1VV1fz58y9evNjAjnA9Pb2OHTv27dvXz8/P1tbW2NhYX19fV1eXTCZLJBKhUFhVVVVaWpqWlhYVFRUTE5Oent6QaLnS0tIZM2aIRKJJkyZBfwNQ35v21q1bKysrUUuHDx+u+UnqnZ2dPTw8Xrx4oVx0/fr15cuXa8P0cUFBQf/884/y8tzc3MjISPxhAw3x6tUrLUlX/w3q87Curk4sFqsYspOXlxcWFgY3I6hPKBT+9ttv+/bta2BMtq6urru7e58+fQICAuzt7U1MTAwMDOh0OplMlkqlQqGwurqay+VmZGQ8fvz46dOnycnJDcloLh/tJhKJFi5cqJn5T2g0mpmZmbm5ubW1tZOTk5WVlZmZGYvFotPpJBJJKBRWVFQUFBSkpqYmJydnZWUVFxc3ZLMikWjTpk1du3aFQBwAAACa1K1bNzKZrBzLnpeXV1ZWRlSycOg7aJQbN25g1f7s7e2NjY3hugVA7tGjRwkJCVil8F7dpk0bBoOxcuXKuLg41DFLRUVF69atO3/+PJPJVMfeRSLRli1bMjMzUUtJJNKqVau0s4edxWItXrx45syZqKWnT5+eM2eOlZUVUbvDCnD/6aefoLUZANAiQIA7AAAQw8vLy8jIiMfjKSzPyMgoLS0l6tXZ0tJy1apV8+fPRy0tKChYunTppUuX1DG8PjU1ddmyZVgdPyYmJqtWrSIkZRcArQ2CIEePHo2Pj8eqfg8ZMkQLU4M3S21/7dq1EyZMEIvF/8fefUdFcf1/A3d7YylLFVERLCAq1ljBjlFjrxgVu+BX7BUlMWo0imgUERUL2Es02JFg1GDFiEoUFRUQEKSX3WVh2zznYc/x52F3R4QFduX9+iuZ+ThzuXN32v3Mvepri4uLfX19L1y4oMMH/s/PrvPmzROJRBrX8ni8NWvWsNls/aw3KysrHx+fZcuWaVy7c+dOT09PXXUk/PvvvxqPTrdu3b52wFoAAIC6JRQKfX19KzNHFpVKdXR09PT0nDhxYvPmzRkMhuoG7/PuAWY5Y2NjOzu7Dh06TJgwQSQSxcXFHTp06PLly3l5eeS7EIlE3t7eDAZj3LhxdfXMRaPRqFSqxgs9fAMcHR1XrVqVnJys8dBPnTq19ru72Gz2lClTHj58qJ5RnZWVtXXr1qCgoLp9SiII4rvvvmvatOn79+/VVwUFBQ0bNqw698AymSwwMFCvxlpmsVgMBqOsrKzC8uzs7MLCQg6HU53KDA4O/vjxI36M8Elpaam/v//27du/GEmhUBo3bjxu3LgpU6Y4OTmxWCz1CzGVSmUwGHw+39bWtl27dqNGjZJIJM+fPw8LCzt//nxWVhb5x2xSqXT58uVUKtXHx6cmzjxMJtPU1FQ18UvXrl3btWtnYWFhZmamuqkgoVAosrKy4uLiTp48GRUV9cVx7ouKihYvXhwdHV37ny0BAEC91apVq0aNGqWlpVVY/uHDh7S0NF29l0bfQeWlpaXt3btX29q+ffuiqxfg06Puzz//rO1VWLNmzVxdXSs8d9RDBEF8//33gwcPvnLlisaAiIiIkJCQhQsX6vxJSqlUnjx5Mjw8XFuAh4fH4MGD9fMYEQQxduzYnTt3ahzXIC0t7eDBg/7+/jopeWFh4evXr9WXU6lU/RzeHgBAHZKlAAB0w87OztnZ+f79+xWWl5SUPH782N7eXlc7mjp16rlz527cuKFx7fXr15ctW7Zr1y7dfo2anp4+depUjSPHq25/lyxZ4uLigmYAekWhUGRmZmobF9PGxkYf3ioSBBEVFbV+/XptAZaWlh4eHjiaKsOHDx8zZsypU6c0rn38+LGPj8/hw4d1O8RIXl7erFmznj17pi1g2rRp7u7u+lxvXl5e+/bt0zhHalJS0uHDh1esWFH9vcjl8ocPH6ovp1AovXv3xkcaAABgQEpLS9esWXPkyJEvRjZp0sTX13fq1KlWVlafj238xe4HIyMjd3d3Nze3ly9f7tix49SpU9q6w1XEYrG3t7eJicmgQYNqp1eGSqXy+XxTU9MWLVq0LZefn798+fIandgd6gqNRlu1ahX5Y0vtdweOHj06ICBA44uIw4cPDxgwYMyYMXVYaRQKxdzcfMSIEbt27VJfGxsbe/r06RkzZlS53q5cuRIVFaVX7cTExMTIyEg9wT0rK+v58+cNGzas8pbv3bu3b98+/BLh86fLgICAymS3W1lZzZ07d86cOXZ2dl91IeZwOF3KLV26dPfu3WFhYQUFBSTxMpls5cqVpqamP/74o06yvigUikAgaNmyZe/evd3d3V1dXc3NzVXZ+V919rYtN2TIkMTExN9///3YsWNisZjkn/z7779Hjx6dP38+mhkAANQOgUDQuXNn9QR3hUIRExPTsWNHXe0IfQeVUVJS4u/vr/HbZtVnxsOGDUOjhZomEolycnLU79gJgmCz2TY2NvqQjiwWi1evXv3kyROSc46pqSlGv6ZQKCwWa8OGDQ8fPtT4wS1BEP7+/tbW1pMmTdLh9zMEQVy/fn3RokXavkAwMzPbuHFjdT7Fr+l6MzExWbJkycyZMzUOfh8aGurl5dW0adPq7ystLS01NVV9ua2trbOzMz7SAACDgO8vAQB0g8lk9u/fX325QqF48OCBDpMAeDxeQEAAyagGYWFhy5YtEwqFutpjamqql5eXtuGlGzRo0Lt373nz5uHeF/RNYWHhgAEDWmtB8s5Ro5ycnI8fP+o2oYcgiJs3b86cOVPbdJANGjQYO3asnZ0dEolUGAzG5s2bmzVrpi3g0qVLPj4+Xxy0rPJyc3N9fHwiIyO1BbRr127t2rV6PqiJhYUFSe/13r17MzMzq78XoVD4+PFj9eUcDqd3795ovQAAYChUAwnv2bOHPIxGo40ePToqKmrp0qWq7PbKpNOpa926dUhIyJkzZ1q3bv3Fm9u5c+cmJCTU3N/O4/EcHBz69u27fPnyY8eORUdHP378+MqVK4GBgdOnT3dxccFDX71V+4eeIAgbGxtt89eVlZUtWLBA49eVOqHtM2n1apk+fTqfz1dfpVAo1q9fn5iYWLUCpKWl+fn5aZtDr65YWlpqnDCQIIiwsLAqDzafkZGxcOFC9RkRoT5fiE+ePLlp0yaN3fyf/wD79+8fGRm5bt06VXZ7FU5WBEE4ODhs27bt4sWL3333HXmwRCJZsmTJ3bt3q/kHUqnU/v3779mz559//rlx48amTZsGDx5sa2v7tdntFWrDyclp9+7dx44ds7W1JQ/es2cPyWsoAAAAnT9KDBkyROOqO3fu6LDj45vpO0hJSXn9+jX5jVDVlJaW/vrrr8eOHdMW0Llz57Zt26I3CmraxYsXnZyc1PttXVxcvLy8vmryQIVC8fbtW50/O4vFYj8/v7CwMG0BxsbGXl5eeEv2iaur6+rVq2k0mrYnqfnz5588eVJXZzaCICIjI2fMmKHtTQKVSl2xYoUOv6GqISNHjmzXrp3GVenp6YcPH9bJCfnevXsafyPdunUzNzdHMwYAg4AEdwAA3aBQKAMGDNA4dWxMTIz6AFfV0b59+3Xr1mkbDVepVO7bt0/1mqb6d72vX7+eOHHi33//rS3Aysrq999/x8y2oJ9KS0slWnxt73tMTEyfPn327duXnZ2tk+dJuVx+5swZT0/PDx8+aIsxNjb28fGhlMPRVLG3tw8MDCQZff/s2bNTp05NS0ur/mFKT0/38vI6e/astk0ZGRnt2rXLxsZG/+tt0qRJjo6OGlelpKScOHGi+tX14sWL7Oxs9eWtW7d2cHBA0wUAAEPxzz//rF+/nvxekcFgrFy58ujRo61atarOfZrq39LpdNVMvl+cFjY1NXX+/Pk6/JiZSqXa2tp269bN29s7PDz89u3bDx48iI6O3rp1q6enZ+fOnc3NzZlMpqqc6OSGWn7H0qBBg5kzZ2qbLC4jI2Py5Mn//vuvbltmWVlZZGTkxo0bKxnv4uIyaNAgkh9sFbJIRSLR0qVLX758qW8Hhcfjaet5vXjxYtWyfouLi//3v/9p/FAW6q3nz5+vXLmytLSU/Po1Z86cc+fOdejQoTofnKtONVQqtWfPnhcvXhwzZgz5ZT03N3f+/Pkan3wrj8lkbtu2zdvbu3Xr1hwORycvfD7dUYwcOfLo0aMWFhYkwa9fv7537x5aGgAA1JqePXsaGxurL4+Li9PtV47fRt/B48eP+/Xrt379+pSUFB0+7OTl5S1evHjLli3aXndQqdT58+ezWCz0RkFNk8vlUqlUY9ct+VOAxk3Nmzdv0qRJd+/e1VWae1ZW1ty5c3fv3k2SjT1kyJA2bdrgUH5+AvH29h48eLC2gKKiIm9v73379lX/MCkUij/++GPKlCkfP37UFuPh4TF//nw9H5usQYMGpqamPj4+2soZGhqakZFRzV2oxtrTuGro0KE44QOAwVxoUAUAALri6uqqcWyAly9fqs++Vx0UCmXWrFlz5szRdtNJEMTx48c9PDxu375dtecEgiBKSkqOHz/er1+/+/fvawszMjIKCQlp164dch3gm0cQxOvXr318fDp37rxs2bJ79+4JhcIqjFFHEIRcLk9ISJg9e/aUKVPIu0Xnz5/v4uKC31cFw4cPX7NmjbaPfBo0aHDt2rV+/fpdunTpa9+FfTpGZWVlly9f7tu379WrV7WFsVisbdu2ubm5GcQBIhnEnSCIkJCQavbQN2jQ4O7duxq/5howYACXy0W7BQAAg5CVlbVgwYLi4mKSGA6HExgYuH79et1e4Ozt7c+ePTt27FjyroVbt25t3bq1miMeUSiUCRMmhIaGPnr0KC4u7s6dOyEhIVOnTu3UqZOlpaX+d/9A/SEQCAIDA7X91t6+fTts2LCTJ09KJJLq3JMTBKFQKHJyco4fPz5o0KChQ4fGxMRU8t8yGIxVq1aZmppqXBsdHT1t2rTKfyNNEERBQYGvr+/Zs2f184gMGzZM43KRSDRv3rzExMTKHwiCIFJTUydNmhQREYGmDp8UFxcvXryYfJIxBoOxZs2anTt36nC4DQqFYm1tHR4ePmfOHPLrYHx8/Nq1ays5z0Od6Nev32+//UbyzkSpVF68eBGNDQAAak2zZs3atm2rvjwtLe3Vq1e63de30XeQlZX1yy+/dOnSZe7cudHR0YWFhQqFomqbUiqVxcXFZ8+e7du37969e0m6tNzc3IYOHYrmCgZHIpGcO3euX79+AwYMOHToUEpKilQqrcLvhSAIoVB45syZvn37Hj9+nOTNm5WV1dq1azUOelifcbncPXv2aPsqXvXewNfXd/bs2e/fv6/ai02CID5+/Lh8+fIpU6bk5eVpC2vbtu3evXuNjIwMot7GjRunbVbPjIyMffv2VXP7BQUFjx49Ul9uZmbm5uaGdgsAhoKOKgAA0BVTU9NBgwapz0BdXFx89+7dFi1a6HBfTCbzt99+y8vLO336tLaYJ0+e/PDDD2PHjvX19W3dujWbza7MV5iq57eHDx8GBgbeuHGDpMOGy+UGBASMHDmSIIhqft+ZnZ29a9euykTK5XJtvVyZmZkkA9tXsGDBAisrKzTaKhMKhcHBwSKRqDLBL1680PYo+9tvv1XmCZNCoYwbN47kqbg2paWlbd++fc+ePU5OTn379nV3d2/Xrp1AIDAyMiJpfgRByGSy/Pz8Z8+enTlzJiIiIj8/n3xH3bt3X7JkCT6eVkej0ZYtW5aVlRUSEqLthezbt2/Hjx8/dOjQxYsXd+jQgcfjVfLlSElJydOnT3///fdLly6RTL7BZDL9/PxmzpxpQBlgP/744969e1+/fq2+6t27d0eOHFm2bFmV25tMJrt06ZL6chaLNXbsWDRaAAAwCHK5/LfffouPjyeJYbPZW7ZsmTdvnrZZd6tDIBDs379foVD8+eefJGE7d+708PCoTicEjUZbvnz5p/sf3HCC3iIIYuDAgStXrvzll180dn9+/Phx2rRp58+fX7RoUceOHb92LGSFQpGXl/f8+fMLFy5cvnw5OTlZ1Qte+Y0QBNGxY8fZs2dv27ZNYw96REREZmZmQEBAt27dyPu/5XL5kydPVq5cWWFsLTabXbXkm5rQv39/W1tbjUOIvXjxYvTo0bt27XJzc/tiT79IJIqMjPT396+Q0mRkZFRSUqKrWcvBEH/y+/fvv3HjBkkMnU5fsWKFv79/TSSU8Hi87du3q4pBEhYWFvb999+PHj1anx//T58+/ddff2kLiI2NFYvFlXxVAgAAUE1sNnvUqFHqE/7IZLKoqKju3bvrcF/fUt9Bbm5uaGhoWFhY8+bNe/fu7e7u3qFDBysrKyMjIwaDQf7MIpPJiouLk5OT//rrrz/++OPZs2fkozVZWFhs3brVUPJBgcSdO3euXbtWmUfa3Nxcbc34wYMH/v7+lckRFwgEvr6++pDqLZVKY8pZWFh07969T58+PXv2bNKkiYmJCZvNJvkxEgQhFoszMjKioqJOnDgRGxtL/mOh0+l+fn6qscnwPq1CTTZu3PjYsWNjxox58+aNtpcwR44cuXnzpmrcfVtb20rmdSiVyqysrIiIiN9//109FedzzZs3P3r0aNOmTQ3lAJmZmS1YsMDb21vjm5DQ0NAZM2bY29tXefvx8fEaB+Ls0aNHkyZN0G4BwFAgwR0AQJcmTJgQEhKinhR+4cIFLy8v3d5G8/n8kJAQpVJJMrKXWCwODw8/f/58r169xo8f37Vr18aNG/N4PPWSqD7iT0lJuXnz5h9//PH48WOStzOqLp+AgIDZs2frJLkzJyfn119/reZGsrKytmzZUslgT09PJLhXh0gk2rFjRzWHfBaLxTt37qxMJIVCcXZ21pMEd5XS0tKn5YKCgoyMjBwcHJo0aeLo6Ni0aVNra2tzc3M2m81gMKRSqVAozMzMfPPmzYsXL54/f56eni6Tyb64fTs7u5CQEIFAgMamkSq3TKFQ7Nu3T1v2Q1lZ2fnz5yMjI7/77rtx48a5ubk1bdqUz+ernwBVH/akpqbeuXPn7NmzDx48KCkpIdk7k8lcs2bNqlWrKvnmRU9YWlr6+PgsXrxY43vJPXv2TJkypQpTpqokJyf/999/6svbtm2LN30AAGAoYmNjDxw4QH5TumjRIh8fn5rIblcxMzMLDg5OT0/XOLiOilAo/Pnnny9dulTlvLTPr8u4RoM+o5RbunRpcnJyWFiYxhiZTHbu3LnIyMgePXqMHTu2V69ednZ2Gm/7Pw24WFBQkJmZGRcXd/v27djYWNUAb9X5Na1evfrOnTvapr97+PDhDz/8MGbMmJkzZ7Zp08bY2PjzshEEIRKJEhISwsPDT506VVBQUOHNz6RJkw4cOFCF2cNqQqNGjSZNmrRt2zaNa1+8eDFy5Mjx48fPnDnTxcXF2NhY/WBlZmbGxMQcOnTozp07FaqdxWItWrRo+/bt5I9j8A1LTEzcunUreczUqVNrdLhELpe7ZcuW9PR0kjFZZTLZzz//7O7ubmFhobfvTObNmxcdHa0tLSklJUUkEiHBHQAAas3QoUPXr1+vPlva9evXV65cyWazdXsd/Jb6DmQy2ctyoaGhHA7H3t6+adOmDg4O9vb21tbWlpaWHA6HyWQqlUrVk05WVlZSUlJiuffv31fm1prFYm3cuLFLly54jf8NePDgwaZNm6q5kcflKhPp4ODg4+OjV2OZ5+bmXirHZDKtra1V/bbNmze3tbW1tLQ0NjZmsVgUCkUikeTl5aWlpb148eLly5cvXrwoKiqqTE7/tGnTfHx88D5N4+sRgiDatGlz4sQJT0/Pt2/faotMS0vz8/MLDg4eMmTIyJEj27RpY21trfG7Hblcnp2d/fr160uXLl28eDE5OZn8e/iWLVuePHmyXbt2hnU2Gz9+fFBQkMY+1o8fP+7du3fz5s1V+3MIgoiMjFRPS6BSqaNHj8YsBABgQJDgDgCgS+3bt3dxcXn27Jn682RWVlaVEwe1MTMz279/P5PJPHHiBMlDl1AovFbOxMTEwcGhWbNmTk5OFhYWRkZGqrz27OzshISE9+/fJyUlSSSSL+7X1NR0x44dU6dO1dXQxbX/jIHHzupXYG3WYS3v7qvI5fLCwsK4crrapkAg2LdvX7t27dBQSXC53MDAQBaLFRQURJLtUVJScqscj8dzdHS0t7d3cnKysrLi8/mq02NOTs6rV6+Sk5OTkpIqMykBh8PZuHHjggULDCu7XcXT0zMoKOjdu3fqq1JSUo4ePfppMNevFRMTo94/oXovo9v+CQAAgBoik8m2bNlCfjPg5ubm5+dX0/cADRs23LVr16BBgzReW1X++eefq1evjhs3DgcO6gMejxcYGJiTk3PlyhVtMWKx+K9yJiYmTZs2dSzXqFEjHo9Ho9HKysrEYvHHjx/T0tJSU1OzsrIyMjLIv+r/KmZmZkFBQUOGDNH2EXhxcfHhw4dPnjzZokULV1dXZ2dnCwsLCoWSn5//8uXL+Pj4V69eaXwb4+3t7erqGhoaqifHgkqlzp8///Tp0xoHAFM9YR08ePD48eNOTk6urq6tWrWysLCgUqlCoTA5Ofn58+evX7/OyMjQ+ArL29t72LBhgYGBaPP1E0EQql86SUybNm02b95c08+YpqamgYGBT58+1ThZgcqLFy+OHj26aNEivX1v061bt4YNG2r7E1SnRGtrazQ8AACoHQ4ODl27dlWfXeT58+dJSUmtW7fW7e6+yb4DhUIhEomel9PtHf7y5ctnzZqF3qhvQy0fR33uvZVKpWnldLjNoUOHBgQEMJlMtDSS5tepU6czZ85MmjSpwoxtFZ7+0tPT9+/fHxoa2rBhw2bNmrVo0cLR0dHExITH40kkEtWwjK9fv37//n1aWlplvvlv3779kSNH2rRpY3BnMxMTkwULFsyePVvj2iNHjvj4+DRt2rQKW5ZIJBrn9bKwsPDw8ECLBQADggR3AABd4vF4P/74o3qC+8ePH2/dujVx4kSd79HU1DQ0NNTBwWHHjh1ffL1SVFT0pFx19uji4hIcHNy7d+/KfMcMAF/L1tY2NDR0yJAh+Il9EYfD2bJli729/S+//FJhpEN1YrE4vtzFixervEd7e/vff/992LBhBvq218rKytvbW1sWe3Bw8OTJkxs2bPi1m1UoFCdOnFBfbmZmps+TtgMAAHwuJibm2rVr5JfR4OBgVT93jSIIolu3bv7+/itWrNB2Q6hQKH777bfBgwdjAnGoJwQCwbFjx3x9fU+cOEE+XldRUZHqtr+WS9ixY8f9+/d7eXkVFRVpiyktLf2vXCW3+f333//000+XLl3SnwNBEETTpk23bt06ffr00tJSkr9UNeNZ5bc8bNiwjRs3kvR/wzfv2bNnJ0+eJAng8/lBQUG1MB8jQRBOTk6bN2+eNWuWtin4CIIICgqaNGmS3uaIW1lZ2dvba0twVyqVhYWFaHUAAFBrmEzmlClT1NPshEJhZGSkzhPc0XdQ+Vry9/dftmxZzc1TB/BtoNFoI0eO3L9/v6mpKWrjizp06HDt2jUfH5+oqCjydzgEQWSUu3v3bpV3x2AwRo4cuXPnzoYNGxpi3zpBEOPGjdu5c6fG75cyMzP379+/YcOGKow7GR8fn5CQoL78+++/b9SoEWbtAAADQkUVAADo1pgxYwQCgfry48ePk9/BV+cFxLp1606fPl3T4z0bGRnNnTv3+vXrqux23PIC6Pi2jErt1avX1atXVdnt+IlVBpPJXLBgwYULF7p3766rOSU0YrPZEyZM+Ouvv0aMGEGlUg336Hh5eTVv3lzjqvfv3x88eLAK23z79u2jR4/Ulw8aNKhZs2ZopQAAoP9kMtm2bdu0JbGprFixwsXFpRa6SVRT+np7e/fo0YMkLC4u7urVqzh2UH+Ympru27dvw4YNZmZmelg8CoUybNiw/fv3W1pa6mSDffr0OXjwoL59xKJ6Dho3btzPP/+sq1HrVFV34MABfLFTnymVyl27dpGP3DFr1iw3N7faaecEQXh6eg4dOpQkLDk5+dSpU3pbpVQq1d7eXttagiBKSkrQ8AAAoDZ9//33GgegPXPmjA7nVvoc+g7IOTo6hoeHr1ixgsFgoH0CkDA2Nvbz8wsPD9eYAQIan6fs7e3Pnj27YcMGCwuLGt1d48aNg4KCjh49qhq9yxB7bykUiomJyZIlS7Rdqg4fPpySklKFLV+8eFF9bAIGgzFt2jR9nn4BAEAdEtwBAHTM3t5++PDh6svv3LmTlJRUU2dzKnXIkCHXr19fvXq1rjpTP0ej0dzc3P7888+goKBGjRoZ6OMBgD6zsLBYt25dRESEq6srstu/9snfzc3t8uXLmzdvtrOzq4kTbMeOHU+cOBEeHt68eXNDH1nf0tJy/vz52taGhoamp6d/7TbPnTsnFAorLGQwGDNnzqzRngMAAABdefr06c2bN0kC2rdvP3369Fp79U+hUIyMjPz9/dlsNknYnj17pFIpDh/UH1wud9WqVRERET179qy5IQZNTEzatm1btQeHcePGHTt2rEWLFtU8A4wcOfLYsWO2trb6eSBoNNqSJUs2bdrE4/GquSkGgzF79uywsLBaGJYb9FlycjL5gKlNmzZdtGhRrY0tSqFQGAyGv7+/sbExSVhoaKj6s7D+MDExIf8ho+EBAEBtsrS09PT01Pg8XnPzLxli3wGNRqvpNw9GRkYzZsy4fv36uHHjcEsAQH4O6d69+/nz53/++efqP//Wq3pTnWpWrVoVGRk5YsQIFoul873w+fzZs2ffuHFjzpw5NbH9WjZq1ChtL6NUg7h/7SWmsLDwjz/+UF/eqVOn7t27o5UCgGFBxgkAgK5PrFTqtGnT1G+jCwsL//zzzxrdtY2NzYYNG27evDlr1iwdfkPcrl278PDwq1evDhgwAN/xQ73VpEmTrl271sSQcnw+38vL68aNG2vXrjU3N8cHJFUjEAiWL19++/btRYsW2djY6Gqzjo6Ou3fv/uuvv0aNGqU6sX8DR+fHH390cHDQuCo1NfXo0aNf9ZZELBafP39efXn79u3xigQAAAzFsWPH1Mez+fwRb/78+bU/SlOfPn169+5NEvDw4UONc9cCfMOoVKq7u/u1a9d27dpVzTxy9S23bt16xYoVt2/fDggIqNpGKBSKh4dHZGTk8OHD6XR61R4PV69eHR4erhpcQG8xmcxFixYdOXKkOlM22dnZhYSE7Nq1C8PgQURERF5eHknA9OnTmzRpUsulat++/ZgxY0gCEhIS7t+/r7e1KpfLSc545OnvAAAANWHq1Kl8Pr/CwrKyspMnT9bofg2r76B3796HDh0aPHiwqrdIt7hc7rBhwy5fvrx//35HR0e0STB0NBrN3d3dwcFB52MtUSgUJyen3bt3X716tX///vgUpGqoVGqnTp1Onz59/vz5Pn366GoiOBqNNnr06L/++iskJKRFixbfRq+6qanpvHnztP0tYWFhaWlpX7XBBw8evH37Vn357NmzyUdUAQDQQ3RUAQCAznXt2rVHjx7qQwCePn3ax8enRudcplKpLi4uoaGhq1evPnv27IULF54/f15SUqJQKKq8zXbt2o0aNYrL5dZosWt5KmoMKlz9B3sjIyOxWFxrbyiqkBxAoVB4PJ62pvW1LyO6dOkSExOTkpJy586dv//++9mzZykpKaWlpTKZrGotkMPhtGzZcsSIEePHj3dycvomk9qZTCaXy9X4c6tatscXj7iDg8OOHTuWLl0aERFx7ty5J0+eiESi6pwAHRwcPD09TU1Na+htRYcOHTQ2RdVUejXEwsJi1apV+/bt09jqHj9+LBKJ1HsaSF6R/Pfff+otfM6cORjQAgAADEJeXt6VK1dIAhwdHUeMGFH7BWOxWHPnzr1x44a2BLXS0tITJ0507NgRB7He4nK56s87BEHUbU8VlUrl8/llZWUVlisUCl19M29kZDRv3jxPT8+rV68eOXLk33//LSoqqsJtP4PBMDIyat26tZub29ChQ11dXVW3wdUcedHBweHs2bNXrlzZvn3748ePJRJJZZ5lTExMPDw8li9f3rlz5wqPTnw+v8JfRxAEh8P52scljQ3GyMioam9IqFTq6NGju3XrtmvXruPHj2dmZlbyEDAYjMaNG0+cONHb27tx48af1zaVSuXxeOrPKVX4Y42MjNRPnkZGRrp69NbVcYEGDRpIJJKzZ8+SBFhaWnp5edXJ2WzOnDmnTp3S9ismCCIsLMzDw0M/KzYzM5PkdU2NvnYAAADQqFWrVj/88IN6Ovv58+f9/PwsLCxqbtcG1HdgZmY2ZcqUyZMnp6en379//9q1a3FxcUlJSaWlpSRfr5Gg0WhsNtvZ2XngwIETJ05s06ZNveoh5XA46o8Y3/BNu+oht9Z2V7U+IAaDweFwNHaNfW02Ap1O//XXX5ctW5aQkBAdHX337t2EhIS8vDypVKpUKqtWNjMzs549e06cOHHgwIFmZmbfZDvR1sWv8Xm8+phM5pAhQwYOHPjvv/8ePXr0xo0b79+/l0qlVX73QqVSR40a1aVLl5o4m1EoFGdnZ43PgKampjXRu/3JuHHjrly5kpGRofHZ89atW1OnTq3kpgiCCA0NVa/h5s2bDx8+HDPJA4DBoehkpiRQN3ny5OPHj6v+29nZOSEhAXUCUK+cP39+woQJFd41MBiMiIiIIUOG1FoxJBJJcnLy3bt3//333//++y8tLa2kpESVkqtQKCr5aEehUBYuXLh58+aa6yOXy+W5ubm1eYAsLCxq9Ankm6dQKPLy8qr2dqBqTExMvvaVk1KpzMvL0/aCUiAQfO2X4p8/7xUXF3/8+DE+Pv7FixevXr1KSkrKzMyUSCRlZWUymUwulysUClU8lUql0WhMJpPFYnG53CZNmjg5OXXu3LlHjx4ODg61/GlHLROJREKhUONDspmZWU1PGFdWVpaamnr//v3Y2Nj4+Pj379+LxeLS0lKpVFr5E2CDBg0mTZoUEhJCPi95lU99ZWVlGuuHUa5Gf8LqKUefsNnsSr4Vksvl06ZN+3TT+4mTk9OdO3dqYowZAAAAnbty5crIkSNJ+ol/+eWXn376qU7KVlxc7O7u/uzZM20BLi4u9+7dq4kbFXXXrl374YcftN1EbdiwYe3atWhOtUnb8w5BEFwutw6H5pXJZBpHYiYIwtTUVOeZBFKp9MOHDzExMbGxsarvkCUSieq2X6lUKhQKSjk6nc4sx+FwLC0tW7Zs6eLi0r6cpaVlDeU3SCSSR48eXb58+Z9//vn0PCKXywmCoNFoqk59Y2PjNm3a9OnTZ8iQIS1btqTT6RU6GiUSSVFRkXplcjgcExOTyndJamswFArF3Ny8mm9IPnz4EFUuLi4uLy9P9WisVCoJgqBSqQwGQ/U43Lhx4++++65fv37u7u4aE5gkEkl6err6eYbNZjdu3LjyXdcKhSI3N1e944NCoVhaWuqkC1xXxwVUX1m7u7uXlJRoC5g7d+7evXvrpGxlZWXDhw+PiorSFtCwYcO4uDgdjgWrK2KxuGvXri9evNC4tnXr1g8ePNDhJx8AAACVdP/+/QEDBqhf9w8cODBz5szavMTred/B54RCYXp6+rNnz+Lj41+9evX27VvVLbe03KcCU8vR6XQWi8VkMo2Nje3t7Z2cnDp16tS5c2cHBwdVLnK9ymskCKKoqEgikVT4k9lsdg2NaqQPN4HFxcW1dohpNJqFhcXX7k4ikRQWFqr/K4IgmEymQCCocvllMllhYeGbN2/i4+NfvnyZmJiYkpJSVFSk+nVr+72wWCxTU9OWLVu2adOme/funTp1srGx+YaHbCcIIicnR/1ERxAEg8EwNzev6fZTUFDw/Pnzu3fvPnny5OXLlzk5Oap3CJ/61iuzEWNj4/Dw8BEjRui8tARBlJWVqd4mqa/lcDg1Vz+qXWu7BlGp1Mrn6rx8+bJbt27FxcUVlm/dunXZsmV4DAQwLEeOHPk07gOHw0lKStLD11A1DQnuNQUJ7gD1nEgkGjBgwMOHDyssHzdu3PHjx2s0bbHCfbDqDlWpVMpkMqFQmJWVlZeXJxQKJRKJqldVFZmSkrJp0yaRSKTtAdXPz++nn35CUjiAOnk5sVicn5+fl5cnEonEYrHqRQmVSlWltpuYmAgEAgsLCz6fT6fTMZld7Z8AxWKx6gRYXFwskUhkMtmnE2BOTs769eu1zYdOoVDmzp27fft2DMWnLjExsXv37vn5+RWWBwYGLlmyBGMAAACA/lMqlQsWLAgODtYWwOVyY2NjXVxc6qqEa9eu/fXXX7WtZbFYt27d6tatWy2UBAnuoP+3/VKpVCQS5ZQTCoWqDuxP48MZGxubmppaWVnxeDwmk/np/UZN37WqeihzcnLS09Pz8/NVb2NYLBafz7e0tGzcuDGfz6+110Q1/WisylDPysoqKipS9csymUwej2dubt6wYUOBQMBisTClHlQQEBCwYsUKbWtpNNrff//t7u5eV8Xbv3+/t7c3ST9aREREncz0Qi4+Pr5bt27axp7/8ccfjx07hrYHAAC1TyqVjh8//sKFCxWW9+zZMyoqqkanktb2EGFAfQcEQcjlcplMVlxcnJOTU1BQIBKJVAWmUCiqQXN4PJ6JiYmZmZmFhQWbzabT6bj9hvpJqVSqfi+FhYX5+fkFBQVisVg16b1SqWQwGKo5qM3MzAQCgbm5uer3ojozoG+r1t4hSKXS/Pz87Oxs1Qnt06fyqoBLly6dOnVK27OYhYXFqVOn+vfvj5pUt2rVqi1btlRY2Lhx43v37tnZ2aF+AAwLEtwbNGiAPEUAgBphZGTk6+v76NGjCt3/169ff/36dZs2bWqnGJ+evqhUquoTZG1z/CkUCi6Xu2LFClXvr/raLVu2WFtb+/j44FUIQMXbqXJsNtvc3LxFixaoED2hfgIUCAQaIwmCsLKymjVrlsYp+QiC2L9/v7W1tb+/P75MqODkyZPq2e3NmjWbPHny54cAAABAb5WVlcXExJAEtGvXrm5v8EaNGhUQEKDxMU1V/n/++ad2EtwB9P+2n13OwsLC2dm5CluouRKqBiBv3LjxN/9ozOfzncuhZUIlEQRx/fp1kgAHB4cOHTrUYQkHDhxoYmJSWFioLSAqKkoPE9xPnjypLbudQqEMGzYMbQ8AAOoEk8n09fWNjIysML/oo0ePHjx40K9fv9p/iDCgvoNPWexcLrceJjYBfBXVAGSqL64bNWpUtVME1PQ7BDqdzuVytaVcDx48WCwWX7x4UePa3NzcGTNmXLx40dXVFZX5uaysrNOnT6svnz59+tf+FgAA9OWyjioAAKghI0eO7NSpU4WFxcXFBw8e1MPZM2g0mq+vr7+/v7Zhw6RS6YoVK06ePFn5ufkAAAwChUKZMGHCjh07tI0Qo1Qqf/311127dsnlclTXJ1lZWYcOHVJf7uvra2VlhfoBAACDkJKSkpycTBIwfPhwJpNZV8UjCMLZ2blly5YkMXfu3MEtCgAAGO5z5YsXL0gCBg0axOfz6/BCbGdnp/6C93OxsbElJSV6VasvX748fPiwtrWOjo4DBw5E2wMAgLri5uY2YMCACgulUunevXtlMpm+lRZ9BwAAdcXU1PTQoUMkDy+pqamTJk1KTEzUw9ybOvTHH3+8f/++wkI7O7vZs2fj4w0AMFBIcAcAqCk8Hm/16tWf5rz+5Pjx4+QpFHV2SaBSV5ZTL7NKSUnJ//73v8uXL+MhAQC+MRQKZebMmZs2bWKz2RoD5HK5n59fWFiYQqFAdamcOHEiNTW1wkIXF5epU6fiMgEAAIbi+fPnQqGQ5BHJ3d29bm9RuFxuly5dSGKePn0qEolwKAEAwBC9e/cuKyuLJKB37951eyFmMBjdu3cniXnz5k1ubq7+VGlOTs7ChQtJatXX11fbILUAAAC1gMlkrly5Uj1f/Nq1a0+fPtXDAqPvAACgrpibm4eHh/fp00dbQEJCwuTJk9XzueutgoKCffv2VeilpVAo8+bNs7OzQ+8tABgoJLgDANSgwYMH9+/fv8LCnJycvXv36meBGQzGmjVrFi5cqO3zzaKiolmzZt26dQsHFwC+tdtiKvV///vfunXrtH3kU1paumTJkj///BPP/6prWXBwsHodrlixQiAQYAwAAAAwFHFxcSRrbWxsWrZsWeeXfvXB7T6Xl5enn19QAwAAVOZCTHKdNTY21ofp5knSKRo0aCAWixMSEvSkPtPT02fNmvXXX39pC+jZs+e0adPQ8AAAoG716NFj7NixFRaKRKKgoCD9zBFH3wEAQF1p2LBhWFhY165dtQU8evRo2rRp5B9O1x8XLlx4/vx5hYWtWrWaPXu2KtMdVQQAhggJ7gAANYjNZq9atUr9m/6jR4/q7YekbDb7l19+8fLy0haQk5Mzffr0+Ph4HF8A+MbQ6fQlS5YsXbpU2xO+UCj08fGJiYnBe+pTp069e/euwsLvvvtu1KhReD8CAAAG5NmzZyRrmzVrZmFhUeeXNhcXFxaLpW1tSUlJSkoKDiUAABiiJ0+ekKy1sbFp1KhRnReyRYsWZmZm2tbK5fJXr17VeSHlcnl0dPQPP/xw8eJFbTHm5uaBgYHGxsZoeAAAULdoNNqKFStMTU0rLI+IiHjx4oV+lhl9BwAAdaVp06bh4eGtWrXSFnD79u158+YVFxfX84oSiUS7du1SvwwtXbrUwsICDQkADBcS3AEAalavXr0mTJhQYeHHjx+DgoL09h0Hj8fbuXPn2LFjtb2mef/+vaen5+vXr3F8AeAbw2Aw1q1b5+PjQ6Vqvk/Ozc398ccf//333/pcS9nZ2UFBQRUWstnsn376ic/noxUBAIChKC0tffv2LUlA27Zt9eHDLRsbG4FAQBKQmJiIowkAAAZHqVSSp4a3atWKwWDUeTnNzMysra3JL8R18pqXIAipVJqdnf3nn3+OHj166NChJF/uGRsb7969+7vvvkPDAwAAfdC6dWsfH58KC4VC4ZYtW/RzEHf0HQAA1BWCIFq1anX69GkHBwdtMefPn1+yZIlYLK7PFXXmzBn1b8jd3Nw8PT3x8RUAGDQkuAMA1Cw6nb569WobG5sKy8PDw1++fKm3xTY2Nt63b9+wYcO0BSQkJEydOhUjBQLAt4fNZm/dunXatGna3lOnp6dPnjw5Pj6+fr4OIAji4MGDb968qbB89OjRAwYMQPsBAAADkp+fX1RURBLQtm1bfSinhYWFlZUVSQB5mj4AAIB+EgqFubm5JAF6kuDO5/Pt7OxIAt6/fy+Xy3W1u+Li4uTk5BRNkpKSEhMTnz59+vfffx89enTdunXjx4/v2LHj2LFjL126JJVKtW3T2tp63759EyZMwJRrAACgJygUyoIFC5ycnCos//PPP+/fv6+3xUbfAQBAnVwyCIJwdXU9efJk06ZNtYUdOnTop59+Ki0trZ+1lJubu3Xr1goLeTze+vXreTwengQBwKAhwR0AoGapvihdsmRJhbvG3Nzc7du367DzQ+cEAsGBAwcGDhyoLSA2NnbGjBnZ2dk4ygDwjeHxeL///vu4ceO0BSQmJnp5eSUnJ9fDynn//v2ePXsqLLS2tvb399eHzAMAAIDKy8/PF4lE2tZSKJTGjRvrQzlpNFqzZs1IAurnPQkAABg6oVBYUFBAEkCSu1DLmjdvTrI2PT1dh2PNnjhxwtnZubUmbdq0ad++fffu3QcPHjxt2rT169dfuHDhw4cPSqWS5H6mS5cuERERyG4HAAB9Y2Njs2bNmgqvlCUSyaZNm/Q5PRF9BwAAtU+V496lS5cjR440bNhQYwxBEDt37tyyZYs+Z+DUnNDQ0NevX1dYOHny5F69eqH9AIChQ4I7AECN3203aNBg7ty5nTp1qrDq9OnTjx8/1ufCW1paHjp0qHPnztoCbt68OW/ePJKkEAAAA8Xn80NCQjw8PLQFPH36dObMmXl5efWqWgiC2L17d3p6eoXlS5cuVR9uBwAAQM+JRKKSkhJta5lMppmZmZ4UVX1OsM9lZ2eTZLYBAADoJ4lEIhQKta2l0WjkE5jUJltbW5K1ubm5OkyhkMvlZWVlEu1KS0ulUmllLv3m5uZ+fn7Xrl3r1q0bstsBAEAPjR07Vn1S0Ojo6OvXr+tzsdF3AABQ+yjl3Nzc9u3bZ2JiojFGoVBs3rw5NDS0vr0pTU1NVR+bzM7ObuXKlXQ6HY0HAAwdTmQAALXB2Nh4165de/bs+bwvgSCIhISErl276nPJ7ezsTp06tWXLFm3jJVAolJiYmMGDB+MoA8A3xszM7MiRIxs2bCguLtYYQBBEVFSUp6dn/amToqIiqVQ6ZcqUzxcKBAJvb280GAAAMDiFhYUka5lMpkAg0JOikufVqTL1jYyMcEwBAMCACIXCsrIybWupVKr+JLg3atSIZG1paalQKNSfCzGTyWzWrNmYMWNmzJjh6OiIlgYAAHqLzWYHBARYWVl9nolIEMS7d+8UCgWNRtPbkqPvAACgrgwbNuzQoUMRERHaAv77778PHz7oycyctSMhIaFv374VFg4dOrRZs2YEQeBrZwAwdEhwBwCoDQRBdC9niCV3dHTcv3//F8NwZwwA3x5ra+vdu3fjBPiJqanprl270DAAAODbQJ7gTqfT+Xy+nhTVwsKCZK1UKi0tLUWCOwAAGJaioiKStVQqVX+mUrG0tCRZq1AoxGKxnhS1d+/es2bN+v7771U3D3hnCwAA+owgCBcXl7CwMEMsPPoOAABqH4VCIQhidDmcgT/5vhwuQwDwrUKCOwBALd1qf9slx50xAOAMDwAAAIZF20BrKlQqlcVi6UlRORwOyVqZTEYyAi4AAIB+EgqF5M/abDZbT4rK5XJJ1ioUColEoidFffDgQUZGRnR09NixY93c3IyNjdHSAABAb33zr9bRdwAAUFenVpyBUQkA8M2gogoAAAAAAAAAAKC+kclkJGupVCqDwdCTojKZTJK1ynI4oAAA8C1diCkUCvnlT68uxAqFQk+KWlZW9ubNm/Dw8JEjR/br1+/48eP6M7o8AAAAAAAAAADAV0GCOwAAAAAAAAAA1DtfTHCn0/Vl5kPyVHulUimXy3FAAQDAsHzx4qU/Ce40Go1kLUEQenghVigUcXFxU6ZMGTx4cExMjP6k4AMAAAAAAAAAAFQSHVUAAAAAAAAAAAD1DXn+OkEQ+pMKRl4SKpVKnngHAACgh7548dKfrHHyCzGFQtHhR3F8Pt/Ozk5j5RAEofqqraysrKSkpKysrDIbjImJ+eGHH/z8/Hx9fblcLhoeAAAAAAAAAAAYCiS4AwAAAAAAAABAvUOei6ZUKqVSqZ4UlTyDTa8GmwcAANDJhZggiEomcNeCL876Qj7XyleZNGnS2LFjKRSK+iqFQiGVSktKSgoLCz9+/Pj27du7d+8+evQoKSmJ/GOA4uLiNWvWpKambtmyxcjICG0PAAAAAAAAAAAMAnq/AAAAAAAAAACg3iFP8FKNkKonRSXP8KOXwwEFAADDwuPxSNYSBFE/vzRjlCMJMDc3b9y4cdu2bQcOHOjt7V1QUPDw4cOQkJDo6GiJRKLtXykUipCQEC6Xu2nTJh2m4wMAAAAAAAAAANQcKqoAAAAAAAAAAADqG1NTU5K1crlcJBLpSVHz8/NJ1jKZTA6HgwMKAACGxcTEhGStUqksKirSk6Lm5eWRrKXT6XU1LDqFQhEIBIMHD/7zzz+joqL69+9Po9G0BRMEsX379tDQUIIg0PwAAAAAAAAAAED/IcEdAAAAAAAAAADqHfIEd6lUSp5WXpsyMzNJ1nLL4YACAIBhMTExIRn4XKlUZmdn60lRP3z4QLKWyWTy+fy6LSGVSu3Vq9eFCxd++eUXkmx7pVK5du3ax48fo/kBAAAAAAAAAID+Q4I7AAAAAAAAAADUO3w+n81ma1urVwnuGRkZJGstLCxIhmsFAADQT1wulyQv3IAS3M3MzJhMZt2WkEKhNGjQgMfjrVq1ateuXTweT1tkQUGBv79/aWkpWiAAAAAAAAAAAOg5JLgDAAAAAAAAAEC9Y2ZmRj7E6cePH/WhnARBpKamkgQ0bdoURxMAAAwOj8czMzMjufylp6frSVFTUlJI1jZq1Eh/vjSj0WheXl5+fn5Uqtbuv7///vuff/5BCwQAAAAAAAAAAD2HBHcAAAAAAAAAAKh3BAIBycCxDRo0ePHihT6Us6CggHwE95YtW+JoAgCAweHz+QKBgCTg9evXcrm8zsspkUjIE9ybNWumV1OpUKnUJUuWDBgwQFuAVCo9cOCAPtQtAAAAAAAAAAAACSS4AwAAAAAAAABAvcPj8Zo0aUISEB8fTxBEnZczMzOzoKCAJKB58+Y4mgAAYHAYDIajoyNJQGJioj4kYefn55NP6uLg4EAyXHqdYLPZ69ev53K52gJu3LiRlpaGRggAAAAAAAAAAPoMCe4AAAAAAAAAAFDvUCgUV1dXkoC3b98WFRXVeTnfvn0rFou1reVwOEhwBwAAA9WhQweStWlpadnZ2XVeyNTU1Ly8PG1r6XS6i4uLvlUsQRCdOnVyc3PTFpCfn//o0SO0QAAAAAAAAAAA0GdIcAcAAAAAAAAAgPqoY8eOJGszMjKSk5PrvJC3bt0iWWtiYtKsWTMcSgAAMESdO3cmWVtYWPj8+fM6L+SdO3eUSqW2tSwWSw8T3CkUCp1OHzt2LEnMgwcP0AIBAAAAAAAAAECfIcEdAAAAAAAAAADqozZt2nA4HG1rpVJpned+SaXSu3fvkgS0bt2az+fjUAIAgMEhCMLR0VEgEGgLUCqV9+7dq9tCKhSKO3fukATY29tbWloSBKGHNdyhQwcul6ttbVxcnH4WGwAAAAAAAAAAQAUJ7gAAAAAAAAAAUB+1bNmyUaNGJAEREREKhaIOS5iUlPTy5UuSgN69ezOZTBxKAAAwOBQKxc7OrkWLFiQx165dk0gkdVjI7OzsR48ekQR89913fD6fQqHoYQ03bdqUx+NpW5uRkSGVStEOAQAAAAAAAABAbyHBHQAAAAAAAAAA6iMul9uzZ0+SgNjY2JSUlDos4eXLl0Uikba1DAbD3d0dxxEAAAwUnU738PAgCXhRrg5LePv27aysLJIA8vLXLR6PZ2Jiom1taWmpWCxGIwQAAAAAAAAAAL2FBHcAAAAAAAAAAKiPaDTawIEDqVSt78cKCwujoqLqqnhlZWUXL14kCbCzs2vXrh2OIwAAGK7+/fuTTEXyxUthjVIoFBcuXFAqldoCBAJB9+7d9bZuKRQKh8PRtlYul8tkMrRAAAAAAAAAAADQW0hwBwAAAAAAAACAeqpv376WlpYkAYcOHaqr8U1jy5EEDBw4UCAQ4CACAIDh6tChg4ODA0nAsWPHcnNz66Rsb968iYyMJAno0aNHkyZN9LZuCYKQSqVoYwAAAAAAAAAAYKCQ4A4AAAAAAAAAAPURQRA2NjYDBgwgiXn27Fl0dHTtl00ul+/fv7+srExbAJ1OnzhxIg4iAAAYND6fP2rUKJKA5OTks2fP1slNQnh4eGFhIUnM5MmTKRSK3tatTCYTCoUkNxIsFgstEAAAAAAAAAAA9BYS3AEAAAAAAAAAoD6iUChUKnX69Ol0Ol1bjEwm+/3332t/EPe4uLgLFy6QBHTo0KFbt244iAAAYOjX4okTJ/L5fJKY4ODg2h/E/d27d4cPHyYJcHR0HDhwoD7X7cePH0Uikba1HA6Hy+WiBQIAAAAAAAAAgN5CgjsAAAAAAAAAANRfPXr06NChA0lATEzMpUuXarNIMplsy5YtJKOuNmjQYObMmRwOB4cPAAAMnbOzc+/evUkCEhISwsPDCYKotSIRBLFjx46srCySmB9//FEgEOhzxb5584Ykwd3a2prJZKL5AQAAAAAAAACA3kKCOwAAAAAAAAAA1F8cDmfRokUUCkVbgEKhWLduXUZGRq0V6WI5koDmzZuPGTMGxw4AAL4BDAZj4cKFJMnWBEEEBga+evWq1or0zz//hIeHkwRYWVlNmTJFn2uVIIgbN24olUptAW3atEHbAwAAAAAAAAAAfYYEdwAAAAAAAAAAqL8Ighg+fHjXrl1JYl6/fr1y5cqysrJaKM+bN2+WLFkil8tJYhYvXmxubo5jBwAA38aFuHfv3h4eHiQxmZmZixcvLi4uroXyZGZmLly4UCwWk8TMnDnTwcFBn2s1Nzf3/PnzJAGdO3dG2wMAAAAAAAAAAH2GBHcAAAAAAAAAAKi/KBSKkZHRmjVrSMaObdCgwalTp0JDQwmCqNHCFBcXL168ODU1lSSmQ4cOEydOJBlyHgAAwLAuxAwGw9/f38jIiCTs+vXrAQEBCoWiRgsjkUjWrl377Nkzkhh7e3tvb28qVa/7144cOfL+/Xtta3k8XseOHdH2AAAAAAAAAABAnyHBHQAAAAAAAAAA6ruBAwcOGzaMJEAul69duzYyMrLmctzLysrWr19/9epVkhgmk+nv7y8QCHDIAADgW9K5c+fp06eTx2zbtu348eM1dyFWKBTBwcFhYWEkMVQqdfny5U2aNNHnykxMTNy+fTtJQPPmzVu2bIlWBwAAAAAAAAAA+gwJ7gAAAAAAAAAAUN+xWKyNGzfa2tqSxBQVFU2bNi06OlqpVOq8AKWlpZs2bdqxYwd53t6YMWN++OEHHC8AAPjGUKnUVatWOTs7k18r58+ff/r06ZoYx10mk4WEhKxZs4b8Kt+3b99p06ZVYftKpVIul9dCTWZnZ8+dOzcjI4MkZvTo0RwOB60OAAAAAAAAAAD0GRLcAQAAAAAAAACgviMIwsnJafPmzSwWiyQsOzvb09PzxIkTMplMh3svKChYtmzZxo0byZPqXFxcAgICGAwGjhcAAHx7bG1tt2/fbmxsTBIjFApnz54dHBwskUh0eA8gEok2bty4dOlSqVRKEtm4ceOgoCAul1uFveTk5Pj5+cXHx9domvv79+9nzJhx69YtkhgLC4uJEydSKBQ0OQAAAAAAAAAA0GdIcAcAAAAAAAAAgPpOleY1adIkb29v8si8vLw5c+asXr06Nze3+vslCCI+Pn78+PF79uwhz243NTXdvXt3o0aNyId4BwAAMFweHh6rVq2i0WgkMSKRaNmyZfPnz//w4YNOdpqUlDR9+vSNGzeSZ7dzudzAwEAnJ6eqXYhlMtnBgwf79es3b9682NhY8n1VgUKhuHHjxogRI65cuUIe6enp2aJFC9xOAAAAAAAAAACAnkOCOwAAAAAAAAAAwP9Hp9M3bNgwaNAg8jCJRBIYGDh06NDo6OjqjMNaXFwcHBw8aNCg6Oho8jwzJpO5devW3r17f8rFBwAA+PZQqdQlS5Z4enqSh8lkskOHDnl4eJw/f76srKzKuyspKTl69OiAAQP++OMP8s/MaDTaypUrR48eTSlXtd1RKJS8vLzQ0NB+/fqNGjXq9OnTWVlZ1U80VyqViYmJvr6+I0eOfPbsGXlwo0aNlixZUp2/AgAAAAAAAAAAoHbQUQUAAAAAAAAAAAAqfD7/4MGD48aNu3//PnlkbGzskCFDPDw8fHx8evbsyefzyUecVSEIQi6XZ2VlXb58ec+ePf/9998X/wmDwfDz85s+fboOc9HevXsXExNT+Q3Gx8eTZOA9efIkPDy8kpsiCKJVq1bdu3dHYwMAAHUsFisoKKiwsPDy5cvkkQkJCePGjXN3d//f//7Xp08fMzMzKpX6xUsbQRAKhSIvLy8qKio4ODg2NvaLKeZUKnXOnDkrV66szIW+MsRi8dVyDRs27Nq16+DBgzt27Ojg4MDj8eh0+hf/CoIglEqlVCrNycmJjY09c+ZMVFRUUVHRF/dLp9M3btxob2+PZgYAAAAAAAAAAPqPglkIa8jkyZOPHz+u+m9nZ+eEhATUCQAAAAAAAACAQUhOTp48efK9e/cqE0yn05s3bz5w4MBevXq5uroKBAIOh8NisWg0GoVCUSqVcrm8rKxMLBZnZmY+evTo1q1bt2/fzszMrMzGWSzW2rVrV65cyWAwdPgHhoeHT5s2ra6qd+bMmQcOHEAzAwAAbbKzs2fOnHnlypXK9GFRqVR7e/v+/fu7u7t36NDB0tJSdSGm0+kUCoUgCJlMJpVKS0pKsrKy4uLibt++/ffff6emplamJDQabf78+Zs3b+ZwONX5i9LT09u3b5+Xl6dxLZfLNTc3d3Z2dnR0dHBwsLW1tbCwMDc3Z7PZTCaTSqXKZLLS0tLCwsKcnJz379+/e/cuPj7+9evX+fn5lezmo1AoCxYsCAgIUFUL2hgAAAAAAAAAgD47cuSIl5eX6r85HE5SUpKNjU19qwSM4A4AAAAAAAAAAPB/CIJo1qzZqVOnZs2aFRUV9cV4uVz+qtyePXvYbLatra21tbWJiQmHw6FSqXK5XCwWFxQUZGZm5uTklJWVVX68CT6fv2nTprlz5+o2u12V5VaHNUylUtHMAACAhJWV1eHDh319fc+cOaNUKsmDlUplUrlDhw4xmcyGDRva2NiYmJhwuVwajaZQKMRicWFh4cePH7OyssrKyr64wU/YbPaqVatWrFhRzez2Lyopl5aWpvpfGo1GLUcp9+n+RKlUKspVYRcTJ05cv369zu8oAAAAAAAAAAAAaggS3AEAAAAAAAAAAP6PKpOscePGp06dWrBgwYkTJyqZCadKoXtTrvrFsLGx2bNnz4gRI5AODgAA9ZCFhcWBAwesra2Dg4PlcnklL8QSiUSV7F79ApiamgYEBEybNo1Or+2utCpnsWu7sRk7dmxwcLCxsTHaFQAAAAAAAAAAGAp0jwEAAAAAAAAAAGhgZmZ24MCBwMBACwuL2twvjUbz8PCIjo4eNWoUstsBAKDe4vF427ZtO3jwoJ2dXW3ul0KhdO/ePTIyctasWTQazdDrcMWKFWFhYWZmZmhRAAAAAAAAAABgQNBDBgAAAAAAAAAAoBmLxVq4cGFkZOSQIUOYTGYt7NHe3n7Hjh3nzp1zcXEhCAKHAAAA6jM6nT516tTo6OiJEydyOJxa2GPDhg3Xr19/5cqVrl27EgShmtfFEFGpVFdX17Nnz27atInL5aItAQAAAAAAAACAYUGCOwAAAAAAAAAAAJlOnTqdPXv2yJEjnTt3rrmRXK2srBYuXHjz5s358+cbGRmpRpBF5QMAQD1HEESrVq3CwsLOnj3bu3dvBoNRQzsyNTWdPn16dHS0n5+farxzHV6I2Wy2k5MTm82unUqzs7PbuHHj9evXBw8ejNlgAAAAAAAAAADAENFRBQAAAAAAAAAAANqoktu4XO748eO///77iIiIkJCQuLg4mUymw72MHTt2/fr1rVq1QhYaAACA+oWYxWINHTq0T58+kZGRu3fvfvDgQWlpqQ730q9fv4CAAFdX1xr6ks3CwiIyMjIuLu6PP/64efNmYmKiVCqtiR05OjpOLde0aVN8KQcAAAAAAAAAAIYLCe4AAAAAAAAAAABfRqFQTExMvLy8xo8fHxcXd+rUqZs3byYlJZWVlSmVympuPC0tzcjIqNay2xkMBofDqbnR6EkolcpaG78WAAC+MTweb8yYMcOGDfvvv//OnDnz119/JSYmlpaWKhSKam45IyODy+XW6JXRyMjIvZxYLH7z5s2NGzfu3Lnz7Nmzjx8/SqXSKv8JVCqVxWI1atSoV69eo0eP7tmzp0AgQFMBAAAAAAAAAABDRyEIArVQEyZPnnz8+HHVfzs7OyckJKBOAAAAAAAAAAC+JcXFxW/evHn48OGTJ08SEhLS09NLSkpKS0tVaWpfm6nWt2/fEydO2NjY1ELJJRJJYWFhnQzsShAEl8s1MTFB+wEAgCpfSlSXMJFIlJyc/ODBg6dPnz5//jw1NVUsFqsuxHK5XKlUflUXmKur67lz5xwdHWut/EqlsqioKDU19enTpwkJCW/evHn37l1eXl5paWlZWZlMJvv0V1AoFGo5BoPBYrGYTCafz2/WrFnz5s3btWvXpUsXBwcHMzMztA0AAAAAAAAAgG/DkSNHvLy8VP/N4XCSkpJqp/9Ir2AEdwAAAAAAAAAAgKowNjbuVE6pVMpkMpFIlJOTk5+fX1xcXFJSIpPJPh/Z/fnz59u3by8tLdW2tZs3b3p7ex8+fLgWEtQ45XAEAQDAEH36QMvIyKhtOdWFuKSkJCcnJy8vTygUisVimUz2+cdmqampv/76q1Ao1LbZZ8+eeXl5nTlzxtbWtnbKT6VSzcq5uroSBCGXy2UymVgszsnJKSwsFAqFJSUl/4+9+w5zolr8P74pm2SzvbOVpaM0FVZQUSkCgjRBkOYV6VdARcELV/SiUr8ogoUuCkhnEQQBXUCaVKUti3S2916ym2yS+T0PeZ788kwgJGF3Cfp+/XX3ZOqZM3NG7uec0ev1BoNBfptCofDy8vLz8/P19Q0ICFAqlXK5vNY+/wIAAAAAAADUJgLuAAAAAAAAwH2RSqXK2wIDA++2jF6vl0qlc+bMsTGz+44dO95///2vvvpKpVJRqwAAONoR2xgkZjAYPD0933vvPZ1Od7dlfv/993//+99r1qyp/S+NSCQS99vUanVwcDDXFAAAAAAAAP9wzOsAAAAAAAAA1Di5XP7RRx9NnDjR9kyrK1eu/PDDD7VaLTUGAEA1kslk//73v2fMmKFQKGws9tNPP7399ttlZWXUGAAAAAAAAPAAEXAHAAAAAAAAaoO7u/ucOXPGjh1rO+P+xRdfzJs3r6qqihoDAKAayWSyKVOmTJ06VS639X3j1atXT5s2raKighoDAAAAAAAAHhQC7gAAAAAAAEAtUalU8+bNGzZsmI1lDAbD7NmzlyxZYjAYqDEAAKqRXC6fNm3apEmTJBKJjcUWL148c+ZMBpsBAAAAAAAADwoBdwAAAAAAAKD2eHt7L1y4sEePHjaW0Wq1//3vf+Pi4gRBoMYAAKhGKpXqf//73/Dhw20sYzQaP/vss6VLlzLYDAAAAAAAAHggCLgDAAAAAAAAtcrf3/+7777r2LGjjWXKy8vHjh37yy+/kHEHAKB6eXp6Lly48JVXXrExj7tOp5s6deqGDRuMRiM1BgAAAAAAANQyAu4AAAAAAABAbQsJCVmzZk379u1tLFNUVPTGG28cPnyYjDsAANXLx8dn2bJlPXv2tLGMRqOZMGHCjh076IgBAAAAAACAWkbAHQAAAAAAAHgAIiMjV69e/cQTT9hYJisra/jw4WfPniVaBwBA9QoICFi5cmXnzp1tLFNcXDxmzJgDBw5QXQAAAAAAAEBtIuAOAAAAAAAAPBj169dfs2ZN/fr1bSyTlJQ0fPjw5ORkqgsAgOoVEhKyatUq24PN8vLyRowYcf78eaoLAAAAAAAAqDUE3AEAAAAAAIAHQxCEZs2abdy4MSoqysZiCQkJQ4cOzczMpMYAAKhe0dHRGzZsaNasmY1lUlJShgwZcvXqVT6oAgAAAAAAANQOOVUAAAAAAAAAPBASiUQQhNjY2HXr1o0bN668vPxuS6alpc2YMWPhwoUeHh7UGwAA1UUQhMaNG69fv37EiBF5eXl3W6ysrOzDDz9ctmyZn58flQYAAAAAAADUNALuAAAAAAAAwANjyri3b9/+jz/+uOe8sEqlkhoDAKDaO+IWLVocPXrUaDTaXlilUlFjAAAAAAAAQC0g4A4AAAAAAAA8SBKJxM3NjanZAQB4gB0x4XUAAAAAAADAdUipAgAAAAAAAAAAAAAAAAAAAACAKyDgDgAAAAAAAAAAAAAAAAAAAABwCQTcAQAAAAAAAAAAAAAAAAAAAAAugYA7AAAAAAAAAAAAAAAAAAAAAMAlEHAHAAAAAAAAAAAAAAAAAAAAALgEAu4AAAAAAAAAAAAAAAAAAAAAAJdAwB0AAAAAAAAAAAAAAAAAAAAA4BIIuAMAAAAAAAAAAAAAAAAAAAAAXAIBdwAAAAAAAAAAAAAAAAAAAACASyDgDgAAAAAAAAAAAAAAAAAAAABwCQTcAQAAAAAAAAAAAAAAAAAAAAAugYA7AAAAAAAAAAAAAAAAAAAAAMAlEHAHAAAAAAAAAAAAAAAAAAAAALgEAu4AAAAAAAAAAAAAAAAAAAAAAJdAwB0AAAAAAAAAAAAAAAAAAAAA4BIIuAMAAAAAAAAAAAAAAAAAAAAAXAIBdwAAAAAAAAAAAAAAAAAAAACASyDgDgAAAAAAAAAAAAAAAAAAAABwCQTcAQAAAAAAAAAAAAAAAAAAAAAugYA7AAAAAAAAAAAAAAAAAAAAAMAlEHAHAAAAAAAAAAAAAAAAAAAAALgEAu4AAAAAAAAAAAAAAAAAAAAAAJdAwB0AAAAAAAAAAAAAAAAAAAAA4BIIuAMAAAAAAAAAAAAAAAAAAAAAXAIBdwAAAAAAAAAAAAAAAAAAAACASyDgDgAAAAAAAAAAAAAAAAAAAABwCQTcAQAAAAAAAAAAAAAAAAAAAAAugYA7AAAAAAAAAAAAAAAAAAAAAMAlEHAHAAAAAAAAAAAAAAAAAAAAALgEAu4AAAAAAAAAAAAAAAAAAAAAAJdAwB0AAAAAAAAAAAAAAAAAAAAA4BIIuAMAAAAAAAAAAAAAAAAAAAAAXAIBdwAAAAAAAAAAAAAAAAAAAACASyDgDgAAAAAAAAAAAAAAAAAAAABwCQTcAQAAAAAAAAAAAAAAAAAAAAAugYA7AAAAAAAAAAAAAAAAAAAAAMAlEHAHAAAAAAAAAAAAAAAAAAAAALgEAu4AAAAAAAAAAAAAAAAAAAAAAJdAwB0AAAAAAAAAAAAAAAAAAAAA4BLkVAEAAAAAAHBler1+6tSpp0+flkgkppKRI0e+9tpr1EztKCsrGzFiRE5OjrnE09Nz+fLlERERVA7gymbNmhUfH29Z8t577/Xq1cv2WllZWaNGjSorKzOXhISErFq1ysvLyzVPMyEhYdKkSXq93vRnYGDg4sWLQ0NDaQDVSBCE2bNn//rrr+aOuGfPnpMnT6Zmaq3+x48ff+nSJXOJTCabN29emzZtqBzAlW3atGnx4sXmJ6fRaBw4cOCECRNsr6XT6d5444309HRziVqtXrJkSd26dV3zNDMzM8eOHVtSUmL6U6FQLFy48NFHH6UBAAAAAACA+0TAHQAAAAAAuLSff/550aJF5vBiVFTU888/78R2DAaDTqcrKyvLzMzMzs4uKirSarWmEIavr29QUFBUVJSPj49CoZBK+eTd/6fX60+cOJGammou8fX1rayspGYAF/fXX38dOnTIsmTw4MH3XEur1f7+++9FRUXmkqioKPMT2NUIgtC4cWOFQrF//35zYcOGDWfPni2TyWgD1eXYsWNz5swpLy83/enn5/fll19SLbXZzs+cOXPy5ElziVwut7xJAbimtLS0w4cPW5Y88cQT91zLaDSePHnyxo0b5hJvb2/zE9gFH1B16tSJiYn56quvzIXTpk3btGmTSqWiDQAAAAAAgPtBwB0AAAAAALiu3Nzc//73v+ZspUQiefvtt6OjowVBMM+GaIMgCBqNJi0t7fTp0ydOnDh//vz169fLysoqKyst85pyuVyhUHh7ezdp0uSZZ57p0aNHq1atvL297+fIz507t2nTpmpJWBqNxr59+z755JO0ByeUlpZ+8803ltNR224w7u7uSqXS19c3NDQ0JiYmLCwsICBAqVTa094A1DKJRKJUKqdPn3748GFz+G/p0qX9+vVr27Yt9VMtysrK/vvf/1pmK0eOHNmyZUvbHfGxY8d27dpVQwPGgoOD33777XsulpqaumzZsmrZoyAIbdu27dWrF32BE/R6/dKlS7OysuysatNbmY+PT3BwcN26dSMjIwMCAtRqNZUPuGZHbPpETFxcXEZGhqlwz54927dvf/XVV7ltAQAAAADA/SDgDgAAAAAAXNfixYsvXbpk/rNp06bDhw83ZynuRhCEysrKy5cv79q1Kz4+/sKFC6WlpUaj8W7L62/TaDTZ2dmHDx/+4osvYmNjJ0yY0Lt3b6enHrxw4cLcuXOrqx6ioqLsD7gbDIbc3FzL85VKpcHBwf/M+YzLysq++OKLnJwch9aSSCSy24KCgpo1a9alS5eePXs2atSIOaFRcwRByM3NtRx7I5FIgoKC3N3dqRzbnnzyyZdffvmHH34w/VlSUvLpp59u3bqVuWOrpVlu3Ljx999/N5eEh4dPnDjxnh3xyZMn58yZU0NH1aRJE3sC7mlpabNmzaqunY4dO7Znz552hjUFQcjLy6uqquJ2Nr1lLV++PCEhwdGOWCqVyuVyX1/fpk2bPv/883379m3evLlCoeDGRM3Jy8vT6XSWJQEBAfQm9xQdHf3mm29Onz7d9GdVVdWsWbM6d+4cHBxM5QAAAAAAAKcRcAcAAAAAAC7qxo0bS5YssSyZOHFiYGDgPVfcvHnzkiVLTp8+rdFonNhvZWXlkSNHjh8/3rt3788++ywmJubhmn2wuLi4e/fuhYWF5pLg4OCff/45JCTkH9iKJLc5upYgCKZhD+m3/frrr3Pnzu3Xr9/777/foEEDZqNETdDpdAMGDEhOTjaXeHp67tixo2HDhlSObXK5fMKECT/++KN5lvG9e/fu37//pZdeonLuU15e3meffWYwGMwlI0aMqFu3rj3P3po7Kjsnhq/eY3Boazqdbvjw4RcvXjSvpVAotm/f/uijj/4zG5ITc/kLgmC4Lee2w4cPL1iw4MUXX5w2bdoTTzxBR4waMmHChBMnTpj/lMlky5cv79y5MzVzzyfk8OHDlyxZkp6ebiq5ePHi2rVr3333XSoHAAAAAAA4TUoVAAAAAAAAF2QwGL744ovs7GxzSdOmTV999VVBEO657vz58w8dOuRcut1Mr9dv27atS5cuR44csTH7u2tWXWpqarKF1NRUy3ginJCfn79ixYr27dt/++23Wq2WCkG1EwQhPT1ddOeK5pHF3aqudevWPXr0sHwMfvzxx2VlZVTOfVbst99+e+XKFXNJWFjYyJEjH/iBNWjQwPWrLiMjIyUlxfKO5na+T+Xl5XFxcR07dvzkk09KS0upENSErKwsy9s2JSWloqKCarFHeHj4qFGjLEu++OILc94dAAAAAADACQTcAQAAAACAK7p48eIPP/xgWTJu3LiAgAB75uyUyWQ2flUoFP7+/mFhYVFRUdHR0WFhYb6+vnebW/TGjRsDBgw4dOgQVwRubm7Z2dnjxo376KOPSDsBrkMikcjl8rfeekulUpkL//jjj7i4OCrnfqSlpX311VeWJUOHDrVn+vYaJZVKX3/9da7OP1ZpaemMGTPGjh1bUFBAbQAu1Re//vrrderUsexEvvnmG2oGAAAAAAA4TU4VAAAAAAAAV2M0Gr/88svi4mJzSVRU1MCBA+9nm3Xq1GnRokWnTp1atmwZGRkZFBTk6ekpkUjKy8szMjISEhK2bt168ODB8vJy0Yo5OTkjRoz49ddfGzVqdD8HEBgY6Fwu0GAwBAcH0yqqUUhISGRk5N1qu7KysrCwMC8v744z9xsMhs8//9zT03P69Ol3GxcBuIJ69eo98cQTliVBQUF/4/Nt27bts88+Gx8fb/pTEISFCxf26dPHz8+PxuCcZcuWZWRkmP/09/cfMWKEPcPMTI/ZVq1a2R5vdk8ajeby5cuiwpiYmI4dOzq3QU9Pz8aNG9t5CpYEQYiOjnZiRdyNj49PgwYN7lilRqNRq9UWFRXl5ubq9fo7rr5hwwZ3d/fly5crlUoqE678wmnZERuNxru9f/4NCIIQExPTv39/y1D7qlWrxowZExMTQ2MAAAAAAABOIOAOAAAAAABczrVr10Qz7/bv3z80NNSJTSkUinbt2r322msvvPBCVFSUddjOx8cnLCysdevWw4YNO3z48OTJk8+ePStaJikpafr06evWrZPLnf+3lH79+i1fvpyL6wqGDRv2+eefW5cLgmAwGMrLy3NzcxMTE9etW7dnz56ysjLRYgaDYf78+c8991yHDh2oTLisT2/755yvu7v72LFjzQF3Nze3hISEvXv3Dho0iMbghMzMzO+//96ypFOnTo0bN7Zz9SG33ecxrFu3btiwYaLC3r17BwQEOLfBJ554Yt++fQqFguv7wD3zzDM7duxwd3e/Y0dcWVmZn59/9erVzZs3b9++PS8v747N47nnnhs5ciSVCZf12m3/kJM1jVcZMWLEqlWrzF86ys7O/u677z7++GMaAwAAAAAAcAKzTAEAAAAAAJezdOlSy+nbPT09X3vtNUdny/b393/99dcPHToUHx8/atSomJgY21PJymSyTp06/fLLLy+//LL1lKI//fTTkSNHuDR/bxKJRC6X+/r6NmjQoE+fPps2bdq3b99TTz1l3R7Kyso+/vhjjUZDpQEuQhCEzp07WyawDQbD4sWLzTE7OGTt2rXp6emWXeTo0aPvc0Z2h+h0ujVr1ogKVSrVoEGDmEn9b98Re3l5RUdHd+nSZcWKFb///vvLL79s/RJoMBhmzZqVlZVFpQGu0xG3bNnymWeesSxcvXp1dnY2lQMAAAAAAJxAwB0AAAAAALiWtLS0jRs3Wpa0a9euefPm9m8hICBg3LhxR44cWbVqVbt27aznB70jU2AuODh4xYoVzz77rOjXysrKVatWGQwGLtA/gakxSCSStm3bbt++/cUXX7Re5vfffz969Ch1BbjObevr6zt48GDLwpMnTx47dozKcVRhYaFo+vZHH31UlFmsaX/99Zf1tYuNjW3VqhUX6J/TEbu5uTVu3Hjt2rVjx461zrjfunVr8+bN1BXgOretXC4XfVchJSVF9GEuAAAAAAAAOxFwBwAAAAAArmXz5s2i+TgHDx6sUCjs38KyZcu+/vrrZs2ambJQDk31KghCYGDg/Pnzvby8RD8dOHCgsLCQC/SPIghCSEjI4sWLY2JiRD9VVVVt2bKFKgJch0Qiefnlly2f3jqdbuXKlUajkcpxSHx8/NWrVy1LBg4caN0t1uizd+vWrWVlZaLyIUOGqFQqLtA/jaen5+zZs5966inrn7Zu3arVaqkiwHV06tQpMjLS8nn+/fffl5eXUzMAAAAAAMBRBNwBAAAAAIAL0Wg0osk4g4KCunTp4tBGoqOjZTKZcwdgSsPHxsZ26NBB9FN+fv7ly5e5Rv8opvYQExPz1ltvWf96+PBhjUZDLQGuo0mTJi1btrQsiY+PT01NpWbsp9frN2zYYPnFErVa3bt379o8htLS0m3btokKQ0JCXnrpJS7QP5Ofn99//vMf67e7ixcvZmZmUj+A6wgODn7hhRcsS86fP3/mzBlqBgAAAAAAOEpOFQAAAAAAANdx5syZc+fOWZa0a9cuOjq6lg9DIpG88soru3btsizUarUpKSlcozsSBEGr1ebm5iYnJ+fm5mo0GolEolarQ0NDY2JiAgICFAqFQ1Ppu5q+ffvOnDmzoKDAsjAzMzMlJaVp06aO1pVer6+oqMi8raCgoLKy0mg0KpVKf3//sLCwqKgoDw8PuVxeozUmCILBYNDpdBqNpri42HQMnp6e/v7+vr6+pq8f2H/py8rK0tLScnJySkpKtFqt6XS8vb1DQkIiIiJ8fHyUSqXTw05Ex2yuuvz8fNNhKxQKc9Wp1eqarjqDwaDRaDIyMlJSUoqKirRarVwu9/HxCQ8Pj4mJ8fLykslkD3Vrr4nGptPpiouL09LSsrOzS0tLtVqtTCZTq9XBwcFRUVHBwcFKpdL+VmeDSqXq06fPsWPHzCX5+fk//fTTxIkTuRB2unHjxsGDBy1Lmjdv/sgjj9TmMRw9elQ0hbybm1u3bt2ioqK4QDZutKqqqoKCguTk5MzMTI1GIwiCh4dHUFBQTExMcHCwSqV6eB9NgiA8//zzDRs2vHLlimV5SUnJlStXrL+yck96vV6r1WZnZ2dkZOTl5VVUVOj1eqVS6ePjU6dOnejoaC8vL3d395ruiI1Go06nq6ioKCoqqqys1Ov1arXa7za5XO7QpS8vL09PT8/OzjZ1THq9XqFQeHt7BwUFhYeHBwQEmDri+zwj0zFXVlZmZ2dnZmbm5eVpNJqqqiqVSuXt7W2qOm9v75quOtMxZGVlJScnm14GpFKp6QDq1avn6+tb028CD+nzwfS2lpWVZXpbc3Nz8/DwCAwMjIiIqFOnjoeHx/2/qpn+M6p///5r1qwxfz5Fp9Nt2LChffv2XBQAAAAAAOAQAu4AAAAAAMBVCIKwbds2U97CrH///g/kYB555BGpVGpOZpjk5ua6ZtWdPn16x44dpv+t0WjKy8stfy0tLZ03b56Xl5ftjfTp0yc2NtbRXRuNxvT09G3btu3cufPcuXNlZWXmKyiRSExZsdatW/fr1693797BwcEPabQlOjq6YcOGp06dElVsXl6eQ3WVmZl56NChPXv2nDp1Kisrq7KyUqfTmRdwd3dXqVShoaFPPfVUz549O3XqFBgY6GiNXbp0af369Za3VdOmTV977TXRJfvtt98OHTp07ty59PR0rVZrmq1ZJpPVqVPn0KFDISEh99xRRUVFYmLiL7/8cvDgwUuXLpWUlJjCeeYFZDKZUqn09PRs0KBBbGxsx44d27ZtGxoa6kR8ShCErKwsc9VlZmZWVFRYVp1cLvfw8AgODm7Xrl2vXr06derkRGO7fPny+vXrLe/66OjoMWPGmP/U6XQJCQkbNmyIj49PSkrSaDTm85XJZB4eHiEhIR07dhw0aNAzzzzj4eFxzz3eunVr+fLlpgrR6/X5+fmWv2q12i+//DIoKMh2o+ratav1Fyfc3Ny2bNly/vz5+7/H74dWq/3rr792797922+/Xbx4sbS0tLKy0nJqcJVKpVarGzdu3Llz5969e7ds2VKlUt3nTrt27TpjxoyKigpzyYYNG8aOHatQKOhn7bF3796ioiJRy3F3d6+1AzAajWvXrrV8mJju8REjRrhyvSUlJX333Xem5q3X60XTiuv1+q+//rpOnTq2H3RPP/20E7PUC4KQl5e3e/fubdu2nTp1yjRmSRAE069KpdLLy6tZs2Z9+vR55ZVXIiMjq2UwSS2TSCQ+Pj5t2rQRBdwNBoNDn2gQBKGgoOD333/fvXv38ePHU1NTNRqNTqczV5fpYe7v79+mTZuXXnrpxRdfDAsLc7TGsrKyli5dam7DgiAEBwePHz/efB8JgpCbm3vkyJGDBw/+8ccfycnJFRUVBoNBEAS5XO7p6blz587HH3/8njvS6XTXrl2Lj48/cODA+fPnCwsLKysrq6qqzAtIpVKlUunh4REVFRUbG/vcc8+1b98+MjLSiTtaEITCwsLjx4///PPPx44dS0lJqaio0Gq1llWnUqn8/f1bt27do0ePF1980YnGlpOTs3TpUsv+3d/ff8KECUql0nzFr1+/vmnTpj179ly5cqW8vNy8sFQqNR3AM888M2DAgK5du3p7e9/zTSA/P/+rr74yXSypVHrr1i1RA1u7du2JEyds10zLli0HDBhgfbJHjx7ds2eP+Ricvsfvh16vv3nz5i+//BIfH3/u3DlTI7F8wCoUCrVaXbdu3Q4dOvTq1att27aenp73+br+5JNPhoWFpaenm0t+/vnnTz75xPYrDQAAAAAAgJiAmjF06FBzJT/yyCNUCAAAAAAA91RcXCyaDNvX1/fKlSsP5GASEhLUarXoH1LmzJlj5+qrV68WrTt69OiaO9qlS5fe/z8TLVmyxHrLhYWFohlzfX19r1+/bvq1tLR00aJFdevWvWcORiqVtmzZcvv27VVVVbV5HTMzM0NDQ0UH8+677zqxKcuMuNmPP/5oz7qmaPuMGTPq169vZ7xbJpO1aNHi22+/LS8vd+g4f/zxR9Gmunfvbv41PT196tSp0dHRd8ucBQQEZGRk2N6FVqv9+eefu3fv7unpaX8Dk8vldevWHTdu3F9//eXQGWVlZc2cObNhw4b2V12zZs2WLl1aWlrq0I5++uknUbU8/fTT5it469atUaNG+fj43PMAVCpV//79L1++bDQabe/xwIED93/nfvrpp3fc+JAhQ+y5x0WSkpL8/Pws14qKiiosLHT0ftHr9UePHu3fv7+3t7edJ+Ll5fXKK6+cOXPGlPJ0Wmlp6WOPPWa5ZQ8Pj4SEBDpZe+h0uvbt21vWnlKpPHr0aG0ew82bNwMDA0XN47HHHisvL7/nPWXp+PHjoo08++yzpjxuTTh48KD9U27fzVtvvWW9ZYPB0LZtW9HjND4+3vRrZWXlpk2bmjdvbk+SOCYmZtmyZab4e62pqKho1aqVdcdkipU7ZPbs2dYnNXPmTDtXLyoq+vrrr1u2bGnnlZJKpfXq1Zs7d25BQYFDx3n+/HlzINukUaNGpjn1jUZjYWHh559/3rRp07t1agqF4sSJE/d8xp44cWLw4MH+/v72Z5GlUmloaOjgwYN///13++8mo9FYXFy8dOnSxx57zM5kvEQiqVu37qeffpqbm+vQbZuYmCh6tahbt665N8/Nzf3ggw/sGYMnl8uff/75Y8eO3XPvV69evf8BPAMHDtTr9dYbnz9/vj33uPUt06BBA8u1vL29ExMTHb1fjEbjxYsXR40aFRQUZGcjUSqVnTt33rdv332+rldVVQ0YMEC08V27dtHJAgAAAABgP8v/n9HDwyMzM/MfWAlSIv4AAAAAAMBFJCYmJiUlWZbUu+2BHIxer7ecZtjEnimZHwjJbfe/EYeWz83NHTly5KRJk5KTk83zd96N0Wi8cOHCkCFDli5dal2xD4WAgADrQtFk+XckCMK+ffu6dOkyY8aMmzdv2nn6BoMhISFhzJgxr7/+ekZGxv1cR1PqURCEY8eOdevWbe7cuSkpKaKvE9gvMzNz7Nix/fv337Nnjz2nb3lPJScnL1269Ntvv7VzFVMEvFu3btOnT79+/br9VZeYmPjmm28OGzbMoZl9JRKJKCFqrroTJ05079595cqVJSUl99xOZWVlXFxcz549//zzz+q96e7zjq617yeUlZV99NFHPXr0iIuLKy0ttX+trVu3dunSZfny5ZYzEDvKy8tLNFF9RUXFr7/+Sidrj+Tk5ISEBMuS0NDQZs2a1eYx/Pzzz6KvGbi5uQ0ePFitVrvyN0CsHyC10BFrNJoPPvjgtddeu3jxoj1P9aSkpPHjx3/wwQeWnzh4iFiPfLC/Iz537lzv3r0nTpx44cIF0fcBbLy63Lp1a+rUqb17905MTLyftzJz27h+/Xq/fv0mT558+fJlp1+HSktLP/zww65du27YsME0AMnOFY1GY3Z29oYNG2bNmmVnJbi5uV28eLFfv35vvvnmuXPn7Hw4C4KQnJz84Ycf9urV68KFC/YfoWVdmf+USCSCIJiqbtasWTk5Ofa8chw6dKhPnz47d+68595r7s59gB2xTqdbsmRJ586dV65cmZeXZ+cl0Gq1+/fv792798cff6zRaJzeu1wuF42VcnNz2759O50sAAAAAABwCAF3AAAAAADgKg4ePFhZWWlZ0qFDh/ufVdE5GRkZWq1WVFinTh0uk0lmZuaAAQM2b97sUE5ao9G8++67q1evdijq5CLueKb3DCrpdLoFCxb07dv34sWLTuzUYDBs3bq1Z8+ely9fvp9KMxqNu3fv7t27t3OHYWLKeXfp0uX7778X3ao1QafTff3113379j1//rxzp7xjx44ePXrczymb7Nu3r0+fPpcvX3ZorevXr7/66quXLl36pz0ckpOT+/fvP3v2bHsGA1jLz8+fMGHCBx98cD/Rus6dO4tKfv31V/vTnP9kx44dKy4utix58sknvby8au0AKioqrD+B4ufn16dPH66OSFlZ2ZgxYz7//HOdTmf/Wnq9/vPPP3co3/ywd8QGg2HTpk1du3Y9fPiwcz3p0aNHu3fvfujQoft8ezlz5kz37t1/++23+9nO9evXe/fuPWfOHOeesY5W+I8//ti1a9f9+/c7Ny7ONDzswIEDTg+rM71+JCYm9uzZ88iRIw6tmJub+/rrr1fLx1IeLvn5+ePGjZs4cWJ2drYTq2s0mpkzZ77xxhsFBQVOH0P79u1F3zE4fPhwLTRaAAAAAADwdyKnCgAAAAAAgCswGAzWM+w+/fTTD+p49u/fLypRqVQxMTH3f5plZWUajaaqqspoNMpuU6lUarVaqVQ6Pa2jl5dX3bp1TXkpg8GQkZFhGSSSSqXh4eEymcz2Rry9ve3cXWFh4fjx4w8dOmQukcvlQUFBkZGRYWFhHh4eGo0mJSUlNTW1sLBQtG5VVdWUKVMev+3haqJ3nDHUdqVptdpPP/107ty5d5yl1dfXNygoKCoqKiAgQCaTlZSUpKSkZGRkiNKlbm5uZ8+effXVV7dv3+70Bw2OHz/+xhtviCZFVqvV3t7eCoVCIpFUVVVpNBobwSNBEOLj49944407TicvkUh8fHwCAwOjoqL8/f3d3d0rKyvz8vJMp1NcXOxomE+n082bN++TTz65YwTTx8fHVHWBgYEy2S84jwAAgABJREFUmay0tDQ5OTkzM7OoqEi05MWLFwcMGLBjx47GjRs7V3V//PHH8OHDc3NzLestODg4Ojo6KChILpcXFRXdvHkzIyPDekbkmzdvvvPOO3FxcXdrJyqVKiIiQi6Xm2o4IyPD8nwlEklYWJjtQT4Gg8HPz891bpNr164NGTLkjz/+sP5JLpcHBASEhYWFh4d7eXkZDIacnJykpKScnBxRPNdgMHz++edSqfSTTz5RKBROHEbr1q3VarVlRP7s2bN5eXkMUrqnn3/+WVTy5JNPmppo7fjjjz+sx7R06tSpQYMG1bULo9FYXl6u0Wi0Wq3RaJRKpaaO2OM2pztipVIZHR1tmt9aEITMzEzRXNdhYWG227MgCHf8VMgdVVZWTp48ed26dZZ9fUBAQHh4eGRkpKenp06nS09PT05Ozs/Pt84Wz58/PzY29qEbNpCVleVoR2wwGFatWjVp0qQ7TvTu6elp6k2CgoLc3d01Gk1qampaWpr1tOipqalDhgyJi4tr166dcwd/8+bNIUOG3LhxQ9QLeHt7q1QqiURiMBju2REnJCQMHTr0bgO3vLy8AgMDIyMjg4KClEqlTqfLz8/PyMgoLCwsLi52dMJ4o9G4du3aiRMn3vFDHJ6enqZOPzg4WKFQmKuuoKBAVHWZmZmDBw/eunXrc88951zVJScnDxky5MqVK5a3W2BgYN26dUNCQhQKRVlZWVJSUlpamvWhFhUVTZgwYd++fREREXfcuLu7e926dU2DWiUSSWZmpmiAa0hIiO0vOAmCEBwc7Dq3SW5u7ujRo3fs2GH9k1Qq9ff3Dw0NjYyM9PHxEQShoKAgKSkpOzvbelDZ5s2b3dzcVq5caf9/IFiqV69eeHj4rVu3zCW3bt26cePGQ/f+DwAAAAAAHiAC7gAAAAAAwCXk5OT89ddfliWenp5NmzZ9IAdTXFxsHfILDQ1t0qTJ/Zzg0qVLDx06dP369ezs7JKSEr1e7+7u7uHhERgYGBYW9sgjjzz//PNt2rSJjIyUSh377N7AgQP79u1r+t95eXmPP/645ZyLQUFBhw4dumey087J8o1G46xZs3755RfTn3K5/Lnnnhs1atTTTz8dGhoqk8kkEokgCFVVVTdu3Fi/fv2yZctEMfeCgoJPPvlk8+bND2p6fifodDrrCbwlEomNSJPBYFiyZMm8efOsI2VNmzb917/+1aVLl0aNGqlUKqlUKpFIjEajVqu9evVqXFzcd999J4rxXbhw4d///ndcXJynp6ejB5+Xl/fWW2+ZI9oymaxly5YDBw585plnoqOjfXx8ZDKZRqNJT08/ffr0nj177jgW4s8//xwxYoR1ul0qlbZo0WLYsGGmBKr5dARBMBqNGo0mKSnp3LlzP//889GjR+2cSVQQhBUrVsycOdM63d64ceNhw4a9+OKLjRo18vDwMFedTqe7evXqjh07Vq5cKTrIy5cvjxs37scff/T19XW06vLz8998803zBv38/AYOHDho0KCWLVt6eXmZ915eXn7mzJkvv/xy9+7domPev3//tm3bXn/99TtuPzY29sqVK6ZAbWVlZZs2bSyjYJ6enjt37rT9GBQEwbkIeE3Izc0dNWqUdbpdpVJ17tz5tddei42NDQsLk8lkUqnU1EIKCwtPnTq1YsWKX3/91TLmbjQaFyxY0LRp0+HDhzt6GIIghIaGRkdHW96zBQUFCQkJBNxtKykpOXfunKhfqOUw4po1a0S5cJlMNmTIkGoJ2ZeWlq5bt+7w4cNXrlzJzMwsLi7W6XRyuVylUgUEBISEhDRp0qR9+/bt2rWrV6+eo3ts06aNOZqv1Wo7dOhw4cIF868KhSIuLq5Vq1a2m6793eKaNWu2b99u7oyeeOKJ0aNHd+zYMTIyUi6Xm24xvV6fnp6+Y8eORYsWpaamijq1GTNmdOjQwYkH4wNkWaVm4eHhNqp0165d7733nnW6PTIycsiQIT179nz00UfNz3NBEHQ6XXJy8u7du5ctW3b9+nXLVTIyMsaMGbN3714be7wb04AEc0RbIpE0bNjwlVde6dSpU7169UwDwyoqKrKyshISEuLi4u7YEtLS0oYPH37HdHv9+vWHDBny4osvNm3a1PJ0TK8WaWlpCQkJe/fu/e2331JSUuwZciYIwp49e9555x3ryHhERMSgQYN69erVrFkzb29v876qqqpSUlL27t27dOlSyzC6OXIdHx8fHR3taNVptdpJkyYlJCSY/vTw8OjRo8fw4cNbt27t7+9veu00nWZiYuLKlSvXr18vGm92+fLlr7/+etasWXd8u46Ojj579qz5nbZz585Hjx61fP588803PXr0sF1XppvOFe6RioqK9957zzrdLpfL27Vr9/rrr7dv3z4yMlKhUJgO2GAwlJeXnzt3bvXq1XFxcaI7ZcuWLY0bN54xY8Y9R8la8/b2btKkieVbTVVV1ZEjRwi4AwAAAAAABwioGUOHDjVX8iOPPEKFAAAAAABg27Fjx0TRkMjIyKKiogdyMBs3brTOqYwYMUKv19u5hdWrVzv3bzURERGmhKj9+xLJyckJDAy03GZoaGhGRoZzWyssLIyKihIdpHmCW39//yVLllRUVNxtdYPBEB8fbx0qVavVp0+froVLmZmZGRoaKtr7u+++6+h2rly54uPjI9qOr6/v9evX77bK0aNHrVdRqVSTJ0/Ozs62sS+j0ZiQkNC+fXvRulKpdNGiRfc8VHPk0cwyluTn57dgwQIbd1ZlZWVVVZWosKCg4KmnnrJurj4+PrNnz87Pz7/nURkMhhs3bsyaNatu3bpTpkyxvfCJEyesZyVXKpVvv/12Zmam7aq7dOlSx44drVvs/PnzjUaj7f3u3LlTFGm1nMv58ccf//333w0Gw91Wr6io+OSTT6xDYE8++aSNe8RyddEc1d7e3omJiU43fst/nzRZunTpPddKSkoSVX5UVJRpMmPb9Hr9xIkTrRtJo0aNduzYodVqbayr1Wq//fZbf39/0bpRUVG3bt1y7vSt84hz5syhq73ng040UbGPj48pDls7srKyIiMjRReufv36eXl5Tmzt+PHjznXEgYGBr7zyyr59+2y3W9u382OPPWa5TYVCcfbsWee2ZjAY2rZte7eO2MPDY/r06bZv0gsXLjRr1sx6C5s2baqFy1pRUWGd7O/evbtOp3NoO/n5+fXr1xdtRy6X79+//26r3Lp1q27dutad6dChQ2/cuGG7U0hNTR04cKD1jP4TJky4Z29y4cIFlUol2ql5UyqVasqUKVlZWXdbXafTWbc9rVY7ZMgQ6+aqVConTJiQlpZ2z6MyGo3p6elLly5t3rx5z549bdd/SkqK9WcTZDLZgAEDrl27Zntf6enpw4YNs666kSNHWr9giCQmJlrPF27eVHR09I4dO2wcuV6v/+6776yHAkZGRtr5Jvz888+LGtjOnTudbvyfffaZ6EjefvvtGn0f+PLLL61rPjg4eMWKFWVlZbY78d27d1vfL56enidOnHDu9N977z3R1gYPHkxXCwAAAACAnSz/f0YPDw/b/+fI35WUiD8AAAAAAHAF586dMxqNliUNGjQQJe1qR0FBwbx580QHo1QqhwwZ4sT8hY5KT09fuXLlc889N3r06Js3b9ozy2btMx1VSEjIhg0bxo0bJ0pxWZJIJC+88MKyZctEl1Kj0WzZssU1z+6O1q9fX1JSIiqMjIyMiIi44/LFxcXvvfeeaBVfX9+VK1f+3//9X0hIiI19SSSS5s2b//jjj127drUsNxqNn332WVpamqMHb55CPiIiYtu2bZMmTbJO3ls2dVHIWxCERYsWWUdFIyMj4+Lipk2bFhAQcM9jkEql9evX/+9//3vy5Mlhw4bZWLKkpOT9998vKiqyLPT29l68ePGCBQvuOQP3I488EhcX16tXL9EpLFiwICUlxbmm7ubm1qFDh127dj399NPWuTHLqps2bdq4ceNE5WfOnDHPDvs3tm/fvuXLl4sKn3322V9//bV3796256VWKBQjRoxYt25dUFCQZXlqaupnn33m3IOiZcuWopLz589bf04BlhITE0UzH0dERPj6+tbas3rv3r3Wn4no27evaNRWTcvPz9+6deuLL77Yv3//s2fPit4HXKojVqvVixYt+uSTT6wHBVlq0aLFDz/8IOp6BEFYs2aN9YcyXNbevXstZ4M28fPza9y48R2Xr6qqmjp1anJysuhBPWvWrO+++65+/fo2nuemPu77778fPXq0aMTjqlWr/vzzT0cP3pQINw0aWb58+dy5c61H35m5u7tbf5pjy5YtGzduFBWatrZo0aKIiAjbp2N6uwgLCxs7duyxY8c++ugjGzOOV1VV/e9//7tx44boqKZPn/7DDz80bNjQ9r7Cw8NXrFgxfvx40WLr168/efKk0629adOmO3fu7N27t42vK0il0uHDh3/66aeiXaelpcXHx//tn+EXL178+OOPRU/sxo0b7969e9SoUWq12vZ7Wvfu3X/66aeGDRtalpeXl3/44YeWn1i5n4746tWr1p9TAAAAAAAAuBsC7gAAAAAAwCX88ccfopKGDRvaiLDUEIPBsHDhwnPnzonKO3XqZD2jds3RaDTfffdd586df/zxR9cMnymVyoULF3br1s128FEikQiC0LNnz379+ol+2rt3ryhJ6bLOnj27ePFi6/Ju3brdLdxvneJSqVSLFi264/Sr1gRBCAoKWrlyZdOmTS3LU1NT165d61zY1Nvbe9myZabZze8Zg7N07dq1r7/+WlQYFBS0bt26F154wdGDCQ0NtQ48Wdq2bduRI0csS9zd3efPn//GG2/Yk94zfVhg2bJlogmDMzMzv//+e+caQJMmTVatWhUeHm676iQSiVwunzp1qmgCVL1ev2vXrr/3A7y8vHzGjBlardaysFWrVmvXro2JibGnyQmC0L1793nz5oke+xs3bhSFLO1k3cwSExOdi+j9c5w5c0ZUEhUVpVarHXpiOE2r1a5fv16UJvfw8LA9JKbmmO7cLl26LF26VNS2XYREIvnggw9GjRplz/312GOPTZgwQVR+8uTJnJych6JxpqWlzZo1y7rHiY2NvVtS/Lffftu2bZtliUwme//99ydPnmx7yI1l85s/f36nTp1Eb2iLFi1ybtiDXC6fOXPmsGHDbITL7yg/P3/mzJnWd8c333zz2muv2X+Hmpb09vaOjY21MWjz+PHj69evF604adKk6dOnWyfv70ilUs2dO1f0JY2KioqvvvrKudfaoKCgb7/91vRgt90Ru7m5jR071vqzMzt27HiIxlU698iaM2dOfn6+ZWFYWNgPP/zQpk2be3bEpl9btmy5bNkyX19f0a109OhRJw7p0UcfFe305s2b1uNFAQAAAAAA7oaAOwAAAAAAcAlXr14VldStW9fRAND9O3DgwMKFC0UJGB8fn48++kipVNbywSQlJQ0fPnz58uUuOOvwgAEDBg4caE9uVSKRSKXScePGifJkSUlJTkxGXssEQbh69eqoUaNyc3NFP3l4ePTv3/+OaxUVFX311VeiwqFDhw4ZMkRy2z33axoYEBUV9emnn4oiaBs3biwrK3PiXEaOHNm9e3cnVly2bJkoLyWVSj/99NNnn31WEITqTb6WlZUtWrRIdAO++uqrpnS7/fsKCwv79NNPRU1uw4YNxcXFjh6SXC7/+OOP69WrZ+fyERERAwYMEBUePnzYNSeBri6//PLLqVOnLEvUavVnn30myvrbbvOm20T04YL8/HxRRNVO0dHRopLMzExydbZdu3ZNVBIeHl5rI83++uuvY8eOiQrbtm3bvHnzBxhLzc/Pf+eddz788EMXzLg//fTTEydOtLNPcXNzGzZsmOiDG0VFRRcuXHD9lpmTkzN+/PhLly6JyqVS6auvvnrHtLpOp/viiy+qqqosC9u3bz9lyhT7m7QgCD4+PrNnz/by8rIs37t3b2pqqhMn0q1btzFjxjjRb8bFxV2+fFlUOG7cuEGDBjnUOdrDaDQuWLBA1OCffvrpadOmOfQ08PT0nD17tigqHR8fbz0Nvz0mTpz41FNP2fkoUKvVo0ePFhWeOXPm790FJCQk/PTTT6Ib5H//+19sbKxD2+nQocPw4cMtS/R6/erVq514DgcFBYnunfLy8vT0dHpbAAAAAABgJwLuAAAAAADgwSstLRUFiCUSiWm+5NqUmpo6ceLE0tJSUfm4cePatm17P1uuU6fOU089NXbs2AULFmzatGnv3r3x8fE//vjj119/PXbs2DZt2nh6et6tZqZMmRIXF+dS18vDw+Odd96xMfentVatWonypuXl5c6FnGpNVVXVnj17evfubT2rsZubW8eOHVu3bn3HFY8cOXLlyhXLEj8/P/unjDXfAm5ubj169GjevLll+bVr16xDfvcUGBg4YcIEJ0aM3DFe3K5du6FDh1Z7qM7Nze3UqVOitKWPj8+UKVPsnDLWUufOnZ944gnLkuvXrycmJjq6nccee+yll15y6MJ17dpVlAJMT08vLCz8uz7A9Xr9mjVrRAn+7t27d+jQwdFNKZXKd955R9RQ9+zZ48TM6/7+/mq12rKkoqIiMzOTDvdutFqtde7QepxAzdm+fbv16J1//etf7u7u1fKoCQgIaNOmzb/+9a+5c+euW7du9+7d8fHxO3fuXL58+TvvvPPMM8/4+/vfrS9YsGDB559/7lKDzSQSyVtvveXt7W3/KjExMS1atBDdvE50KLXJYDCcOnWqX79+ouSuSZMmTXr16nXHFa9evSqac1oul0+bNs2hGjM1vDZt2rzwwguW5QUFBYcPH3b0XNzd3f/zn/84MVqysrJy3bp1osKoqKh33323JsafXL9+/eDBg6KqmzJlip+fn6ObatGihegCFRQUWI9juafw8PCRI0c69NbRvn17UbY+Pz8/Kyvr7/oAFwRh8+bNokdoq1athg4d6uimTKNSfXx8LAsPHz7sxGuMp6enqNkYDIakpCQ6XAAAAAAAYCc5VQAAAAAAAB64srKyoqIiyxKpVBoSElKbx1BYWDhq1ChRLtk8aaWj6TrT8o0aNerSpUvfvn1btGgREhJyt3ixTqe7du3amtuswzcajWbixImNGzd+7LHHXOR6tW7dumXLlg6t4u3t3bx58xs3bphLDAZDSkrKAzl+nU5nPYzBFA/S6/WlpaXp6elnz57dsmXLsWPHRPO/mgQGBs6YMeOOMTVBEDZt2iQK+3br1q1x48ZOzHeuVqsHDBhw/vx5c0lFRcXx48cdHXHRpUuXBg0aOFFXp06dEkWRZDLZ+PHjHcoI2m/Dhg2iquvSpcujjz7qxKbUavXLL7988uRJyya3f//+p59+2qHtDBgwQDT/6D01b97c29vbMgqWk5NTXFwcGBj4t3yAZ2RkHDlyRPQAHzdunBPJS0EQ2rZtW79+/evXr5sLL1y4kJWV5WjS2tvb29PTU6PRmEu0Wq3oWwSwpNVq8/LyRIVhYWG1s/fi4uKNGzeKCsPDw1988cX7+VKETCYLCwvr1KlT375927RpU6dOnbsNNDIYDMnJyVu2bFmxYsXNmzdFcxUbDIZZs2a1aNGiZ8+e1T6wxznR0dGdO3d29M3kqaeeOnTokGXhrVu3qv1bHPYw9bbWl0MQBIPBUF5enpmZmZiYuG3btv3791veyGZKpXLGjBmiOenNdu3aZR32ff755504WYlE8tprr23fvt1cYjQaDx48OHToUIeGjT3++ONt27Z14gBu3br1559/igpff/31yMjImrh2u3btEn3tpFmzZp06dXJiUxKJZODAgevXr7fs2X/55Zd//etfDh12165dIyIiHNp1REREVFSU5YmUlpbm5OQ0adLkb/kALy8vtx4EMnr0aEdfYEwaN27cpk2bAwcOmEvS09MTExOfffZZR9/EREF5g8HASDMAAAAAAGA/Au4AAAAAAODBq6ioEAWOpVLp3UJLNaGsrGzSpEm//vqrqDwiImLx4sVOTFrZpEmT9evXd+3a1Z5Iq0KhaNas2bx58954441p06b99NNPooxvTk7OlClTduzYIZqQ+EHp3r27Q5ORmzz66KM7duywLHlQGZdVq1Zt2bLljj+ZMu4ajaaysvJuq3t4eMyaNSs2NvaOwbKioqLjx4+LCl955RUnZk83eeqpp9zd3S1z9idOnHB0I6+88opze9+5c6eoJCoqqkuXLjVxXUpKSqxz0n369HF6htr27dsrFArLyb+tL41t7u7uXbt2dWgVQRC8vLzCw8MtA+7l5eV3HFPx93D06FHRCKUGDRrExsY6sSmJROLt7d22bVvLgHtJScnVq1cdDbh7enqqVCrLEr1eX1BQQId7NzqdznqC3uDg4NrZ++HDh69evSoq7N27d506dZzO74aEhCxevLhnz55hYWH33IhMJqtfv/5//vOfYcOGzZw5c9WqVaLvBmg0mvfff//JJ58MDQ11hev1zDPPOPFyIvokiOkFw2Aw1MRE4LYdOnToboOXTB1xZWXlHXPt5t7hnXfe6d+//90a8759+0SFL7/8suiZYP9TvVWrVn5+fpYPunPnzul0Ooc22KtXLye+RuLm5nbw4EFRVXh6eg4aNMg8nLIa6fV665fhbt26OT2q7fHHH/fz87N89p49e1ar1TpUdb1793Z0v+7u7g0aNLh48aKotf9dH+CXL18WfRbJz8/P0RcYy/urU6dOlgH3qqqqs2fPOhpwV6lU1p+o+htfBQAAAAAAUO2kVAEAAAAAAHjgKisrKyoqLEukUql1JKLm9j5jxoy1a9eKyr28vBYtWuToVOUmsbGxgwcPdmjCZkEQmjZtunbt2vHjx1snlg4cOLBr1y5XuFgSiaRVq1ZOrGg9E7B1mLJ2aDSa7LvIyckpKCiwkW739PScO3fuyJEj7xYsS05OTk9Ptyzx8fFp3bq100cbExMjGthw6dIlg8Fg/xZ8fHysQ4320Gq1CQkJosK2bdsGBQWJpjeuFpmZmaLZ4lUqVbt27ZzeYP369T08PERXp7y83P4t1KlTJyIiwqGTlUgkCoXC399fVC6aEPdvQxCE06dPi8bktGzZ0tfX1+knjOipq9frb9686eh2VCqV9TickpISOty7qaqqsr47RJPv1lwr+u6770Q3mlKpHDx48P3kd+vVqzdmzJjw8HCHjiQiImLRokWzZ8+2bj+XL19esWKFi1yvli1bymQyR9eqU6eO9aOpJp7n96TT6Wx3xDbS7e7u7pMmTfroo4/uVgPFxcWiZLNEInn++eedfijVqVNHNOoyJSXFoWFLMpnMuWE/RqPxzJkzomvUpEmThg0b1sSFKy4uTkxMFBU6+q0AS4GBgaIxIXl5ebm5ufZvQa1WN27c2NH9SqVS6/E5f+MxThcuXBD9l1RMTIyjA8MsPf7446KSK1euONrkZDKZ9UiGkpKSB/LMAQAAAAAADyMC7gAAAAAA4MGrrKwUZR0kEokomVpDDAbDokWLFi5cKApoKhSKWbNmvfzyy86l65xYy7SKl5fX7Nmze/XqJfrVaDQuW7ZMq9U+8IulUqlCQkKcWNF6xIKNHLlrql+//rp16yZMmGBjstvExETL2dZNyf6goCCndxoQEKBUKi1LiouLy8rK7N+Cv7+/dajRHuXl5aIJQd3c3J588knJbdVevZcvXxa18NDQ0PuZQFqlUolmOC4uLnYo4B4QEODt7e3oyUqlUutE10PX2u2k1+ut05BPPPHE/WzTejBMamqqoxtxd3e3vk9tRGah0+msR87UTkeclJR06NAhUWGzZs3uZ2iQZUds/y1sWlKhULz99tsTJ060XmD16tWukJGVSqWRkZHOPRVFJVqt9uEKmwYHBy9cuHD27Nk2vmmTlJQkGs3i5+fnXI2ZqNVq0WAPrVabn5/v0Bbq1q3rxK6rqqouXbpk/YxVKpU10RFnZGSI0udqtbp+/fpOb1Amk4kC7uXl5Q6N+PL29nbim04SicS6hfxdO2LTJwVEJc2bN3fia0tmgYGBok8PZWZmOjS68m6diEajIeAOAAAAAADsJKcKAAAAAADAAycKBJvYyBBXF71e/80330yfPl2U2FAoFDNmzJgwYUJNhIfuycvLa/78+adPn87MzLQsP3ny5I0bNx599NEHe7Hkcrm3t7dzK4pKnAjKPBDu7u5RUVFDhw59880375kUv3XrlmiwRFVV1datW0U5IfvpdDpR7LuioqKsrMz+GbL9/Pycu2TFxcXWUU7n5u+3x5UrV6wLt2zZolAonNtgRUWFKM1WVlYmmuLUNg8PD9HoAntIJBLreYUfltbuxFPUehREUlLSmjVrnE6wnTp1SlSSk5Pj6EZkMpn1TecKY4RcuSO2vmT3k4+0X1xcnPWjZtCgQbX2IZc7dlgffPDBb7/9dvbsWcvy69evHz9+/KWXXnqwF0sqlYpG79i/4kP6aJLJZCEhIS+//PI777zTqFEj24+XjIwM0aNeIpHs3r37flqUaFxZVVVVUVGR/aurVCrnxmtVVVVZj/B57LHHaqiek5KSRE3C3d199+7dTn+Uw2AwiEYCmN5h7N+CUql0bqSNdUes1+v/rg/wq1evikoKCwtXr159Py1B9B9B+fn5ovdbO1+h7elrAAAAAAAA7oiAOwAAAAAAcFE1nX7Q6/VLliz5z3/+I8q7KBSKDz74YPLkyU4nku//xBs3bjx8+PA5c+ZYlpeXlx84cOCBB9wlEkktjD14gGcnlUrlcrlKpVKr1ZGRkbGxsS+88EL79u1N0TRBEGwMexAEQTQswc3N7ebNmyNGjKjGgzQYDDqdzv7lAwICnGvM2dnZoqCbTCYLDw+vocpPSUkRldy6dWvMmDHVuIuqqiqH8m0ymczprzH8Q5SVlVmnPFfcVo17cWjefRs9yD/q0jws7basrGzjxo3WT61+/fo92AoJCAiYNGnS8OHDRZnOn3766YEH3E3vKg/RVXaUVCp1d3dXKBRqtTo0NLR169YdOnTo1KmTaRZ22x2xm5tbVlaWqKSgoGD8+PHVeIRGo9GhATNqtdq5lHZJSYn1A7BevXo1VPPWs3QXFxe//fbb1bsXh95hTG9l1dLU/65dgMFgSE9PFxX+fFs17sX6c1t23il0xAAAAAAAwGkE3AEAAAAAwIN3x5xWjc6zaDAYVq5cOXXqVFE+SS6XT5kyZerUqbUzbe0dmZIfgwYNWrhwoWgK0j/++MNgMFjPSVnLh/ewZ1N69OgxbNiwO/4kk8nc3d29vLz8/f3Dw8P9/f2VSqVlOtz2uRuNxuLi4po+fsNt9i/vxBzkJuXl5aIwk4eHh0qlume40DkOzYbrdNU5NP8oMSx7GkktzIl7x698OHGbOH0v/BO4u7tbN3gnat5Rp0+fTkhIEBV27NgxJiamhh419uvWrVt4eHhaWppl4YULFyoqKpwLK1f7q8LDq1WrVpMnT77j+4wp3e7p6enn5xcWFhYUFKRUKi2XvOe510JvYjQaHeqIFQqFc5esoqLCekdOz6d+T8XFxbUwu7ZDVfc3eO2saTqdzqGv0zjdETvRNqw7kTv2NQAAAAAAAHdEwB0AAAAAADx4Hh4eMpnMMu8iCELNZTUEQdi4cePkyZM1Go1luVQq/fe///3hhx86NzFq9apfv369evUuXbpkWXjt2jW9Xv9gA+5/A02bNh08eHANNS2HpnR1mkPZIKcbjFarFYWZ3N3dnZvU3B4OTekKF6HVah0aM1BrqqqqrDOUXl5eXLK7USqV7u7uop7XibnzHWI0Gjdv3iy69yUSybBhw1yhpwsMDGzZsqUo4J6amuoKAfeHXXh4+KuvvlpDgwlrIezrKKc/ClRVVSV6xjo3o7mdKisrXe0dBvY0kloYaebcyAfrFuXl5UUDAAAAAAAAdiLgDgAAAAAAHjylUqlWq0tLS80lRqOxpKSkJvZlitONHTtWlNuTSCSjR4+eP3++i0zx6+XlFR0dLQq4p6enOzTtJWqfdQDI3d29ehtVrWWDrAOmBoOh5uZ2td6yXC5XqVTV+6hxOmUI+6nV6mqsZ0EQnGgGFRUV1kMmfHx8uDp3I5fLvb29RT1vTc+EnZ2dvXPnTlFho0aNOnTo4Ap1IpPJmjZtunv3bsvCgoKC0tLSgIAA2sxD1BHLZLLqHZNgGu5VO41Q1OMbb6u1qpNKpWq1uhp3wUDNWrhqbm5uKpWqegdCeHp6OvryqdfrrUeb+Pr6EnAHAOD/sXfn4VVV9/74ORnJxBCChBkCIqkVZXCsVKXaqljQOvZeKA4ULdg61NpetY9atYO01VpuFUcEaaVAVaAOFywUEUUQVJR5CsgMIUwJCUnO73nI88uT7z4YQwbY1NfrL8/ncPawztprH/C91gYAoIYE3AEAAIBjLzU1NSMjIxBw37lzZ73vqLy8/OWXX/7Rj34USLfHxcUNGzbsD3/4Q0jS7RXatm0bqBQVFcU+65/wiEQisRG6K6+88k9/+lM9xtEikUiLFi2OwumkpKQEQkjFxcUNt856bIi5f//+o0ePrt9IfVZWlo5aj2LnDMTHx0+ePPm0006rr11Eo9FaJFP37dsXyNUlJiYKJVcjKSkpMzNz48aNVYvbtm1r0J2+9dZbgT02atTo6quvbtasWWhvxOXl5fv27dNhQv6rMlDp1avXlClT6ncvzZs3PzpjbGwcvOGWqI8dbE855ZRp06bVY1Q6Go0end8wX6nRO/YLeuyxxy6//PJ6/NYSExOP9AlXRUVFgdEyEom0atXKVwYAAADUkIA7AAAAcOylp6c3b95806ZNlZXy8vJ6z9WVl5dPmDBhxIgRgRVqI5HIDTfcMHLkyPpdorLuYtP25eXlpaWlOkxoxcXFxeYyd+3adcIJJxyPp5OVlRXILhcXF+fn5zfQ7mLDx/v378/MzExMTNS1wjx6B76gsrKyuLi47OzsY3tge/fuDUxkSk5Obtmypa/sizRu3Di2farel+tdSUnJ2LFjA8W0tLRrr702PM1y2ECnmWYhF3s32b17d/PmzUM1ibGGmjRpEtsJG+7CbN68eSQSqTqvrLCwMCMjo2nTpvpVaCUnJ6elpQWKBw4cOOY34sLCwsDfueLi4tq0aeMrAwAAAGrIA3kBAACAYy8tLS2QAI5Go7GrutZFNBr95z//OXz48IKCgsBbV1999R//+Mf09PSwNUsgnVmxNPKRrp7I0RSJRGKX+920aVNhYeHxeDotWrSIXcx15cqVDbS7jh07BiobN25suHVqqa/RO3Yt3qVLlx7zA8vPzz9w4EDVSmpqauvWrX1lXyQxMTE2d7h+/fqG2+Py5cvnzZsXKJ511lm5ubnhaZbY0TsSicQ+boJQyc7ODjx+pKCgYMeOHcfjuRx25smyZcsaaHdt27YNLBi/ffv22F/OhEpcXFz79u1DeCPet29foPMkJCR06tTJVwYAAADUkIA7AAAAEAonn3xyoLJu3bqysrJ62XhFun3IkCGxGZ0rr7zymWeeadKkSQjbJDZZmJGRkZDgiXyh1rVr10A4bP369Vu2bDkezyUtLa1Dhw6B4gcffNBAu/va174WqOTl5R2nTffVkZCQ0LVr10Bxzpw5x/zA1qxZE6h06NAhdo1bqr8GN23aVFJS0kC7++tf/xobH7/++utDdZvLy8uL7fMhnBFH4GIPPJNnx44dsWPC8TLGnnTSSUftRpyTkxN4KEdBQcHy5ct1quPur1ELFixouNG7hrZs2RIY5Js2bWqmGQAAAFBzAu4AAABAKPTp0ydQWblyZWlpad23HI1Gp06dev311+/atSvw1lVXXRXadHt+fv66desCxfbt2wfC04RNjx49Aov77t69+7333jsezyUtLa179+6B4vvvvx/7bIF60b1798DFWFRUNHv2bJ0qzBITE3v27BkoLliwYOfOncf2wD755JNA5eSTTzZBqHq9evUKVDZs2NBAD6DIz8+fNGlSoNihQ4eLLrooPA1SUlLy2WefBYpZWVlpaWnRaLQWv0b0saOjU6dOWVlZVSvl5eX/93//dzyeS0JCwmmnnRYofvrpp5s2bWqI3WVnZ8dObHv99de/yt3puLhyD/vXqGM+qSN2/MzJycnIyDBGAQAAADUk4A4AAACEwimnnJKUlFS1sm7dur1799Zxs9Fo9PXXXx86dGhs2vKKK6546qmnmjdvHs4G+fjjj2NXcM/Nzf3SgGYkEomL+3/+zaf8EH3s6GjXrl1sKHzChAn1MlvjKItEIhdeeGGg+Omnn8YmlupFmzZtAk0XjUYnT55cXFz8Veg5kUMCp19fT7FoUN/85jcDK/6uX7/+mC/iHhtwP+2000wQql63bt0Ck0w2b968Y8eOhtjXrFmzVq9eHSgOGDCgZcuW4WmQDRs2fPzxx4Fi586d09LSAldr7OUcuFlHo1E34qMmPT397LPPDhRfffXVffv2HY+n07dv38AYu3nz5lmzZjXEvpo2bXr66acHim+99VZ+fv5XpPPEXrnHxY24Z8+ezZo1q1rZu3fv1KlTj/nfZQKVr33ta4FZoAAAAADVEHAHAAAAQqFTp04nnHBC1cqePXvWrl1bx83Onj37pptu2r59e6B+4YUXjh49ukWLFuFsjfLy8hdeeCEQqYlEIn369AmE12PFxcUlJydXrZSUlByP6erjVGpqar9+/QLFmTNnfvrpp8fj6Zx//vmBtTaLiopefPHFhkhqJiUlffe73429hGOTyv+REhMTA7m6srKy4yLc36tXr3bt2gVGsNGjRx88ePBYHVJBQUFeXl6geXv37m2Aql52dnanTp0Ct48lS5bU+47KyspeeumlwLrIycnJ11xzzZfe446aaDQ6adKkgoKCQL1nz56B+XiHFbgRHzxEHzs64uPjL7744kBfWrJkyfTp04/H0+nRo0fsqurPPffcgQMHGmJ3AwYMCFRWrlz51ltvfUU6T0pKSmAcKCoqCv9ht2/fPvZpKmPGjNm9e/exOqSDBw8uXbo0UIydeQIAAABQDQF3AAAAIBSaN29+2mmnVa0UFRXVJVcXjUbnzJlz3XXXbd26NfBWv379xo8fH6plYgPmzJnzyiuvBIpNmzY9//zzv/SzCQkJgSV49+7de5yuWnqcGjRoUFpaWtXKvn37HnnkkQbKojWonJyc8847L1AcP378woULG2J3V199dWAJ0sLCwoceeui4iJfVUVxcXGZmZtVKSUnJcbFobmZm5ve+971A8e233542bVogwXzUbNy48fPPP69aadWqVW5urtGpeikpKWeccUbVSmlp6aJFi+p9R2vXro1df7pHjx6hmoSwZs2aUaNGBYrx8fGx8d+aXM6NGjVqoLXwOayLL764ffv2VSvl5eWPPPJI7PN8jotfyJdffnmg+M4770ydOrUhxth+/fp16dKlaqWsrOy3v/3ttm3bvgo9JzDbtry8PPbvESGUnJw8aNCg2EkdTz311LG6ERcUFKxYsSJwkOecc47RCQAAAKg5AXcAAAAgFCKRyMUXXxwozp49u3Zbi0aj77zzznXXXbdly5bAWxdeeOFLL70UyK/Uo7rnSNauXfuTn/wkNpL+rW99q3379l+6/eTk5EB2v7y8vCGW4OWLOsDJJ58cuxL5q6+++vTTTwdW5a/d9o9mVik+Pv7WW29NTEysWty9e/edd94Z+2CEujvxxBNjo9LTpk0bNWpUvTRdyDtPYPHssrKylStXHhfd/oc//GFsOv/uu+9evnz5Menw8+bNCyx+37t37+bNmxugvlT//v0Dlffff7/elx6fPHnyrl27AsXvf//7qamp9TUO1/F637Vr1+233x6YJlGRwu/Tp8+Xbjw+Pr5t27aBYkNMFeCLOkCrVq1+8IMfBOoffvjhQw89VPfJZkf5RtyoUaMbb7wxMIIdPHjwnnvuCQSI60WLFi2GDh0aKH7yySf333//8dh0dbwRN2rUaNmyZQ3x1Jp6N3DgwJNOOilQfPTRR2fNmlX3Nq/FFpYvXx6YFNGtW7eOHTuG/8cYAAAAEB4C7gAAAEBY9O3bN7Du9dy5c/fv33+k24lGo++9996gQYM2btwYeOuCCy548cUXW7du3XBn8X+H1C4DFI1GV6xYMXjw4I8//jjwVnJy8o9//OOEhIRIJFL9RpKTk3NycgLFf/7znwIlR0ckEomPj/+f//mfQBattLT0nnvuGTduXK2D2mVlZZ999tnkyZOPZtAqGo2ef/75sZNP3nnnnVtvvTU2ovqlysvLq7mo4+Li7rrrrsAMjWg0+sADDzzzzDOlpaW1O4vy8vJly5b97W9/C3nn+frXvx575db6rI9mJ+nWrdstt9wSqK9atWrIkCF1yejv379/2rRpn3322ZF+cObMmYHKJZdcEh8fb4D6Un369AlcgB999FH9Pklg//79EyZMCBSzsrJiJ7fU2kcffTR58uS9e/fW7uNbt269+eabp02bFvvWj3/847S0tC+9EcfFxXXr1i1QfPPNNwPzLmi4G3GjRo2GDx/etWvXwFv/+7//+7vf/a7WQe1oNJqXl/fSSy8dza8yGo3m5uZef/31sWPsTTfdlJeXV4sN7t+/v5qfhUOHDj355JMDxWeeeeZXv/pVrR+oEo1GN2zYMGbMmHqfMFO/evToEajMnj17z5494b8Rt2jR4u677w7c6fLz82+66ab33nuv1n8LKCkp+fe//x17V/1S7777buC77tevX03GTwAAAIBKAu4AAABAWHTt2rV79+5VK3l5eatXrz7S7SxevHjw4MEbNmwI1M8444wxY8a0adOmQc/i448/HjBgwMCBA1977bUjiv+WlJRMmTLlsssue/fdd2Pfvfrqq88999wabuob3/hGoPLaa6/NmDHjuFiB8j/DKaec8tOf/jRQ3L9///Dhwx966KHdu3cf0dZKSko+/PDDW2+99Zvf/OaECROO5lyFSCSSnJz8wAMPBNbnbtSo0cSJEwcPHrxmzZoaHk80Gl2/fv0DDzzw5JNPVvPHunfv/rOf/Swu7v/5d8vCwsI77rjj/vvvLygoOKLjP3jw4KJFi37yk5/07dv3pZdeCnm36d27dyCa9q9//esoT2moXSeJRCJ33HHHqaeeGnjrgw8+GDhw4L/+9a8jmtcRjUbz8/MnTJhw6aWXXnPNNUca39y9e/eCBQuqVjIyMvr162dcqok2bdr06dOnamXHjh2ffPJJPe5iwYIFsQ8VueCCCzp06FBfu9i4ceOgQYMuuuiiMWPGbNmypeZjZllZ2bvvvjtw4MCJEyfGvnvOOedcffXVNdxUnz59kpKSqlbmz5//0ksv1f1hFNRQdnb2ww8/nJCQULVYWlr60EMP/eQnPzmijlHxwWXLlt13333f/OY3//CHPxzN77FijP3Zz34Wm9d/9913r7zyyoULF9b8XLZv3/7kk0/ec8891cyeysrKevjhh5OTkwNXx6OPPvqjH/1o48aNR9R0ZWVlK1aseOCBB/r27fub3/wm5JdAbm5uRkZG1cry5cufeuqpkpKSkN+IGzVqdN11111yySWBt9auXXvVVVdNmDDhSKcW7Nu3780337zqqqsuueSShQsXHumvr8BjuCKRyMCBA41LAAAAwBFJ0AQAAABASKSkpAwYMODDDz+srBQVFc2cOTN2McVqbNu27b/+67/WrFkTu/H+/fvX8TH9bdu2vfDCC7/0jxUXF1es4965c+cLL7zw29/+9sknn9y2bdukpKSEhIS4uLiKGEo0Gi0rKystLd22bdvcuXOff/75WbNmHTZvlJub+8gjj9R8+eELLrigWbNmVaPABQUFV1555cCBA7/97W936NAhPT09dmvt2rXLysrSD+tFJBK57bbbFixY8Oqrr1atFxUVPfjgg6+99tptt9327W9/OysrKzExMXYxy/Ly8tLS0sLCwhUrVrzzzjuTJ09etGhRrVecrbuePXs++OCDd955Z9V0VDQa/ec//7lo0aLbbrvt6quvbtOmTVJSUuBcysvLDx48uGfPng8//HDSpElTp07dtm3bXXfdVX3TjRgxYv78+ZMmTap6tR44cODXv/711KlTb7vttu985zstW7aM3V30kIqmW7Vq1Zw5cyZNmrRw4cJarzh7lPXu3btdu3ZV89zFxcXXX3/9hAkTLrvssk6dOmVkZMQ+xiH7kGN+8FlZWX/5y1+uuOKKbdu2Va0vXbr0sssuu+qqq4YOHdqzZ8+UlJT4+PjYL66srOzgwYM7d+786KOP3nzzzWnTplW0QyCcWhNLliwJ3AL69OnTuXNn41JNxMXFXXvttW+88UZlpbS0dPr06RdddFG9bD8ajf71r38NrH4diURuuumm+l3Wt6ysbN4hrVu3rngMxamnntqxY8fGjRvHH1J5I64YbwsKCubPnz9u3Lhp06YddsQ44YQTHnvssfT09BoeQI8ePXJycpYtW1ZZOXjw4PDhw1999dUBAwbk5OQ0adIk9nLOyspq166dflhfne2qq6764IMPHn/88arThMrKyp555pkZM2b8+Mc/HjBgQMXPs8Csqsob8YEDB9atW/fee+/94x//eP/99ytW8g48oeXoaN269Z/+9Kfrrrsu8GiCDz/8sF+/fj/84Q+HDBnSpUuX5OTkwLlEo9GDBw8WFhZ+8sknU6ZMmTRpUl5e3qWXXlr97i677LI77rhj5MiRVfPoZWVlL7744qxZs0aMGHHFFVe0bds2OTm5In8f2GNF0+Xl5b333nuvvPLK3LlzK6b2nXjiiSHvNjk5OaeeeuqcOXOq9oT77rtv+vTp3/ve90488cRmzZrF/nJr1qxZx44dj/na5I0bN37iiSdWr169dOnSqvXNmzcPHjx47NixI0aMOPvssw/7W6JiMDx48ODu3bs//fTTt99++5VXXlmxYkXtptht3bp1/vz5VStdu3bt1atXNBq1gjsAAABQcwLuAAAAQFhUrO03cuTIffv2VRZfeeWVESNG1DzjuHPnznXr1sXWi4qK7r///joe4YWH1PzPr1279plDmjRpkpWV1blz59atW2dmZjZu3DguLu7AgQPbtm1bvXr1qlWr8vPzvyh537Fjx+eff/6Ilrbt3Lnz5ZdfPmbMmKrFvXv3vnRIRc4+Nl/yxBNP3HjjjfphfUlPT3/qqaf27t37r3/9K/DlfvTRRzfccEN2dnafPn169OjRsWPHzMzM5OTk0tLSffv27dixY8OGDatWrVq8ePG2bdsKCwvDcG3efPPN69evf+yxxwJzMDZt2vTzn//80UcfPeOMM3r37t2pU6fmzZsnJiYeOHBg+/bteXl5n3322UcffbR169ZqFosNSE1N/ctf/rJ3794333wz8NbixYuHDh3aqlWr3r17V8RVW7RoUdF0+/fv37Fjx+eff75y5crFixdv3bo1DE13RDIzMwcPHvzwww9XLR44cOCVQxIPCVy5ZWVlDz744N133x2G4z/77LOffvrpoUOH7tixIzD8jhs37u9//3uXLl3OPPPM7t27t2nTJiMjIxKJlJSUFBQUbN26de3atUuXLl2xYsWuXbvqsr5vNBp98803A0vtDho0qBZB+a+sfv36tWrVauvWrZWV119//f77709LS6v7xjdv3jxlypRAMTc39+yzz26g4OPmzZv/dkhaWlqLFi06derUtm3bzMzM1NTUhISE4uLiHTt2rF27duXKldu3b/+ivtesWbNRo0adfvrpNd9v06ZNf/CDH9x7771Vx/+SkpJphxz2co5GoyNGjHj00Ud1wvq6c8XHx//qV7/Kz88fN25c4Mtdu3btnXfe+fDDD/c8pHPnzllZWSkpKWVlZUVFRTt27Ni4ceOqVas+/fTTjRs3Vv1degxdfPHFjz766E9/+tPA3W337t2///3vn3766Z49e55++uldunTJyspKTk4uKSnZuXPnhg0bli5dumjRoo0bNwbmllQjISHhl7/85c6dO59//vlA0+Xl5d19992/+c1vTjvttJ49e+bk5LRs2bJq023atGn16tWLFy/euHFjII4ffgkJCT/60Y/mzp0bmBTxr0MSEhIOO7nu6quvfu6552o+E7XhdO7cedy4cddee23gEVilpaVvvPHG9OnTO3bseMYZZ1TMvG3atGlCQkJJScmePXu2bduWl5e3fPnyJUuW7Ny580iXew+YO3fu9u3bq1Yuv/zyJk2aSLcDAAAAR8Q/6wMAAAAhkpube9ZZZ82YMaOysnDhwtWrV5900kk13ELsQpL1qNbJlT2HxK4r/6W6d+/+3HPPnXnmmUf0qUgkcu+9986cObPqUtCVSg6Jrdcxy0JANBpt1arV+PHjhw8f/sorr8ROYNiyZUtF0rEihFf5qbqkextOYmLir371q8TExJEjR8Z2lZ07d75xSNwhlUuB1u6BCdFoNCsra+zYsbfffvvLL78cu3ro1q1bXz/kuGi6I7pyR4wYMWXKlE8++eSwV+hhL9LDXs7H6vgHDBgwbty4iukQgXeLi4uXHFIxllYO1OWH1NcxFBUVTZs2rWqldevWF198sRGp5tq0aXPJJZdUnSK1YsWKjz/++Jxzzqn7xt94440tW7YEit///vcrJjw06HntPyS2Z36p7OzsUaNGXXHFFUd6hDfffPNrr702b9684/Fy/o+Rlpb2xBNPNGnS5Mknn4xt8/z8/LcPiUQiVR+wU+v7V4OKi4sbOnRoo0aN7r777tjg+J49e/59SNVzqcsAm5qa+vjjjzdr1uzxxx+Pbbpdu3bNPOS4aLojMmDAgP79+0+dOjX2rdJDYuvH8Bk7sXr16jVx4sQbb7zxo48+ij3+1YdUdKfKxf7r90ZcXl4+adKkQF+65pprpNsBAACAIxWnCQAAAIDwSEpK+u///u+qlb179x42YvIfLy4u7tJLL506deo555xTi0RI165dn3/++Xbt2ulUx0rFt9aqVasXX3zxvvvuq2bx42g0Wvr/+9KI9jFcH7Rx48YPPPDAn//858zMzC/6M+Xl5ZUnUuuIW0XTtWzZcvTo0Q888EBGRsbx3nQ1l52d/cILL3Tv3v347fbf+c53pk2bdt5551UzcJWVlVV+cV8aqqtM4NXE4sWLly5dWrXSv3//1q1bG5FqLj4+/rrrrktMTKysHDx4cPLkyXXfcmlp6bhx4wLFjIyMyy+/PLTBx9NPP33KlClXXnnlEfXDCpmZmS+88EKPHj10qmMrIyNj5MiRTzzxRIsWLaq5m1SOS196/zqGd5OEhIRhw4b99a9/7dixY03OpY6p5dTU1EceeWT06NGtWrU63puu5tLT00eNGtW3b9/j90Z82mmnTZky5ZprrqmmwSt/sNWknxzRF7d58+bZs2dXrfTp0+frX/+6sQgAAAA4UgLuAAAAQLgMGDAgJyenamXixImFhYXHy/FnZmY2adKkLgmepKSkXr16jRkz5h//+EfXrl1rvZ1+/frNmjVr2LBh2dnZVaOKHGXp6ekPPvjg9OnT+/fvX03MvRqRSKRx48Y9evS49957H3nkkWOYD0tMTBw2bNjMmTOvuOKKWpxLQkJC586de/fuXfOmu++++95+++2BAwfWrukqcvlf//rXf/GLX/z+978Pf2+JRqO9evV6++2377rrrg4dOhyPV24kEjnllFOmTZs2atSobt26JSTU5iGi8fHxmZmZl1xyyYsvvljzlGE0Gp04cWJRUVFlJSUl5cYbb7Rq7JHq27dvz549q1ZeffXV/Pz8Om528eLFscuZ9+3bt+YPaan50JGZmVmXyychIaFbt25/+MMfZsyYcfrpp9d6O7m5uTNmzLjnnns6d+6clJSkax3Dm9ctt9zyzjvvDBkypGnTprUbE5KSkk488cQRI0Y8++yzKSkpx3CMveyyy/79738PGzasefPmtRhdW7du3bdv3xrO2UhMTLzhhhtmz5590003NWvWrNZN16VLl1tuuWXs2LGNGzcO/424Q4cOU6dO/e1vf3vSSSclJycfjzfi9u3bjxs37uWXX+7du3ftBp+4uLj09PS+ffv++c9//sEPflDzD77xxhtbt26tup0bb7wx/N87AAAAEEIJmgAAAAAIlczMzBtuuOGXv/xlZeXjjz+eP3/+eeedV5OPJyYmdujQYf/+/fV+YNFotJoFLCsNHjz4vPPOe++99+bNm/fhhx/m5eXt3bu3sLCw+iUtI5FIWlpadnb2ueeee8UVV5x//vlNmjSp+wF36dLlqaeeuv/+++fOnbtw4cKVK1du2rSpoKDgwIEDsctdH3ad7Li4uHbt2lVNQWVkZNQusZqent6uXbvKcHZ5eXk1a6nWl/j4+Pbt21dN1ZSXl1ezAHnDOfvssydPnrxo0aK//e1vM2bM+Pzzz/fu3Vt9r0hLS2vWrFlubm7fvn2/9a1vnXLKKRW9ovpPpaSkVF3YNRqNnnDCCfV7Lj169Hj55ZcXLFjw0ksvzZgxY9OmTdVccRV9u2XLluecc85ll132rW99q2XLlke0u9NPP33ixImLFi16+eWXp0+fvmHDhj179nxp0zVt2rR79+4VTXfqqafW5IKqaLrS0tLKSnZ2du2aqFWrVoHldWuYhqzIDrZp02bkyJF33XXXBx98MH/+/BUrVmzatCk/P//AgQNVD69iKfRmzZoddlMtW7YMHEM1a+FXSkhI6NChQ9OmTSsrbdq0qcXa1enp6cOHD7/22mtff/31yZMnz58/f+fOncXFxdXvOiMj44QTTjj99NPPP+RII/47duyYOHFi1cp5553Xq1cvN9YjlZqa+sMf/nD+/PmVF9ratWunT59+7bXX1mWzM2bMCNxG4+LihgwZUu8TOb7xjW/Mnz//gw8+eP/99xcsWLBq1ao9e/bs37//S1cpTk1NbdGixZlnnjlw4MCLL744Kyur7gfTsmXLRx555Pbbb59/yPLlyzdu3Jifn19UVBS4nKPR6Bfdnlq3bl31ck5ISKhdWjQ5OblTp05Vx8/WrVs39AyQSCTSpk2bgoKCwI3paM48qdhXbm7uc889d9ddd02YMOHNN99cvXr17t27q+8VKSkpTZo06dq167nnntuvX78+ffpUfEfV34MSExM7dux44MCBykrbtm3r63wrttOxY8cnn3zy1ltvHT9+/Ouvv75u3bp9+/ZVc1QpKSktWrTo06fPpZdeevHFF7dr167mxxONRrt16zZ69Og777zz73//+xtvvLFy5co9e/ZU/+CUiqbLycn5xje+0a9fvzPOOKPiV1/1TZeUlNShQ4d9+/bVvekyMzM7dOhQ+dny8vIa/rSu+EjTpk1//vOfDxs2bOHChfPmzVu2bNmGDRvy8/MLCwtLS0urnkU0Gv2iHzZNmjQJ/CSryU/QSCTStm3bquNDenp6LULqSUlJV1111Xe+852ZM2dOnDhxzpw527Ztq37OcEWovUWLFj179jzvvPMuuOCCE0888YhGm+Li4ueff75qpVu3bt/97nfdWAEAAIBaiNT6ScFUb9CgQePHj6/479zc3CVLlmgTAAAAqKH169efddZZmzdvrqxcf/31zz77bE0Wri4vL6+aKKpH0Wg0Pj7+S0Me0Wi0IhlTXl5eUlKyffv2vLy89evXr1mzZv369du2bSsoKCgqKiorK2vcuHFqamqrVq3at2+fm5vbtWvX7t2713H192qOJxqNlh1SXl4ePSQQGEo8JPbjBw4cCPwLUuPGjWsReC0tLS0uLq7caTQaTUxMbOgVbaPRaNXlnI/afqvvovv27Vu2bNny5cs/++yzvLy8irxRaWlpUlJSkyZNKnLJJ554YufOnbt27ZqZmXlEq4fGtnNN+m2tz2XXrl1LlixZvHjxsmXL1q1bV9G94+PjK0LtnTp1Oun/17Rp04qpEbF974iabsWKFcuWLVuyZMnatWu3b9++f//+iqaryEZ36NCha9euOTk5Xbt2bdGixRE1XVlZWSCBHRcXV4umi0ajxcXFgdBkcnLyEV3aVVuptLT0i67caDSalJR02HxwcXFxIH142Gv8S4fQigcI1CWaefDgwa1bty45ZOXKlRs2bNi9e3dhYWFF82ZmZrZu3briK8vJyenUqVNaWlrthsExY8bccMMNVc938uTJcnW1k5+ff8455yxfvryyctFFF02bNq0ug2dsn6zFpXGkN76SkpJdu3atW7du/fr1a9euXb9+/ebNmwsKCipH3dTU1JYtW7Zt27biRpybm5uZmVnHwar6Ibqay/mwt6d6GVIOO8pV3CCSk5MbNGse+0Pi6Oy3mr4RjUYLCwtXrVq1fPnyTz/9dN26dZs3by4sLCwpKUlMTExPT2/ZsmX79u27HNK1a9cTTjjhiI42MJBGo9GK4a5+z7fyXPbu3bts2bLFixcvWbJk3bp1O3furAgxp6amZmVltW/fvnv37ieddFL37t1btGhRcReoRd+u3F1RUdHq1auXLVtW2XT79+8vLi5OTEzMyMio2GPFkN6lS5fs7Oy6NF1d7kElJSUHDx6s+nPoi26XNbx2SktLv+jKTUhISEpKij3IgwcPlpSUHOlP33r87V115MnPz1+6dOmSJUuWL1++fv36Xbt2FRYWlpeXN27cuHnz5q1atar42ZmTk9OlS5f09PTatdXs2bMvuuiikpKSykrFhL2GGE4BAADgP9vYsWOHDBlS8d8pKSlr1qyp9Yo8xy8B94Yi4A4AAAC1Fo1Gf/7zn48cObKy0rJly/fffz8nJ0fjABCruLi4X79+c+fOraycc84506dPT01N1Ti18/jjj99xxx2VL1NTU2fOnHnGGWdoGQBilZeX33DDDWPHjq2sdOjQYd68eV/B//sOAAAAdSfg3qhRozj9AAAAAAibSCRyyy23VP2Xmu3bt48bN85EfQAO69///vcHH3xQ+TI+Pv7OO++Ubq+LwYMHd+vWrfJlYWHh008/HbsEOwA0atRo+fLlU6dOrVoZPny4dDsAAABQawLuAAAAQBh16tRp2LBhVSvPPvvs5s2btQwAAcXFxY899lhpaWll5fzzz+/fv7+WqYvMzMy77rorEolUVv7xj38sW7ZMywAQUFZW9vTTT+/atauyctJJJ914441aBgAAAKg1AXcAAAAgjOLi4m6++eYuXbpUVj7//PMXXnhBywAQMGfOnFmzZlW+bNy48X333de4cWMtUxeRSOSaa67p06dPZWXXrl1PPvlkeXm5xgGgqjVr1owfP77qHeTuu+9u2bKllgEAAABqTcAdAAAACKk2bdrcfvvtVdeOHT169KZNm7QMAJWKi4v/9Kc/HThwoLJy5ZVXnnvuuVqm7po2bfqLX/wiMTGxsjJ+/PgVK1ZoGQAqRaPRp59+evv27ZWVM88886qrrtIyAAAAQF0IuAMAAADhdf3115911lmVLzds2DBq1KhoNKplAKgwa9ast956q/LlCSeccO+99yYkJGiZetG/f/9LL7208mVBQcHvfvc7i7gDUGnZsmXPP/985cuUlJT777+/SZMmWgYAAACoCwF3AAAAILzS09N/85vfpKWlVVaeffbZJUuWaBkAGjVqtHfv3oceeqikpKTiZVxc3J133tm9e3ctU1+Sk5MfeuihrKysysrf//73d999V8sA0KhRo9LS0l//+tf5+fmVleuuu+7CCy/UMgAAAEAdWcYGAAAACK9oNHruuec++uijS5YsiUQiFcW8vLyvfe1rlS8B+MrasmVL7969e/bsWfGyadOmN998sxtE/d6ITznllD/+8Y/z5s2rbNj169dHo1HtDEBBQUF2dvatt95a8TIhIeGOO+7wHBUAAACg7iIe6t1ABg0aNH78+Ir/zs3NtbYcAAAAAAAAAAAAAFCNsWPHDhkypOK/U1JS1qxZk52d/VVrhDj9AAAAAAAAAAAAAACAMBBwBwAAAAAAAAAAAAAgFATcAQAAAAAAAAAAAAAIBQF3AAAAAAAAAAAAAABCQcAdAAAAAAAAAAAAAIBQEHAHAAAAAAAAAAAAACAUBNwBAAAAAAAAAAAAAAgFAXcAAAAAAAAAAAAAAEJBwB0AAAAAAAAAAAAAgFAQcAcAAAAAAAAAAAAAIBQE3AEAAAAAAAAAAAAACAUBdwAAAAAAAAAAAAAAQkHAHQAAAAAAAAAAAACAUBBwBwAAAAAAAAAAAAAgFATcAQAAAAAAAAAAAAAIBQF3AAAAAAAAAAAAAABCQcAdAAAAAAAAAAAAAIBQEHAHAAAAAAAAAAAAACAUBNwBAAAAAAAAAAAAAAgFAXcAAAAAAAAAAAAAAEJBwB0AAAAAAAAAAAAAgFAQcAcAAAAAAAAAAAAAIBQE3AEAAAAAAAAAAAAACAUBdwAAAAAAAAAAAAAAQkHAHQAAAAAAAAAAAACAUBBwBwAAAAAAAAAAAAAgFATcAQAAAAAAAAAAAAAIBQF3AAAAAAAAAAAAAABCQcAdAAAAAAAAAAAAAIBQEHAHAAAAAAAAAAAAACAUBNwBAAAAAAAAAAAAAAgFAXcAAAAAAAAAAAAAAEJBwB0AAAAAAAAAAAAAgFAQcAcAAAAAAAAAAAAAIBQE3AEAAAAAAAAAAAAACAUBdwAAAAAAAAAAAAAAQkHAHQAAAAAAAAAAAACAUBBwBwAAAAAAAAAAAAAgFATcAQAAAAAAAAAAAAAIBQF3AAAAAAAAAAAAAABCQcAdAAAAAAAAAAAAAIBQEHAHAAAAAAAAAAAAACAUBNwBAAAAAAAAAAAAAAgFAXcAAAAAAAAAAAAAAEJBwB0AAAAAAAAAAAAAgFAQcAcAAAAAAAAAAAAAIBQE3AEAAAAAAAAAAAAACAUBdwAAAAAAAAAAAAAAQkHAHQAAAAAAAAAAAACAUBBwBwAAAAAAAAAAAAAgFATcAQAAAAAAAAAAAAAIBQF3AAAAAAAAAAAAAABCQcAdAAAAAAAAAAAAAIBQEHAHAAAAAAAAAAAAACAUBNwBAAAAAAAAAAAAAAgFAXcAAAAAAAAAAAAAAEJBwB0AAAAAAAAAAAAAgFAQcAcAAAAAAAAAAAAAIBQE3AEAAAAAAAAAAAAACAUBdwAAAAAAAAAAAAAAQkHAHQAAAAAAAAAAAACAUBBwBwAAAAAAAAAAAAAgFATcAQAAAAAAAAAAAAAIBQF3AAAAAAAAAAAAAABCQcAdAAAAAAAAAAAAAIBQEHAHAAAAAAAAAAAAACAUBNwBAAAAAAAAAAAAAAgFAXcAAAAAAAAAAAAAAEJBwB0AAAAAAAAAAAAAgFAQcAcAAAAAAAAAAAAAIBQE3AEAAAAAAAAAAAAACAUBdwAAAAAAAAAAAAAAQkHAHQAAAAAAAAAAAACAUBBwBwAAAAAAAAAAAAAgFATcAQAAAAAAAAAAAAAIBQF3AAAAAAAAAAAAAABCQcAdAAAAAAAAAAAAAIBQEHAHAAAAAAAAAAAAACAUBNwBAAAAAAAAAAAAAAgFAXcAAAAAAAAAAAAAAEJBwB0AAAAAAAAAAAAAgFAQcAcAAAAAAAAAAAAAIBQE3AEAAAAAAAAAAAAACAUBdwAAAAAAAAAAAAAAQkHAHQAAAAAAAAAAAACAUBBwBwAAAAAAAAAAAAAgFATcAQAAAAAAAAAAAAAIBQF3AAAAAAAAAAAAAABCQcAdAAAAAAAAAAAAAIBQEHAHAAAAAAAAAAAAACAUBNwBAAAAAAAAAAAAAAgFAXcAAAAAAAAAAAAAAEJBwB0AAAAAAAAAAAAAgFAQcAcAAAAAAAAAAAAAIBQE3AEAAAAAAAAAAAAACAUBdwAAAAAAAAAAAAAAQkHAHQAAAAAAAAAAAACAUBBwBwAAAAAAAAAAAAAgFATcAQAAAAAAAAAAAAAIBQF3AAAAAAAAAAAAAABCQcAdAAAAAAAAAAAAAIBQEHAHAAAAAAAAAAAAACAUBNwBAAAAAAAAAAAAAAgFAXcAAAAAAAAAAAAAAEJBwB0AAAAAAAAAAAAAgFAQcAcAAAAAAAAAAAAAIBQE3AEAAAAAAAAAAAAACAUBdwAAAAAAAAAAAAAAQkHAHQAAAAAAAAAAAACAUBBwBwAAAAAAAAAAAAAgFATcAQAAAAAAAAAAAAAIBQF3AAAAAAAAAAAAAABCQcAdAAAAAAAAAAAAAIBQEHAHAAAAAAAAAAAAACAUBNwBAAAAAAAAAAAAAAgFAXcAAAAAAAAAAAAAAEJBwB0AAAAAAAAAAAAAgFAQcAcAAAAAAAAAAAAAIBQE3AEAAAAAAAAAAAAACAUBdwAAAAAAAAAAAAAAQkHAHQAAAAAAAAAAAACAUBBwBwAAAAAAAAAAAAAgFATcAQAAAAAAAAAAAAAIBQF3AAAAAAAAAAAAAABCQcAdAAAAAAAAAAAAAIBQEHAHAAAAAAAAAAAAACAUBNwBAAAAAAAAAAAAAAgFAXcAAAAAAAAAAAAAAEJBwB0AAAAAAAAAAAAAgFAQcAcAAAAAAAAAAAAAIBQE3AEAAAAAAAAAAAAACAUBdwAAAAAAAAAAAAAAQkHAHQAAAAAAAAAAAACAUBBwBwAAAAAAAAAAAAAgFATcAQAAAAAAAAAAAAAIBQF3AAAAAAAAAAAAAABCQcAdAAAAAAAAAAAAAIBQEHAHAAAAAAAAAAAAACAUBNwBAAAAAAAAAAAAAAgFAXcAAAAAAAAAAAAAAEJBwB0AAAAAAAAAAAAAgFAQcAcAAAAAAAAAAAAAIBQE3AEAAAAAAAAAAAAACAUBdwAAAAAAAAAAAAAAQkHAHQAAAAAAAAAAAACAUBBwBwAAAAAAAAAAAAAgFATcAQAAAAAAAAAAAAAIBQF3AAAAAAAAAAAAAABCQcAdAAAAAAAAAAAAAIBQEHAHAAAAAAAAAAAAACAUBNwBAAAAAAAAAAAAAAgFAXcAAAAAAAAAAAAAAEJBwB0AAAAAAAAAAAAAgFAQcAcAAAAAAAAAAAAAIBQE3AEAAAAAAAAAAAAACAUBdwAAAAAAAAAAAAAAQkHAHQAAAAAAAAAAAACAUBBwBwAAAAAAAAAAAAAgFATcAQAAAAAAAAAAAAAIBQF3AAAAAAAAAAAAAABCQcAdAAAAAAAAAAAAAIBQEHAHAAAAAAAAAAAAACAUBNwBAAAAAAAAAAAAAAgFAXcAAAAAAAAAAAAAAEJBwB0AAAAAAAAAAAAAgFAQcAcAAAAAAAAAAAAAIBQE3AEAAAAAAAAAAAAACAUBdwAAAAAAAAAAAAAAQkHAHQAAAAAAAAAAAACAUBBwBwAAAAAAAAAAAAAgFATcAQAAAAAAAAAAAAAIBQF3AAAAAAAAAAAAAABCQcAdAAAAAAAAAAAAAIBQEHAHAAAAAAAAAAAAACAUBNwBAAAAAAAAAOD/Y+/Ow6uq77Xhs/cOmdMkgCQQsDKEQZwABxqnIBarotWj1Fdb0WrtaysCWhWlzmJLtYqeVvEUPUcvqR6rdLCCHkXtEQcUK6IeKIPIoCUBQsDMyd7Z7/Wa5+HJkx0QEwwL8vn8lXzXzurVW661f3vte60FAAAEgoI7AAAAAAAAAAAAAACBoOAOAAAAAAAAAAAAAEAgKLgDAAAAAAAAAAAAABAICu4AAAAAAAAAAAAAAASCgjsAAAAAAAAAAAAAAIGg4A4AAAAAAAAAAAAAQCAouAMAAAAAAAAAAAAAEAgK7gAAAAAAAAAAAAAABIKCOwAAAAAAAAAAAAAAgaDgDgAAAAAAAAAAAABAICi4AwAAAAAAAAAAAAAQCAruAAAAAAAAAAAAAAAEgoI7AAAAAAAAAAAAAACBoOAOAAAAAAAAAAAAAEAgKLgDAAAAAAAAAAAAABAICu4AAAAAAAAAAAAAAASCgjsAAAAAAAAAAAAAAIGg4A4AAAAAAAAAAAAAQCAouAMAAAAAAAAAAAAAEAgK7gAAAAAAAAAAAAAABIKCOwAAAAAAAAAAAAAAgaDgDgAAAAAAAAAAAABAICi4AwAAAAAAAAAAAAAQCAruAAAAAAAAAAAAAAAEgoI7AAAAAAAAAAAAAACBoOAOAAAAAAAAAAAAAEAgKLgDAAAAAAAAAAAAABAICu4AAAAAAAAAAAAAAASCgjsAAAAAAAAAAAAAAIGg4A4AAAAAAAAAAAAAQCAouAMAAAAAAAAAAAAAEAgK7gAAAAAAAAAAAAAABIKCOwAAAAAAAAAAAAAAgaDgDgAAAAAAAAAAAABAICi4AwAAAAAAAAAAAAAQCAruAAAAAAAAAAAAAAAEgoI7AAAAAAAAAAAAAACBoOAOAAAAAAAAAAAAAEAgKLgDAAAAAAAAAAAAABAICu4AAAAAAAAAAAAAAASCgjsAAAAAAAAAAAAAAIGg4A4AAAAAAAAAAAAAQCAouAMAAAAAAAAAAAAAEAgK7gAAAAAAAAAAAAAABIKCOwAAAAAAAAAAAAAAgaDgDgAAAAAAAAAAAABAICi4AwAAAAAAAAAAAAAQCAruAAAAAAAAAAAAAAAEgoI7AAAAAAAAAAAAAACBoOAOAAAAAAAAAAAAAEAgKLgDAAAAAAAAAAAAABAICu4AAAAAAAAAAAAAAASCgjsAAAAAAAAAAAAAAIGg4A4AAAAAAAAAAAAAQCAouAMAAAAAAAAAAAAAEAgK7gAAAAAAAAAAAAAABIKCOwAAAAAAAAAAAAAAgaDgDgAAAAAAAAAAAABAICi4AwAAAAAAAAAAAAAQCAruAAAAAAAAAAAAAAAEgoI7AAAAAAAAAAAAAACBoOAOAAAAAAAAAAAAAEAgKLgDAAAAAAAAAAAAABAICu4AAAAAAAAAAAAAAASCgjsAAAAAAAAAAAAAAIGg4A4AAAAAAAAAAAAAQCAouAMAAAAAAAAAAAAAEAgK7gAAAAAAAAAAAAAABIKCOwAAAAAAAAAAAAAAgaDgDgAAAAAAAAAAAABAICi4AwAAAAAAAAAAAAAQCAruAAAAAAAAAAAAAAAEgoI7AAAAAAAAAAAAAACBoOAOAAAAAAAAAAAAAEAgKLgDAAAAAAAAAAAAABAICu4AAAAAAAAAAAAAAASCgjsAAAAAAAAAAAAAAIGg4A4AAAAAAAAAAAAAQCAouAMAAAAAAAAAAAAAEAgK7gAAAAAAAAAAAAAABIKCOwAAAAAAAAAAAAAAgaDgDgAAAAAAAAAAAABAICi4AwAAAAAAAAAAAAAQCAruAAAAAAAAAAAAAAAEgoI7AAAAAAAAAAAAAACBoOAOAAAAAAAAAAAAAEAgKLgDAAAAAAAAAAAAABAICu4AAAAAAAAAAAAAAASCgjsAAAAAAAAAAAAAAIGg4A4AAAAAAAAAAAAAQCAouAMAAAAAAAAAAAAAEAgK7gAAAAAAAAAAAAAABIKCOwAAAAAAAAAAAAAAgaDgDgAAAAAAAAAAAABAICi4AwAAAAAAAAAAAAAQCAruAAAAAAAAAAAAAAAEgoI7AAAAAAAAAAAAAACBoOAOAAAAAAAAAAAAAEAgKLgDAAAAAAAAAAAAABAICu4AAAAAAAAAAAAAAASCgjsAAAAAAAAAAAAAAIGg4A4AAAAAAAAAAAAAQCAouAMAAAAAAAAAAAAAEAgK7gAAAAAAAAAAAAAABIKCOwAAAAAAAAAAAAAAgaDgDgAAAAAAAAAAAABAICi4AwAAAAAAAAAAAAAQCAruAAAAAAAAAAAAAAAEgoI7AAAAAAAAAAAAAACBoOAOAAAAAAAAAAAAAEAgKLgDAAAAAAAAAAAAABAICu4AAAAAAAAAAAAAAASCgjsAAAAAAAAAAAAAAIGg4A4AAAAAAAAAAAAAQCAouAMAAAAAAAAAAAAAEAgK7gAAAAAAAAAAAAAABIKCOwAAAAAAAAAAAAAAgaDgDgAAAAAAAAAAAABAICi4AwAAAAAAAAAAAAAQCAruAAAAAAAAAAAAAAAEgoI7AAAAAAAAAAAAAACBoOAOAAAAAAAAAAAAAEAgKLgDAAAAAAAAAAAAABAICu4AAAAAAAAAAAAAAASCgjsAAAAAAAAAAAAAAIGg4A4AAAAAAAAAAAAAQCAouAMAAAAAAAAAAAAAEAgK7gAAAAAAAAAAAAAABIKCOwAAAAAAAAAAAAAAgaDgDgAAAAAAAAAAAABAICi4AwAAAAAAAAAAAAAQCAruAAAAAAAAAAAAAAAEgoI7AAAAAAAAAAAAAACBoOAOAAAAAAAAAAAAAEAgKLgDAAAAAAAAAAAAABAICu4AAAAAAAAAAAAAAASCgjsAAAAAAAAAAAAAAIGg4A4AAAAAAAAAAAAAQCAouAMAAAAAAAAAAAAAEAgK7gAAAAAAAAAAAAAABIKCOwAAAAAAAAAAAAAAgaDgDgAAAAAAAAAAAABAICi4AwAAAAAAAAAAAAAQCAruAAAAAAAAAAAAAAAEgoI7AAAAAAAAAAAAAACBoOAOAAAAAAAAAAAAAEAgKLgDAAAAAAAAAAAAABAICu4AAAAAAAAAAAAAAASCgjsAAAAAAAAAAAAAAIGg4A4AAAAAAAAAAAAAQCAouAMAAAAAAAAAAAAAEAgK7gAAAAAAAAAAAAAABIKCOwAAAAAAAAAAAAAAgaDgDgAAAAAAAAAAAABAICi4AwAAAAAAAAAAAAAQCAruAAAAAAAAAAAAAAAEgoI7AAAAAAAAAAAAAACBoOAOAAAAAAAAAAAAAEAgKLgDAAAAAAAAAAAAABAICu4AAAAAAAAAAAAAAASCgjsAAAAAAAAAAAAAAIGQJIIOsG3btscee0wOAAAAAAAAAAAAAMDOvPHGG0JQcO8IGzduvPjii+UAAAAAAAAAAAAAALALYREAAAAAAAAAAAAAABAECu4AAAAAAAAAAAAAAARCkgg6QCgUysjIkAPAXlFVVRWPx5t+Tv6CTAA6XiwWq6mp2fFrenp6OOxqW4C9oLGxsbq6esevaWlpkUhELAAdr/4LTT87gQywFzU/gZyUlJSWlrbjVwA6jPMVAAHhfAVAQESj0dra2k4egoJ7Rxg4cOBrr70mB4COV11dPWrUqM2bNzf9OnHixOuuu873EwAd78033zznnHN2/Dp//vzBgweLBaDjrVixori4eMevc+bMKSoqEgtABwuFQnfddde9997b9GuPHj0WLVqUnp4uGYCOd8IJJ6xatarp5+9+97uzZs2KxWJiAehgzlcABIHzFQDB8fTTT0+aNKmTh6Dg3iEpJyXl5+fLAaDjVVdXN79DcGZmZl5enlgAOl63bt2a/3rAAQdYIQPsFVu3bm1xfHZABtgrMjMzd/wcDofz8/N9YQywVyQl/Z9vS1NTUw844ACZAHQ85ysAAsL5CoCAyM7OFkJYBAAAAAAAAAAAAAAABIGCOwAAAAAAAAAAAAAAgaDgDgAAAAAAAAAAAABAICi4AwAAAAAAAAAAAAAQCAruAAAAAAAAAAAAAAAEgoI7AAAAAAAAAAAAAACBoOAOAAAAAAAAAAAAAEAgKLgDAAAAAAAAAAAAABAICu4AAAAAAAAAAAAAAASCgjsAAAAAAAAAAAAAAIGg4A4AAAAAAAAAAAAAQCAouAMAAAAAAAAAAAAAEAgK7gAAAAAAAAAAAAAABIKCOwAAAAAAAAAAAAAAgaDgDgAAAAAAAAAAAABAICSJ4GtyxRVXnH766U0/Z2dnCwRgr0hOTp41a1ZtbW2XLl3i8fihhx4qE4C9YujQoXPmzAmH/9cVtgUFBTIB2CsKCgqeeOKJpp8bGxuHDh0qE4C94txzzx08eHAoFOrSpUtqampycrJMAPaKX//619u3b2/6+aCDDhIIwF7hfAVAQDhfARAQxx9//O9///umA3IkEumcJeRQPB73TwEAAAAAAAAAAAAAgL0uLAIAAAAAAAAAAAAAAIJAwR0AAAAAAAAAAAAAgEBQcAcAAAAAAAAAAAAAIBAU3AEAAAAAAAAAAAAACAQFdwAAAAAAAAAAAAAAAkHBHQAAAAAAAAAAAACAQFBwBwAAAAAAAAAAAAAgEBTcAQAAAAAAAAAAAAAIBAV3AAAAAAAAAAAAAAACQcEdAAAAAAAAAAAAAIBAUHAHAAAAAAAAAAAAACAQFNwBAAAAAAAAAAAAAAgEBXcAAAAAAAAAAAAAAAJBwR0AAAAAAAAAAAAAgEBQcAcAAAAAAAAAAAAAIBAU3AEAAAAAAAAAAAAACAQFdwAAAAAAAAAAAAAAAkHBHQAAAAAAAAAAAACAQEgSAQDsjmg0uvULGzduXL9+/aeffrply5bPP/+8rq4uHo+npqZmZmbm5+d/85vfLCws7NWrV35+flKS91mAr0s8Hq+rq9u2bVtlZWVNTU1DQ8P///EmKSk1NTUjIyM7OzsjIyMUCgkKAICgrWMrKio2bdpUVla2ZcuWqqqqLl26ZGRk9OzZs1u3bnl5edaxAAB0koVxTU1NeXl5VVVVbW1tNBoNhUJNJ3gzMzNzcnJSU1MtjAG+Po2NjeXl5WVlZZs2bVq3bl1T/6G8vLyuri4Wi6WkpGRkZOTn5/fp02fQoEG9e/fu1atXcnKyIzMAHUnxbj/57Ldp06aamppWt4bD4YKCgkgkIiiAr6qurm79+vXLly9//fXX33333fXr12/atKmiouJL3lyTknr16jVkyJCzzz577Nix/fr1C4c9MgVgz6ioqFi1atWSJUtef/31FStWlJaWbtu2raqqakfBPS0tLTs7u3v37oWFhSeeeOKxxx47aNCgtLQ00QF0gPr6+k2bNkWj0cRN+fn5qampIgI6s8rKykWLFs2dO3fRokUbNmzYunVrPB7fsTUUCvXo0aNPnz7HHXfcOeecc/TRR1vEAnzdGhoaNm3a1HRKobl4PN6rVy/LV4A9Lh6Pb926ddWqVe++++4bb7yxatWqLVu2bN++vbq6uqGhIRwOJyUlpaen5+TkHHDAAUOGDDnppJOOOeaYgQMHuqUUwB4RjUY//fTTlStXvvnmm2+//fbatWubvmhrfoIiUTgc7tmzZ2Fh4WmnnTZu3LghQ4Y4LAN0/EK6pKSktra21QuNIpFIQUHBfllOC+36LYp9wieffDJu3LiNGze2urV79+6LFi3q3r27oAB20/bt21/+wmuvvbZ+/frPP/+8zbvKyckZN27cFVdcMXLkyK5du8oWoA0f1RoaGkpLS99666158+a98cYbGzZsqK+v380/T0lJGTZs2Pnnnz9+/Pg+ffq47BNgDx6fo9FofX395s2bV61atWzZssWLF7///vutFtyTk5P/+Mc/FhUVyQ3onAfMzz///JlnnvnNb37z4YcfNjY2fumfRCKRI444YvLkyWeddVZmZqa7owHskaNxLBarr6/fsmXLqlWrli9fvnjx4iVLlpSWliYW3KPR6Pz584877ji5AeyRI3BdXd2GDRsWLlw4b968xYsXf/bZZ7uzKm6SlZU1fPjwCRMmnHHGGT169HBLKYA2qK2t/dsXXnnllTVr1pSVlbV5V+np6cXFxRMnTiwuLnZlPkCH+cc//nHmmWdu2bKl1a19+vRZuHBhdnb2/vd/XMF9n1dXV3fJJZc88cQTO3tB9+7dly9ffsABB8gKYDe98sorJ5988h58i8zMzPzBD34wbdq0Pn36+FoaYDc1NjaWlJT87W9/+8tf/vK3v/1t8+bN7Tky9+7d+//9Qs+ePR2KAdomGo1WVFRs3bp1xYoVH/5vGzZsqKioaPWu7TskJye/9NJLJ5xwggyBTrimfeutt6ZOnfrmm29+1dVsOBwePXr0jBkzRowYoccD0AaxWKyioqK8vHzlypU7lq/r1q2rqKhILLW38OqrrxYXF8sQoJ2nETZs2PDiiy/++c9/fvvtt8vLy9uzt0GDBk2ZMuWCCy7YL4s7AF+rNWvWHH744ZWVlXtqh8nJyaeffvrtt98+bNgwX7oBfN1qamq+//3v/+lPf9rZC/r27fvBBx/k5OTsf//fFdz3bfF4/KmnnpowYcIuzsQpuAN8VS+99NLYsWP3+G6HDRs2a9as4447zmc8gC9VXl5+5513/ulPf1q3bl0sFtszH35CoSOOOGLmzJnHH3+8hhDAV1JTU/Pggw8uWrRo9erVn3zySdOjw3f/zxXcgc4pGo0+/vjj1157bXtujZaXl3f//fefe+65HkYEsPvq6up+97vfvf7666tXr16zZk1VVdVXWr4quAO03/r162+55ZYXXnihtLR0T5VSwuHwSSeddN999x188MG+awPYfR9//PGhhx5aU1OzZ3fbu3fvmTNnnnPOOU5ZAHytHnnkkR//+Me7eAjSflxwT/Kff5+2cePGm2+++auelQNgr/if//mf8ePHP/nkk8XFxc67AexaSUnJQw89VFVVtQf3GY/HlyxZ8i//8i+zZs0aP368QzHA7qusrJwxY8bOHn0IQKLGxsZHH3104sSJdXV17dlPaWnppZdeGo1GL7jgAitYgN1UXV199913b9iwQRQAe8uHH3746KOP7vE19oIFC8aNGzdnzpyioiLLY4C965///Oell15aXV190UUXOSYDfE3Wrl1722237aLdvn9TcN+HRaPRO+64Y9WqVaIA6EihUCgpKSkSiYS/0NSYjMfjsVisoaFh10uK0tLSCy+88LnnnjviiCMkCbBXbN269Yc//GFDQ4OGEAAAX5+5c+dOmjRpZ+32lJSUvn37DhgwoOm2OuXl5R9//PGnn37a6uurqqp+8pOf5ObmnnrqqVawAAB0cmvXrj3nnHP+8Ic/HH/88ZbHAO0XCoUikUhSUlI4HA59oemaolgsFo1Gd/2Y5crKykmTJvXo0eP00093TAbY4+rr66dNm9aZL+BXcN+HzZ8//z/+4z/kANABMjMzu3XrVlhYOHTo0AEDBhx44IH5+fm5ubkZGRmRSCQajW7fvr2kpGT16tV///vfFy5cuG7duvr6+lZ39dlnn02cOPGvf/1rbm6uYAHaLCsrKzc3t1+/fn379u3Zs2dGRkYoFKqsrPzss8+WL1++bt267du37+xvq6urJ06cmJ+fP2bMGEkCALDHvf/++5MnT2712d/p6elnnnnmj370oxEjRmRlZSUlJTXdyuTzzz9/7733Zs+e/dxzz1VXV7f4q4qKiiuuuOKFF14YPHiweAEA2NeFQqHs7Ozu3bv379+/T58+PXr0SEtLi8fj27dv37Bhw7Jlyz777LPKysqd/XlpaenFF1/8/PPPWx4DtE1aWlpubm7//v2HDh1aWFh44IEH9u7du1u3bpmZmUlJSbFYrKKiYtOmTR9//PHSpUsXLly4cuXKVs9yNJ2yuPLKK4cNG9avXz/BAuxB8Xj86aeffuaZZzpzCAru+6qSkpKpU6c2v6NPKBTKzMysqKgQDsAeEYlECgoKhg8fPmbMmJEjRxYWFmZnZzdduNzq6w877LCxY8fGYrFt27YtWLDg3nvvXbx4cTweT3zlG2+88dhjj02ZMkXIAF9VXl7eUUcddcoppxx99NH9+/dvqgQ13VKi6TNeLBarq6tbsWLFn//850cffXRnVzNv27bt6quvfumll3r27ClVgD0iFArl5uZGIpHNmzdLA+jMqqqqpk6dunHjxsRNBQUF999//5lnntm1a9fm86SkpG7dup188sknnHDCX/7yl8mTJyf++dq1a6dNm/bEE0+kpKQIGWCPyMnJSUlJKS0tFQVAh5066Nu3b1FR0dixY4cPH37QQQelp6c3PTN5xwneaDRaU1PzwQcfPPnkk0899VRZWVmru/rkk0+uvvrquXPnpqamChZgNw/CeXl5hx566JgxY44++ujBgwd369YtOTl5Z/2HYcOGjR49urGxsaqq6s0337zvvvsWLFgQjUYTX7l27doZM2bMmjVrZ7sCoA3Wr19/8803NzQ07JhEIpGUlJTE26PsxxTc90mNjY0zZsz4xz/+0Xx4xBFHDBgwoJNfsQGwR2RlZU2YMOHcc88dOXJkfn7+V/oYFolEunfvft55540dO/aWW26ZNWtWq5/xHnrooYsvvrjpQeQAfPnnlqSk4cOHX3zxxd/5zncOOuignR2ZQ6FQ0hdGjBgxfPjwiy66aNq0ac8880xjY2Piiz/44INHHnnk+uuv98xEgDZLTU3t3bt3//79jzrqqFGjRg0aNGjevHnXXHONZIDO7Nlnn3355ZcT5wcccMCcOXNOPPHEXaw/k5OTx48f36NHj/HjxydWeZ599tkXX3zxjDPOEDJA2yQnJxcUFBx00EE7lq/vvffehAkTJAPQAScQioqKLrnkkuLi4t69e+9sSRwKhbp+4bjjjmt6/VVXXbVw4cJWX/xf//Vfzz333LnnnitegC9dBp911lnjxo0rKirq06dP09PkdlM4HM7KyjrllFNOOOGE3/72t7fcckurt3J/+umnr7322oEDB0obYI+IxWJ33nnnmjVrmg9PPPHEcDi8YMGCzpODgvs+6eWXX549e3bzSXp6+owZM+bOnSscgPY7+uijR40a1XSjiDa3HnNzc2fOnJmWlnb33Xcn3sd95cqVCxcu9J00wJfKysoaO3bsFVdcMWrUqLS0tN3/w1AoNGDAgMcff3zw4MEzZsxofmXzDv/2b/92ySWX5OXlyRlgd3Tt2jUlJaVXr14DBw489NBDjzrqqEMOOSQvLy83N3fHa/77v/9bUEBnVl5ePn369Fgs1mKenJw8c+bM4uLiVh/11lw8Hh89evT999//wx/+sMUiNhqN3nrrraNHj87MzBQ1wJeeFkhKSkpJScnPzy8sLBw2bNhRRx112GGH5eXldevWbcfLVq1aJSuAr/Vo3L1797POOuvyyy8//PDDv1KlMhQKjRw58q9//eukSZMef/zxxIV0LBabOXPmaaedlp6eLmqAXSgoKHjiiSfauZPU1NRrrrkmOzv7yiuvrK+vb7G1vLx87ty5U6dOlTbAHjF//vxHH320+SQ7O/tXv/rV9OnTO1UOCu77ns2bN0+dOrXFgwYuu+yyMWPGPP300/IBaL8dNwZu5z19I5HIzTffvHjx4ldffbXFpng8/vzzzyu4A+xCTk7O+PHjJ06c2PTNx5c2gVqVnJx80003VVVVzZw5M3EP69ate/nlly+44AJpA+xaWlradddd169fv0MOOSQ/Pz8rKysSiexY2coHYIdnn3122bJlifP/5wu7c6ohFArF4/HzzjvvpZdeeuyxx1psXbJkyfPPPz9+/HhRA+z6bMCUKVMKCgoOOeSQXr16ZWVl7ahUWr4CdIxQKJSfn//973//xz/+cWFhYdMq96vuoanH88ADD1RWVv7xj39MfM3f//73pUuXfutb3xI4wC58pUfW7+KwHI/HL7nkksWLFz/88MOJL3j55Zevvvrqrl27Chygnf75z39ec801ze9+EgqFJk2adOSRR3a6tzD/GvYtsVjsnnvuWbJkSfPh0KFDb7jhhna2MAH4OmRkZPzsZz9r9Y4UH330UV1dnYgAWpWfn//ss8/Onj175MiRTUfRNi93u3bteuONN44cObLVrfPmzZM2wO4sa6+99tpzzz13yJAhOTk5O9rt7b8oFGB/Ul1d/eCDDybOu3XrNm3atOYHz11ruuvw1KlTm99juEk8Hn/ooYecTwDYtfT09Kuuuup73/vewQcfnJub2/z0rOUrQMc49NBDX3311V/96leDBg1q5xE4MzPz7rvv7tu3b+Kmurq6BQsWSBugYzSdr5g8efI3vvGNxK0rVqyorKyUEkA7xWKx22+/feXKlc2Hw4cPnzRpUidMQ8F9H/POO+888MADzSdJSUl33HFHXl6ecACCqaioqFevXonzkpKS2tpa+QC0Kjc3d8SIEV/pkbW73tuUKVNa3fTuu++2eDgSAInUgAB2x7Jly95///3E+VlnnbWj1rP7Bg0a1OqT395+++3Vq1dLG8DyFSDI+vbtO2TIkKaLPNt/WO7Xr99FF13U6qZ33nmn+b0tAfi6FRYWHn744YnzLVu2VFRUyAegnV5++eXHH3+8+SQlJeWOO+7o0aNHJ0xDwX1fsn379quuuqrF5W7f+973Wv2eA4CAyMzMPPjggxPnlZWV0WhUPgAd49vf/nafPn0S52VlZZs3b5YPAADt99RTT9XX17cYJicnX3jhhW3o9EQikQsvvDDx0d5VVVXPPvustAEA6DxCodD48ePT0tISN61atcrXbQAdKTk5efjw4YnzWCym4A7QTps3b546dWqLO/RdeOGF3/nOd+LxeCcMRMF9n9HY2HjPPfe8/fbbzYd9+/a97bbbkpOT5QMQ3PfacLhnz56tfsDrnIsPgL2iZ8+eQ4cOTZxXVVVt27ZNPgAAtFNVVdUrr7ySOC8sLBw5cmTb9nnkkUcWFhYmzl944YW6ujqZAwDQeRx00EH9+vVLnJeVlXlEJ0BHCoVCrfYfunTp4oojgPaIxWJ33XVXi2eEDhw48NZbbw2Hw53zaXUK7vuMRYsW/eY3v2k+iUQiN95448CBA/UjAYL+dhtu5Q03IyOj6cmMAHSMQYMGJQ4bGhp0gwAAaL8NGzasWLEicV5cXJyRkdG2fWZnZxcVFSXOP/roo5KSEpkDANB5pKWl9e7dO3He2NhYU1MjH4CO1Gr/IRQKZWZmCgegzV577bUHH3yw+aRr167Tp09vdRncWd5x/LPYJ1RWVt54440tbi05evToCRMmNC0RRAQQWI2NjWVlZYnznj17pqamygegw2RnZ7f+oSjsYxEAAO31zjvvJBZrwuHwscce254F50knnZQ4LC8v/+CDD2QOAEDnkZSUlJaW1uomJ3gBOlir/YecnJydfRMHwJfavn37dddd1+LZRGecccZ3v/vdzlwPttDfBzQ2Ns6ePfvVV19tPuzWrdvdd9+tGQkQfDU1NcuWLUucDx06dGdn4gD4OlRUVCQOk5OTU1JShAMAQHvE4/H333+/sbGxxTwlJWX48OHt2fOIESMS16vxeHzp0qViBwCg84jFYq0+inMXxXcAvg719fWtXnU/aNCgrKws+QC0QWNj4z333PPuu+82H+bn599xxx2dvCGs4L4P+OCDD6ZPn95ieO211x5++OHxeFw+AAH31ltvbdiwocUwFAqNGzdOOAAdafXq1YnDrKysbt26CQcAgPZoaGho9cvd3r175+fnt3m38Xg8Ly+voKAgcdPixYudHAYAoPOora3duHFj4jwvL0/BHaAjrVmzZvHixYnzMWPGuKUUQNu8+eab999/f/NJOBy+/vrrDz744E5+EljBPeiqq6uvvfbarVu3Nh8WFRVdfvnloS+ICCDgh/F77rmnoaGhxXzgwIGjR4+WD0CHKS8vX7FiReI8Ly+vR48e8gEAoD3q6upaXW0eeOCB6enpbd5tKBTKzs7u1atX4qYVK1a0egNLAADYL23cuPGTTz5JnA8ZMiQpKUk+AB0jGo3+9re/3bZtW4t5Tk7OeeedJx+ANti2bdsNN9zw+eefNx8WFxdfdtllTaeIO3M4Cu5B9+///u+vvPJK80l6evodd9yRk5MjHICAi8Vi991334IFCxI3XXHFFW4YDNCRli5dum7dusR5UVGR+0kAANBOZWVllZWVifOCgoLk5OT27DkUCvXr1y9xvu0LkgcAoJNYsGBBVVVV4nzUqFEK7gAdIx6Pz5079+GHH07cdN555w0aNEhEAG04tM6ePfv1119vPszMzJwxY0Z77pyy31BwD7Rly5bdeeedjY2NzYeXXnppcXGx588CBHz9UVZW9vOf//yWW25JPGKPGTPm0ksvdSQH6DCxWGz27NmxWKzlx6Fw+PTTT5cPAADtVFJSUltbmzj/5je/2f6dDxgwIHFYUVGxZcsWyQMA0BlUV1fPmTMn8Zu1jIyMk08+WT4AX7d4PF5ZWfnAAw9ceumliQ+UGzJkyE033dTJ7zEM0DZLly6dMWNGi+FVV1115JFHCqdLly6uZA2uqqqqadOmlZSUNB8OHTr05z//eTjsygSAgH6ua2hoKCkpeemllx588MH33nsv8TWHHXbYrFmzMjMzxQXQYZYsWTJv3rzE+cCBA4899lj5AADQTps2bWq14F5QUND+nffp0ydxWF1dXV5eLnkAADqDF1544Z133kmcf+tb3xo8eLB8AL4+DQ0NZWVlr7/++kMPPfTqq6+2uElrly5devfuPXv27N69e8sK4KuqqKi45pprtm7d2nx45JFHTp482VVDTRTcAyoejz/xxBPPPfdc82FycvIvf/nLvLy8eDzuXzBAx6uurl6+fHniEbuhoaGioqKkpGTlypXvv//+kiVLSkpKEj/aNT0n8ZFHHiksLBQmQIepqamZPn369u3bW8xDodAll1ySm5srIgAA2mnbtm2tzvPz89u/8519SazgDgBAZ1BWVnb77bdHo9EW80gk8tOf/jQlJUVEAG1TX1+/bNmyFg9AjsfjsVisqqqqtLR09erVS5cuXbJkybp16xKfk9x0J6mHH3742GOPVWMDaIPf/e53r7zySvNJenr6nXfe2b17d+E0UXAPqHXr1t1+++0tFgfjx48/7bTTmro4IgLoeGvWrGnzI2BSUlImTJhw++2375HvtgHYfU8//XSLC0eb9O/f/+KLL7a0BgCg/XbWNc/JyWn/zrOyslqdb9myRfIAAOzfGhsb77333qVLlyZuOu6440499VQRAbTZli1bTjnllE2bNrXhbyORyGmnnfbrX/960KBBkgRog2XLlt11113xeLz58Pzzzx8zZoxwdlBwD6KGhoYbbrjh008/bT7s27fvbbfd1rVrV/kA7EPC4XB2dvbo0aOnTJlSVFQUiURkAtCRPvzww+uuuy7xrhKRSOTGG2/My8sTEQAA7VdWVtbq/Bvf+Eb7d56SkhKJRBLXtAruAADs9+bPnz9z5szEeUZGxi9+8YvU1FQRAXSkUCiUkZFxzDHHXHnllaeeempycrJMANqgurr6+uuvb3GJUf/+/W+99VbVsuYU3IPoP//zP5955pn/679TUtJNN900YMAA4QDsQ9LS0i688MIf/ehHw4cPT0ryngvQ0UpLSy+77LLS0tLETWefffYFF1wQj8fdwR0AgParra1NHIZCobS0tPbvPCUlJSkpKbHgXlNTI3kAAPZjH3300ZVXXtnqunfKlCmjRo1yghegI0UikbPOOusnP/nJscce6xIjgDaLx+OPP/74vHnzmg+7du36i1/8ok+fPvJpTtkucD755JObb745Go02H55yyik/+MEPhAOwb6mpqfn973//7rvvnnHGGeeff35hYWE4HBYLQMeorKycPHny22+/nbhpwIABd911l7tKAACwp9TV1SUOw19o/853tp9W/0cBAGD/UFpaevnll69duzZx0wknnPCzn/3Ml24AHSwWi82bN2/ZsmXf/va3J0yYcPjhh7vNH0AbrFy58rbbbmtsbGw+POecc84++2zhtGDFHywNDQ3Tp09v8SEtJydn+vTpe+RmPwB0sKqqqvfee++22247/vjjb7755p09shyAPb6u/uUvf/mHP/whcVNaWtrMmTP79esnJQAA9pT6+vrEYSQS2SOdm53tp9X/UQAA2A9UV1dfddVVb7zxRuKmnj17zpw5Mzc3V0oAHa+2tnb58uX/+q//Wlxc/NOf/nTdunUyAfhKGhoabrrppo0bNzYf5uXl3XLLLe7Ql2i/uo6q7guBegRVenp6JBLZzRfH4/F58+bNmTOnxfyaa6454ogjPF0L2LfejFt9NvfeEo/H09LSunbt2s79hMPhzMzMVvff2NgYi8Wi0WiLC+x22Lx585133jl//vwHHnjgmGOOcVcJoGOOfrW1tQ0NDcFZRoZCofT09K/7GBiNRmfNmnXXXXfF4/EWmyKRyA033HDaaaf55wF0pMbGxurq6sSD0l6UlJTkQnqAPbv23ivvL5IHAGD/U1sHycacAAAcYElEQVRbe8MNNzz55JOJm9LS0u65554RI0aoTwC0XygUysjIaLUCsaP/EIvFWv3bysrK2bNnv/jii/f/f+zdfXSW5X0HcPIkIQGSEJIIgSrIq5ZOEAooc7yobe2bSjc3rTKdgrZWVpUpQziUrrUrKPWsres2eREEExRBOmgrVQqMcbb2zFGpwOSlLWVNSHhLQkJen+feOeQcy8n9EBESuMM+nz9/15M7Dz+ec+e+r+d7X9d3v/u5z33OUu4AZ6m4uHjNmjWnV2Kx2FNPPXXVVVdpTtgl9ddl4cKF3/jGNyIVGVy/fv2oUaPO8sUlJSUzZ85sse7ODTfcMG3aNLdnQMeydu3av/7rv47O+2lqalq+fPlnPvOZ8zzO4MGD9+7dG761a2hoqKqqOnTo0N69e7dv375t27bf/OY3STcK3759+6RJkxYuXHjrrbc6sQPtLR6PT5s2bf369dE54eTl5W3dujU/P7/9fkUikXjxxRdnzpzZ1NTUYigWiz344INPPvnk2T+DCtAmysrKPvnJTx45ciQ6b+mzn/3skiVL/NcAtJWki+skEok2Cb4nTgnXMzIydB4AgEtMXV3dN77xjeeffz7pVffXv/71u+++W3wCoE307NnzP/7jP1rMXSQSicbGxurq6rKysl//+tfvvPPOtm3b9uzZU1NTEz7CgQMH7rnnnmeeeeahhx6ScQf4QPv37//a177W4tmhG2+8cerUqa5vk7qk/rScPHny8OHDkXpLZ79LbFNT0ze/+c333nvv9GJ2dva3v/3t7t27+6QCHUttbW1ZWVmk3lLSuPmHlZ6eXlhYeHrl9Bm0YcOGfepTn4rH4ydOnNi6desPfvCDjRs3NjY2tjhIeXn5lClTVq9ePX78eB8VoL1VVlaWl5dH5/3E4/F2XWYykUgsX758+vTptbW14dHJkycvWLAgMzPTBwO4wBKJRHl5eaSmLCoqKvy/ALShpFnztrr6PdNxBNwBALjENDQ0PPPMM88++2z4AjgtLW3WrFmPP/64TZIB2kpqamqvXr1Or5yef/jYxz520003NW9P+vbbb7/wwgtr1649efJki4PU1NT8zd/8TXZ29l/+5V9qKUAr6uvr586de+DAgdOLubm58+bN69atm/4k5dI/Kt56661ly5a1KD7wwANjx47VHIDICj8/l5qampube+utt77++uvPP/98Xl5e+KeOHDnyyCOPRO2hLICOLgiCH/7wh48++mh1dXV49Pbbb//+97/vzhAAgPaQNGseBEGbPG/f2NiYdENwj24CAHApicfjP/jBD55++unw5pwpKSmPPPLIzJkz09PTNQqg/YTzD7FYLCsra8KECcuWLSsuLu7fv3/4p+rq6p544oldu3ZpIEArfvKTn7z66qstitOmTRs1apTmnImAeySUlZXNmDGjrq7u9OLVV189c+ZMG7gAdFAZGRkPPfTQ2rVrL7/88vDou+++++yzz7bJTuUANK+OvH79+gceeKCysjI8+pnPfGbx4sU5OTkaBQBAe+jRo0fSelVV1fkfvK6uLhzx6dSpU9KH6gEAoCNqTrfPmDEjvDdyLBZ76KGHvv3tb9vCCOAiSk1Nve222954441rr702PFpeXj5r1qyGhgaNAkiqpKTkySefbHGtO3LkyOnTp2tOKwTcL76mpqb58+f/6le/Or2YkZHx93//94WFhbKPAB1USkpKEATjxo1bvHhxdnZ2+AVLly7dv3+/RgGcv0QisW7duvvuu6+ioiI8essttyxdujQ/P1+jAABoJ2e62kx6gfphJd2hqFOnTpdddpnOAwBwCWhqavrHf/zHcOKn+eu2KVOmPPfcc126dNEogIuoeXH3IUOGrFixom/fvuEXvPHGG9u2bdMogKSXu3Pnzt23b9/pxW7dus2fP/9MK6fQTMD94tuyZcu//Mu/tCjeddddt956axAE4c1fAOhY93g333zzQw89FB49fPjw6tWrdQngPAVBsG7dugceeOD48ePh0Ztvvnnp0qU9e/b04CgAAO2ne/fuSetlZWXnf/BDhw4lrfvyAwCAS0BTU9M///M/z5w5s76+Pjx6//33f+c73+natatGAUTE0KFDZ8+eHYu1zBzW19cvX748Ho9rEUAL69atW758efhCd+LEiZrTurRL6R8zduzYp556KvwX9CL6yEc+0voLqqqqnnrqqZMnT7b4qblz56alpfmAAh3UNddcM3v27Oi8n0QiMWTIkIv121NTU7/0pS8tXrw4vGzbhg0bHn/88c6dO/vMAO0hFov96Z/+6VVXXRWdZya7du3atgvtBEHw5ptvTpky5dixY+HR66+//qWXXiosLHz/oSOAiyIrK+uxxx5rce9/cX30ox/1UD1AGyooKMjIyAgnckpLS8//4CUlJeFiRkaGgDsAAB1dIpFYtmzZjBkzamtrw6N//ud//txzzyXdJxmAiyUlJeWOO+74zne+s2fPnhZDmzZtOnHiRG5uri4BvO/w4cNz5sxpMXU8YMCAv/3bv5UQ/kCXToOCIBh3SgTfWCtfGO/Zs+e///u/W1wHPPHEE/n5+SdOnPiw937hHbua30B1dXVmZmZ4qFu3bpF6HgC4ZE7II07pWCfkdv29/fv3v+666zZs2NBi6N133z1+/HivXr18bID2EIvF7r777kv4H5hIJN56663JkycfPXo0PHrdddetXLmyT58+PgnARde9e/dZs2bpA8AlrLCwMGnA/cCBA+d/8F//+tfhYk5OTn5+vs4DANBxxePxpUuXTps2ra6ursVQSkrK7bff/sILL5xpryQALqK8vLxbbrklHHAvKyvbu3fv6NGjtQjgfe+888577713eiUWi82YMSM3N7eqqupDJdlSU1PPlBA+ceJEampqeKijJ4QvnYB7ZFcd+7BvLAiCp59+et68eefwu6qqqsLF48ePX3fddeGPaWZm5s9+9rMBAwY4iQBOyO39e9PS0pIG3Kurqw8cOCDgDnAOgiDYsGHDfffdd/jw4fDomDFjioqK+vXrp1EAAFwAPXv27NatW3h69uDBg01NTee5Es/evXvDxe7du+fl5ek8AAAdVFNT06JFi6ZPnx5Ot3fq1On2229fvHixNYABImv8+PHf//73WxRra2t/+9vfCrgDnC6RSIQrc+bMmTt37jkcraKiIlwsKSkZNWpUOBfXo0ePn/70p1dccUXH7Z4l7qMo6QqU5ywIgqShn8zMzHg8rtsAF8bgwYPDxfr6+rY95wP8PxEEwY9//OO/+qu/OnLkSHh05MiRRUVFAwYMuFh7dwAA8P9Nly5dBg0aVFpa2qJ+8ODBmpqa81l1sqqq6tChQ+H6wIEDu3TpovMAAHRETU1NCxcufOKJJ2pra8Ojt91226JFizzPCRBlgwYNSlpPOokBQAtJA73nLJFIlJeXh+sNDQ0dPSEc81kBgAsgJycn6RVG0nUpAGhFEAQ/+9nP7r///qTp9qFDhxYXFw8cODDKm4oAAHCJSUtL+9jHPhauHzx48NixY+dz5MOHD5eUlITrI0eOdLkLAEBHlEgkVqxY8cQTT5w8eTI8evPNNy9cuDA/P1+jAKKsS5cu6enp4XpNTY3mANBWBNwB4EJobGwMF1NSUlJTUzUH4OwlEomNGzd+8YtfTPpM89ChQ1etWjVkyBCNAgDgQorFYsOHDw8nzuvq6nbs2HE+R965c2d1dXW4PmLECG0HAKDDicfjy5Yt+8pXvpI03T5x4sQVK1b07NlTowAiLpFIJF0VOC0tTXMAaCsC7gBwISRdbi01NdV+4gBnLwiCn/70p/fcc8+Z0u0rV64cOnSoRgEAcOGNHTs2MzOzRTEej2/dujUIgnM+7Jtvvhkudu/effjw4XoOAEDHEo/HFy9ePG3atNra2vDojTfeWFRUVFhYeD7XzwBcGGVlZYlEIlzPzs7WHADaioA7AFwIv/rVr8LFzp07FxQUaA7A2QiCYMOGDffee295eXl49Oqrry4qKrrmmmt8+QEAwEXRv3//AQMGhOubN29OGt85G9XV1du2bQvXr7rqqiuuuELPAQDoQOLx+JIlS6ZPn97K2u29e/cOgiC8MxIAUfPLX/4yab1Xr16aA0BbsS3IRXbVVVdt3LixTVI4iUTiueee+9GPftSinpOTs2zZstzc3Bb1WCz2kY98xH8BwAVQXV39i1/8Ilzv0qVL79699QfgAwVBsGXLlvvuuy/p2u39+vUrKipqXsPSlx8AAFwUOTk5Y8eO3blzZ4v6rl27du/e/fGPf/wcjtn8s+H6jTfeGF4tHgAAIisIguLi4scff7ympiY8OmbMmJdeeqlPnz4meAE6hEQisWnTpnA9MzOz+WQOwPtGjRr11ltvtUlCOBaLzZo1K7wkymWXXbZkyZKsrKwW9bS0tMLCwg7dPQH3iyw7O3vChAltdfVQXFwcrqenp99www2XXXaZbgNcLNu2bdu1a1e4PmTIkB49eugPQOua0+1f/OIXk67d3r9//1deeWXEiBEaBQDAxXXXXXctWbKkxQ7dtbW1r7766siRIz9sUqd5vreurq5FPTMzc9KkSXI/AAB0FIlE4uWXX3744YeTpttHjx79yiuv2KEIoAPZs2fPv/3bv4Xr+fn5AwcO1B+A0+Xl5bVVQrhTp04FBQXhYmZm5p/8yZ+El8C+BMR8gACgXVVWVs6bN6+xsTE8NGHChM6dO2sRQCuCINi0adPdd9996NCh8OiAAQOKiopGjx6tUQAAXHRjxowZOnRouL58+fKDBw9+2KP97ne/e+WVV8L14cOHDxs2TLcBAOgQ4vH4Sy+99JWvfOVMa7evXLnyyiuvbJMlLQG4AOrr65999tmKioqkZ/Xu3btrEQBtRcAdAP4gkUg0NTW14QEbGxvnzZu3ZcuW8FBmZuZtt91mxTWAVjSn2ydPnlxaWhoe7dev38svv3z99df78gMAgCjIzs6eOnVquF5aWvoP//APH+qqNZFIfO9730t6GTx16tSuXbvqNgAA0ZdIJFasWPHoo49WV1eHR0eNGlVcXDxgwIAgCHxfBtAegiBobGxsw+/REonE8uXLV6xYER6KxWJf+MIX0tLStB2AtiLgDgB/UF1d/dWvfnX79u0t9hM/N/X19fPnz1+wYEHSO8bRo0ePGDFCzwHOJAiCn//85/fee2/SWE9hYeGKFSuuu+66Tp06+fIDAICIuPPOOy+//PJwfdGiRUk37z6Tf//3f1+4cGG4PnDgwC984Qv6DABA9AVBsGbNmq9+9atVVVXh0T/6oz8qKioaMGCACV6A9tPY2Dh79uzNmzcn3XD+w4rH4ytWrHj88ccbGhrCo/369bvlllv0HIA2JOAOAH+QSCRWrVo1bty4u+66a8OGDRUVFfF4/NxuFH/5y1/eeeedX/va15IuCZ+env7kk09mZmbqOUBSQRD84he/uPPOO3//+9+HR/v06VNcXHzDDTdoFAAAkdKrV6/HHnssXD9x4sSXv/zl3bt3n82qabt37546dWp4kcuUlJQZM2bk5+frMwAAEZdIJF5//fUpU6acKd2+atWqwYMHaxRAuwqCYMuWLZ/+9Kc/97nPvfbaa4cPHz63De3j8fj+/fsfeeSRpPMVzVMWjzzySM+ePfUcgDZkWxAAaHnrVVNTs2rVqrVr1w4ePPhTn/rUxIkTr7322h49emRlZcVisVZuDhsaGo4dO/b222+/+uqr69atq6ioONOL77777k9/+tO6DXAmzY8J/e53vwsPZWVlPf3001deeeWBAwfO/xcFQdCjR4/c3Fw9B2hdIpEoLS1tfaWflJSUo0ePJj3ZlpaW/va3v239hJyZmdm7d2+tBjr6rMKUKVNWrVr185//vMXQ//zP//zFX/zFP/3TP40dOzY1NTXpj8fj8W3btj388MN79+4Nj06cOPGee+7RZICzvN8vLS1NurTk6crLy5PWDx061Prla6dOnTp37ty7d2+rDgMktW7dujOl23v16jV//vzMzMzf/OY3538WDYKgZ8+e3bp103OApFJSUhoaGt58882NGzf269fvE5/4xI033jh69OiCgoLs7OwzTVA0n2CbmpoqKip27ty5Zs2a1157LemWy83GjRv34IMP6jYAbfxX7GwWjKFDSCQSX/rSlxYtWtSinp+fv3v37ssuu0yLAD5QRUXFkCFDDh8+fHoxLS2te/fugwcPvvLKKwcPHty3b99evXrl5ORkZmYGQVBfX3/8+PHS0tK9e/fu3r17165dJSUlrT/3/PGPf/xf//Vf+/Tpo+EAZ/J3f/d3X//615Pfw6SktOEOGIlEYs6cObNnz9ZzgNadOHFi/Pjx7733Xusva2pqShqCz8jIaOVh0WZjxozZvHmzVgOXgM2bN0+aNKmysjI8lJeXN3Xq1Pvvv3/gwIHp6env1xsaGvbv3//iiy8uWrTo+PHj4R8sKCj48Y9/PHr0aO0FOBv19fUTJkzYsWNH6y+Lx+NJQ/Bnc/k6bNiwLVu2ZGRk6DZA2B133LF69eqkQ7FYrA1PnkEQFBcXT5o0Sc8BznRV3OIh/NTU1KysrAGnDBo0qH///r169crNzc3MzGxOw1dWVh46dGj//v27du3avXv3gQMHWn9w9Iorrli/fv2wYcM0HKC9TZo06Yc//GH4PLxjx45LclE/K7gDwAdoamo6esp//ud/nv/R+vfvv2TJEul2gNa18iBuEAS1tbVt+LtaX40YgPdPv3V1ded8Bq6vr2+T1wB0CBMmTJg1a9bs2bPDD8AfO3bsmWeeWbRo0fDhw0eOHNm7d+8gCEpKSrZv3/7OO+8kjbZ36tQpPT39m9/85qhRo/QWIDqXr3V1ddYRAziTRCLRylDbTvDG43ENB/hQp83Kysrtp5z/0fLy8l544QXpdgDag4A7AFwgKSkp11577bJly6655hrdAAAAgEt4BmD69Onl5eXf/e53k27yduzYsU2nnM3R0tPTZ82aNXXq1JSUFL0FAAAAIqJfv34LFy78xCc+oRUAtIeYFgDABdC1a9epU6f+6Ec/uuaaa6zrAwAAAJe2tLS0b33rW3PmzOnWrdv5HCc7O/tb3/rW7Nmz09KsVgMAAABEQnp6+q233vrGG2988pOf1A0A2omAOwD8QefOncePH19QUNC2x5wwYcLq1auff/755p3HrbgGAAAAl7yMjIynnnpq6dKlgwYNOrcjDB06tKioaPr06enp6foJAAAAfCipqal//Md/3KdPn7Y95vDhw1988cWVK1deffXV8g8AtB+LvgDAH3Tt2nXlypX79u3btGnT66+/vmPHjrKysnM+Wl5e3vXXX//www/fdNNNXbt2bS66uwMAAID/J9LT0++4444xY8YsWLDg5ZdfPnbs2Fn+YM+ePe+9997p06cXFhaaSQAAAADOQVpa2oIFCx599NGtW7euWbPm7bff/t///d9EInFuR8vKyhoxYsSDDz74+c9/Pjc3t3m+wqwFAO34h0wLLhkpKSljx46tq6trcemQnZ2dmZmpPwBnf4939Slf/vKXDx06tHPnzq1bt27fvn3//v0lJSV1dXXxeDxxShAE79+wxWKx1FOys7P79u07bNiwCRMmjB8/vm/fvrFYrPmVAJy94cOHT548+QJMigVBMHz4cA0H+EDp6em333776NGj2+9XnPMKxwAR17dv3+9973uPPfbYa6+99pOf/OTdd9+trq5ubGw8fW4hNTU1LS0tJydn2LBhn/3sZ//sz/6sb9++WgdwzlJTUz//+c8PGzasXU/vqampWg2Q1MSJE7Oysi7Y9baGA5xJLBbrd8rkyZOPHDmyZ8+erVu3/td//de+ffsOHjx48uTJ+Cnvz1E0T1PETklLS+vSpcsVV1zx0Y9+dNy4cTfddNOgQYPS0qQNAS7mZXZOTk6LYn5+/qW6BWiKyB0AfKB4PF5TU1NVVfX73/++pKTk6NGjlZWVDQ0NiUSic+fOGRkZubm5BQUFffr06d27d3Z29vvrtQNwDi78bob2TwQA4MKor68/evTovn37Dhw4cOTIkdra2uYN5QoKCq688spBgwbl5eV17txZowAA6LhMtwJE/PwcBEFNTc2JEydKTjly5EhlZWVtbW0ikUhPT8/IyMjJySkoKCgsLLz88suzsrKys7N1D8Bl9oUn4A4ArhIAAACAC+EDpxfMPwAAAADtzfwDANEn4A4AAAAAAAAAAAAAQCTEtAAAAAAAAAAAAAAAgCgQcAcAAAAAAAAAAAAAIBIE3AEAAAAAAAAAAAAAiAQBdwAAAAAAAAAAAAAAIkHAHQAAAAAAAAAAAACASBBwBwAAAAAAAAAAAAAgEgTcAQAAAAAAAAAAAACIBAF3AAAAAAAAAAAAAAAiQcAdAAAAAAAAAAAAAIBIEHAHAAAAAAAAAAAAACASBNwBAAAAAAAAAAAAAIgEAXcAAAAAAAAAAAAAACJBwB0AAAAAAAAAAAAAgEgQcAcAAAAAAAAAAAAAIBIE3AEAAAAAAAAAAAAAiAQBdwAAAAAAAAAAAAAAIkHAHQAAAAAAAAAAAACASBBwBwAAAAAAAAAAAAAgEgTcAQAAAAAAAAAAAACIBAF3AAAAAAAAAAAAAAAiQcAdAAAAAAAAAAAAAIBIEHAHAAAAAAAAAAAAACASBNwBAAAAAAAAAAAAAIgEAXcAAAAAAAAAAAAAACJBwB0AAAAAAAAAAAAAgEgQcAcAAAAAAAAAAAAAIBIE3AEAAAAAAAAAAAAAiAQBdwAAAAAAAAAAAAAAIkHAHQAAAAAAAAAAAACASBBwBwAAAAAAAAAAAAAgEgTcAQAAAAAAAAAAAACIBAF3AAAAAAAAAAAAAAAiQcAdAAAAAAAAAAAAAIBIEHAHAAAAAAAAAAAAACASBNwBAAAAAAAAAAAAAIgEAXcAAAAAAAAAAAAAACJBwB0AAAAAAAAAAAAAgEgQcAcAAAAAAAAAAAAAIBIE3AEAAAAAAAAAAAAAiAQBdwAAAAAAAAAAAAAAIkHAHQAAAAAAAAAAAACASBBwBwAAAAAAAAAAAAAgEgTcAQAAAAAAAAAAAACIBAF3AAAAAAAAAAAAAAAiQcAdAAAAAAAAAAAAAIBIEHAHAAAAAAAAAAAAACASBNwBAAAAAAAAAAAAAIgEAXcAAAAAAAAAAAAAACJBwB0AAAAAAAAAAAAAgEgQcAcAAAAAAAAAAAAAIBIE3AEAAAAAAAAAAAAAiAQBdwAAAAAAAAAAAAAAIkHAHQAAAAAAAAAAAACASBBwBwAAAAAAAAAAAAAgEgTcAQAAAAAAAAAAAACIBAF3AAAAAAAAAAAAAAAiQcAdAAAAAAAAAAAAAIBIEHAHAAAAAAAAAAAAACASBNwBAAAAAAAAAAAAAIgEAXcAAAAAAAAAAAAAACJBwB0AAAAAAAAAAAAAgEgQcAcAAAAAAAAAAAAAIBIE3AEAAAAAAAAAAAAAiAQBdwAAAAAAAAAAAAAAIkHAHQAAAAAAAAAAAACASBBwBwAAAAAAAAAAAAAgEgTcAQAAAAAAAAAAAACIBAF3AAAAAAAAAAAAAAAiQcAdAAAAAAAAAAAAAIBIEHAHAAAAAAAAAAAAACASBNwBAAAAAAAAAAAAAIgEAXcAAAAAAAAAAAAAACJBwB0AAAAAAAAAAAAAgEgQcAcAAAAAAAAAAAAAIBIE3AEAAAAAAAAAAAAAiIT/CwAA//+h9lh/XYb3uAAAAABJRU5ErkJggg==)"
   ]
  },
  {
   "cell_type": "markdown",
   "metadata": {
    "id": "QIDoOzPImmxE"
   },
   "source": [
    "Let's make a boxplot displaying healthy human body temperature."
   ]
  },
  {
   "cell_type": "code",
   "execution_count": null,
   "metadata": {
    "colab": {
     "base_uri": "https://localhost:8080/",
     "height": 279
    },
    "executionInfo": {
     "elapsed": 314,
     "status": "ok",
     "timestamp": 1604547430498,
     "user": {
      "displayName": "Vignesh Narayanaswamy",
      "photoUrl": "",
      "userId": "17945519343825853893"
     },
     "user_tz": 300
    },
    "id": "aVr_cVCq7zFu",
    "outputId": "df1e2fd5-0565-4db4-cad2-3b5939202ba7"
   },
   "outputs": [],
   "source": [
    "#Boxplot of body temp\n",
    "plt.boxplot(Bodytemp['Body_temp'], vert= False)\n",
    "\n",
    "plt.xlabel('Body Temperature in Degrees F')\n",
    "#plt.ylabel('') No y axis\n",
    "\n",
    "plt.show()"
   ]
  },
  {
   "cell_type": "markdown",
   "metadata": {
    "id": "lLAFkwMems7R"
   },
   "source": [
    "The distribution of my data is pretty symmetric, and there are two outliers (one w/ very low body temp and one w/ very high body temp). 50% of individuals have body temp between 97.8 and 98.5 degrees F."
   ]
  },
  {
   "cell_type": "markdown",
   "metadata": {
    "id": "SWTPgqKdngyq"
   },
   "source": [
    "Let's compare this to the distribution of age on the Titanic."
   ]
  },
  {
   "cell_type": "code",
   "execution_count": null,
   "metadata": {
    "colab": {
     "base_uri": "https://localhost:8080/",
     "height": 279
    },
    "executionInfo": {
     "elapsed": 622,
     "status": "ok",
     "timestamp": 1604547656094,
     "user": {
      "displayName": "Vignesh Narayanaswamy",
      "photoUrl": "",
      "userId": "17945519343825853893"
     },
     "user_tz": 300
    },
    "id": "H15EZ6SLnrLZ",
    "outputId": "1cd1de27-1f64-470e-f0d9-9c2eebb6a250"
   },
   "outputs": [],
   "source": [
    "#Boxplot of Titanic passenger age\n",
    "\n",
    "plt.boxplot(Titanic['Age'], vert= False)\n",
    "\n",
    "plt.xlabel('Age of Passengers')\n",
    "\n",
    "plt.show()"
   ]
  },
  {
   "cell_type": "markdown",
   "metadata": {
    "id": "Rqx73sOmnzl1"
   },
   "source": [
    "We can see that the distribution of age on the Titanic is skewed to the right, because the highest quartile is stretched out to the right and there are outliers in older ages. "
   ]
  },
  {
   "cell_type": "markdown",
   "metadata": {
    "id": "GXDkTiBzoF3m"
   },
   "source": [
    "Let's look at a boxplot of animal sleep."
   ]
  },
  {
   "cell_type": "code",
   "execution_count": null,
   "metadata": {
    "colab": {
     "base_uri": "https://localhost:8080/",
     "height": 295
    },
    "executionInfo": {
     "elapsed": 313,
     "status": "ok",
     "timestamp": 1604548048347,
     "user": {
      "displayName": "Vignesh Narayanaswamy",
      "photoUrl": "",
      "userId": "17945519343825853893"
     },
     "user_tz": 300
    },
    "id": "AVwUP8sIoQ5S",
    "outputId": "adc857f5-4d0d-4300-deda-03244b526a79"
   },
   "outputs": [],
   "source": [
    "#Animal sleep\n",
    "plt.boxplot(Sleep['Totsleep'], vert= False)\n",
    "\n",
    "plt.xlabel('Number of Hours of Sleep')\n",
    "\n",
    "plt.title('Hours of Sleep in Mammal Species');  #we can also use semicolon to just show plot without code output\n",
    "\n",
    "#plt.show()"
   ]
  },
  {
   "cell_type": "markdown",
   "metadata": {
    "id": "VRbM6As7oaKh"
   },
   "source": [
    "There may be some right skewness, but I cannot see multiple modes. "
   ]
  },
  {
   "cell_type": "markdown",
   "metadata": {
    "id": "7BrZ7DUQomzX"
   },
   "source": [
    "Both histograms and boxplots are helpful for showing different features of the distribution of a quantitative variable.\n",
    "\n",
    "* Histograms show the modes most clearly\n",
    "* Boxplots show outliers most clearly\n",
    "\n"
   ]
  },
  {
   "cell_type": "markdown",
   "metadata": {
    "id": "c9kbagytpGbo"
   },
   "source": [
    "The reason that we are so interested in the shape of the distribution of a quantiative variable is that variables that are normally distributed (unimodal and symmetric) have very special mathematical properties that will be helpful to us in the future."
   ]
  },
  {
   "cell_type": "markdown",
   "metadata": {
    "id": "jgG0I3__pXy5"
   },
   "source": [
    "In particular, when a variable has a Normal distribution (or follows a Normal model), the mean is a good descriptor of a \"typical\" value of that variable.  This is not true for other distributions.\n",
    "\n",
    "For distributions that are not unimodal and symmetric, the median is a better measure of a \"typical\" value."
   ]
  },
  {
   "cell_type": "markdown",
   "metadata": {
    "id": "dvQiaIASpxCc"
   },
   "source": [
    "Let's compare the mean and median values for healthy human body temperature, passenger age on the Titanic and total sleep in mammals."
   ]
  },
  {
   "cell_type": "code",
   "execution_count": null,
   "metadata": {
    "colab": {
     "base_uri": "https://localhost:8080/"
    },
    "executionInfo": {
     "elapsed": 349,
     "status": "ok",
     "timestamp": 1604548464295,
     "user": {
      "displayName": "Vignesh Narayanaswamy",
      "photoUrl": "",
      "userId": "17945519343825853893"
     },
     "user_tz": 300
    },
    "id": "8rKCOJo2qpdQ",
    "outputId": "a880e5c9-b186-4310-db88-0e4a95529562"
   },
   "outputs": [],
   "source": [
    "Bodytemp['Body_temp'].describe()\n",
    "\n"
   ]
  },
  {
   "cell_type": "code",
   "execution_count": null,
   "metadata": {
    "colab": {
     "base_uri": "https://localhost:8080/"
    },
    "executionInfo": {
     "elapsed": 254,
     "status": "ok",
     "timestamp": 1604548467475,
     "user": {
      "displayName": "Vignesh Narayanaswamy",
      "photoUrl": "",
      "userId": "17945519343825853893"
     },
     "user_tz": 300
    },
    "id": "RraffK8orGb4",
    "outputId": "8042a372-b4c8-4797-9a81-a3f53339c695"
   },
   "outputs": [],
   "source": [
    "Titanic['Age'].describe()"
   ]
  },
  {
   "cell_type": "code",
   "execution_count": null,
   "metadata": {
    "colab": {
     "base_uri": "https://localhost:8080/"
    },
    "executionInfo": {
     "elapsed": 360,
     "status": "ok",
     "timestamp": 1604548472495,
     "user": {
      "displayName": "Vignesh Narayanaswamy",
      "photoUrl": "",
      "userId": "17945519343825853893"
     },
     "user_tz": 300
    },
    "id": "yXoBci2gq9YW",
    "outputId": "edf24f10-8038-4d52-c11f-ad2cbfe36c9e"
   },
   "outputs": [],
   "source": [
    "Sleep['Totsleep'].describe()"
   ]
  },
  {
   "cell_type": "markdown",
   "metadata": {
    "id": "6rNZ0Vc6sGaT"
   },
   "source": [
    "When the data is very skewed, the mean becomes an even worse measure of center."
   ]
  },
  {
   "cell_type": "markdown",
   "metadata": {
    "id": "SGtWtwTmsPqb"
   },
   "source": [
    "![pra_2016_2018-02-19_tie_001_en_001.gif](data:image/gif;base64,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)"
   ]
  },
  {
   "cell_type": "markdown",
   "metadata": {
    "id": "59jSon6C1MG2"
   },
   "source": [
    "###We can also look at a histogram of the age of titanic passengers by sex to see if there was a difference in age between male and female passengers.  "
   ]
  },
  {
   "cell_type": "markdown",
   "metadata": {
    "id": "8qqKpsGhz_ws"
   },
   "source": [
    "###Outliers\n",
    "\n",
    "Outliers are not always errors.  There are three main reasons that outliers can appear in your data.\n",
    "\n",
    "1. Certain statistical distributions are expected to have outliers (Poisson distribution).  \n",
    "2. Unusual but correct points that contain important information.\n",
    "3. Errors.  Typos, measurement errors, etc.\n",
    "\n",
    "It's imporant to think about *why* you might be seeing the outliers."
   ]
  },
  {
   "cell_type": "markdown",
   "metadata": {
    "id": "CkhimmAY-2BD"
   },
   "source": [
    "###We can compare distributions using histograms and box plots as well.\n",
    "\n",
    "Here we will overalay the age of titanic passengers by sex to see if there was a difference in age between male and female passengers.  "
   ]
  },
  {
   "cell_type": "code",
   "execution_count": null,
   "metadata": {
    "colab": {
     "base_uri": "https://localhost:8080/",
     "height": 295
    },
    "executionInfo": {
     "elapsed": 611,
     "status": "ok",
     "timestamp": 1604548845512,
     "user": {
      "displayName": "Vignesh Narayanaswamy",
      "photoUrl": "",
      "userId": "17945519343825853893"
     },
     "user_tz": 300
    },
    "id": "6mvEpMhU3Rcl",
    "outputId": "15cbbdfd-d522-4995-8ff2-ddd23a647604"
   },
   "outputs": [],
   "source": [
    "#Histogram\n",
    "Titanic_Male = Titanic[Titanic['Sex'] == 'male']\n",
    "Titanic_Female = Titanic[Titanic['Sex'] == 'female']\n",
    "\n",
    "plt.hist(Titanic_Male['Age'],label='Male Passengers')\n",
    "plt.hist(Titanic_Female['Age'],label='Female Passengers')\n",
    "\n",
    "plt.xlabel('Age in Years')\n",
    "plt.ylabel('Frequency')\n",
    "plt.title(r'Age of Titanic Passengers')\n",
    "plt.legend(loc='upper right')\n",
    "\n",
    "plt.show()"
   ]
  },
  {
   "cell_type": "markdown",
   "metadata": {
    "id": "UnB3VZxo4uHT"
   },
   "source": [
    "We can see the same age pattern for male and female passengers, but there were many more male passengers than female passengers.  Let's explore that more."
   ]
  },
  {
   "cell_type": "code",
   "execution_count": null,
   "metadata": {
    "colab": {
     "base_uri": "https://localhost:8080/",
     "height": 295
    },
    "executionInfo": {
     "elapsed": 337,
     "status": "ok",
     "timestamp": 1604548947713,
     "user": {
      "displayName": "Vignesh Narayanaswamy",
      "photoUrl": "",
      "userId": "17945519343825853893"
     },
     "user_tz": 300
    },
    "id": "KSl8vDb_tb_G",
    "outputId": "58117b20-869a-40a9-a0a0-a490b053fe15"
   },
   "outputs": [],
   "source": [
    "#Boxplot\n",
    "plt.boxplot([Titanic_Male['Age'],Titanic_Female['Age']],labels=['Male','Female'],vert=False)\n",
    "\n",
    "plt.xlabel('Age in Years')\n",
    "plt.ylabel('Frequency')\n",
    "plt.title(r'Age of Titanic Passengers')\n",
    "plt.show()\n",
    "\n"
   ]
  },
  {
   "cell_type": "markdown",
   "metadata": {
    "id": "hfZvOXO8qeUa"
   },
   "source": [
    "We can see clearly here that there weren't really any female passengers who were older than 60; however, there were quite a few male passengers who were that old."
   ]
  },
  {
   "cell_type": "markdown",
   "metadata": {
    "id": "-2KbA2qruTfe"
   },
   "source": [
    "#Let's shift to displaying categorical variables."
   ]
  },
  {
   "cell_type": "markdown",
   "metadata": {
    "id": "GAKb2bwr5I6l"
   },
   "source": [
    "###We can make a bar plot to show the frequency of male and female passengers."
   ]
  },
  {
   "cell_type": "code",
   "execution_count": null,
   "metadata": {
    "colab": {
     "base_uri": "https://localhost:8080/"
    },
    "executionInfo": {
     "elapsed": 211,
     "status": "ok",
     "timestamp": 1604549399113,
     "user": {
      "displayName": "Vignesh Narayanaswamy",
      "photoUrl": "",
      "userId": "17945519343825853893"
     },
     "user_tz": 300
    },
    "id": "R3xU-DCK5PRj",
    "outputId": "c2a62378-7b74-4849-9020-4744cc0cd59b"
   },
   "outputs": [],
   "source": [
    "#A bar plot expects the data to be entered in summary form\n",
    "print(pd.crosstab(index=Titanic[\"Sex\"], columns=\"count\"))\n",
    "\n"
   ]
  },
  {
   "cell_type": "code",
   "execution_count": null,
   "metadata": {
    "colab": {
     "base_uri": "https://localhost:8080/",
     "height": 295
    },
    "executionInfo": {
     "elapsed": 291,
     "status": "ok",
     "timestamp": 1604549561878,
     "user": {
      "displayName": "Vignesh Narayanaswamy",
      "photoUrl": "",
      "userId": "17945519343825853893"
     },
     "user_tz": 300
    },
    "id": "2Fps7xH38efo",
    "outputId": "9e7ddd6e-01bf-42fa-feab-7554901fe489"
   },
   "outputs": [],
   "source": [
    "#A bar plot expects the data to be entered in summary form\n",
    "#With x-lables and y value heights\n",
    "df = pd.DataFrame({'lab':['Female', 'Male'], 'val':[314, 537]})\n",
    "\n",
    "ax = df.plot.bar(x = 'lab', y = 'val', rot = 0)\n",
    "\n",
    "plt.xlabel('Passenger Sex')\n",
    "plt.ylabel('Frequency')\n",
    "plt.title(r'Titanic Passenger Sex')\n",
    "\n",
    "#Remove the legend because it doesn't give us any information\n",
    "ax.get_legend().remove()\n",
    "\n",
    "plt.show()"
   ]
  },
  {
   "cell_type": "markdown",
   "metadata": {
    "id": "yo9A7KVP9_Ae"
   },
   "source": [
    "###And now for the much-maligned pie chart. We'll display the relative frequency of survivors and those who did not survive. \n",
    "\n",
    "Pie charts aren't that bad when used appropriately."
   ]
  },
  {
   "cell_type": "code",
   "execution_count": null,
   "metadata": {
    "colab": {
     "base_uri": "https://localhost:8080/"
    },
    "executionInfo": {
     "elapsed": 234,
     "status": "ok",
     "timestamp": 1604549588835,
     "user": {
      "displayName": "Vignesh Narayanaswamy",
      "photoUrl": "",
      "userId": "17945519343825853893"
     },
     "user_tz": 300
    },
    "id": "PTqtH53M-YEi",
    "outputId": "66963197-e0bb-4413-d8a7-6cc43b7b9e3f"
   },
   "outputs": [],
   "source": [
    "#A pie chart expects the data to be entered in summary or wide form\n",
    "print(pd.crosstab(index=Titanic[\"Survived\"], columns=\"count\"))\n",
    "\n"
   ]
  },
  {
   "cell_type": "code",
   "execution_count": null,
   "metadata": {
    "colab": {
     "base_uri": "https://localhost:8080/",
     "height": 264
    },
    "executionInfo": {
     "elapsed": 460,
     "status": "ok",
     "timestamp": 1604722163855,
     "user": {
      "displayName": "Parvi Singh",
      "photoUrl": "",
      "userId": "15870809085498692847"
     },
     "user_tz": 300
    },
    "id": "YbfxmH34-G3p",
    "outputId": "7517b4f0-df7f-47f9-a2d2-1a3f641d9200"
   },
   "outputs": [],
   "source": [
    "\n",
    "import matplotlib.pyplot as plt\n",
    "\n",
    "# Pie chart, where the slices will be ordered and plotted counter-clockwise:\n",
    "# Equal aspect ratio ensures that pie is drawn as a circle.\n",
    "labels = 'Did not Survive', 'Survived', 'Test'\n",
    "sizes = [545, 342, 100]\n",
    "\n",
    "fig1, ax1 = plt.subplots()\n",
    "ax1.pie(sizes, labels=labels, autopct='%1.1f%%', startangle=90)\n",
    "ax1.axis('equal')  # Equal aspect ratio ensures that pie is drawn as a circle.\n",
    "\n",
    "plt.title(r'Titanic Passenger Survival Rate')\n",
    "plt.show()\n"
   ]
  },
  {
   "cell_type": "markdown",
   "metadata": {
    "id": "lpaeN9_-1ul6"
   },
   "source": [
    "## Figure, Axes Syntax for increasing fanciness.\n",
    "\n",
    "Let's make a line graph showing survival by passenger sex.  We'll need more summary data."
   ]
  },
  {
   "cell_type": "code",
   "execution_count": null,
   "metadata": {
    "colab": {
     "base_uri": "https://localhost:8080/"
    },
    "executionInfo": {
     "elapsed": 270,
     "status": "ok",
     "timestamp": 1604549787654,
     "user": {
      "displayName": "Vignesh Narayanaswamy",
      "photoUrl": "",
      "userId": "17945519343825853893"
     },
     "user_tz": 300
    },
    "id": "zzSIQuXRBwi0",
    "outputId": "52751293-cae7-4d32-fc4c-9a0cff86b1df"
   },
   "outputs": [],
   "source": [
    "print(pd.crosstab(Titanic[\"Survived\"], Titanic['Sex']))"
   ]
  },
  {
   "cell_type": "code",
   "execution_count": null,
   "metadata": {
    "colab": {
     "base_uri": "https://localhost:8080/",
     "height": 107
    },
    "executionInfo": {
     "elapsed": 263,
     "status": "ok",
     "timestamp": 1604549854884,
     "user": {
      "displayName": "Vignesh Narayanaswamy",
      "photoUrl": "",
      "userId": "17945519343825853893"
     },
     "user_tz": 300
    },
    "id": "V29aOIyI1sMa",
    "outputId": "29e191da-bfaf-4291-afa4-31020ce34a07"
   },
   "outputs": [],
   "source": [
    "df = pd.DataFrame({'Male':[464,109], 'Female': [81,233]})\n",
    "\n",
    "df.head()"
   ]
  },
  {
   "cell_type": "code",
   "execution_count": null,
   "metadata": {
    "colab": {
     "base_uri": "https://localhost:8080/",
     "height": 282
    },
    "executionInfo": {
     "elapsed": 405,
     "status": "ok",
     "timestamp": 1604549894764,
     "user": {
      "displayName": "Vignesh Narayanaswamy",
      "photoUrl": "",
      "userId": "17945519343825853893"
     },
     "user_tz": 300
    },
    "id": "eeGs_2oz2SIS",
    "outputId": "fd4f3315-26b0-4852-c4c2-865f0bbd5dff"
   },
   "outputs": [],
   "source": [
    "#same plot\n",
    "df['Male'].plot()\n",
    "df['Female'].plot()"
   ]
  },
  {
   "cell_type": "code",
   "execution_count": null,
   "metadata": {
    "colab": {
     "base_uri": "https://localhost:8080/",
     "height": 517
    },
    "executionInfo": {
     "elapsed": 531,
     "status": "ok",
     "timestamp": 1604549935290,
     "user": {
      "displayName": "Vignesh Narayanaswamy",
      "photoUrl": "",
      "userId": "17945519343825853893"
     },
     "user_tz": 300
    },
    "id": "dDgXWOYh2tbv",
    "outputId": "d7818bb9-8aa5-4dd4-e013-42199b4de036"
   },
   "outputs": [],
   "source": [
    "#Different plots\n",
    "df['Male'].plot()\n",
    "plt.show()\n",
    "df['Female'].plot()\n",
    "plt.show()\n"
   ]
  },
  {
   "cell_type": "code",
   "execution_count": null,
   "metadata": {
    "colab": {
     "base_uri": "https://localhost:8080/",
     "height": 312
    },
    "executionInfo": {
     "elapsed": 439,
     "status": "ok",
     "timestamp": 1604550338449,
     "user": {
      "displayName": "Vignesh Narayanaswamy",
      "photoUrl": "",
      "userId": "17945519343825853893"
     },
     "user_tz": 300
    },
    "id": "NUsDf2jR1xLY",
    "outputId": "cb2fbf08-9a75-4078-994c-867a644449f0"
   },
   "outputs": [],
   "source": [
    "#Figure and Axes syntax\n",
    "\n",
    "fig, ax = plt.subplots() \n",
    "\n",
    "#Everything is done to either our fig or ax variables\n",
    "fig.set_facecolor('yellow')\n",
    "\n",
    "my_ticks = ['Did Not Surive', 'Surived']\n",
    "\n",
    "ax.plot(my_ticks, df['Male'], label = 'Male')\n",
    "ax.plot(my_ticks, df['Female'], label = 'Female')\n",
    "\n",
    "ax.set_facecolor('lightblue')\n",
    "\n",
    "ax.set_title(\"Passenger Survival by Sex\")\n",
    "ax.set_xlabel('Passenger Survival')\n",
    "ax.set_ylabel('Number of Passengers')\n",
    "\n",
    "ax.legend()"
   ]
  },
  {
   "cell_type": "markdown",
   "metadata": {
    "id": "EwddcTRovbwh"
   },
   "source": [
    "We can use the [FiveThirtyEight](https://https://fivethirtyeight.com/) style to make our figure look instantly fancier."
   ]
  },
  {
   "cell_type": "code",
   "execution_count": null,
   "metadata": {
    "colab": {
     "base_uri": "https://localhost:8080/",
     "height": 317
    },
    "executionInfo": {
     "elapsed": 432,
     "status": "ok",
     "timestamp": 1604550402707,
     "user": {
      "displayName": "Vignesh Narayanaswamy",
      "photoUrl": "",
      "userId": "17945519343825853893"
     },
     "user_tz": 300
    },
    "id": "AO8vr8bsvKTG",
    "outputId": "9a959833-97a0-4600-fc45-0a513ca6ff32"
   },
   "outputs": [],
   "source": [
    "#Figure and Axes syntax\n",
    "fig, ax = plt.subplots() \n",
    "\n",
    "plt.style.use('fivethirtyeight')\n",
    "\n",
    "#Everything is done to either our fig or ax variables\n",
    "fig.set_facecolor('yellow')\n",
    "\n",
    "my_ticks = ['Did Not Surive', 'Surived']\n",
    "\n",
    "ax.plot(my_ticks, df['Male'], label = 'Male')\n",
    "ax.plot(my_ticks, df['Female'], label = 'Female')\n",
    "\n",
    "ax.set_facecolor('lightblue')\n",
    "\n",
    "ax.set_title(\"Passenger Survival by Sex\")\n",
    "ax.set_xlabel('Passenger Survival')\n",
    "ax.set_ylabel('Number of Passengers')\n",
    "\n",
    "ax.legend()"
   ]
  },
  {
   "cell_type": "markdown",
   "metadata": {
    "id": "21YsjFAaRQOr"
   },
   "source": [
    "###Not good news for our poor male passengers!"
   ]
  },
  {
   "cell_type": "markdown",
   "metadata": {
    "id": "5_na7Oy3NGKA"
   },
   "source": [
    "# Let's do another example focusing on tuning graphical parameters to make a nice figure."
   ]
  },
  {
   "cell_type": "markdown",
   "metadata": {
    "id": "ORUwQD6F-VYg"
   },
   "source": [
    "We are going to answer the question \"Is *An Inconvenient Sequal - Truth to Power* a good movie?\"\n",
    "\n",
    "To answer this quesiton, we are going to make a bar plot of movie ratings from the IMDB, recreating this [example by FiveThirtyEight:](https://fivethirtyeight.com/features/al-gores-new-movie-exposes-the-big-flaw-in-online-movie-ratings/)\n",
    "\n"
   ]
  },
  {
   "cell_type": "code",
   "execution_count": null,
   "metadata": {
    "colab": {
     "base_uri": "https://localhost:8080/",
     "height": 355
    },
    "executionInfo": {
     "elapsed": 239,
     "status": "ok",
     "timestamp": 1604550481059,
     "user": {
      "displayName": "Vignesh Narayanaswamy",
      "photoUrl": "",
      "userId": "17945519343825853893"
     },
     "user_tz": 300
    },
    "id": "ya_w5WORGs-n",
    "outputId": "f98f1397-1f1a-45e5-d484-59c67f3255d3"
   },
   "outputs": [],
   "source": [
    "from IPython.display import display, Image\n",
    "\n",
    "url = 'https://fivethirtyeight.com/wp-content/uploads/2017/09/mehtahickey-inconvenient-0830-1.png'\n",
    "example = Image(url=url, width=400)\n",
    "\n",
    "display(example)"
   ]
  },
  {
   "cell_type": "code",
   "execution_count": null,
   "metadata": {
    "colab": {
     "base_uri": "https://localhost:8080/",
     "height": 285
    },
    "executionInfo": {
     "elapsed": 434,
     "status": "ok",
     "timestamp": 1604550561174,
     "user": {
      "displayName": "Vignesh Narayanaswamy",
      "photoUrl": "",
      "userId": "17945519343825853893"
     },
     "user_tz": 300
    },
    "id": "wvE58RtK5kdi",
    "outputId": "14dddbc8-9682-4d06-d93d-440cb340d305"
   },
   "outputs": [],
   "source": [
    "# Exploratory Graph\n",
    "fake = pd.Series([38, 3, 2, 1, 2, 4, 6, 5, 5, 33], \n",
    "                 index=range(1,11))\n",
    "fake.plot.bar();"
   ]
  },
  {
   "cell_type": "code",
   "execution_count": null,
   "metadata": {
    "colab": {
     "base_uri": "https://localhost:8080/",
     "height": 334
    },
    "executionInfo": {
     "elapsed": 373,
     "status": "ok",
     "timestamp": 1604551088197,
     "user": {
      "displayName": "Vignesh Narayanaswamy",
      "photoUrl": "",
      "userId": "17945519343825853893"
     },
     "user_tz": 300
    },
    "id": "c8EbfyR253Uc",
    "outputId": "895acb3a-428c-4b23-a06d-e36e37d120a3"
   },
   "outputs": [],
   "source": [
    "#plot style\n",
    "plt.style.use('fivethirtyeight')\n",
    "\n",
    "fig, ax = plt.subplots()\n",
    "\n",
    "# My graph stuff goes in the middle\n",
    "# figure background color\n",
    "fig.set_facecolor('white')\n",
    "\n",
    "\n",
    "# bars on the graph\n",
    "ax.bar([1,2,3,4,5,6,7,8,9,10], fake, color='#ED713A', width=.9)\n",
    "\n",
    "\n",
    "# axes background color\n",
    "ax.set_facecolor('white')\n",
    "\n",
    "\n",
    "# axis labels\n",
    "ax.set_xlabel('Rating', fontweight='bold', fontsize=9)\n",
    "ax.set_ylabel('Percent of total votes', fontweight='bold', fontsize=8.5)\n",
    "\n",
    "# Graph title\n",
    "ax.set_title(\"'An Inconvenient Sequel: Truth To Power' is divisive\", fontsize=12, fontweight='bold', x=.3, y=1.1)\n",
    "ax.text(s=\"IMDb ratings for the film as of Aug. 29\", x=-1.5, y=42, fontsize=12)\n",
    "\n",
    "# Grph subtitle\n",
    "# bottom left-hand corner of the lable is located somewhere on the axes\n",
    "# x and y position refers to the x and y axis\n",
    "\n",
    "# set ticks (x and y)\n",
    "ax.set_xticks([1,2,3,4,5,6,7,8,9,10])\n",
    "ax.set_yticks([0,10,20,30,40])\n",
    "\n",
    "ax.set_yticklabels([0, 10, 20, 30, '40%'])\n",
    "\n",
    "# Turn off the spines\n",
    "ax.spines['left'].set_visible(False)\n",
    "ax.spines['right'].set_visible(False)\n",
    "ax.spines['top'].set_visible(False)\n",
    "ax.spines['bottom'].set_visible(False)\n",
    "\n",
    "plt.show()\n"
   ]
  },
  {
   "cell_type": "markdown",
   "metadata": {
    "id": "s-24T844-8qv"
   },
   "source": [
    "# Avoid Misleading Visualizations\n",
    "\n",
    "Now that we've made a few good graphs, let's talk about some bad ones."
   ]
  },
  {
   "cell_type": "markdown",
   "metadata": {
    "id": "Qzxt9ntsNjs0"
   },
   "source": [
    "## What makes a visualization misleading?\n",
    "\n",
    "[5 Ways Writers Use Misleading Graphs To Manipulate You](https://venngage.com/blog/misleading-graphs/)"
   ]
  },
  {
   "cell_type": "markdown",
   "metadata": {
    "id": "q7_DUiENNvxk"
   },
   "source": [
    "## Two y-axes\n",
    "\n",
    "<img src=\"https://statmodeling.stat.columbia.edu/wp-content/uploads/2015/07/weight_loss.jpg\" width=\"600\" />\n",
    "\n",
    "<img src=\"https://images.squarespace-cdn.com/content/v1/55b6a6dce4b089e11621d3ed/1454365114450-D22FK1TYZLBB42HNXRDO/ke17ZwdGBToddI8pDm48kDsK5YsbpGZfNSW2QBy5nm97gQa3H78H3Y0txjaiv_0fDoOvxcdMmMKkDsyUqMSsMWxHk725yiiHCCLfrh8O1z5QHyNOqBUUEtDDsRWrJLTmK-rtDVyS8lrwwDyo1SUQ5jl829RLkS7biRysddeTZV4sk9Z7R_TILPNvJ5qwMz15/image-asset.jpeg\" width='600' />\n",
    " \n",
    " Other Examples: \n",
    " - [Spurious Correlations](https://tylervigen.com/spurious-correlations)\n",
    " - <https://blog.datawrapper.de/dualaxis/>\n",
    " - <https://kieranhealy.org/blog/archives/2016/01/16/two-y-axes/>\n",
    " - <http://www.storytellingwithdata.com/blog/2016/2/1/be-gone-dual-y-axis>"
   ]
  },
  {
   "cell_type": "markdown",
   "metadata": {
    "id": "oIijNBDMNv2k"
   },
   "source": [
    "##  Y-axis doesn't start at zero.\n",
    "\n",
    "<img src=\"https://i.pinimg.com/originals/22/53/a9/2253a944f54bb61f1983bc076ff33cdd.jpg\" width=\"600\">"
   ]
  },
  {
   "cell_type": "markdown",
   "metadata": {
    "id": "ISB2p8vZNv6r"
   },
   "source": [
    "## Pie Charts are bad\n",
    "\n",
    "<img src=\"https://i1.wp.com/flowingdata.com/wp-content/uploads/2009/11/Fox-News-pie-chart.png?fit=620%2C465&ssl=1\" width=\"600\">"
   ]
  },
  {
   "cell_type": "markdown",
   "metadata": {
    "id": "67CsAzu1NwBJ"
   },
   "source": [
    "## Pie charts that omit data are extra bad\n",
    " \n",
    "- A guy makes a misleading chart that goes viral\n",
    "\n",
    " What does this chart imply at first glance? You don't want your user to have to do a lot of work in order to be able to interpret you graph correctly. You want that first-glance conclusions to be the correct ones.\n",
    "\n",
    " <img src=\"https://pbs.twimg.com/media/DiaiTLHWsAYAEEX?format=jpg&name=medium\" width='600'>\n",
    " \n",
    " <https://twitter.com/michaelbatnick/status/1019680856837849090?lang=en>\n",
    " \n",
    "- It gets picked up by overworked journalists (assuming incompetency before malice)\n",
    " \n",
    " <https://www.marketwatch.com/story/this-1-chart-puts-mega-techs-trillions-of-market-value-into-eye-popping-perspective-2018-07-18>\n",
    " \n",
    "- Even after the chart's implications have been refuted, it's hard a bad (although compelling) visualization from being passed around.\n",
    "\n",
    " <https://www.linkedin.com/pulse/good-bad-pie-charts-karthik-shashidhar/>\n",
    "\n",
    "**[\"yea I understand a pie chart was probably not the best choice to present this data.\"](https://twitter.com/michaelbatnick/status/1037036440494985216)**"
   ]
  },
  {
   "cell_type": "markdown",
   "metadata": {
    "id": "FYXmlToEOOTC"
   },
   "source": [
    "## Pie Charts that compare unrelated things are next-level extra bad\n",
    "\n",
    "<img src=\"http://www.painting-with-numbers.com/download/document/186/170403+Legalizing+Marijuana+Graph.jpg\" width=\"600\">\n"
   ]
  },
  {
   "cell_type": "markdown",
   "metadata": {
    "id": "IwtMQpY_QFUw"
   },
   "source": [
    "## Be careful about how you use volume to represent quantities:\n",
    "\n",
    "radius vs diameter vs volume\n",
    "\n",
    "<img src=\"https://static1.squarespace.com/static/5bfc8dbab40b9d7dd9054f41/t/5c32d86e0ebbe80a25873249/1546836082961/5474039-25383714-thumbnail.jpg?format=1500w\" width=\"600\">"
   ]
  },
  {
   "cell_type": "markdown",
   "metadata": {
    "id": "tTuAWjSBRsc7"
   },
   "source": [
    "## Don't cherrypick timelines or specific subsets of your data:\n",
    "\n",
    "<img src=\"https://wattsupwiththat.com/wp-content/uploads/2019/02/Figure-1-1.png\" width=\"600\">\n",
    "\n",
    "Look how specifically the writer has selected what years to show in the legend on the right side.\n",
    "\n",
    "<https://wattsupwiththat.com/2019/02/24/strong-arctic-sea-ice-growth-this-year/>\n",
    "\n",
    "Try the tool that was used to make the graphic for yourself\n",
    "\n",
    "<http://nsidc.org/arcticseaicenews/charctic-interactive-sea-ice-graph/>\n",
    "                                                                                           "
   ]
  },
  {
   "cell_type": "markdown",
   "metadata": {
    "id": "Xs13S7p4Srme"
   },
   "source": [
    "## Use Relative units rather than Absolute Units\n",
    "\n",
    "<img src=\"https://imgs.xkcd.com/comics/heatmap_2x.png\" width=\"600\">"
   ]
  },
  {
   "cell_type": "markdown",
   "metadata": {
    "id": "CIMt5OiuTlrr"
   },
   "source": [
    "## Avoid 3D graphs unless having the extra dimension is effective\n",
    "\n",
    "Usually you can Split 3D graphs into multiple 2D graphs\n",
    "\n",
    "3D graphs that are interactive can be very cool. (See Plotly and Bokeh)\n",
    "\n",
    "<img src=\"https://thumbor.forbes.com/thumbor/1280x868/https%3A%2F%2Fblogs-images.forbes.com%2Fthumbnails%2Fblog_1855%2Fpt_1855_811_o.jpg%3Ft%3D1339592470\" width=\"600\">"
   ]
  },
  {
   "cell_type": "markdown",
   "metadata": {
    "id": "GATMu9IqUlIj"
   },
   "source": [
    "## Don't go against typical conventions\n",
    "\n",
    "<img src=\"http://www.callingbullshit.org/twittercards/tools_misleading_axes.png\" width=\"600\">"
   ]
  },
  {
   "cell_type": "markdown",
   "metadata": {
    "id": "6LhjQopUp7Sp"
   },
   "source": [
    "### Links\n",
    "\n",
    "- [How to Spot Visualization Lies](https://flowingdata.com/2017/02/09/how-to-spot-visualization-lies/)\n",
    "- [Visual Vocabulary - Vega Edition](http://ft.com/vocabulary)\n",
    "- [Choosing a Python Visualization Tool flowchart](http://pbpython.com/python-vis-flowchart.html)\n",
    "- [Searborn example gallery](http://seaborn.pydata.org/examples/index.html) & [tutorial](http://seaborn.pydata.org/tutorial.html)\n",
    "- [Strong Titles Are The Biggest Bang for Your Buck](http://stephanieevergreen.com/strong-titles/)\n",
    "- [Remove to improve (the data-ink ratio)](https://www.darkhorseanalytics.com/blog/data-looks-better-naked)\n",
    "- [How to Generate FiveThirtyEight Graphs in Python](https://www.dataquest.io/blog/making-538-plots/)"
   ]
  },
  {
   "cell_type": "markdown",
   "metadata": {
    "id": "xaXdlPxPSDqg"
   },
   "source": [
    "#If you really really *really* want more:"
   ]
  },
  {
   "cell_type": "markdown",
   "metadata": {
    "id": "4mDuzLeNn23m"
   },
   "source": [
    "## Anatomy of a Matplotlib Plot - How to make **any** symbol or shape on a graph you could possibly want and more.\n",
    "![Axes vs Axis vs Figure - Matplotlib](https://nbviewer.jupyter.org/github/matplotlib/AnatomyOfMatplotlib/blob/master/images/figure_axes_axis_labeled.png)"
   ]
  },
  {
   "cell_type": "code",
   "execution_count": null,
   "metadata": {
    "colab": {
     "base_uri": "https://localhost:8080/",
     "height": 597
    },
    "executionInfo": {
     "elapsed": 865,
     "status": "ok",
     "timestamp": 1604551702219,
     "user": {
      "displayName": "Vignesh Narayanaswamy",
      "photoUrl": "",
      "userId": "17945519343825853893"
     },
     "user_tz": 300
    },
    "id": "h-aIS1Vdn2RR",
    "outputId": "b3221f85-fbea-4f44-fe7b-a1f9b00146df"
   },
   "outputs": [],
   "source": [
    "import numpy as np\n",
    "import matplotlib.pyplot as plt\n",
    "from matplotlib.ticker import AutoMinorLocator, MultipleLocator, FuncFormatter\n",
    "\n",
    "np.random.seed(19680801)\n",
    "\n",
    "X = np.linspace(0.5, 3.5, 100)\n",
    "Y1 = 3+np.cos(X)\n",
    "Y2 = 1+np.cos(1+X/0.75)/2\n",
    "Y3 = np.random.uniform(Y1, Y2, len(X))\n",
    "\n",
    "fig = plt.figure(figsize=(8, 8))\n",
    "ax = fig.add_subplot(1, 1, 1, aspect=1)\n",
    "\n",
    "\n",
    "def minor_tick(x, pos):\n",
    "    if not x % 1.0:\n",
    "        return \"\"\n",
    "    return \"%.2f\" % x\n",
    "\n",
    "ax.xaxis.set_major_locator(MultipleLocator(1.000))\n",
    "ax.xaxis.set_minor_locator(AutoMinorLocator(4))\n",
    "ax.yaxis.set_major_locator(MultipleLocator(1.000))\n",
    "ax.yaxis.set_minor_locator(AutoMinorLocator(4))\n",
    "ax.xaxis.set_minor_formatter(FuncFormatter(minor_tick))\n",
    "\n",
    "ax.set_xlim(0, 4)\n",
    "ax.set_ylim(0, 4)\n",
    "\n",
    "ax.tick_params(which='major', width=1.0)\n",
    "ax.tick_params(which='major', length=10)\n",
    "ax.tick_params(which='minor', width=1.0, labelsize=10)\n",
    "ax.tick_params(which='minor', length=5, labelsize=10, labelcolor='0.25')\n",
    "\n",
    "ax.grid(linestyle=\"--\", linewidth=0.5, color='.25', zorder=-10)\n",
    "\n",
    "ax.plot(X, Y1, c=(0.25, 0.25, 1.00), lw=2, label=\"Blue signal\", zorder=10)\n",
    "ax.plot(X, Y2, c=(1.00, 0.25, 0.25), lw=2, label=\"Red signal\")\n",
    "ax.plot(X, Y3, linewidth=0,\n",
    "        marker='o', markerfacecolor='w', markeredgecolor='k')\n",
    "\n",
    "ax.set_title(\"Anatomy of a figure\", fontsize=20, verticalalignment='bottom')\n",
    "ax.set_xlabel(\"X axis label\")\n",
    "ax.set_ylabel(\"Y axis label\")\n",
    "\n",
    "ax.legend()\n",
    "\n",
    "\n",
    "def circle(x, y, radius=0.15):\n",
    "    from matplotlib.patches import Circle\n",
    "    from matplotlib.patheffects import withStroke\n",
    "    circle = Circle((x, y), radius, clip_on=False, zorder=10, linewidth=1,\n",
    "                    edgecolor='black', facecolor=(0, 0, 0, .0125),\n",
    "                    path_effects=[withStroke(linewidth=5, foreground='w')])\n",
    "    ax.add_artist(circle)\n",
    "\n",
    "\n",
    "def text(x, y, text):\n",
    "    ax.text(x, y, text, backgroundcolor=\"white\",\n",
    "            ha='center', va='top', weight='bold', color='blue')\n",
    "\n",
    "# Minor tick\n",
    "circle(0.50, -0.10)\n",
    "text(0.50, -0.32, \"Minor tick label\")\n",
    "\n",
    "# Major tick\n",
    "circle(-0.03, 4.00)\n",
    "text(0.03, 3.80, \"Major tick\")\n",
    "\n",
    "# Minor tick\n",
    "circle(0.00, 3.50)\n",
    "text(0.00, 3.30, \"Minor tick\")\n",
    "\n",
    "# Major tick label\n",
    "circle(-0.15, 3.00)\n",
    "text(-0.15, 2.80, \"Major tick label\")\n",
    "\n",
    "# X Label\n",
    "circle(1.80, -0.27)\n",
    "text(1.80, -0.45, \"X axis label\")\n",
    "\n",
    "# Y Label\n",
    "circle(-0.27, 1.80)\n",
    "text(-0.27, 1.6, \"Y axis label\")\n",
    "\n",
    "# Title\n",
    "circle(1.60, 4.13)\n",
    "text(1.60, 3.93, \"Title\")\n",
    "\n",
    "# Blue plot\n",
    "circle(1.75, 2.80)\n",
    "text(1.75, 2.60, \"Line\\n(line plot)\")\n",
    "\n",
    "# Red plot\n",
    "circle(1.20, 0.60)\n",
    "text(1.20, 0.40, \"Line\\n(line plot)\")\n",
    "\n",
    "# Scatter plot\n",
    "circle(3.20, 1.75)\n",
    "text(3.20, 1.55, \"Markers\\n(scatter plot)\")\n",
    "\n",
    "# Grid\n",
    "circle(3.00, 3.00)\n",
    "text(3.00, 2.80, \"Grid\")\n",
    "\n",
    "# Legend\n",
    "circle(3.70, 3.80)\n",
    "text(3.70, 3.60, \"Legend\")\n",
    "\n",
    "# Axes\n",
    "circle(0.5, 0.5)\n",
    "text(0.5, 0.3, \"Axes\")\n",
    "\n",
    "# Figure\n",
    "circle(-0.3, 0.65)\n",
    "text(-0.3, 0.45, \"Figure\")\n",
    "\n",
    "color = 'blue'\n",
    "ax.annotate('Spines', xy=(4.0, 0.35), xytext=(3.3, 0.5),\n",
    "            weight='bold', color=color,\n",
    "            arrowprops=dict(arrowstyle='->',\n",
    "                            connectionstyle=\"arc3\",\n",
    "                            color=color))\n",
    "\n",
    "ax.annotate('', xy=(3.15, 0.0), xytext=(3.45, 0.45),\n",
    "            weight='bold', color=color,\n",
    "            arrowprops=dict(arrowstyle='->',\n",
    "                            connectionstyle=\"arc3\",\n",
    "                            color=color))\n",
    "\n",
    "ax.text(4.0, -0.4, \"Made with http://matplotlib.org\",\n",
    "        fontsize=10, ha=\"right\", color='.5')\n",
    "\n",
    "plt.show()"
   ]
  },
  {
   "cell_type": "code",
   "execution_count": null,
   "metadata": {},
   "outputs": [],
   "source": []
  }
 ],
 "metadata": {
  "colab": {
   "collapsed_sections": [],
   "name": "Vignesh_LS_DS_114_Make_Explanatory_Visualizations.ipynb",
   "provenance": [
    {
     "file_id": "1TXd3wEpNjX7nU_N7rZiWCMQL9iNckrqE",
     "timestamp": 1604641248967
    },
    {
     "file_id": "1_HBYmP8xO5EU-i5R1jr_cOr44BRt9yMi",
     "timestamp": 1601144635726
    },
    {
     "file_id": "1jvo2MvY6JAAhY5z8ct9XAIwQgHZhOQuy",
     "timestamp": 1600607749952
    },
    {
     "file_id": "https://github.com/LambdaSchool/DS-Unit-1-Sprint-1-Data-Wrangling-and-Storytelling/blob/master/module4-make-explanatory-visualizations/LS_DS_114_Make_Explanatory_Visualizations.ipynb",
     "timestamp": 1596729811919
    }
   ]
  },
  "kernelspec": {
   "display_name": "Python 3",
   "language": "python",
   "name": "python3"
  },
  "language_info": {
   "codemirror_mode": {
    "name": "ipython",
    "version": 3
   },
   "file_extension": ".py",
   "mimetype": "text/x-python",
   "name": "python",
   "nbconvert_exporter": "python",
   "pygments_lexer": "ipython3",
   "version": "3.7.7"
  }
 },
 "nbformat": 4,
 "nbformat_minor": 1
}
